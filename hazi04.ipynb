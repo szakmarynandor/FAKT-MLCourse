{
  "nbformat": 4,
  "nbformat_minor": 0,
  "metadata": {
    "colab": {
      "name": "hazi04.ipynb",
      "provenance": [],
      "collapsed_sections": [],
      "authorship_tag": "ABX9TyPfumI9SEZaTrf81uKR2xEn",
      "include_colab_link": true
    },
    "kernelspec": {
      "name": "python3",
      "display_name": "Python 3"
    },
    "language_info": {
      "name": "python"
    },
    "accelerator": "GPU"
  },
  "cells": [
    {
      "cell_type": "markdown",
      "metadata": {
        "id": "view-in-github",
        "colab_type": "text"
      },
      "source": [
        "<a href=\"https://colab.research.google.com/github/szakmarynandor/FAKT-MLCourse/blob/main/hazi04.ipynb\" target=\"_parent\"><img src=\"https://colab.research.google.com/assets/colab-badge.svg\" alt=\"Open In Colab\"/></a>"
      ]
    },
    {
      "cell_type": "markdown",
      "source": [
        "# 4. házi feladat\n",
        "Apple árfolyam előrejelzés (napi záró árfolyamok)"
      ],
      "metadata": {
        "id": "eOdXcMBaHMwO"
      }
    },
    {
      "cell_type": "code",
      "execution_count": 150,
      "metadata": {
        "id": "kSSJUVYTGFwH"
      },
      "outputs": [],
      "source": [
        "import numpy as np\n",
        "import pandas as pd\n",
        "from tensorflow import keras\n",
        "\n",
        "from tensorflow.keras.layers import Conv2D, Input, MaxPooling2D, Flatten, Dense, Dropout, Conv1D, MaxPooling1D, AveragePooling1D\n",
        "import keras"
      ]
    },
    {
      "cell_type": "code",
      "source": [
        "from google.colab import drive\n",
        "from google.colab import files"
      ],
      "metadata": {
        "id": "ArV1tGATHBkq"
      },
      "execution_count": 151,
      "outputs": []
    },
    {
      "cell_type": "code",
      "source": [
        "drive.mount('/content/drive')\n",
        "apple = pd.read_csv('/content/drive/My Drive/FAKT_ML/apple.csv', usecols=[1])"
      ],
      "metadata": {
        "colab": {
          "base_uri": "https://localhost:8080/"
        },
        "id": "qBuRSfp3IOrG",
        "outputId": "08071fc5-2fe4-4b43-c758-b7ccfded6e2c"
      },
      "execution_count": 152,
      "outputs": [
        {
          "output_type": "stream",
          "name": "stdout",
          "text": [
            "Drive already mounted at /content/drive; to attempt to forcibly remount, call drive.mount(\"/content/drive\", force_remount=True).\n"
          ]
        }
      ]
    },
    {
      "cell_type": "code",
      "source": [
        "apple.head()"
      ],
      "metadata": {
        "colab": {
          "base_uri": "https://localhost:8080/",
          "height": 206
        },
        "id": "EppmQVmeI01o",
        "outputId": "13845705-ae23-4aa4-c6e9-10b5a58c6f0c"
      },
      "execution_count": 153,
      "outputs": [
        {
          "output_type": "execute_result",
          "data": {
            "text/plain": [
              "   AAPL.Close\n",
              "0   26.337500\n",
              "1   25.677500\n",
              "2   25.174999\n",
              "3   24.112499\n",
              "4   24.240000"
            ],
            "text/html": [
              "\n",
              "  <div id=\"df-934b7ab8-3c3f-4fe1-89bc-74d4080de14f\">\n",
              "    <div class=\"colab-df-container\">\n",
              "      <div>\n",
              "<style scoped>\n",
              "    .dataframe tbody tr th:only-of-type {\n",
              "        vertical-align: middle;\n",
              "    }\n",
              "\n",
              "    .dataframe tbody tr th {\n",
              "        vertical-align: top;\n",
              "    }\n",
              "\n",
              "    .dataframe thead th {\n",
              "        text-align: right;\n",
              "    }\n",
              "</style>\n",
              "<table border=\"1\" class=\"dataframe\">\n",
              "  <thead>\n",
              "    <tr style=\"text-align: right;\">\n",
              "      <th></th>\n",
              "      <th>AAPL.Close</th>\n",
              "    </tr>\n",
              "  </thead>\n",
              "  <tbody>\n",
              "    <tr>\n",
              "      <th>0</th>\n",
              "      <td>26.337500</td>\n",
              "    </tr>\n",
              "    <tr>\n",
              "      <th>1</th>\n",
              "      <td>25.677500</td>\n",
              "    </tr>\n",
              "    <tr>\n",
              "      <th>2</th>\n",
              "      <td>25.174999</td>\n",
              "    </tr>\n",
              "    <tr>\n",
              "      <th>3</th>\n",
              "      <td>24.112499</td>\n",
              "    </tr>\n",
              "    <tr>\n",
              "      <th>4</th>\n",
              "      <td>24.240000</td>\n",
              "    </tr>\n",
              "  </tbody>\n",
              "</table>\n",
              "</div>\n",
              "      <button class=\"colab-df-convert\" onclick=\"convertToInteractive('df-934b7ab8-3c3f-4fe1-89bc-74d4080de14f')\"\n",
              "              title=\"Convert this dataframe to an interactive table.\"\n",
              "              style=\"display:none;\">\n",
              "        \n",
              "  <svg xmlns=\"http://www.w3.org/2000/svg\" height=\"24px\"viewBox=\"0 0 24 24\"\n",
              "       width=\"24px\">\n",
              "    <path d=\"M0 0h24v24H0V0z\" fill=\"none\"/>\n",
              "    <path d=\"M18.56 5.44l.94 2.06.94-2.06 2.06-.94-2.06-.94-.94-2.06-.94 2.06-2.06.94zm-11 1L8.5 8.5l.94-2.06 2.06-.94-2.06-.94L8.5 2.5l-.94 2.06-2.06.94zm10 10l.94 2.06.94-2.06 2.06-.94-2.06-.94-.94-2.06-.94 2.06-2.06.94z\"/><path d=\"M17.41 7.96l-1.37-1.37c-.4-.4-.92-.59-1.43-.59-.52 0-1.04.2-1.43.59L10.3 9.45l-7.72 7.72c-.78.78-.78 2.05 0 2.83L4 21.41c.39.39.9.59 1.41.59.51 0 1.02-.2 1.41-.59l7.78-7.78 2.81-2.81c.8-.78.8-2.07 0-2.86zM5.41 20L4 18.59l7.72-7.72 1.47 1.35L5.41 20z\"/>\n",
              "  </svg>\n",
              "      </button>\n",
              "      \n",
              "  <style>\n",
              "    .colab-df-container {\n",
              "      display:flex;\n",
              "      flex-wrap:wrap;\n",
              "      gap: 12px;\n",
              "    }\n",
              "\n",
              "    .colab-df-convert {\n",
              "      background-color: #E8F0FE;\n",
              "      border: none;\n",
              "      border-radius: 50%;\n",
              "      cursor: pointer;\n",
              "      display: none;\n",
              "      fill: #1967D2;\n",
              "      height: 32px;\n",
              "      padding: 0 0 0 0;\n",
              "      width: 32px;\n",
              "    }\n",
              "\n",
              "    .colab-df-convert:hover {\n",
              "      background-color: #E2EBFA;\n",
              "      box-shadow: 0px 1px 2px rgba(60, 64, 67, 0.3), 0px 1px 3px 1px rgba(60, 64, 67, 0.15);\n",
              "      fill: #174EA6;\n",
              "    }\n",
              "\n",
              "    [theme=dark] .colab-df-convert {\n",
              "      background-color: #3B4455;\n",
              "      fill: #D2E3FC;\n",
              "    }\n",
              "\n",
              "    [theme=dark] .colab-df-convert:hover {\n",
              "      background-color: #434B5C;\n",
              "      box-shadow: 0px 1px 3px 1px rgba(0, 0, 0, 0.15);\n",
              "      filter: drop-shadow(0px 1px 2px rgba(0, 0, 0, 0.3));\n",
              "      fill: #FFFFFF;\n",
              "    }\n",
              "  </style>\n",
              "\n",
              "      <script>\n",
              "        const buttonEl =\n",
              "          document.querySelector('#df-934b7ab8-3c3f-4fe1-89bc-74d4080de14f button.colab-df-convert');\n",
              "        buttonEl.style.display =\n",
              "          google.colab.kernel.accessAllowed ? 'block' : 'none';\n",
              "\n",
              "        async function convertToInteractive(key) {\n",
              "          const element = document.querySelector('#df-934b7ab8-3c3f-4fe1-89bc-74d4080de14f');\n",
              "          const dataTable =\n",
              "            await google.colab.kernel.invokeFunction('convertToInteractive',\n",
              "                                                     [key], {});\n",
              "          if (!dataTable) return;\n",
              "\n",
              "          const docLinkHtml = 'Like what you see? Visit the ' +\n",
              "            '<a target=\"_blank\" href=https://colab.research.google.com/notebooks/data_table.ipynb>data table notebook</a>'\n",
              "            + ' to learn more about interactive tables.';\n",
              "          element.innerHTML = '';\n",
              "          dataTable['output_type'] = 'display_data';\n",
              "          await google.colab.output.renderOutput(dataTable, element);\n",
              "          const docLink = document.createElement('div');\n",
              "          docLink.innerHTML = docLinkHtml;\n",
              "          element.appendChild(docLink);\n",
              "        }\n",
              "      </script>\n",
              "    </div>\n",
              "  </div>\n",
              "  "
            ]
          },
          "metadata": {},
          "execution_count": 153
        }
      ]
    },
    {
      "cell_type": "code",
      "source": [
        "apple.shape"
      ],
      "metadata": {
        "colab": {
          "base_uri": "https://localhost:8080/"
        },
        "id": "mGx6IcGdSmrN",
        "outputId": "65f7cb65-0943-42de-9c1f-3f207b2dcc92"
      },
      "execution_count": 154,
      "outputs": [
        {
          "output_type": "execute_result",
          "data": {
            "text/plain": [
              "(1559, 1)"
            ]
          },
          "metadata": {},
          "execution_count": 154
        }
      ]
    },
    {
      "cell_type": "code",
      "source": [
        "# split a univariate sequence into samples\n",
        "def split_sequence(sequence, n_steps):\n",
        "\tx, y = list(), list()\n",
        "\tfor i in range(len(sequence)):\n",
        "\t\tend_ix = i + n_steps # Az adott szekvencia-darab utolsó eleme\n",
        "\t\tif end_ix > len(sequence)-1: # Ellenőrizzük nem értünk-e a teljes lista végére\n",
        "\t\t\tbreak\n",
        "\t\tseq_x, seq_y = sequence[i:end_ix], sequence[end_ix] # Kimentjük a szekvencia darabot és az utolsó elemet mint eredményváltozó\n",
        "\t\tx.append(seq_x)\n",
        "\t\ty.append(seq_y)\n",
        "\treturn np.array(x), np.array(y)"
      ],
      "metadata": {
        "id": "jv2bKD-zJIhF"
      },
      "execution_count": 155,
      "outputs": []
    },
    {
      "cell_type": "code",
      "source": [
        "x, y = split_sequence(apple['AAPL.Close'], 10)"
      ],
      "metadata": {
        "id": "JyQ2TUMaMqg9"
      },
      "execution_count": 156,
      "outputs": []
    },
    {
      "cell_type": "code",
      "source": [
        "x.shape"
      ],
      "metadata": {
        "colab": {
          "base_uri": "https://localhost:8080/"
        },
        "id": "gfefixAITvzb",
        "outputId": "94103d58-8955-4a0f-9f9d-9f137d57747e"
      },
      "execution_count": 157,
      "outputs": [
        {
          "output_type": "execute_result",
          "data": {
            "text/plain": [
              "(1549, 10)"
            ]
          },
          "metadata": {},
          "execution_count": 157
        }
      ]
    },
    {
      "cell_type": "code",
      "source": [
        "x"
      ],
      "metadata": {
        "colab": {
          "base_uri": "https://localhost:8080/"
        },
        "id": "c_vfTY7K8DWZ",
        "outputId": "18c5f856-9fc6-4cd5-b86b-ba5a5149c82b"
      },
      "execution_count": 158,
      "outputs": [
        {
          "output_type": "execute_result",
          "data": {
            "text/plain": [
              "array([[ 26.3375  ,  25.6775  ,  25.174999, ...,  24.3475  ,  24.879999,\n",
              "         24.282499],\n",
              "       [ 25.6775  ,  25.174999,  24.112499, ...,  24.879999,  24.282499,\n",
              "         24.165001],\n",
              "       [ 25.174999,  24.112499,  24.24    , ...,  24.282499,  24.165001,\n",
              "         24.1975  ],\n",
              "       ...,\n",
              "       [160.070007, 162.740005, 164.850006, ..., 163.169998, 159.300003,\n",
              "        157.440002],\n",
              "       [162.740005, 164.850006, 165.119995, ..., 159.300003, 157.440002,\n",
              "        162.949997],\n",
              "       [164.850006, 165.119995, 163.199997, ..., 157.440002, 162.949997,\n",
              "        158.520004]])"
            ]
          },
          "metadata": {},
          "execution_count": 158
        }
      ]
    },
    {
      "cell_type": "code",
      "source": [
        "y.shape"
      ],
      "metadata": {
        "colab": {
          "base_uri": "https://localhost:8080/"
        },
        "id": "K6qR1654T1u1",
        "outputId": "849eef9d-3ec1-4de3-a8ec-f7cd05f3cc9a"
      },
      "execution_count": 159,
      "outputs": [
        {
          "output_type": "execute_result",
          "data": {
            "text/plain": [
              "(1549,)"
            ]
          },
          "metadata": {},
          "execution_count": 159
        }
      ]
    },
    {
      "cell_type": "code",
      "source": [
        "y"
      ],
      "metadata": {
        "colab": {
          "base_uri": "https://localhost:8080/"
        },
        "id": "91G22YXM8PBA",
        "outputId": "64f5435a-f1ba-4abd-e5de-8a790324e7ca"
      },
      "execution_count": 160,
      "outputs": [
        {
          "output_type": "execute_result",
          "data": {
            "text/plain": [
              "array([ 24.165001,  24.1975  ,  24.075001, ..., 162.949997, 158.520004,\n",
              "       154.729996])"
            ]
          },
          "metadata": {},
          "execution_count": 160
        }
      ]
    },
    {
      "cell_type": "code",
      "source": [
        "#kiíratom\n",
        "#for i in range(len(x)):\n",
        "#\tprint(x[i], y[i])\n",
        "#inkább mégsem, mert nagyon hosszú :)"
      ],
      "metadata": {
        "id": "jfXocxkmMvIJ"
      },
      "execution_count": 161,
      "outputs": []
    },
    {
      "cell_type": "code",
      "source": [
        "from sklearn.model_selection import train_test_split"
      ],
      "metadata": {
        "id": "4X8ZJZ_5PLw9"
      },
      "execution_count": 162,
      "outputs": []
    },
    {
      "cell_type": "code",
      "source": [
        "x_train, x_test, y_train, y_test = train_test_split(x, y, test_size=0.2, shuffle=True)"
      ],
      "metadata": {
        "id": "zmtkge1SPG57"
      },
      "execution_count": 163,
      "outputs": []
    },
    {
      "cell_type": "markdown",
      "source": [
        "###Normalizálás"
      ],
      "metadata": {
        "id": "nOC7khcxPX6X"
      }
    },
    {
      "cell_type": "code",
      "source": [
        "from sklearn.preprocessing import LabelEncoder, StandardScaler"
      ],
      "metadata": {
        "id": "d7xYDpw7PNe3"
      },
      "execution_count": 164,
      "outputs": []
    },
    {
      "cell_type": "code",
      "source": [
        "normalizer = StandardScaler()"
      ],
      "metadata": {
        "id": "FTj5sawgQKwL"
      },
      "execution_count": 165,
      "outputs": []
    },
    {
      "cell_type": "code",
      "source": [
        "normalizer.fit(x_train)\n",
        "x_train = normalizer.transform(x_train)\n",
        "x_test = normalizer.transform(x_test)"
      ],
      "metadata": {
        "id": "6qTzAzWfPgCv"
      },
      "execution_count": 166,
      "outputs": []
    },
    {
      "cell_type": "code",
      "source": [
        "x_test"
      ],
      "metadata": {
        "colab": {
          "base_uri": "https://localhost:8080/"
        },
        "id": "fTWWc6rJ8w5c",
        "outputId": "b83e0013-5c5c-4bb7-c10b-b629854c006c"
      },
      "execution_count": 167,
      "outputs": [
        {
          "output_type": "execute_result",
          "data": {
            "text/plain": [
              "array([[-0.9419193 , -0.94349536, -0.93979129, ..., -0.92515193,\n",
              "        -0.9223526 , -0.92322473],\n",
              "       [ 0.04867653,  0.07204759, -0.03785431, ...,  0.06331157,\n",
              "         0.03859622, -0.09133467],\n",
              "       [-0.69692954, -0.70809979, -0.64959842, ..., -0.60345466,\n",
              "        -0.62347169, -0.62734459],\n",
              "       ...,\n",
              "       [ 1.7263752 ,  1.70590693,  1.73449196, ...,  1.69056257,\n",
              "         1.6891968 ,  1.67694938],\n",
              "       [-0.37453892, -0.37686085, -0.37319198, ..., -0.34692841,\n",
              "        -0.34449383, -0.33426317],\n",
              "       [-0.07760906, -0.07242406, -0.07870494, ..., -0.09753709,\n",
              "        -0.08020488, -0.08528951]])"
            ]
          },
          "metadata": {},
          "execution_count": 167
        }
      ]
    },
    {
      "cell_type": "code",
      "source": [
        "input = Input(shape=(10,1))\n",
        "\n",
        "x=Conv1D(filters=256, kernel_size=3, strides=1, activation='relu')(input)\n",
        "x=MaxPooling1D(pool_size=2, strides=1)(x)\n",
        "x=Conv1D(filters=256, kernel_size=3, strides=1, activation='relu')(x)\n",
        "x=MaxPooling1D(pool_size=2, strides=1)(x)\n",
        "\n",
        "x=Flatten()(x)\n",
        "\n",
        "x=Dense(4096, activation='relu')(x)\n",
        "x=Dropout(0.2)(x)\n",
        "x=Dense(4096, activation='relu')(x)\n",
        "x=Dropout(0.3)(x)\n",
        "\n",
        "output = Dense(1, activation='linear')(x)"
      ],
      "metadata": {
        "id": "QOxM1MHSPr-1"
      },
      "execution_count": 174,
      "outputs": []
    },
    {
      "cell_type": "code",
      "source": [
        "AlexNet=keras.Model(input,output)"
      ],
      "metadata": {
        "id": "Trm9_2yz88Qq"
      },
      "execution_count": 176,
      "outputs": []
    },
    {
      "cell_type": "code",
      "source": [
        "AlexNet.compile(optimizer='adam', loss='MSE', metrics=['accuracy'])"
      ],
      "metadata": {
        "id": "f8sb4QAy9Gp2"
      },
      "execution_count": 184,
      "outputs": []
    },
    {
      "cell_type": "code",
      "source": [
        "AlexNet.summary()"
      ],
      "metadata": {
        "colab": {
          "base_uri": "https://localhost:8080/"
        },
        "id": "ypIBhPy492Tx",
        "outputId": "f0a94faa-423f-4622-a9dc-44635d70c51a"
      },
      "execution_count": 185,
      "outputs": [
        {
          "output_type": "stream",
          "name": "stdout",
          "text": [
            "Model: \"model_10\"\n",
            "_________________________________________________________________\n",
            " Layer (type)                Output Shape              Param #   \n",
            "=================================================================\n",
            " input_9 (InputLayer)        [(None, 10, 1)]           0         \n",
            "                                                                 \n",
            " conv1d_17 (Conv1D)          (None, 8, 256)            1024      \n",
            "                                                                 \n",
            " max_pooling1d_17 (MaxPoolin  (None, 7, 256)           0         \n",
            " g1D)                                                            \n",
            "                                                                 \n",
            " conv1d_18 (Conv1D)          (None, 5, 256)            196864    \n",
            "                                                                 \n",
            " max_pooling1d_18 (MaxPoolin  (None, 4, 256)           0         \n",
            " g1D)                                                            \n",
            "                                                                 \n",
            " flatten_8 (Flatten)         (None, 1024)              0         \n",
            "                                                                 \n",
            " dense_24 (Dense)            (None, 4096)              4198400   \n",
            "                                                                 \n",
            " dropout_16 (Dropout)        (None, 4096)              0         \n",
            "                                                                 \n",
            " dense_25 (Dense)            (None, 4096)              16781312  \n",
            "                                                                 \n",
            " dropout_17 (Dropout)        (None, 4096)              0         \n",
            "                                                                 \n",
            " dense_26 (Dense)            (None, 1)                 4097      \n",
            "                                                                 \n",
            "=================================================================\n",
            "Total params: 21,181,697\n",
            "Trainable params: 21,181,697\n",
            "Non-trainable params: 0\n",
            "_________________________________________________________________\n"
          ]
        }
      ]
    },
    {
      "cell_type": "code",
      "source": [
        ""
      ],
      "metadata": {
        "id": "WsUrZ7Zd99E8"
      },
      "execution_count": 185,
      "outputs": []
    },
    {
      "cell_type": "code",
      "source": [
        "from tensorflow.keras.callbacks import EarlyStopping"
      ],
      "metadata": {
        "id": "IhjDMEUe4GPS"
      },
      "execution_count": 186,
      "outputs": []
    },
    {
      "cell_type": "code",
      "source": [
        "early_stopping_callback = EarlyStopping(patience=20, restore_best_weights=True)"
      ],
      "metadata": {
        "id": "dIvPA55m4ONk"
      },
      "execution_count": 187,
      "outputs": []
    },
    {
      "cell_type": "code",
      "source": [
        "AlexNet.fit(x_train, y_train, epochs=200, validation_split=0.10, callbacks=[early_stopping_callback])"
      ],
      "metadata": {
        "colab": {
          "base_uri": "https://localhost:8080/"
        },
        "id": "z2byGM5b3_T8",
        "outputId": "71971e7d-7789-4866-baaf-439e5275d6e5"
      },
      "execution_count": 188,
      "outputs": [
        {
          "output_type": "stream",
          "name": "stdout",
          "text": [
            "Epoch 1/200\n",
            "35/35 [==============================] - 3s 47ms/step - loss: 182.6049 - accuracy: 0.0000e+00 - val_loss: 16.3803 - val_accuracy: 0.0000e+00\n",
            "Epoch 2/200\n",
            "35/35 [==============================] - 1s 22ms/step - loss: 15.2181 - accuracy: 0.0000e+00 - val_loss: 7.1167 - val_accuracy: 0.0000e+00\n",
            "Epoch 3/200\n",
            "35/35 [==============================] - 1s 21ms/step - loss: 13.2803 - accuracy: 0.0000e+00 - val_loss: 7.1136 - val_accuracy: 0.0000e+00\n",
            "Epoch 4/200\n",
            "35/35 [==============================] - 1s 21ms/step - loss: 13.1552 - accuracy: 0.0000e+00 - val_loss: 6.7107 - val_accuracy: 0.0000e+00\n",
            "Epoch 5/200\n",
            "35/35 [==============================] - 1s 22ms/step - loss: 11.0693 - accuracy: 0.0000e+00 - val_loss: 6.5920 - val_accuracy: 0.0000e+00\n",
            "Epoch 6/200\n",
            "35/35 [==============================] - 1s 21ms/step - loss: 18.0048 - accuracy: 0.0000e+00 - val_loss: 11.3270 - val_accuracy: 0.0000e+00\n",
            "Epoch 7/200\n",
            "35/35 [==============================] - 1s 22ms/step - loss: 18.5131 - accuracy: 0.0000e+00 - val_loss: 44.6960 - val_accuracy: 0.0000e+00\n",
            "Epoch 8/200\n",
            "35/35 [==============================] - 1s 23ms/step - loss: 14.1104 - accuracy: 0.0000e+00 - val_loss: 4.2819 - val_accuracy: 0.0000e+00\n",
            "Epoch 9/200\n",
            "35/35 [==============================] - 1s 22ms/step - loss: 13.9188 - accuracy: 0.0000e+00 - val_loss: 5.2783 - val_accuracy: 0.0000e+00\n",
            "Epoch 10/200\n",
            "35/35 [==============================] - 1s 21ms/step - loss: 15.5122 - accuracy: 0.0000e+00 - val_loss: 4.5133 - val_accuracy: 0.0000e+00\n",
            "Epoch 11/200\n",
            "35/35 [==============================] - 1s 23ms/step - loss: 14.4459 - accuracy: 0.0000e+00 - val_loss: 4.2198 - val_accuracy: 0.0000e+00\n",
            "Epoch 12/200\n",
            "35/35 [==============================] - 1s 22ms/step - loss: 12.5398 - accuracy: 0.0000e+00 - val_loss: 8.5761 - val_accuracy: 0.0000e+00\n",
            "Epoch 13/200\n",
            "35/35 [==============================] - 1s 18ms/step - loss: 11.4741 - accuracy: 0.0000e+00 - val_loss: 15.7181 - val_accuracy: 0.0000e+00\n",
            "Epoch 14/200\n",
            "35/35 [==============================] - 1s 17ms/step - loss: 15.7953 - accuracy: 0.0000e+00 - val_loss: 4.3807 - val_accuracy: 0.0000e+00\n",
            "Epoch 15/200\n",
            "35/35 [==============================] - 1s 16ms/step - loss: 20.6277 - accuracy: 0.0000e+00 - val_loss: 9.1207 - val_accuracy: 0.0000e+00\n",
            "Epoch 16/200\n",
            "35/35 [==============================] - 1s 17ms/step - loss: 12.3102 - accuracy: 0.0000e+00 - val_loss: 4.2676 - val_accuracy: 0.0000e+00\n",
            "Epoch 17/200\n",
            "35/35 [==============================] - 1s 17ms/step - loss: 13.1972 - accuracy: 0.0000e+00 - val_loss: 7.1040 - val_accuracy: 0.0000e+00\n",
            "Epoch 18/200\n",
            "35/35 [==============================] - 1s 17ms/step - loss: 13.8938 - accuracy: 0.0000e+00 - val_loss: 21.9912 - val_accuracy: 0.0000e+00\n",
            "Epoch 19/200\n",
            "35/35 [==============================] - 1s 17ms/step - loss: 16.1372 - accuracy: 0.0000e+00 - val_loss: 4.6797 - val_accuracy: 0.0000e+00\n",
            "Epoch 20/200\n",
            "35/35 [==============================] - 1s 17ms/step - loss: 14.7039 - accuracy: 0.0000e+00 - val_loss: 8.0202 - val_accuracy: 0.0000e+00\n",
            "Epoch 21/200\n",
            "35/35 [==============================] - 1s 16ms/step - loss: 14.2486 - accuracy: 0.0000e+00 - val_loss: 8.6089 - val_accuracy: 0.0000e+00\n",
            "Epoch 22/200\n",
            "35/35 [==============================] - 1s 16ms/step - loss: 13.2777 - accuracy: 0.0000e+00 - val_loss: 13.0735 - val_accuracy: 0.0000e+00\n",
            "Epoch 23/200\n",
            "35/35 [==============================] - 1s 17ms/step - loss: 15.4559 - accuracy: 0.0000e+00 - val_loss: 5.3382 - val_accuracy: 0.0000e+00\n",
            "Epoch 24/200\n",
            "35/35 [==============================] - 1s 17ms/step - loss: 12.8078 - accuracy: 0.0000e+00 - val_loss: 7.6319 - val_accuracy: 0.0000e+00\n",
            "Epoch 25/200\n",
            "35/35 [==============================] - 1s 17ms/step - loss: 12.8821 - accuracy: 0.0000e+00 - val_loss: 5.4154 - val_accuracy: 0.0000e+00\n",
            "Epoch 26/200\n",
            "35/35 [==============================] - 1s 17ms/step - loss: 21.4017 - accuracy: 0.0000e+00 - val_loss: 9.3929 - val_accuracy: 0.0000e+00\n",
            "Epoch 27/200\n",
            "35/35 [==============================] - 1s 17ms/step - loss: 14.9398 - accuracy: 0.0000e+00 - val_loss: 9.3557 - val_accuracy: 0.0000e+00\n",
            "Epoch 28/200\n",
            "35/35 [==============================] - 1s 17ms/step - loss: 20.8604 - accuracy: 0.0000e+00 - val_loss: 19.0904 - val_accuracy: 0.0000e+00\n",
            "Epoch 29/200\n",
            "35/35 [==============================] - 1s 17ms/step - loss: 11.5571 - accuracy: 0.0000e+00 - val_loss: 7.1217 - val_accuracy: 0.0000e+00\n",
            "Epoch 30/200\n",
            "35/35 [==============================] - 1s 17ms/step - loss: 17.7487 - accuracy: 0.0000e+00 - val_loss: 12.4324 - val_accuracy: 0.0000e+00\n",
            "Epoch 31/200\n",
            "35/35 [==============================] - 1s 17ms/step - loss: 13.6364 - accuracy: 0.0000e+00 - val_loss: 14.3847 - val_accuracy: 0.0000e+00\n"
          ]
        },
        {
          "output_type": "execute_result",
          "data": {
            "text/plain": [
              "<keras.callbacks.History at 0x7fc53b77b710>"
            ]
          },
          "metadata": {},
          "execution_count": 188
        }
      ]
    },
    {
      "cell_type": "code",
      "source": [
        "AlexNet.predict(x_test)"
      ],
      "metadata": {
        "colab": {
          "base_uri": "https://localhost:8080/"
        },
        "id": "1JgdQoc_-hfU",
        "outputId": "01abbac5-710d-45cb-85d4-cfc7aacee6f1"
      },
      "execution_count": 189,
      "outputs": [
        {
          "output_type": "execute_result",
          "data": {
            "text/plain": [
              "array([[ 29.022205],\n",
              "       [ 72.90264 ],\n",
              "       [ 43.010418],\n",
              "       [ 26.751265],\n",
              "       [ 38.383804],\n",
              "       [174.41971 ],\n",
              "       [ 51.22464 ],\n",
              "       [ 33.788067],\n",
              "       [ 42.51954 ],\n",
              "       [ 79.16757 ],\n",
              "       [ 25.16471 ],\n",
              "       [175.73558 ],\n",
              "       [118.48358 ],\n",
              "       [ 28.13005 ],\n",
              "       [ 52.49104 ],\n",
              "       [ 56.316044],\n",
              "       [ 67.99605 ],\n",
              "       [ 27.204859],\n",
              "       [ 28.120188],\n",
              "       [ 46.538734],\n",
              "       [ 26.045826],\n",
              "       [ 38.69154 ],\n",
              "       [ 29.131771],\n",
              "       [119.10367 ],\n",
              "       [ 36.23856 ],\n",
              "       [ 36.605072],\n",
              "       [123.944565],\n",
              "       [ 38.7561  ],\n",
              "       [126.956924],\n",
              "       [ 61.31727 ],\n",
              "       [111.66885 ],\n",
              "       [ 39.14001 ],\n",
              "       [ 65.3413  ],\n",
              "       [ 46.623207],\n",
              "       [ 39.369843],\n",
              "       [119.38499 ],\n",
              "       [ 26.45031 ],\n",
              "       [ 66.508354],\n",
              "       [ 35.1283  ],\n",
              "       [ 28.221756],\n",
              "       [ 28.412525],\n",
              "       [ 26.035883],\n",
              "       [ 66.70737 ],\n",
              "       [ 47.659897],\n",
              "       [113.43178 ],\n",
              "       [174.54816 ],\n",
              "       [ 48.01674 ],\n",
              "       [ 27.100683],\n",
              "       [ 39.641716],\n",
              "       [137.97647 ],\n",
              "       [126.538895],\n",
              "       [ 51.89702 ],\n",
              "       [118.06198 ],\n",
              "       [ 96.41261 ],\n",
              "       [ 38.41361 ],\n",
              "       [ 39.95374 ],\n",
              "       [ 42.45493 ],\n",
              "       [ 44.4126  ],\n",
              "       [ 27.289028],\n",
              "       [ 42.260204],\n",
              "       [ 24.902039],\n",
              "       [ 42.266506],\n",
              "       [ 47.881035],\n",
              "       [ 40.00578 ],\n",
              "       [ 47.02986 ],\n",
              "       [ 38.50799 ],\n",
              "       [124.62965 ],\n",
              "       [ 37.996334],\n",
              "       [ 40.69957 ],\n",
              "       [ 43.697674],\n",
              "       [147.28325 ],\n",
              "       [175.46678 ],\n",
              "       [ 48.091084],\n",
              "       [127.042206],\n",
              "       [176.03896 ],\n",
              "       [ 71.40776 ],\n",
              "       [125.73696 ],\n",
              "       [163.78447 ],\n",
              "       [112.41408 ],\n",
              "       [ 38.314426],\n",
              "       [132.0924  ],\n",
              "       [ 26.949041],\n",
              "       [ 71.01512 ],\n",
              "       [ 44.217346],\n",
              "       [ 27.548796],\n",
              "       [175.42769 ],\n",
              "       [ 38.592346],\n",
              "       [ 44.01523 ],\n",
              "       [ 59.40929 ],\n",
              "       [119.757904],\n",
              "       [ 55.76995 ],\n",
              "       [ 63.23368 ],\n",
              "       [ 24.345078],\n",
              "       [ 27.227694],\n",
              "       [ 43.763203],\n",
              "       [ 39.17929 ],\n",
              "       [ 95.55956 ],\n",
              "       [ 37.931225],\n",
              "       [ 65.200966],\n",
              "       [ 64.07091 ],\n",
              "       [ 44.034256],\n",
              "       [ 25.26582 ],\n",
              "       [117.15732 ],\n",
              "       [150.89801 ],\n",
              "       [117.74661 ],\n",
              "       [ 41.746468],\n",
              "       [ 67.64777 ],\n",
              "       [ 38.40813 ],\n",
              "       [117.05922 ],\n",
              "       [ 44.49205 ],\n",
              "       [ 47.03868 ],\n",
              "       [ 45.527157],\n",
              "       [ 48.950684],\n",
              "       [166.97527 ],\n",
              "       [ 51.12326 ],\n",
              "       [ 24.742748],\n",
              "       [ 78.92511 ],\n",
              "       [ 73.321625],\n",
              "       [ 35.21079 ],\n",
              "       [ 46.86997 ],\n",
              "       [134.2808  ],\n",
              "       [ 44.081123],\n",
              "       [120.5341  ],\n",
              "       [ 55.96616 ],\n",
              "       [ 36.6082  ],\n",
              "       [ 48.865204],\n",
              "       [155.2397  ],\n",
              "       [116.29204 ],\n",
              "       [ 40.254578],\n",
              "       [ 37.480324],\n",
              "       [ 28.82694 ],\n",
              "       [ 26.899307],\n",
              "       [ 37.493057],\n",
              "       [135.67966 ],\n",
              "       [ 42.90671 ],\n",
              "       [ 27.446587],\n",
              "       [ 24.213522],\n",
              "       [ 23.997444],\n",
              "       [ 98.59702 ],\n",
              "       [ 46.277744],\n",
              "       [ 38.311897],\n",
              "       [122.808395],\n",
              "       [ 24.764145],\n",
              "       [179.72354 ],\n",
              "       [ 25.87599 ],\n",
              "       [ 23.986506],\n",
              "       [ 45.085716],\n",
              "       [118.58279 ],\n",
              "       [ 42.857162],\n",
              "       [ 66.412125],\n",
              "       [ 48.029346],\n",
              "       [ 64.29415 ],\n",
              "       [ 48.291565],\n",
              "       [ 71.88702 ],\n",
              "       [ 51.069683],\n",
              "       [ 79.275505],\n",
              "       [ 55.107597],\n",
              "       [ 39.112164],\n",
              "       [ 59.913013],\n",
              "       [ 35.91849 ],\n",
              "       [ 40.428864],\n",
              "       [132.81827 ],\n",
              "       [ 26.43926 ],\n",
              "       [ 47.30384 ],\n",
              "       [ 38.714443],\n",
              "       [126.343124],\n",
              "       [122.55408 ],\n",
              "       [ 43.09656 ],\n",
              "       [127.15129 ],\n",
              "       [ 39.323376],\n",
              "       [113.42468 ],\n",
              "       [149.59015 ],\n",
              "       [ 25.201729],\n",
              "       [ 38.87686 ],\n",
              "       [ 70.957184],\n",
              "       [ 43.86149 ],\n",
              "       [ 66.20601 ],\n",
              "       [146.22536 ],\n",
              "       [ 52.208378],\n",
              "       [ 48.362644],\n",
              "       [ 55.798477],\n",
              "       [ 26.488598],\n",
              "       [ 42.47574 ],\n",
              "       [ 55.099197],\n",
              "       [ 52.1976  ],\n",
              "       [ 37.23968 ],\n",
              "       [ 48.434902],\n",
              "       [ 46.43537 ],\n",
              "       [ 34.933006],\n",
              "       [ 96.71311 ],\n",
              "       [ 24.474764],\n",
              "       [ 27.409723],\n",
              "       [ 28.73813 ],\n",
              "       [ 27.03505 ],\n",
              "       [ 45.939125],\n",
              "       [ 36.108597],\n",
              "       [ 69.47143 ],\n",
              "       [ 55.86591 ],\n",
              "       [ 50.53245 ],\n",
              "       [ 55.59505 ],\n",
              "       [150.30377 ],\n",
              "       [ 65.686295],\n",
              "       [ 43.722656],\n",
              "       [135.56421 ],\n",
              "       [ 61.59322 ],\n",
              "       [ 43.975353],\n",
              "       [ 62.08849 ],\n",
              "       [ 46.801773],\n",
              "       [ 43.769302],\n",
              "       [ 34.90253 ],\n",
              "       [128.53217 ],\n",
              "       [ 52.625362],\n",
              "       [125.503426],\n",
              "       [153.66972 ],\n",
              "       [145.98068 ],\n",
              "       [ 45.75429 ],\n",
              "       [143.70999 ],\n",
              "       [ 87.05049 ],\n",
              "       [ 79.62634 ],\n",
              "       [ 55.488533],\n",
              "       [ 24.473436],\n",
              "       [180.04901 ],\n",
              "       [122.807274],\n",
              "       [ 43.695538],\n",
              "       [ 44.06754 ],\n",
              "       [ 82.52768 ],\n",
              "       [ 35.633564],\n",
              "       [ 74.7118  ],\n",
              "       [113.57989 ],\n",
              "       [ 35.977757],\n",
              "       [ 47.90348 ],\n",
              "       [ 78.28469 ],\n",
              "       [ 54.00059 ],\n",
              "       [ 36.05087 ],\n",
              "       [176.2804  ],\n",
              "       [ 25.249252],\n",
              "       [ 38.843945],\n",
              "       [ 36.881058],\n",
              "       [131.5739  ],\n",
              "       [126.20235 ],\n",
              "       [ 66.75952 ],\n",
              "       [ 52.65788 ],\n",
              "       [ 24.16555 ],\n",
              "       [ 83.28478 ],\n",
              "       [151.22876 ],\n",
              "       [135.45589 ],\n",
              "       [174.9699  ],\n",
              "       [ 35.30535 ],\n",
              "       [ 34.289753],\n",
              "       [ 49.708252],\n",
              "       [ 24.362078],\n",
              "       [131.7367  ],\n",
              "       [ 33.058167],\n",
              "       [ 27.568409],\n",
              "       [168.12437 ],\n",
              "       [117.44859 ],\n",
              "       [ 67.66395 ],\n",
              "       [ 28.865124],\n",
              "       [ 44.51049 ],\n",
              "       [ 70.04171 ],\n",
              "       [116.976166],\n",
              "       [126.50606 ],\n",
              "       [167.121   ],\n",
              "       [ 38.54708 ],\n",
              "       [ 23.882286],\n",
              "       [ 24.627378],\n",
              "       [ 24.823095],\n",
              "       [150.5217  ],\n",
              "       [173.0686  ],\n",
              "       [ 27.442259],\n",
              "       [132.03085 ],\n",
              "       [ 71.95231 ],\n",
              "       [ 47.511158],\n",
              "       [ 24.631496],\n",
              "       [ 36.382645],\n",
              "       [ 42.598137],\n",
              "       [ 36.461872],\n",
              "       [ 42.90665 ],\n",
              "       [ 44.86357 ],\n",
              "       [ 47.04508 ],\n",
              "       [ 39.4579  ],\n",
              "       [ 26.56682 ],\n",
              "       [126.16427 ],\n",
              "       [ 42.960857],\n",
              "       [ 50.9943  ],\n",
              "       [ 42.588078],\n",
              "       [ 39.89274 ],\n",
              "       [ 63.710175],\n",
              "       [118.28003 ],\n",
              "       [ 43.31306 ],\n",
              "       [ 23.935383],\n",
              "       [ 24.117718],\n",
              "       [ 47.366962],\n",
              "       [135.57123 ],\n",
              "       [ 56.607574],\n",
              "       [ 39.767284],\n",
              "       [ 55.0016  ],\n",
              "       [ 24.594713],\n",
              "       [ 38.811134],\n",
              "       [ 51.07363 ],\n",
              "       [151.35837 ],\n",
              "       [ 36.200085],\n",
              "       [ 75.355034],\n",
              "       [ 54.285713],\n",
              "       [ 70.897545],\n",
              "       [ 36.48764 ],\n",
              "       [ 91.47909 ],\n",
              "       [146.82721 ],\n",
              "       [ 55.537724],\n",
              "       [ 66.44092 ]], dtype=float32)"
            ]
          },
          "metadata": {},
          "execution_count": 189
        }
      ]
    },
    {
      "cell_type": "code",
      "source": [
        "AlexNet.evaluate(x_test, y_test)"
      ],
      "metadata": {
        "colab": {
          "base_uri": "https://localhost:8080/"
        },
        "id": "0TwJS3xG-nYO",
        "outputId": "55dd1a9f-f9aa-468a-d973-84e16774d951"
      },
      "execution_count": 190,
      "outputs": [
        {
          "output_type": "stream",
          "name": "stdout",
          "text": [
            "10/10 [==============================] - 0s 5ms/step - loss: 4.1677 - accuracy: 0.0000e+00\n"
          ]
        },
        {
          "output_type": "execute_result",
          "data": {
            "text/plain": [
              "[4.167749881744385, 0.0]"
            ]
          },
          "metadata": {},
          "execution_count": 190
        }
      ]
    }
  ]
}