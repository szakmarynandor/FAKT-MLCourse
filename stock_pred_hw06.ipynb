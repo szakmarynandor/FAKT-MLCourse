{
  "nbformat": 4,
  "nbformat_minor": 0,
  "metadata": {
    "colab": {
      "name": "stock_pred_hw06.ipynb",
      "provenance": [],
      "collapsed_sections": [],
      "authorship_tag": "ABX9TyOn+lbJ6SU+C4kxY/wo3dC1",
      "include_colab_link": true
    },
    "kernelspec": {
      "name": "python3",
      "display_name": "Python 3"
    },
    "language_info": {
      "name": "python"
    },
    "accelerator": "GPU"
  },
  "cells": [
    {
      "cell_type": "markdown",
      "metadata": {
        "id": "view-in-github",
        "colab_type": "text"
      },
      "source": [
        "<a href=\"https://colab.research.google.com/github/szakmarynandor/FAKT-MLCourse/blob/main/stock_pred_hw06.ipynb\" target=\"_parent\"><img src=\"https://colab.research.google.com/assets/colab-badge.svg\" alt=\"Open In Colab\"/></a>"
      ]
    },
    {
      "cell_type": "markdown",
      "source": [
        "#Stock price prediction"
      ],
      "metadata": {
        "id": "49WtIyy8KIhO"
      }
    },
    {
      "cell_type": "code",
      "execution_count": 1,
      "metadata": {
        "id": "miNvs_N3KCC-"
      },
      "outputs": [],
      "source": [
        "import numpy as np\n",
        "import matplotlib.pyplot as plt\n",
        "import pandas as pd\n",
        "from sklearn.preprocessing import MinMaxScaler\n",
        "from sklearn.model_selection import train_test_split"
      ]
    },
    {
      "cell_type": "markdown",
      "source": [
        "###Tesla részvény árfolyamának feltöltése"
      ],
      "metadata": {
        "id": "LwrcoBq2LFMG"
      }
    },
    {
      "cell_type": "code",
      "source": [
        "from google.colab import drive\n",
        "drive.mount('/content/drive')"
      ],
      "metadata": {
        "colab": {
          "base_uri": "https://localhost:8080/"
        },
        "id": "OySsMzddKa7H",
        "outputId": "951ed514-bc68-4962-dca1-bdcc9c470788"
      },
      "execution_count": 2,
      "outputs": [
        {
          "output_type": "stream",
          "name": "stdout",
          "text": [
            "Mounted at /content/drive\n"
          ]
        }
      ]
    },
    {
      "cell_type": "code",
      "source": [
        "tesla=pd.read_csv('/content/drive/My Drive/FAKT_ML/tesla.csv')"
      ],
      "metadata": {
        "id": "i6AIU46tOlEs"
      },
      "execution_count": 3,
      "outputs": []
    },
    {
      "cell_type": "code",
      "source": [
        "tesla.shape"
      ],
      "metadata": {
        "colab": {
          "base_uri": "https://localhost:8080/"
        },
        "id": "xdkso8iOlD3Z",
        "outputId": "6b96fb72-b665-46e2-e3ab-d1842b6a4eb6"
      },
      "execution_count": 4,
      "outputs": [
        {
          "output_type": "execute_result",
          "data": {
            "text/plain": [
              "(1570, 8)"
            ]
          },
          "metadata": {},
          "execution_count": 4
        }
      ]
    },
    {
      "cell_type": "code",
      "source": [
        "tesla.head()"
      ],
      "metadata": {
        "colab": {
          "base_uri": "https://localhost:8080/",
          "height": 206
        },
        "id": "qgURymQ7OwaF",
        "outputId": "aa3db632-930b-4971-8178-a4f52f65045e"
      },
      "execution_count": 5,
      "outputs": [
        {
          "output_type": "execute_result",
          "data": {
            "text/plain": [
              "    Unnamed: 0  TSLA.Open  TSLA.High   TSLA.Low  TSLA.Close  TSLA.Volume  \\\n",
              "0  X2016.01.04  46.144001  46.276001  43.799999   44.681999   34135500.0   \n",
              "1  X2016.01.05  45.271999  45.377998  44.000000   44.686001   15934000.0   \n",
              "2  X2016.01.06  44.000000  44.009998  43.195999   43.807999   18895500.0   \n",
              "3  X2016.01.07  42.838001  43.688000  42.734001   43.130001   17771500.0   \n",
              "4  X2016.01.08  43.571999  44.088001  42.153999   42.200001   18140500.0   \n",
              "\n",
              "   TSLA.Adjusted        date  \n",
              "0      44.681999  2016-01-04  \n",
              "1      44.686001  2016-01-05  \n",
              "2      43.807999  2016-01-06  \n",
              "3      43.130001  2016-01-07  \n",
              "4      42.200001  2016-01-08  "
            ],
            "text/html": [
              "\n",
              "  <div id=\"df-791aab1a-b852-4818-9f0e-7fd585e1339b\">\n",
              "    <div class=\"colab-df-container\">\n",
              "      <div>\n",
              "<style scoped>\n",
              "    .dataframe tbody tr th:only-of-type {\n",
              "        vertical-align: middle;\n",
              "    }\n",
              "\n",
              "    .dataframe tbody tr th {\n",
              "        vertical-align: top;\n",
              "    }\n",
              "\n",
              "    .dataframe thead th {\n",
              "        text-align: right;\n",
              "    }\n",
              "</style>\n",
              "<table border=\"1\" class=\"dataframe\">\n",
              "  <thead>\n",
              "    <tr style=\"text-align: right;\">\n",
              "      <th></th>\n",
              "      <th>Unnamed: 0</th>\n",
              "      <th>TSLA.Open</th>\n",
              "      <th>TSLA.High</th>\n",
              "      <th>TSLA.Low</th>\n",
              "      <th>TSLA.Close</th>\n",
              "      <th>TSLA.Volume</th>\n",
              "      <th>TSLA.Adjusted</th>\n",
              "      <th>date</th>\n",
              "    </tr>\n",
              "  </thead>\n",
              "  <tbody>\n",
              "    <tr>\n",
              "      <th>0</th>\n",
              "      <td>X2016.01.04</td>\n",
              "      <td>46.144001</td>\n",
              "      <td>46.276001</td>\n",
              "      <td>43.799999</td>\n",
              "      <td>44.681999</td>\n",
              "      <td>34135500.0</td>\n",
              "      <td>44.681999</td>\n",
              "      <td>2016-01-04</td>\n",
              "    </tr>\n",
              "    <tr>\n",
              "      <th>1</th>\n",
              "      <td>X2016.01.05</td>\n",
              "      <td>45.271999</td>\n",
              "      <td>45.377998</td>\n",
              "      <td>44.000000</td>\n",
              "      <td>44.686001</td>\n",
              "      <td>15934000.0</td>\n",
              "      <td>44.686001</td>\n",
              "      <td>2016-01-05</td>\n",
              "    </tr>\n",
              "    <tr>\n",
              "      <th>2</th>\n",
              "      <td>X2016.01.06</td>\n",
              "      <td>44.000000</td>\n",
              "      <td>44.009998</td>\n",
              "      <td>43.195999</td>\n",
              "      <td>43.807999</td>\n",
              "      <td>18895500.0</td>\n",
              "      <td>43.807999</td>\n",
              "      <td>2016-01-06</td>\n",
              "    </tr>\n",
              "    <tr>\n",
              "      <th>3</th>\n",
              "      <td>X2016.01.07</td>\n",
              "      <td>42.838001</td>\n",
              "      <td>43.688000</td>\n",
              "      <td>42.734001</td>\n",
              "      <td>43.130001</td>\n",
              "      <td>17771500.0</td>\n",
              "      <td>43.130001</td>\n",
              "      <td>2016-01-07</td>\n",
              "    </tr>\n",
              "    <tr>\n",
              "      <th>4</th>\n",
              "      <td>X2016.01.08</td>\n",
              "      <td>43.571999</td>\n",
              "      <td>44.088001</td>\n",
              "      <td>42.153999</td>\n",
              "      <td>42.200001</td>\n",
              "      <td>18140500.0</td>\n",
              "      <td>42.200001</td>\n",
              "      <td>2016-01-08</td>\n",
              "    </tr>\n",
              "  </tbody>\n",
              "</table>\n",
              "</div>\n",
              "      <button class=\"colab-df-convert\" onclick=\"convertToInteractive('df-791aab1a-b852-4818-9f0e-7fd585e1339b')\"\n",
              "              title=\"Convert this dataframe to an interactive table.\"\n",
              "              style=\"display:none;\">\n",
              "        \n",
              "  <svg xmlns=\"http://www.w3.org/2000/svg\" height=\"24px\"viewBox=\"0 0 24 24\"\n",
              "       width=\"24px\">\n",
              "    <path d=\"M0 0h24v24H0V0z\" fill=\"none\"/>\n",
              "    <path d=\"M18.56 5.44l.94 2.06.94-2.06 2.06-.94-2.06-.94-.94-2.06-.94 2.06-2.06.94zm-11 1L8.5 8.5l.94-2.06 2.06-.94-2.06-.94L8.5 2.5l-.94 2.06-2.06.94zm10 10l.94 2.06.94-2.06 2.06-.94-2.06-.94-.94-2.06-.94 2.06-2.06.94z\"/><path d=\"M17.41 7.96l-1.37-1.37c-.4-.4-.92-.59-1.43-.59-.52 0-1.04.2-1.43.59L10.3 9.45l-7.72 7.72c-.78.78-.78 2.05 0 2.83L4 21.41c.39.39.9.59 1.41.59.51 0 1.02-.2 1.41-.59l7.78-7.78 2.81-2.81c.8-.78.8-2.07 0-2.86zM5.41 20L4 18.59l7.72-7.72 1.47 1.35L5.41 20z\"/>\n",
              "  </svg>\n",
              "      </button>\n",
              "      \n",
              "  <style>\n",
              "    .colab-df-container {\n",
              "      display:flex;\n",
              "      flex-wrap:wrap;\n",
              "      gap: 12px;\n",
              "    }\n",
              "\n",
              "    .colab-df-convert {\n",
              "      background-color: #E8F0FE;\n",
              "      border: none;\n",
              "      border-radius: 50%;\n",
              "      cursor: pointer;\n",
              "      display: none;\n",
              "      fill: #1967D2;\n",
              "      height: 32px;\n",
              "      padding: 0 0 0 0;\n",
              "      width: 32px;\n",
              "    }\n",
              "\n",
              "    .colab-df-convert:hover {\n",
              "      background-color: #E2EBFA;\n",
              "      box-shadow: 0px 1px 2px rgba(60, 64, 67, 0.3), 0px 1px 3px 1px rgba(60, 64, 67, 0.15);\n",
              "      fill: #174EA6;\n",
              "    }\n",
              "\n",
              "    [theme=dark] .colab-df-convert {\n",
              "      background-color: #3B4455;\n",
              "      fill: #D2E3FC;\n",
              "    }\n",
              "\n",
              "    [theme=dark] .colab-df-convert:hover {\n",
              "      background-color: #434B5C;\n",
              "      box-shadow: 0px 1px 3px 1px rgba(0, 0, 0, 0.15);\n",
              "      filter: drop-shadow(0px 1px 2px rgba(0, 0, 0, 0.3));\n",
              "      fill: #FFFFFF;\n",
              "    }\n",
              "  </style>\n",
              "\n",
              "      <script>\n",
              "        const buttonEl =\n",
              "          document.querySelector('#df-791aab1a-b852-4818-9f0e-7fd585e1339b button.colab-df-convert');\n",
              "        buttonEl.style.display =\n",
              "          google.colab.kernel.accessAllowed ? 'block' : 'none';\n",
              "\n",
              "        async function convertToInteractive(key) {\n",
              "          const element = document.querySelector('#df-791aab1a-b852-4818-9f0e-7fd585e1339b');\n",
              "          const dataTable =\n",
              "            await google.colab.kernel.invokeFunction('convertToInteractive',\n",
              "                                                     [key], {});\n",
              "          if (!dataTable) return;\n",
              "\n",
              "          const docLinkHtml = 'Like what you see? Visit the ' +\n",
              "            '<a target=\"_blank\" href=https://colab.research.google.com/notebooks/data_table.ipynb>data table notebook</a>'\n",
              "            + ' to learn more about interactive tables.';\n",
              "          element.innerHTML = '';\n",
              "          dataTable['output_type'] = 'display_data';\n",
              "          await google.colab.output.renderOutput(dataTable, element);\n",
              "          const docLink = document.createElement('div');\n",
              "          docLink.innerHTML = docLinkHtml;\n",
              "          element.appendChild(docLink);\n",
              "        }\n",
              "      </script>\n",
              "    </div>\n",
              "  </div>\n",
              "  "
            ]
          },
          "metadata": {},
          "execution_count": 5
        }
      ]
    },
    {
      "cell_type": "code",
      "source": [
        "training_set = tesla.iloc[:, 6:7].values"
      ],
      "metadata": {
        "id": "zncQ57tLO_6Q"
      },
      "execution_count": 6,
      "outputs": []
    },
    {
      "cell_type": "code",
      "source": [
        "training_set"
      ],
      "metadata": {
        "id": "diAd0Cq3ToNR",
        "colab": {
          "base_uri": "https://localhost:8080/"
        },
        "outputId": "70d66d94-9441-4588-c84f-04bfb3159686"
      },
      "execution_count": 7,
      "outputs": [
        {
          "output_type": "execute_result",
          "data": {
            "text/plain": [
              "array([[  44.681999],\n",
              "       [  44.686001],\n",
              "       [  43.807999],\n",
              "       ...,\n",
              "       [1013.919983],\n",
              "       [1010.640015],\n",
              "       [1010.640015]])"
            ]
          },
          "metadata": {},
          "execution_count": 7
        }
      ]
    },
    {
      "cell_type": "markdown",
      "source": [
        "###Normalizálás"
      ],
      "metadata": {
        "id": "BbfQJxCVOcWY"
      }
    },
    {
      "cell_type": "code",
      "source": [
        "#normalizer = StandardScaler()"
      ],
      "metadata": {
        "id": "FTj5sawgQKwL"
      },
      "execution_count": 8,
      "outputs": []
    },
    {
      "cell_type": "code",
      "source": [
        "sc = MinMaxScaler(feature_range=(0,1))\n",
        "training_set_scaled = sc.fit_transform(training_set)"
      ],
      "metadata": {
        "id": "6qTzAzWfPgCv"
      },
      "execution_count": 9,
      "outputs": []
    },
    {
      "cell_type": "code",
      "source": [
        "training_set_scaled"
      ],
      "metadata": {
        "colab": {
          "base_uri": "https://localhost:8080/"
        },
        "id": "4Ezk7FDgeg6S",
        "outputId": "c64693fa-1cf2-47ad-b5e3-7eebd4a0c73e"
      },
      "execution_count": 10,
      "outputs": [
        {
          "output_type": "execute_result",
          "data": {
            "text/plain": [
              "array([[0.01327699],\n",
              "       [0.01328032],\n",
              "       [0.01254937],\n",
              "       ...,\n",
              "       [0.82018452],\n",
              "       [0.81745388],\n",
              "       [0.81745388]])"
            ]
          },
          "metadata": {},
          "execution_count": 10
        }
      ]
    },
    {
      "cell_type": "code",
      "source": [
        "X_train = []\n",
        "y_train = []\n",
        "for i in range(60, 1570):\n",
        "  X_train.append(training_set_scaled[i-60:i, 0])\n",
        "  y_train.append(training_set_scaled[i, 0])\n",
        "X_train, y_train = np.array(X_train), np.array(y_train)\n",
        "X_train = np.reshape(X_train, (X_train.shape[0], X_train.shape[1], 1))"
      ],
      "metadata": {
        "id": "BjLHjsbTk5dk"
      },
      "execution_count": 11,
      "outputs": []
    },
    {
      "cell_type": "code",
      "source": [
        "X_train.shape"
      ],
      "metadata": {
        "colab": {
          "base_uri": "https://localhost:8080/"
        },
        "id": "Nqo8wBfnlKvm",
        "outputId": "edb5a1ab-c042-4660-9c29-e0b125bd4dbe"
      },
      "execution_count": 12,
      "outputs": [
        {
          "output_type": "execute_result",
          "data": {
            "text/plain": [
              "(1510, 60, 1)"
            ]
          },
          "metadata": {},
          "execution_count": 12
        }
      ]
    },
    {
      "cell_type": "markdown",
      "source": [
        "###LSTM modell"
      ],
      "metadata": {
        "id": "4YWdG4oCY8ao"
      }
    },
    {
      "cell_type": "code",
      "source": [
        "from keras.models import Sequential\n",
        "from keras.layers import LSTM, Dropout, Dense\n",
        "from tensorflow.keras.callbacks import EarlyStopping"
      ],
      "metadata": {
        "id": "k2VK5kaHYzbA"
      },
      "execution_count": 13,
      "outputs": []
    },
    {
      "cell_type": "code",
      "source": [
        "model = Sequential()\n",
        "model.add(LSTM(units=50,return_sequences=True,input_shape=(X_train.shape[1], 1)))\n",
        "model.add(Dropout(0.2))\n",
        "model.add(LSTM(units=50,return_sequences=True))\n",
        "model.add(Dropout(0.2))\n",
        "model.add(LSTM(units=50,return_sequences=True))\n",
        "model.add(Dropout(0.2))\n",
        "model.add(LSTM(units=50))\n",
        "model.add(Dropout(0.2))\n",
        "model.add(Dense(units=1))\n",
        "model.compile(optimizer='adam',loss='mean_squared_error')\n",
        "early_stopping_callback = EarlyStopping(patience=20, restore_best_weights=True)\n",
        "model.fit(X_train, y_train, epochs=250, validation_split=0.1, callbacks=[early_stopping_callback], batch_size=32)"
      ],
      "metadata": {
        "colab": {
          "base_uri": "https://localhost:8080/"
        },
        "id": "frNQS1P3fJZ8",
        "outputId": "161e9bd0-e888-4dc6-c8d7-e0c144289098"
      },
      "execution_count": 14,
      "outputs": [
        {
          "output_type": "stream",
          "name": "stdout",
          "text": [
            "Epoch 1/250\n",
            "43/43 [==============================] - 16s 108ms/step - loss: 0.0074 - val_loss: 0.0095\n",
            "Epoch 2/250\n",
            "43/43 [==============================] - 3s 63ms/step - loss: 0.0017 - val_loss: 0.0111\n",
            "Epoch 3/250\n",
            "43/43 [==============================] - 3s 64ms/step - loss: 0.0016 - val_loss: 0.0099\n",
            "Epoch 4/250\n",
            "43/43 [==============================] - 3s 64ms/step - loss: 0.0014 - val_loss: 0.0163\n",
            "Epoch 5/250\n",
            "43/43 [==============================] - 3s 64ms/step - loss: 0.0012 - val_loss: 0.0144\n",
            "Epoch 6/250\n",
            "43/43 [==============================] - 3s 64ms/step - loss: 0.0012 - val_loss: 0.0059\n",
            "Epoch 7/250\n",
            "43/43 [==============================] - 3s 64ms/step - loss: 0.0013 - val_loss: 0.0103\n",
            "Epoch 8/250\n",
            "43/43 [==============================] - 3s 64ms/step - loss: 0.0013 - val_loss: 0.0125\n",
            "Epoch 9/250\n",
            "43/43 [==============================] - 3s 64ms/step - loss: 7.8413e-04 - val_loss: 0.0068\n",
            "Epoch 10/250\n",
            "43/43 [==============================] - 3s 64ms/step - loss: 0.0014 - val_loss: 0.0134\n",
            "Epoch 11/250\n",
            "43/43 [==============================] - 3s 64ms/step - loss: 0.0011 - val_loss: 0.0092\n",
            "Epoch 12/250\n",
            "43/43 [==============================] - 3s 65ms/step - loss: 0.0011 - val_loss: 0.0310\n",
            "Epoch 13/250\n",
            "43/43 [==============================] - 3s 64ms/step - loss: 0.0011 - val_loss: 0.0096\n",
            "Epoch 14/250\n",
            "43/43 [==============================] - 3s 64ms/step - loss: 0.0011 - val_loss: 0.0113\n",
            "Epoch 15/250\n",
            "43/43 [==============================] - 3s 70ms/step - loss: 8.6532e-04 - val_loss: 0.0083\n",
            "Epoch 16/250\n",
            "43/43 [==============================] - 3s 69ms/step - loss: 9.0594e-04 - val_loss: 0.0080\n",
            "Epoch 17/250\n",
            "43/43 [==============================] - 3s 65ms/step - loss: 8.6338e-04 - val_loss: 0.0187\n",
            "Epoch 18/250\n",
            "43/43 [==============================] - 3s 63ms/step - loss: 9.8806e-04 - val_loss: 0.0138\n",
            "Epoch 19/250\n",
            "43/43 [==============================] - 3s 64ms/step - loss: 8.5124e-04 - val_loss: 0.0093\n",
            "Epoch 20/250\n",
            "43/43 [==============================] - 3s 64ms/step - loss: 6.9845e-04 - val_loss: 0.0049\n",
            "Epoch 21/250\n",
            "43/43 [==============================] - 3s 64ms/step - loss: 8.1005e-04 - val_loss: 0.0099\n",
            "Epoch 22/250\n",
            "43/43 [==============================] - 3s 64ms/step - loss: 7.5972e-04 - val_loss: 0.0204\n",
            "Epoch 23/250\n",
            "43/43 [==============================] - 3s 64ms/step - loss: 7.5196e-04 - val_loss: 0.0108\n",
            "Epoch 24/250\n",
            "43/43 [==============================] - 3s 64ms/step - loss: 8.3955e-04 - val_loss: 0.0138\n",
            "Epoch 25/250\n",
            "43/43 [==============================] - 3s 64ms/step - loss: 7.2248e-04 - val_loss: 0.0071\n",
            "Epoch 26/250\n",
            "43/43 [==============================] - 3s 63ms/step - loss: 7.9053e-04 - val_loss: 0.0060\n",
            "Epoch 27/250\n",
            "43/43 [==============================] - 3s 64ms/step - loss: 7.0000e-04 - val_loss: 0.0047\n",
            "Epoch 28/250\n",
            "43/43 [==============================] - 3s 64ms/step - loss: 8.9200e-04 - val_loss: 0.0056\n",
            "Epoch 29/250\n",
            "43/43 [==============================] - 3s 64ms/step - loss: 6.4821e-04 - val_loss: 0.0111\n",
            "Epoch 30/250\n",
            "43/43 [==============================] - 3s 64ms/step - loss: 6.2045e-04 - val_loss: 0.0094\n",
            "Epoch 31/250\n",
            "43/43 [==============================] - 3s 64ms/step - loss: 6.8264e-04 - val_loss: 0.0042\n",
            "Epoch 32/250\n",
            "43/43 [==============================] - 3s 64ms/step - loss: 7.1067e-04 - val_loss: 0.0080\n",
            "Epoch 33/250\n",
            "43/43 [==============================] - 3s 64ms/step - loss: 8.8176e-04 - val_loss: 0.0059\n",
            "Epoch 34/250\n",
            "43/43 [==============================] - 3s 64ms/step - loss: 0.0010 - val_loss: 0.0167\n",
            "Epoch 35/250\n",
            "43/43 [==============================] - 3s 64ms/step - loss: 9.5326e-04 - val_loss: 0.0043\n",
            "Epoch 36/250\n",
            "43/43 [==============================] - 3s 63ms/step - loss: 7.9835e-04 - val_loss: 0.0090\n",
            "Epoch 37/250\n",
            "43/43 [==============================] - 3s 64ms/step - loss: 6.5313e-04 - val_loss: 0.0094\n",
            "Epoch 38/250\n",
            "43/43 [==============================] - 3s 64ms/step - loss: 6.7366e-04 - val_loss: 0.0080\n",
            "Epoch 39/250\n",
            "43/43 [==============================] - 3s 64ms/step - loss: 7.4003e-04 - val_loss: 0.0042\n",
            "Epoch 40/250\n",
            "43/43 [==============================] - 3s 64ms/step - loss: 5.7691e-04 - val_loss: 0.0140\n",
            "Epoch 41/250\n",
            "43/43 [==============================] - 3s 64ms/step - loss: 6.7922e-04 - val_loss: 0.0128\n",
            "Epoch 42/250\n",
            "43/43 [==============================] - 3s 63ms/step - loss: 6.9038e-04 - val_loss: 0.0050\n",
            "Epoch 43/250\n",
            "43/43 [==============================] - 3s 64ms/step - loss: 6.7213e-04 - val_loss: 0.0032\n",
            "Epoch 44/250\n",
            "43/43 [==============================] - 3s 64ms/step - loss: 7.8366e-04 - val_loss: 0.0164\n",
            "Epoch 45/250\n",
            "43/43 [==============================] - 3s 64ms/step - loss: 6.5930e-04 - val_loss: 0.0051\n",
            "Epoch 46/250\n",
            "43/43 [==============================] - 3s 64ms/step - loss: 5.5927e-04 - val_loss: 0.0071\n",
            "Epoch 47/250\n",
            "43/43 [==============================] - 3s 63ms/step - loss: 6.7354e-04 - val_loss: 0.0107\n",
            "Epoch 48/250\n",
            "43/43 [==============================] - 3s 64ms/step - loss: 6.9089e-04 - val_loss: 0.0052\n",
            "Epoch 49/250\n",
            "43/43 [==============================] - 3s 64ms/step - loss: 6.8244e-04 - val_loss: 0.0061\n",
            "Epoch 50/250\n",
            "43/43 [==============================] - 3s 64ms/step - loss: 5.2972e-04 - val_loss: 0.0068\n",
            "Epoch 51/250\n",
            "43/43 [==============================] - 3s 64ms/step - loss: 5.8446e-04 - val_loss: 0.0054\n",
            "Epoch 52/250\n",
            "43/43 [==============================] - 3s 64ms/step - loss: 7.4248e-04 - val_loss: 0.0055\n",
            "Epoch 53/250\n",
            "43/43 [==============================] - 3s 64ms/step - loss: 5.4274e-04 - val_loss: 0.0103\n",
            "Epoch 54/250\n",
            "43/43 [==============================] - 3s 64ms/step - loss: 5.6780e-04 - val_loss: 0.0062\n",
            "Epoch 55/250\n",
            "43/43 [==============================] - 3s 65ms/step - loss: 5.8271e-04 - val_loss: 0.0222\n",
            "Epoch 56/250\n",
            "43/43 [==============================] - 3s 64ms/step - loss: 7.9908e-04 - val_loss: 0.0061\n",
            "Epoch 57/250\n",
            "43/43 [==============================] - 3s 64ms/step - loss: 6.8241e-04 - val_loss: 0.0082\n",
            "Epoch 58/250\n",
            "43/43 [==============================] - 3s 64ms/step - loss: 5.5732e-04 - val_loss: 0.0048\n",
            "Epoch 59/250\n",
            "43/43 [==============================] - 3s 64ms/step - loss: 5.9339e-04 - val_loss: 0.0064\n",
            "Epoch 60/250\n",
            "43/43 [==============================] - 3s 63ms/step - loss: 5.5103e-04 - val_loss: 0.0054\n",
            "Epoch 61/250\n",
            "43/43 [==============================] - 3s 64ms/step - loss: 5.8324e-04 - val_loss: 0.0115\n",
            "Epoch 62/250\n",
            "43/43 [==============================] - 3s 64ms/step - loss: 5.3920e-04 - val_loss: 0.0079\n",
            "Epoch 63/250\n",
            "43/43 [==============================] - 3s 64ms/step - loss: 5.6783e-04 - val_loss: 0.0056\n"
          ]
        },
        {
          "output_type": "execute_result",
          "data": {
            "text/plain": [
              "<keras.callbacks.History at 0x7f9b396e3990>"
            ]
          },
          "metadata": {},
          "execution_count": 14
        }
      ]
    },
    {
      "cell_type": "markdown",
      "source": [
        "###Előrejelzés"
      ],
      "metadata": {
        "id": "7t5uC68Bhokr"
      }
    },
    {
      "cell_type": "code",
      "source": [
        "dataset_test = pd.read_csv('/content/drive/My Drive/FAKT_ML/tesla.csv')\n",
        "real_stock_price = dataset_test.iloc[:, 6:7].values"
      ],
      "metadata": {
        "id": "YDGvgrFghqU0"
      },
      "execution_count": 15,
      "outputs": []
    },
    {
      "cell_type": "code",
      "source": [
        "real_stock_price"
      ],
      "metadata": {
        "colab": {
          "base_uri": "https://localhost:8080/"
        },
        "id": "WliaNewRh6mz",
        "outputId": "f23709d7-c8a0-431a-aaea-4db380a348b7"
      },
      "execution_count": 16,
      "outputs": [
        {
          "output_type": "execute_result",
          "data": {
            "text/plain": [
              "array([[  44.681999],\n",
              "       [  44.686001],\n",
              "       [  43.807999],\n",
              "       ...,\n",
              "       [1013.919983],\n",
              "       [1010.640015],\n",
              "       [1010.640015]])"
            ]
          },
          "metadata": {},
          "execution_count": 16
        }
      ]
    },
    {
      "cell_type": "code",
      "source": [
        "dataset_total = pd.concat((tesla['TSLA.Close'], tesla['TSLA.Close']), axis = 0)\n",
        "inputs = dataset_total[len(dataset_total) - len(dataset_test) - 60:].values\n",
        "inputs = inputs.reshape(-1,1)\n",
        "inputs = sc.transform(inputs)\n",
        "X_test = []\n",
        "for i in range(60, 80):\n",
        "  X_test.append(inputs[i-60:i, 0])\n",
        "X_test = np.array(X_test)\n",
        "X_test = np.reshape(X_test, (X_test.shape[0], X_test.shape[1], 1))\n",
        "predicted_stock_price = model.predict(X_test)\n",
        "predicted_stock_price = sc.inverse_transform(predicted_stock_price)"
      ],
      "metadata": {
        "id": "vIURFUCGiJHH"
      },
      "execution_count": 17,
      "outputs": []
    },
    {
      "cell_type": "code",
      "source": [
        "predicted_stock_price.shape"
      ],
      "metadata": {
        "colab": {
          "base_uri": "https://localhost:8080/"
        },
        "id": "U0x64rDQoIoO",
        "outputId": "a9a472fe-2dd2-47a2-d588-14b5fffe29cc"
      },
      "execution_count": 18,
      "outputs": [
        {
          "output_type": "execute_result",
          "data": {
            "text/plain": [
              "(20, 1)"
            ]
          },
          "metadata": {},
          "execution_count": 18
        }
      ]
    },
    {
      "cell_type": "code",
      "source": [
        "real_stock_price.shape"
      ],
      "metadata": {
        "colab": {
          "base_uri": "https://localhost:8080/"
        },
        "id": "A0j3hV5KoSvu",
        "outputId": "ba5f3d93-cb68-4d7b-bcb7-8d590df407db"
      },
      "execution_count": 19,
      "outputs": [
        {
          "output_type": "execute_result",
          "data": {
            "text/plain": [
              "(1570, 1)"
            ]
          },
          "metadata": {},
          "execution_count": 19
        }
      ]
    },
    {
      "cell_type": "markdown",
      "source": [
        "###Eredmények ábrázolása"
      ],
      "metadata": {
        "id": "m8rwZLEZn1DP"
      }
    },
    {
      "cell_type": "code",
      "source": [
        "plt.plot(real_stock_price[1550:1570], color = 'black', label = 'Tesla Stock Price')\n",
        "plt.plot(predicted_stock_price, color = 'red', label = 'Predicted Tesla Stock Price')\n",
        "plt.title('Tesla Stock Price Prediction')\n",
        "plt.xlabel('Time')\n",
        "plt.ylabel('Tesla Stock Price')\n",
        "plt.legend()\n",
        "plt.show()"
      ],
      "metadata": {
        "colab": {
          "base_uri": "https://localhost:8080/",
          "height": 295
        },
        "id": "ZE2iPeUWgFTL",
        "outputId": "6a38026c-881a-4bc1-97ec-fca9a3d466ec"
      },
      "execution_count": 20,
      "outputs": [
        {
          "output_type": "display_data",
          "data": {
            "text/plain": [
              "<Figure size 432x288 with 1 Axes>"
            ],
            "image/png": "[encoded data removed]"
          },
          "metadata": {
            "needs_background": "light"
          }
        }
      ]
    },
    {
      "cell_type": "markdown",
      "source": [
        "Elég érdekes predikció született..."
      ],
      "metadata": {
        "id": "JcQUxli1qGqO"
      }
    }
  ]
}