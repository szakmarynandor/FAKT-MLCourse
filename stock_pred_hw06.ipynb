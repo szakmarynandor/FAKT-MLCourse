{
  "nbformat": 4,
  "nbformat_minor": 0,
  "metadata": {
    "colab": {
      "name": "stock_pred_hw06.ipynb",
      "provenance": [],
      "collapsed_sections": [],
      "authorship_tag": "ABX9TyMbCzMk/KSlLauUSoMC4yM5",
      "include_colab_link": true
    },
    "kernelspec": {
      "name": "python3",
      "display_name": "Python 3"
    },
    "language_info": {
      "name": "python"
    }
  },
  "cells": [
    {
      "cell_type": "markdown",
      "metadata": {
        "id": "view-in-github",
        "colab_type": "text"
      },
      "source": [
        "<a href=\"https://colab.research.google.com/github/szakmarynandor/FAKT-MLCourse/blob/main/stock_pred_hw06.ipynb\" target=\"_parent\"><img src=\"https://colab.research.google.com/assets/colab-badge.svg\" alt=\"Open In Colab\"/></a>"
      ]
    },
    {
      "cell_type": "markdown",
      "source": [
        "#Stock price prediction"
      ],
      "metadata": {
        "id": "49WtIyy8KIhO"
      }
    },
    {
      "cell_type": "code",
      "execution_count": 27,
      "metadata": {
        "id": "miNvs_N3KCC-"
      },
      "outputs": [],
      "source": [
        "import numpy as np\n",
        "import matplotlib.pyplot as plt\n",
        "import pandas as pd\n",
        "from sklearn.preprocessing import MinMaxScaler\n",
        "from sklearn.model_selection import train_test_split"
      ]
    },
    {
      "cell_type": "markdown",
      "source": [
        "###Tesla részvény árfolyamának feltöltése"
      ],
      "metadata": {
        "id": "LwrcoBq2LFMG"
      }
    },
    {
      "cell_type": "code",
      "source": [
        "from google.colab import drive\n",
        "drive.mount('/content/drive')"
      ],
      "metadata": {
        "colab": {
          "base_uri": "https://localhost:8080/"
        },
        "id": "OySsMzddKa7H",
        "outputId": "0c1012b9-311b-48b7-b514-a811e866a1a1"
      },
      "execution_count": 28,
      "outputs": [
        {
          "output_type": "stream",
          "name": "stdout",
          "text": [
            "Drive already mounted at /content/drive; to attempt to forcibly remount, call drive.mount(\"/content/drive\", force_remount=True).\n"
          ]
        }
      ]
    },
    {
      "cell_type": "code",
      "source": [
        "tesla=pd.read_csv('/content/drive/My Drive/FAKT_ML/tesla.csv')"
      ],
      "metadata": {
        "id": "i6AIU46tOlEs"
      },
      "execution_count": 29,
      "outputs": []
    },
    {
      "cell_type": "code",
      "source": [
        "tesla.shape"
      ],
      "metadata": {
        "colab": {
          "base_uri": "https://localhost:8080/"
        },
        "id": "qgURymQ7OwaF",
        "outputId": "47b4e544-fa53-4c83-98a2-639e9892fb8f"
      },
      "execution_count": 30,
      "outputs": [
        {
          "output_type": "execute_result",
          "data": {
            "text/plain": [
              "(1570, 8)"
            ]
          },
          "metadata": {},
          "execution_count": 30
        }
      ]
    },
    {
      "cell_type": "code",
      "source": [
        "tesla.head()"
      ],
      "metadata": {
        "colab": {
          "base_uri": "https://localhost:8080/",
          "height": 206
        },
        "id": "zncQ57tLO_6Q",
        "outputId": "0ecbf1e7-57ff-4fd3-d805-816307fa076e"
      },
      "execution_count": 31,
      "outputs": [
        {
          "output_type": "execute_result",
          "data": {
            "text/plain": [
              "    Unnamed: 0  TSLA.Open  TSLA.High   TSLA.Low  TSLA.Close  TSLA.Volume  \\\n",
              "0  X2016.01.04  46.144001  46.276001  43.799999   44.681999   34135500.0   \n",
              "1  X2016.01.05  45.271999  45.377998  44.000000   44.686001   15934000.0   \n",
              "2  X2016.01.06  44.000000  44.009998  43.195999   43.807999   18895500.0   \n",
              "3  X2016.01.07  42.838001  43.688000  42.734001   43.130001   17771500.0   \n",
              "4  X2016.01.08  43.571999  44.088001  42.153999   42.200001   18140500.0   \n",
              "\n",
              "   TSLA.Adjusted        date  \n",
              "0      44.681999  2016-01-04  \n",
              "1      44.686001  2016-01-05  \n",
              "2      43.807999  2016-01-06  \n",
              "3      43.130001  2016-01-07  \n",
              "4      42.200001  2016-01-08  "
            ],
            "text/html": [
              "\n",
              "  <div id=\"df-1f579fb2-7f24-40ba-8cae-d460c70616df\">\n",
              "    <div class=\"colab-df-container\">\n",
              "      <div>\n",
              "<style scoped>\n",
              "    .dataframe tbody tr th:only-of-type {\n",
              "        vertical-align: middle;\n",
              "    }\n",
              "\n",
              "    .dataframe tbody tr th {\n",
              "        vertical-align: top;\n",
              "    }\n",
              "\n",
              "    .dataframe thead th {\n",
              "        text-align: right;\n",
              "    }\n",
              "</style>\n",
              "<table border=\"1\" class=\"dataframe\">\n",
              "  <thead>\n",
              "    <tr style=\"text-align: right;\">\n",
              "      <th></th>\n",
              "      <th>Unnamed: 0</th>\n",
              "      <th>TSLA.Open</th>\n",
              "      <th>TSLA.High</th>\n",
              "      <th>TSLA.Low</th>\n",
              "      <th>TSLA.Close</th>\n",
              "      <th>TSLA.Volume</th>\n",
              "      <th>TSLA.Adjusted</th>\n",
              "      <th>date</th>\n",
              "    </tr>\n",
              "  </thead>\n",
              "  <tbody>\n",
              "    <tr>\n",
              "      <th>0</th>\n",
              "      <td>X2016.01.04</td>\n",
              "      <td>46.144001</td>\n",
              "      <td>46.276001</td>\n",
              "      <td>43.799999</td>\n",
              "      <td>44.681999</td>\n",
              "      <td>34135500.0</td>\n",
              "      <td>44.681999</td>\n",
              "      <td>2016-01-04</td>\n",
              "    </tr>\n",
              "    <tr>\n",
              "      <th>1</th>\n",
              "      <td>X2016.01.05</td>\n",
              "      <td>45.271999</td>\n",
              "      <td>45.377998</td>\n",
              "      <td>44.000000</td>\n",
              "      <td>44.686001</td>\n",
              "      <td>15934000.0</td>\n",
              "      <td>44.686001</td>\n",
              "      <td>2016-01-05</td>\n",
              "    </tr>\n",
              "    <tr>\n",
              "      <th>2</th>\n",
              "      <td>X2016.01.06</td>\n",
              "      <td>44.000000</td>\n",
              "      <td>44.009998</td>\n",
              "      <td>43.195999</td>\n",
              "      <td>43.807999</td>\n",
              "      <td>18895500.0</td>\n",
              "      <td>43.807999</td>\n",
              "      <td>2016-01-06</td>\n",
              "    </tr>\n",
              "    <tr>\n",
              "      <th>3</th>\n",
              "      <td>X2016.01.07</td>\n",
              "      <td>42.838001</td>\n",
              "      <td>43.688000</td>\n",
              "      <td>42.734001</td>\n",
              "      <td>43.130001</td>\n",
              "      <td>17771500.0</td>\n",
              "      <td>43.130001</td>\n",
              "      <td>2016-01-07</td>\n",
              "    </tr>\n",
              "    <tr>\n",
              "      <th>4</th>\n",
              "      <td>X2016.01.08</td>\n",
              "      <td>43.571999</td>\n",
              "      <td>44.088001</td>\n",
              "      <td>42.153999</td>\n",
              "      <td>42.200001</td>\n",
              "      <td>18140500.0</td>\n",
              "      <td>42.200001</td>\n",
              "      <td>2016-01-08</td>\n",
              "    </tr>\n",
              "  </tbody>\n",
              "</table>\n",
              "</div>\n",
              "      <button class=\"colab-df-convert\" onclick=\"convertToInteractive('df-1f579fb2-7f24-40ba-8cae-d460c70616df')\"\n",
              "              title=\"Convert this dataframe to an interactive table.\"\n",
              "              style=\"display:none;\">\n",
              "        \n",
              "  <svg xmlns=\"http://www.w3.org/2000/svg\" height=\"24px\"viewBox=\"0 0 24 24\"\n",
              "       width=\"24px\">\n",
              "    <path d=\"M0 0h24v24H0V0z\" fill=\"none\"/>\n",
              "    <path d=\"M18.56 5.44l.94 2.06.94-2.06 2.06-.94-2.06-.94-.94-2.06-.94 2.06-2.06.94zm-11 1L8.5 8.5l.94-2.06 2.06-.94-2.06-.94L8.5 2.5l-.94 2.06-2.06.94zm10 10l.94 2.06.94-2.06 2.06-.94-2.06-.94-.94-2.06-.94 2.06-2.06.94z\"/><path d=\"M17.41 7.96l-1.37-1.37c-.4-.4-.92-.59-1.43-.59-.52 0-1.04.2-1.43.59L10.3 9.45l-7.72 7.72c-.78.78-.78 2.05 0 2.83L4 21.41c.39.39.9.59 1.41.59.51 0 1.02-.2 1.41-.59l7.78-7.78 2.81-2.81c.8-.78.8-2.07 0-2.86zM5.41 20L4 18.59l7.72-7.72 1.47 1.35L5.41 20z\"/>\n",
              "  </svg>\n",
              "      </button>\n",
              "      \n",
              "  <style>\n",
              "    .colab-df-container {\n",
              "      display:flex;\n",
              "      flex-wrap:wrap;\n",
              "      gap: 12px;\n",
              "    }\n",
              "\n",
              "    .colab-df-convert {\n",
              "      background-color: #E8F0FE;\n",
              "      border: none;\n",
              "      border-radius: 50%;\n",
              "      cursor: pointer;\n",
              "      display: none;\n",
              "      fill: #1967D2;\n",
              "      height: 32px;\n",
              "      padding: 0 0 0 0;\n",
              "      width: 32px;\n",
              "    }\n",
              "\n",
              "    .colab-df-convert:hover {\n",
              "      background-color: #E2EBFA;\n",
              "      box-shadow: 0px 1px 2px rgba(60, 64, 67, 0.3), 0px 1px 3px 1px rgba(60, 64, 67, 0.15);\n",
              "      fill: #174EA6;\n",
              "    }\n",
              "\n",
              "    [theme=dark] .colab-df-convert {\n",
              "      background-color: #3B4455;\n",
              "      fill: #D2E3FC;\n",
              "    }\n",
              "\n",
              "    [theme=dark] .colab-df-convert:hover {\n",
              "      background-color: #434B5C;\n",
              "      box-shadow: 0px 1px 3px 1px rgba(0, 0, 0, 0.15);\n",
              "      filter: drop-shadow(0px 1px 2px rgba(0, 0, 0, 0.3));\n",
              "      fill: #FFFFFF;\n",
              "    }\n",
              "  </style>\n",
              "\n",
              "      <script>\n",
              "        const buttonEl =\n",
              "          document.querySelector('#df-1f579fb2-7f24-40ba-8cae-d460c70616df button.colab-df-convert');\n",
              "        buttonEl.style.display =\n",
              "          google.colab.kernel.accessAllowed ? 'block' : 'none';\n",
              "\n",
              "        async function convertToInteractive(key) {\n",
              "          const element = document.querySelector('#df-1f579fb2-7f24-40ba-8cae-d460c70616df');\n",
              "          const dataTable =\n",
              "            await google.colab.kernel.invokeFunction('convertToInteractive',\n",
              "                                                     [key], {});\n",
              "          if (!dataTable) return;\n",
              "\n",
              "          const docLinkHtml = 'Like what you see? Visit the ' +\n",
              "            '<a target=\"_blank\" href=https://colab.research.google.com/notebooks/data_table.ipynb>data table notebook</a>'\n",
              "            + ' to learn more about interactive tables.';\n",
              "          element.innerHTML = '';\n",
              "          dataTable['output_type'] = 'display_data';\n",
              "          await google.colab.output.renderOutput(dataTable, element);\n",
              "          const docLink = document.createElement('div');\n",
              "          docLink.innerHTML = docLinkHtml;\n",
              "          element.appendChild(docLink);\n",
              "        }\n",
              "      </script>\n",
              "    </div>\n",
              "  </div>\n",
              "  "
            ]
          },
          "metadata": {},
          "execution_count": 31
        }
      ]
    },
    {
      "cell_type": "code",
      "source": [
        "training_set = tesla[['TSLA.Close']]"
      ],
      "metadata": {
        "id": "diAd0Cq3ToNR"
      },
      "execution_count": 32,
      "outputs": []
    },
    {
      "cell_type": "code",
      "source": [
        "training_set"
      ],
      "metadata": {
        "colab": {
          "base_uri": "https://localhost:8080/",
          "height": 423
        },
        "id": "NjVh9ff5VNWO",
        "outputId": "736be0ad-a8ac-40b7-eea8-197b55e73204"
      },
      "execution_count": 33,
      "outputs": [
        {
          "output_type": "execute_result",
          "data": {
            "text/plain": [
              "       TSLA.Close\n",
              "0       44.681999\n",
              "1       44.686001\n",
              "2       43.807999\n",
              "3       43.130001\n",
              "4       42.200001\n",
              "...           ...\n",
              "1565   993.979980\n",
              "1566   999.109985\n",
              "1567  1013.919983\n",
              "1568  1010.640015\n",
              "1569  1010.640015\n",
              "\n",
              "[1570 rows x 1 columns]"
            ],
            "text/html": [
              "\n",
              "  <div id=\"df-8d950666-affa-4a89-9c94-76b3ef6f255c\">\n",
              "    <div class=\"colab-df-container\">\n",
              "      <div>\n",
              "<style scoped>\n",
              "    .dataframe tbody tr th:only-of-type {\n",
              "        vertical-align: middle;\n",
              "    }\n",
              "\n",
              "    .dataframe tbody tr th {\n",
              "        vertical-align: top;\n",
              "    }\n",
              "\n",
              "    .dataframe thead th {\n",
              "        text-align: right;\n",
              "    }\n",
              "</style>\n",
              "<table border=\"1\" class=\"dataframe\">\n",
              "  <thead>\n",
              "    <tr style=\"text-align: right;\">\n",
              "      <th></th>\n",
              "      <th>TSLA.Close</th>\n",
              "    </tr>\n",
              "  </thead>\n",
              "  <tbody>\n",
              "    <tr>\n",
              "      <th>0</th>\n",
              "      <td>44.681999</td>\n",
              "    </tr>\n",
              "    <tr>\n",
              "      <th>1</th>\n",
              "      <td>44.686001</td>\n",
              "    </tr>\n",
              "    <tr>\n",
              "      <th>2</th>\n",
              "      <td>43.807999</td>\n",
              "    </tr>\n",
              "    <tr>\n",
              "      <th>3</th>\n",
              "      <td>43.130001</td>\n",
              "    </tr>\n",
              "    <tr>\n",
              "      <th>4</th>\n",
              "      <td>42.200001</td>\n",
              "    </tr>\n",
              "    <tr>\n",
              "      <th>...</th>\n",
              "      <td>...</td>\n",
              "    </tr>\n",
              "    <tr>\n",
              "      <th>1565</th>\n",
              "      <td>993.979980</td>\n",
              "    </tr>\n",
              "    <tr>\n",
              "      <th>1566</th>\n",
              "      <td>999.109985</td>\n",
              "    </tr>\n",
              "    <tr>\n",
              "      <th>1567</th>\n",
              "      <td>1013.919983</td>\n",
              "    </tr>\n",
              "    <tr>\n",
              "      <th>1568</th>\n",
              "      <td>1010.640015</td>\n",
              "    </tr>\n",
              "    <tr>\n",
              "      <th>1569</th>\n",
              "      <td>1010.640015</td>\n",
              "    </tr>\n",
              "  </tbody>\n",
              "</table>\n",
              "<p>1570 rows × 1 columns</p>\n",
              "</div>\n",
              "      <button class=\"colab-df-convert\" onclick=\"convertToInteractive('df-8d950666-affa-4a89-9c94-76b3ef6f255c')\"\n",
              "              title=\"Convert this dataframe to an interactive table.\"\n",
              "              style=\"display:none;\">\n",
              "        \n",
              "  <svg xmlns=\"http://www.w3.org/2000/svg\" height=\"24px\"viewBox=\"0 0 24 24\"\n",
              "       width=\"24px\">\n",
              "    <path d=\"M0 0h24v24H0V0z\" fill=\"none\"/>\n",
              "    <path d=\"M18.56 5.44l.94 2.06.94-2.06 2.06-.94-2.06-.94-.94-2.06-.94 2.06-2.06.94zm-11 1L8.5 8.5l.94-2.06 2.06-.94-2.06-.94L8.5 2.5l-.94 2.06-2.06.94zm10 10l.94 2.06.94-2.06 2.06-.94-2.06-.94-.94-2.06-.94 2.06-2.06.94z\"/><path d=\"M17.41 7.96l-1.37-1.37c-.4-.4-.92-.59-1.43-.59-.52 0-1.04.2-1.43.59L10.3 9.45l-7.72 7.72c-.78.78-.78 2.05 0 2.83L4 21.41c.39.39.9.59 1.41.59.51 0 1.02-.2 1.41-.59l7.78-7.78 2.81-2.81c.8-.78.8-2.07 0-2.86zM5.41 20L4 18.59l7.72-7.72 1.47 1.35L5.41 20z\"/>\n",
              "  </svg>\n",
              "      </button>\n",
              "      \n",
              "  <style>\n",
              "    .colab-df-container {\n",
              "      display:flex;\n",
              "      flex-wrap:wrap;\n",
              "      gap: 12px;\n",
              "    }\n",
              "\n",
              "    .colab-df-convert {\n",
              "      background-color: #E8F0FE;\n",
              "      border: none;\n",
              "      border-radius: 50%;\n",
              "      cursor: pointer;\n",
              "      display: none;\n",
              "      fill: #1967D2;\n",
              "      height: 32px;\n",
              "      padding: 0 0 0 0;\n",
              "      width: 32px;\n",
              "    }\n",
              "\n",
              "    .colab-df-convert:hover {\n",
              "      background-color: #E2EBFA;\n",
              "      box-shadow: 0px 1px 2px rgba(60, 64, 67, 0.3), 0px 1px 3px 1px rgba(60, 64, 67, 0.15);\n",
              "      fill: #174EA6;\n",
              "    }\n",
              "\n",
              "    [theme=dark] .colab-df-convert {\n",
              "      background-color: #3B4455;\n",
              "      fill: #D2E3FC;\n",
              "    }\n",
              "\n",
              "    [theme=dark] .colab-df-convert:hover {\n",
              "      background-color: #434B5C;\n",
              "      box-shadow: 0px 1px 3px 1px rgba(0, 0, 0, 0.15);\n",
              "      filter: drop-shadow(0px 1px 2px rgba(0, 0, 0, 0.3));\n",
              "      fill: #FFFFFF;\n",
              "    }\n",
              "  </style>\n",
              "\n",
              "      <script>\n",
              "        const buttonEl =\n",
              "          document.querySelector('#df-8d950666-affa-4a89-9c94-76b3ef6f255c button.colab-df-convert');\n",
              "        buttonEl.style.display =\n",
              "          google.colab.kernel.accessAllowed ? 'block' : 'none';\n",
              "\n",
              "        async function convertToInteractive(key) {\n",
              "          const element = document.querySelector('#df-8d950666-affa-4a89-9c94-76b3ef6f255c');\n",
              "          const dataTable =\n",
              "            await google.colab.kernel.invokeFunction('convertToInteractive',\n",
              "                                                     [key], {});\n",
              "          if (!dataTable) return;\n",
              "\n",
              "          const docLinkHtml = 'Like what you see? Visit the ' +\n",
              "            '<a target=\"_blank\" href=https://colab.research.google.com/notebooks/data_table.ipynb>data table notebook</a>'\n",
              "            + ' to learn more about interactive tables.';\n",
              "          element.innerHTML = '';\n",
              "          dataTable['output_type'] = 'display_data';\n",
              "          await google.colab.output.renderOutput(dataTable, element);\n",
              "          const docLink = document.createElement('div');\n",
              "          docLink.innerHTML = docLinkHtml;\n",
              "          element.appendChild(docLink);\n",
              "        }\n",
              "      </script>\n",
              "    </div>\n",
              "  </div>\n",
              "  "
            ]
          },
          "metadata": {},
          "execution_count": 33
        }
      ]
    },
    {
      "cell_type": "markdown",
      "source": [
        "###Normalizálás"
      ],
      "metadata": {
        "id": "BbfQJxCVOcWY"
      }
    },
    {
      "cell_type": "code",
      "source": [
        "#normalizer = StandardScaler()"
      ],
      "metadata": {
        "id": "FTj5sawgQKwL"
      },
      "execution_count": 34,
      "outputs": []
    },
    {
      "cell_type": "code",
      "source": [
        "sc = MinMaxScaler(feature_range=(0,1))\n",
        "training_set_scaled = sc.fit_transform(training_set)"
      ],
      "metadata": {
        "id": "6qTzAzWfPgCv"
      },
      "execution_count": 35,
      "outputs": []
    },
    {
      "cell_type": "code",
      "source": [
        "training_set_scaled"
      ],
      "metadata": {
        "colab": {
          "base_uri": "https://localhost:8080/"
        },
        "id": "4Ezk7FDgeg6S",
        "outputId": "d7e70fc2-516e-46e4-f314-ff2af9052ae2"
      },
      "execution_count": 36,
      "outputs": [
        {
          "output_type": "execute_result",
          "data": {
            "text/plain": [
              "array([[0.01327699],\n",
              "       [0.01328032],\n",
              "       [0.01254937],\n",
              "       ...,\n",
              "       [0.82018452],\n",
              "       [0.81745388],\n",
              "       [0.81745388]])"
            ]
          },
          "metadata": {},
          "execution_count": 36
        }
      ]
    },
    {
      "cell_type": "code",
      "source": [
        "def split_sequence(sequence, n_steps):\n",
        "\tx, y = list(), list()\n",
        "\tfor i in range(len(sequence)):\n",
        "\t\tend_ix = i + n_steps # Az adott szekvencia-darab utolsó eleme\n",
        "\t\tif end_ix > len(sequence)-1: # Ellenőrizzük nem értünk-e a teljes lista végére\n",
        "\t\t\tbreak\n",
        "\t\tseq_x, seq_y = sequence[i:end_ix], sequence[end_ix] # Kimentjük a szekvencia darabot és az utolsó elemet mint eredményváltozó\n",
        "\t\tx.append(seq_x)\n",
        "\t\ty.append(seq_y)\n",
        "\treturn np.array(x), np.array(y)"
      ],
      "metadata": {
        "id": "t12_kbbXXnux"
      },
      "execution_count": 37,
      "outputs": []
    },
    {
      "cell_type": "code",
      "source": [
        "x, y = split_sequence(training_set_scaled, 10)"
      ],
      "metadata": {
        "id": "AVQtYrUNetnH"
      },
      "execution_count": 38,
      "outputs": []
    },
    {
      "cell_type": "code",
      "source": [
        "x_train, x_test, y_train, y_test = train_test_split(x, y, test_size=0.2, shuffle=True)"
      ],
      "metadata": {
        "id": "BvGc2OkVe85m"
      },
      "execution_count": 39,
      "outputs": []
    },
    {
      "cell_type": "markdown",
      "source": [
        "###LSTM modell"
      ],
      "metadata": {
        "id": "4YWdG4oCY8ao"
      }
    },
    {
      "cell_type": "code",
      "source": [
        "from keras.models import Sequential\n",
        "from keras.layers import LSTM, Dropout, Dense\n",
        "from tensorflow.keras.callbacks import EarlyStopping"
      ],
      "metadata": {
        "id": "k2VK5kaHYzbA"
      },
      "execution_count": 40,
      "outputs": []
    },
    {
      "cell_type": "code",
      "source": [
        "model = Sequential()\n",
        "model.add(LSTM(units=50,return_sequences=True,input_shape=(x_train.shape[1], 1)))\n",
        "model.add(Dropout(0.2))\n",
        "model.add(LSTM(units=50,return_sequences=True))\n",
        "model.add(Dropout(0.2))\n",
        "model.add(LSTM(units=50,return_sequences=True))\n",
        "model.add(Dropout(0.2))\n",
        "model.add(LSTM(units=50))\n",
        "model.add(Dropout(0.2))\n",
        "model.add(Dense(units=1))\n",
        "model.compile(optimizer='adam',loss='mean_squared_error')\n",
        "early_stopping_callback = EarlyStopping(patience=15, restore_best_weights=True)\n",
        "model.fit(x_train, y_train, epochs=250, validation_split=0.1, callbacks=[early_stopping_callback])"
      ],
      "metadata": {
        "colab": {
          "base_uri": "https://localhost:8080/"
        },
        "id": "frNQS1P3fJZ8",
        "outputId": "2352f150-e4bc-461d-8f90-80d3cb91cbdb"
      },
      "execution_count": 41,
      "outputs": [
        {
          "output_type": "stream",
          "name": "stdout",
          "text": [
            "Epoch 1/250\n",
            "36/36 [==============================] - 9s 64ms/step - loss: 0.0211 - val_loss: 0.0020\n",
            "Epoch 2/250\n",
            "36/36 [==============================] - 1s 21ms/step - loss: 0.0032 - val_loss: 0.0011\n",
            "Epoch 3/250\n",
            "36/36 [==============================] - 1s 21ms/step - loss: 0.0028 - val_loss: 7.5786e-04\n",
            "Epoch 4/250\n",
            "36/36 [==============================] - 1s 21ms/step - loss: 0.0022 - val_loss: 0.0011\n",
            "Epoch 5/250\n",
            "36/36 [==============================] - 1s 31ms/step - loss: 0.0031 - val_loss: 8.2347e-04\n",
            "Epoch 6/250\n",
            "36/36 [==============================] - 1s 28ms/step - loss: 0.0021 - val_loss: 7.7831e-04\n",
            "Epoch 7/250\n",
            "36/36 [==============================] - 1s 32ms/step - loss: 0.0019 - val_loss: 0.0011\n",
            "Epoch 8/250\n",
            "36/36 [==============================] - 1s 37ms/step - loss: 0.0034 - val_loss: 0.0017\n",
            "Epoch 9/250\n",
            "36/36 [==============================] - 2s 48ms/step - loss: 0.0020 - val_loss: 6.7760e-04\n",
            "Epoch 10/250\n",
            "36/36 [==============================] - 1s 33ms/step - loss: 0.0023 - val_loss: 0.0010\n",
            "Epoch 11/250\n",
            "36/36 [==============================] - 1s 24ms/step - loss: 0.0021 - val_loss: 7.3993e-04\n",
            "Epoch 12/250\n",
            "36/36 [==============================] - 1s 20ms/step - loss: 0.0018 - val_loss: 7.7616e-04\n",
            "Epoch 13/250\n",
            "36/36 [==============================] - 1s 21ms/step - loss: 0.0018 - val_loss: 6.9444e-04\n",
            "Epoch 14/250\n",
            "36/36 [==============================] - 1s 21ms/step - loss: 0.0019 - val_loss: 0.0012\n",
            "Epoch 15/250\n",
            "36/36 [==============================] - 1s 20ms/step - loss: 0.0020 - val_loss: 0.0012\n",
            "Epoch 16/250\n",
            "36/36 [==============================] - 1s 20ms/step - loss: 0.0020 - val_loss: 9.5509e-04\n",
            "Epoch 17/250\n",
            "36/36 [==============================] - 1s 20ms/step - loss: 0.0019 - val_loss: 6.3852e-04\n",
            "Epoch 18/250\n",
            "36/36 [==============================] - 1s 22ms/step - loss: 0.0018 - val_loss: 7.0923e-04\n",
            "Epoch 19/250\n",
            "36/36 [==============================] - 1s 20ms/step - loss: 0.0018 - val_loss: 0.0014\n",
            "Epoch 20/250\n",
            "36/36 [==============================] - 1s 21ms/step - loss: 0.0017 - val_loss: 0.0016\n",
            "Epoch 21/250\n",
            "36/36 [==============================] - 1s 20ms/step - loss: 0.0026 - val_loss: 7.0270e-04\n",
            "Epoch 22/250\n",
            "36/36 [==============================] - 1s 21ms/step - loss: 0.0015 - val_loss: 7.9647e-04\n",
            "Epoch 23/250\n",
            "36/36 [==============================] - 1s 20ms/step - loss: 0.0016 - val_loss: 6.4680e-04\n",
            "Epoch 24/250\n",
            "36/36 [==============================] - 1s 21ms/step - loss: 0.0025 - val_loss: 7.1204e-04\n",
            "Epoch 25/250\n",
            "36/36 [==============================] - 1s 21ms/step - loss: 0.0016 - val_loss: 7.2328e-04\n",
            "Epoch 26/250\n",
            "36/36 [==============================] - 1s 21ms/step - loss: 0.0023 - val_loss: 7.7891e-04\n",
            "Epoch 27/250\n",
            "36/36 [==============================] - 1s 21ms/step - loss: 0.0016 - val_loss: 0.0010\n",
            "Epoch 28/250\n",
            "36/36 [==============================] - 1s 23ms/step - loss: 0.0018 - val_loss: 6.7152e-04\n",
            "Epoch 29/250\n",
            "36/36 [==============================] - 1s 22ms/step - loss: 0.0019 - val_loss: 0.0013\n",
            "Epoch 30/250\n",
            "36/36 [==============================] - 1s 20ms/step - loss: 0.0018 - val_loss: 5.6197e-04\n",
            "Epoch 31/250\n",
            "36/36 [==============================] - 1s 21ms/step - loss: 0.0016 - val_loss: 5.7590e-04\n",
            "Epoch 32/250\n",
            "36/36 [==============================] - 1s 20ms/step - loss: 0.0017 - val_loss: 6.1763e-04\n",
            "Epoch 33/250\n",
            "36/36 [==============================] - 1s 21ms/step - loss: 0.0022 - val_loss: 8.8003e-04\n",
            "Epoch 34/250\n",
            "36/36 [==============================] - 1s 20ms/step - loss: 0.0022 - val_loss: 6.3486e-04\n",
            "Epoch 35/250\n",
            "36/36 [==============================] - 1s 21ms/step - loss: 0.0016 - val_loss: 5.5749e-04\n",
            "Epoch 36/250\n",
            "36/36 [==============================] - 1s 21ms/step - loss: 0.0014 - val_loss: 5.6339e-04\n",
            "Epoch 37/250\n",
            "36/36 [==============================] - 1s 20ms/step - loss: 0.0016 - val_loss: 5.4720e-04\n",
            "Epoch 38/250\n",
            "36/36 [==============================] - 1s 20ms/step - loss: 0.0016 - val_loss: 0.0011\n",
            "Epoch 39/250\n",
            "36/36 [==============================] - 1s 20ms/step - loss: 0.0018 - val_loss: 6.0681e-04\n",
            "Epoch 40/250\n",
            "36/36 [==============================] - 1s 20ms/step - loss: 0.0016 - val_loss: 6.1663e-04\n",
            "Epoch 41/250\n",
            "36/36 [==============================] - 1s 21ms/step - loss: 0.0015 - val_loss: 5.7725e-04\n",
            "Epoch 42/250\n",
            "36/36 [==============================] - 1s 21ms/step - loss: 0.0017 - val_loss: 5.4150e-04\n",
            "Epoch 43/250\n",
            "36/36 [==============================] - 1s 20ms/step - loss: 0.0014 - val_loss: 8.0091e-04\n",
            "Epoch 44/250\n",
            "36/36 [==============================] - 1s 20ms/step - loss: 0.0017 - val_loss: 5.7376e-04\n",
            "Epoch 45/250\n",
            "36/36 [==============================] - 1s 20ms/step - loss: 0.0013 - val_loss: 5.5608e-04\n",
            "Epoch 46/250\n",
            "36/36 [==============================] - 1s 20ms/step - loss: 0.0015 - val_loss: 5.4408e-04\n",
            "Epoch 47/250\n",
            "36/36 [==============================] - 1s 21ms/step - loss: 0.0016 - val_loss: 8.2091e-04\n",
            "Epoch 48/250\n",
            "36/36 [==============================] - 1s 21ms/step - loss: 0.0015 - val_loss: 5.4035e-04\n",
            "Epoch 49/250\n",
            "36/36 [==============================] - 1s 22ms/step - loss: 0.0014 - val_loss: 5.3618e-04\n",
            "Epoch 50/250\n",
            "36/36 [==============================] - 1s 21ms/step - loss: 0.0013 - val_loss: 8.1765e-04\n",
            "Epoch 51/250\n",
            "36/36 [==============================] - 1s 20ms/step - loss: 0.0018 - val_loss: 6.4342e-04\n",
            "Epoch 52/250\n",
            "36/36 [==============================] - 1s 21ms/step - loss: 0.0016 - val_loss: 9.2219e-04\n",
            "Epoch 53/250\n",
            "36/36 [==============================] - 1s 21ms/step - loss: 0.0016 - val_loss: 5.1632e-04\n",
            "Epoch 54/250\n",
            "36/36 [==============================] - 1s 20ms/step - loss: 0.0021 - val_loss: 4.9647e-04\n",
            "Epoch 55/250\n",
            "36/36 [==============================] - 1s 21ms/step - loss: 0.0011 - val_loss: 5.4450e-04\n",
            "Epoch 56/250\n",
            "36/36 [==============================] - 1s 22ms/step - loss: 0.0013 - val_loss: 8.7015e-04\n",
            "Epoch 57/250\n",
            "36/36 [==============================] - 1s 20ms/step - loss: 0.0014 - val_loss: 7.0503e-04\n",
            "Epoch 58/250\n",
            "36/36 [==============================] - 1s 22ms/step - loss: 0.0019 - val_loss: 8.5122e-04\n",
            "Epoch 59/250\n",
            "36/36 [==============================] - 1s 22ms/step - loss: 0.0014 - val_loss: 4.5675e-04\n",
            "Epoch 60/250\n",
            "36/36 [==============================] - 1s 22ms/step - loss: 0.0013 - val_loss: 5.0585e-04\n",
            "Epoch 61/250\n",
            "36/36 [==============================] - 1s 21ms/step - loss: 0.0013 - val_loss: 6.9365e-04\n",
            "Epoch 62/250\n",
            "36/36 [==============================] - 1s 23ms/step - loss: 0.0012 - val_loss: 8.4666e-04\n",
            "Epoch 63/250\n",
            "36/36 [==============================] - 1s 23ms/step - loss: 0.0013 - val_loss: 4.3967e-04\n",
            "Epoch 64/250\n",
            "36/36 [==============================] - 1s 21ms/step - loss: 0.0018 - val_loss: 6.0708e-04\n",
            "Epoch 65/250\n",
            "36/36 [==============================] - 1s 21ms/step - loss: 0.0020 - val_loss: 0.0011\n",
            "Epoch 66/250\n",
            "36/36 [==============================] - 1s 23ms/step - loss: 0.0015 - val_loss: 4.0021e-04\n",
            "Epoch 67/250\n",
            "36/36 [==============================] - 1s 21ms/step - loss: 0.0017 - val_loss: 0.0014\n",
            "Epoch 68/250\n",
            "36/36 [==============================] - 1s 24ms/step - loss: 0.0016 - val_loss: 7.8543e-04\n",
            "Epoch 69/250\n",
            "36/36 [==============================] - 1s 22ms/step - loss: 0.0011 - val_loss: 3.9732e-04\n",
            "Epoch 70/250\n",
            "36/36 [==============================] - 1s 21ms/step - loss: 0.0011 - val_loss: 4.1632e-04\n",
            "Epoch 71/250\n",
            "36/36 [==============================] - 1s 23ms/step - loss: 0.0013 - val_loss: 4.1130e-04\n",
            "Epoch 72/250\n",
            "36/36 [==============================] - 1s 23ms/step - loss: 0.0012 - val_loss: 4.3007e-04\n",
            "Epoch 73/250\n",
            "36/36 [==============================] - 1s 22ms/step - loss: 0.0013 - val_loss: 6.0811e-04\n",
            "Epoch 74/250\n",
            "36/36 [==============================] - 1s 21ms/step - loss: 0.0012 - val_loss: 3.9212e-04\n",
            "Epoch 75/250\n",
            "36/36 [==============================] - 1s 22ms/step - loss: 0.0013 - val_loss: 5.5355e-04\n",
            "Epoch 76/250\n",
            "36/36 [==============================] - 1s 21ms/step - loss: 0.0011 - val_loss: 5.9315e-04\n",
            "Epoch 77/250\n",
            "36/36 [==============================] - 1s 22ms/step - loss: 0.0014 - val_loss: 4.0099e-04\n",
            "Epoch 78/250\n",
            "36/36 [==============================] - 1s 21ms/step - loss: 0.0012 - val_loss: 3.3985e-04\n",
            "Epoch 79/250\n",
            "36/36 [==============================] - 1s 21ms/step - loss: 0.0011 - val_loss: 3.4192e-04\n",
            "Epoch 80/250\n",
            "36/36 [==============================] - 1s 21ms/step - loss: 0.0011 - val_loss: 3.2505e-04\n",
            "Epoch 81/250\n",
            "36/36 [==============================] - 1s 22ms/step - loss: 0.0012 - val_loss: 4.3530e-04\n",
            "Epoch 82/250\n",
            "36/36 [==============================] - 1s 22ms/step - loss: 0.0014 - val_loss: 3.6122e-04\n",
            "Epoch 83/250\n",
            "36/36 [==============================] - 1s 21ms/step - loss: 9.8112e-04 - val_loss: 3.6762e-04\n",
            "Epoch 84/250\n",
            "36/36 [==============================] - 1s 21ms/step - loss: 0.0011 - val_loss: 5.8277e-04\n",
            "Epoch 85/250\n",
            "36/36 [==============================] - 1s 23ms/step - loss: 0.0011 - val_loss: 5.3981e-04\n",
            "Epoch 86/250\n",
            "36/36 [==============================] - 1s 24ms/step - loss: 0.0013 - val_loss: 7.2006e-04\n",
            "Epoch 87/250\n",
            "36/36 [==============================] - 1s 24ms/step - loss: 0.0013 - val_loss: 3.6837e-04\n",
            "Epoch 88/250\n",
            "36/36 [==============================] - 1s 22ms/step - loss: 0.0011 - val_loss: 5.1353e-04\n",
            "Epoch 89/250\n",
            "36/36 [==============================] - 1s 20ms/step - loss: 0.0015 - val_loss: 4.1766e-04\n",
            "Epoch 90/250\n",
            "36/36 [==============================] - 1s 21ms/step - loss: 0.0011 - val_loss: 3.2704e-04\n",
            "Epoch 91/250\n",
            "36/36 [==============================] - 1s 21ms/step - loss: 0.0011 - val_loss: 3.3696e-04\n",
            "Epoch 92/250\n",
            "36/36 [==============================] - 1s 21ms/step - loss: 0.0012 - val_loss: 4.0691e-04\n",
            "Epoch 93/250\n",
            "36/36 [==============================] - 1s 21ms/step - loss: 0.0011 - val_loss: 3.6237e-04\n",
            "Epoch 94/250\n",
            "36/36 [==============================] - 1s 22ms/step - loss: 0.0011 - val_loss: 3.8923e-04\n",
            "Epoch 95/250\n",
            "36/36 [==============================] - 1s 21ms/step - loss: 0.0011 - val_loss: 3.2279e-04\n",
            "Epoch 96/250\n",
            "36/36 [==============================] - 1s 22ms/step - loss: 0.0011 - val_loss: 5.3875e-04\n",
            "Epoch 97/250\n",
            "36/36 [==============================] - 1s 21ms/step - loss: 0.0011 - val_loss: 3.5105e-04\n",
            "Epoch 98/250\n",
            "36/36 [==============================] - 1s 22ms/step - loss: 0.0012 - val_loss: 6.8774e-04\n",
            "Epoch 99/250\n",
            "36/36 [==============================] - 1s 20ms/step - loss: 0.0012 - val_loss: 4.0381e-04\n",
            "Epoch 100/250\n",
            "36/36 [==============================] - 1s 22ms/step - loss: 0.0011 - val_loss: 8.5045e-04\n",
            "Epoch 101/250\n",
            "36/36 [==============================] - 1s 23ms/step - loss: 0.0019 - val_loss: 3.7376e-04\n",
            "Epoch 102/250\n",
            "36/36 [==============================] - 1s 22ms/step - loss: 0.0012 - val_loss: 3.3102e-04\n",
            "Epoch 103/250\n",
            "36/36 [==============================] - 1s 21ms/step - loss: 0.0011 - val_loss: 5.1712e-04\n",
            "Epoch 104/250\n",
            "36/36 [==============================] - 1s 21ms/step - loss: 9.7009e-04 - val_loss: 3.3124e-04\n",
            "Epoch 105/250\n",
            "36/36 [==============================] - 1s 22ms/step - loss: 9.8080e-04 - val_loss: 4.2155e-04\n",
            "Epoch 106/250\n",
            "36/36 [==============================] - 1s 23ms/step - loss: 0.0013 - val_loss: 3.0051e-04\n",
            "Epoch 107/250\n",
            "36/36 [==============================] - 1s 21ms/step - loss: 9.9786e-04 - val_loss: 3.7586e-04\n",
            "Epoch 108/250\n",
            "36/36 [==============================] - 1s 20ms/step - loss: 9.8236e-04 - val_loss: 3.2605e-04\n",
            "Epoch 109/250\n",
            "36/36 [==============================] - 1s 20ms/step - loss: 0.0011 - val_loss: 3.0669e-04\n",
            "Epoch 110/250\n",
            "36/36 [==============================] - 1s 21ms/step - loss: 0.0010 - val_loss: 7.7392e-04\n",
            "Epoch 111/250\n",
            "36/36 [==============================] - 1s 22ms/step - loss: 0.0010 - val_loss: 3.3859e-04\n",
            "Epoch 112/250\n",
            "36/36 [==============================] - 1s 21ms/step - loss: 9.8604e-04 - val_loss: 3.2764e-04\n",
            "Epoch 113/250\n",
            "36/36 [==============================] - 1s 21ms/step - loss: 0.0010 - val_loss: 3.1958e-04\n",
            "Epoch 114/250\n",
            "36/36 [==============================] - 1s 22ms/step - loss: 0.0010 - val_loss: 2.9960e-04\n",
            "Epoch 115/250\n",
            "36/36 [==============================] - 1s 22ms/step - loss: 9.6340e-04 - val_loss: 3.3593e-04\n",
            "Epoch 116/250\n",
            "36/36 [==============================] - 1s 20ms/step - loss: 8.6680e-04 - val_loss: 3.0078e-04\n",
            "Epoch 117/250\n",
            "36/36 [==============================] - 1s 22ms/step - loss: 9.7728e-04 - val_loss: 2.7929e-04\n",
            "Epoch 118/250\n",
            "36/36 [==============================] - 1s 20ms/step - loss: 0.0011 - val_loss: 3.2743e-04\n",
            "Epoch 119/250\n",
            "36/36 [==============================] - 1s 21ms/step - loss: 0.0010 - val_loss: 3.0028e-04\n",
            "Epoch 120/250\n",
            "36/36 [==============================] - 1s 21ms/step - loss: 0.0012 - val_loss: 4.9508e-04\n",
            "Epoch 121/250\n",
            "36/36 [==============================] - 1s 20ms/step - loss: 9.4208e-04 - val_loss: 2.8249e-04\n",
            "Epoch 122/250\n",
            "36/36 [==============================] - 1s 22ms/step - loss: 9.3367e-04 - val_loss: 4.8598e-04\n",
            "Epoch 123/250\n",
            "36/36 [==============================] - 1s 21ms/step - loss: 0.0015 - val_loss: 3.2440e-04\n",
            "Epoch 124/250\n",
            "36/36 [==============================] - 1s 23ms/step - loss: 0.0011 - val_loss: 4.1577e-04\n",
            "Epoch 125/250\n",
            "36/36 [==============================] - 1s 22ms/step - loss: 0.0011 - val_loss: 3.2558e-04\n",
            "Epoch 126/250\n",
            "36/36 [==============================] - 1s 22ms/step - loss: 0.0011 - val_loss: 3.1170e-04\n",
            "Epoch 127/250\n",
            "36/36 [==============================] - 1s 21ms/step - loss: 9.7597e-04 - val_loss: 3.8179e-04\n",
            "Epoch 128/250\n",
            "36/36 [==============================] - 1s 22ms/step - loss: 0.0015 - val_loss: 3.3802e-04\n",
            "Epoch 129/250\n",
            "36/36 [==============================] - 1s 21ms/step - loss: 0.0015 - val_loss: 3.4075e-04\n",
            "Epoch 130/250\n",
            "36/36 [==============================] - 1s 22ms/step - loss: 9.7350e-04 - val_loss: 3.0311e-04\n",
            "Epoch 131/250\n",
            "36/36 [==============================] - 1s 21ms/step - loss: 9.5378e-04 - val_loss: 5.4508e-04\n",
            "Epoch 132/250\n",
            "36/36 [==============================] - 1s 21ms/step - loss: 9.3810e-04 - val_loss: 3.7475e-04\n"
          ]
        },
        {
          "output_type": "execute_result",
          "data": {
            "text/plain": [
              "<keras.callbacks.History at 0x7f8ca6f403d0>"
            ]
          },
          "metadata": {},
          "execution_count": 41
        }
      ]
    },
    {
      "cell_type": "markdown",
      "source": [
        "###Előrejelzés"
      ],
      "metadata": {
        "id": "7t5uC68Bhokr"
      }
    },
    {
      "cell_type": "code",
      "source": [
        "dataset_test = pd.read_csv('/content/drive/My Drive/FAKT_ML/tesla.csv')\n",
        "real_stock_price = dataset_test.iloc[:, 6:7].values"
      ],
      "metadata": {
        "id": "YDGvgrFghqU0"
      },
      "execution_count": 47,
      "outputs": []
    },
    {
      "cell_type": "code",
      "source": [
        "real_stock_price"
      ],
      "metadata": {
        "colab": {
          "base_uri": "https://localhost:8080/"
        },
        "id": "WliaNewRh6mz",
        "outputId": "294a651e-1b9d-4b6e-aa4a-3fdd5db84212"
      },
      "execution_count": 48,
      "outputs": [
        {
          "output_type": "execute_result",
          "data": {
            "text/plain": [
              "array([[  44.681999],\n",
              "       [  44.686001],\n",
              "       [  43.807999],\n",
              "       ...,\n",
              "       [1013.919983],\n",
              "       [1010.640015],\n",
              "       [1010.640015]])"
            ]
          },
          "metadata": {},
          "execution_count": 48
        }
      ]
    },
    {
      "cell_type": "code",
      "source": [
        "dataset_total = pd.concat((dataset_train['TSLA.Close'], dataset_test['TSLA.Close']), axis = 0)\n",
        "inputs = dataset_total[len(dataset_total) - len(dataset_test) - 60:].values\n",
        "inputs = inputs.reshape(-1,1)\n",
        "inputs = sc.transform(inputs)\n",
        "x_test = []\n",
        "for i in range(60, 76):\n",
        "x_test.append(inputs[i-60:i, 0]) #ez nem tetszik neki\n",
        "x_test = np.array(x_test)\n",
        "x_test = np.reshape(x_test, (x_test.shape[0], x_test.shape[1], 1))\n",
        "predicted_stock_price = model.predict(x_test)\n",
        "predicted_stock_price = sc.inverse_transform(predicted_stock_price)"
      ],
      "metadata": {
        "colab": {
          "base_uri": "https://localhost:8080/",
          "height": 131
        },
        "id": "vIURFUCGiJHH",
        "outputId": "d375ec10-27a0-4020-dffa-5cf663369ac1"
      },
      "execution_count": 50,
      "outputs": [
        {
          "output_type": "error",
          "ename": "IndentationError",
          "evalue": "ignored",
          "traceback": [
            "\u001b[0;36m  File \u001b[0;32m\"<ipython-input-50-ab45436170b7>\"\u001b[0;36m, line \u001b[0;32m7\u001b[0m\n\u001b[0;31m    x_test.append(inputs[i-60:i, 0])\u001b[0m\n\u001b[0m         ^\u001b[0m\n\u001b[0;31mIndentationError\u001b[0m\u001b[0;31m:\u001b[0m expected an indented block\n"
          ]
        }
      ]
    },
    {
      "cell_type": "code",
      "source": [
        "prediction_x=model.predict(real_stock_price)"
      ],
      "metadata": {
        "colab": {
          "base_uri": "https://localhost:8080/"
        },
        "id": "9TtK6ubCf-HY",
        "outputId": "07da7b23-a0e3-46ab-a082-2947d8ba0aeb"
      },
      "execution_count": 52,
      "outputs": [
        {
          "output_type": "stream",
          "name": "stdout",
          "text": [
            "WARNING:tensorflow:Model was constructed with shape (None, 10, 1) for input KerasTensor(type_spec=TensorSpec(shape=(None, 10, 1), dtype=tf.float32, name='lstm_4_input'), name='lstm_4_input', description=\"created by layer 'lstm_4_input'\"), but it was called on an input with incompatible shape (None, 1, 1).\n"
          ]
        }
      ]
    },
    {
      "cell_type": "code",
      "source": [
        "x_test = np.reshape(x_test, (x_test.shape[0], x_test.shape[1]))\n",
        "prediction_x = np.reshape(prediction_x, (prediction_x.shape[0], prediction_x.shape[1], 1))"
      ],
      "metadata": {
        "id": "cFu0g0BpgDLL"
      },
      "execution_count": 53,
      "outputs": []
    },
    {
      "cell_type": "code",
      "source": [
        "plt.plot(x_test, color = 'black', label = 'Tesla Stock Price')\n",
        "plt.plot(prediction_x, color = 'red', label = 'Predicted Tesla Stock Price')\n",
        "plt.title('Tesla Stock Price Prediction')\n",
        "plt.xlabel('Time')\n",
        "plt.ylabel('Tesla Stock Price')\n",
        "plt.legend()\n",
        "plt.show()"
      ],
      "metadata": {
        "colab": {
          "base_uri": "https://localhost:8080/",
          "height": 628
        },
        "id": "ZE2iPeUWgFTL",
        "outputId": "dbb4cc07-efb4-4568-a36d-a42910a33ba4"
      },
      "execution_count": 54,
      "outputs": [
        {
          "output_type": "error",
          "ename": "ValueError",
          "evalue": "ignored",
          "traceback": [
            "\u001b[0;31m---------------------------------------------------------------------------\u001b[0m",
            "\u001b[0;31mValueError\u001b[0m                                Traceback (most recent call last)",
            "\u001b[0;32m<ipython-input-54-e828b6de05ca>\u001b[0m in \u001b[0;36m<module>\u001b[0;34m()\u001b[0m\n\u001b[1;32m      1\u001b[0m \u001b[0mplt\u001b[0m\u001b[0;34m.\u001b[0m\u001b[0mplot\u001b[0m\u001b[0;34m(\u001b[0m\u001b[0mx_test\u001b[0m\u001b[0;34m,\u001b[0m \u001b[0mcolor\u001b[0m \u001b[0;34m=\u001b[0m \u001b[0;34m'black'\u001b[0m\u001b[0;34m,\u001b[0m \u001b[0mlabel\u001b[0m \u001b[0;34m=\u001b[0m \u001b[0;34m'Tesla Stock Price'\u001b[0m\u001b[0;34m)\u001b[0m\u001b[0;34m\u001b[0m\u001b[0;34m\u001b[0m\u001b[0m\n\u001b[0;32m----> 2\u001b[0;31m \u001b[0mplt\u001b[0m\u001b[0;34m.\u001b[0m\u001b[0mplot\u001b[0m\u001b[0;34m(\u001b[0m\u001b[0mprediction_x\u001b[0m\u001b[0;34m,\u001b[0m \u001b[0mcolor\u001b[0m \u001b[0;34m=\u001b[0m \u001b[0;34m'red'\u001b[0m\u001b[0;34m,\u001b[0m \u001b[0mlabel\u001b[0m \u001b[0;34m=\u001b[0m \u001b[0;34m'Predicted Tesla Stock Price'\u001b[0m\u001b[0;34m)\u001b[0m\u001b[0;34m\u001b[0m\u001b[0;34m\u001b[0m\u001b[0m\n\u001b[0m\u001b[1;32m      3\u001b[0m \u001b[0mplt\u001b[0m\u001b[0;34m.\u001b[0m\u001b[0mtitle\u001b[0m\u001b[0;34m(\u001b[0m\u001b[0;34m'Tesla Stock Price Prediction'\u001b[0m\u001b[0;34m)\u001b[0m\u001b[0;34m\u001b[0m\u001b[0;34m\u001b[0m\u001b[0m\n\u001b[1;32m      4\u001b[0m \u001b[0mplt\u001b[0m\u001b[0;34m.\u001b[0m\u001b[0mxlabel\u001b[0m\u001b[0;34m(\u001b[0m\u001b[0;34m'Time'\u001b[0m\u001b[0;34m)\u001b[0m\u001b[0;34m\u001b[0m\u001b[0;34m\u001b[0m\u001b[0m\n\u001b[1;32m      5\u001b[0m \u001b[0mplt\u001b[0m\u001b[0;34m.\u001b[0m\u001b[0mylabel\u001b[0m\u001b[0;34m(\u001b[0m\u001b[0;34m'Tesla Stock Price'\u001b[0m\u001b[0;34m)\u001b[0m\u001b[0;34m\u001b[0m\u001b[0;34m\u001b[0m\u001b[0m\n",
            "\u001b[0;32m/usr/local/lib/python3.7/dist-packages/matplotlib/pyplot.py\u001b[0m in \u001b[0;36mplot\u001b[0;34m(scalex, scaley, data, *args, **kwargs)\u001b[0m\n\u001b[1;32m   2761\u001b[0m     return gca().plot(\n\u001b[1;32m   2762\u001b[0m         *args, scalex=scalex, scaley=scaley, **({\"data\": data} if data\n\u001b[0;32m-> 2763\u001b[0;31m         is not None else {}), **kwargs)\n\u001b[0m\u001b[1;32m   2764\u001b[0m \u001b[0;34m\u001b[0m\u001b[0m\n\u001b[1;32m   2765\u001b[0m \u001b[0;34m\u001b[0m\u001b[0m\n",
            "\u001b[0;32m/usr/local/lib/python3.7/dist-packages/matplotlib/axes/_axes.py\u001b[0m in \u001b[0;36mplot\u001b[0;34m(self, scalex, scaley, data, *args, **kwargs)\u001b[0m\n\u001b[1;32m   1645\u001b[0m         \"\"\"\n\u001b[1;32m   1646\u001b[0m         \u001b[0mkwargs\u001b[0m \u001b[0;34m=\u001b[0m \u001b[0mcbook\u001b[0m\u001b[0;34m.\u001b[0m\u001b[0mnormalize_kwargs\u001b[0m\u001b[0;34m(\u001b[0m\u001b[0mkwargs\u001b[0m\u001b[0;34m,\u001b[0m \u001b[0mmlines\u001b[0m\u001b[0;34m.\u001b[0m\u001b[0mLine2D\u001b[0m\u001b[0;34m)\u001b[0m\u001b[0;34m\u001b[0m\u001b[0;34m\u001b[0m\u001b[0m\n\u001b[0;32m-> 1647\u001b[0;31m         \u001b[0mlines\u001b[0m \u001b[0;34m=\u001b[0m \u001b[0;34m[\u001b[0m\u001b[0;34m*\u001b[0m\u001b[0mself\u001b[0m\u001b[0;34m.\u001b[0m\u001b[0m_get_lines\u001b[0m\u001b[0;34m(\u001b[0m\u001b[0;34m*\u001b[0m\u001b[0margs\u001b[0m\u001b[0;34m,\u001b[0m \u001b[0mdata\u001b[0m\u001b[0;34m=\u001b[0m\u001b[0mdata\u001b[0m\u001b[0;34m,\u001b[0m \u001b[0;34m**\u001b[0m\u001b[0mkwargs\u001b[0m\u001b[0;34m)\u001b[0m\u001b[0;34m]\u001b[0m\u001b[0;34m\u001b[0m\u001b[0;34m\u001b[0m\u001b[0m\n\u001b[0m\u001b[1;32m   1648\u001b[0m         \u001b[0;32mfor\u001b[0m \u001b[0mline\u001b[0m \u001b[0;32min\u001b[0m \u001b[0mlines\u001b[0m\u001b[0;34m:\u001b[0m\u001b[0;34m\u001b[0m\u001b[0;34m\u001b[0m\u001b[0m\n\u001b[1;32m   1649\u001b[0m             \u001b[0mself\u001b[0m\u001b[0;34m.\u001b[0m\u001b[0madd_line\u001b[0m\u001b[0;34m(\u001b[0m\u001b[0mline\u001b[0m\u001b[0;34m)\u001b[0m\u001b[0;34m\u001b[0m\u001b[0;34m\u001b[0m\u001b[0m\n",
            "\u001b[0;32m/usr/local/lib/python3.7/dist-packages/matplotlib/axes/_base.py\u001b[0m in \u001b[0;36m__call__\u001b[0;34m(self, *args, **kwargs)\u001b[0m\n\u001b[1;32m    214\u001b[0m                 \u001b[0mthis\u001b[0m \u001b[0;34m+=\u001b[0m \u001b[0margs\u001b[0m\u001b[0;34m[\u001b[0m\u001b[0;36m0\u001b[0m\u001b[0;34m]\u001b[0m\u001b[0;34m,\u001b[0m\u001b[0;34m\u001b[0m\u001b[0;34m\u001b[0m\u001b[0m\n\u001b[1;32m    215\u001b[0m                 \u001b[0margs\u001b[0m \u001b[0;34m=\u001b[0m \u001b[0margs\u001b[0m\u001b[0;34m[\u001b[0m\u001b[0;36m1\u001b[0m\u001b[0;34m:\u001b[0m\u001b[0;34m]\u001b[0m\u001b[0;34m\u001b[0m\u001b[0;34m\u001b[0m\u001b[0m\n\u001b[0;32m--> 216\u001b[0;31m             \u001b[0;32myield\u001b[0m \u001b[0;32mfrom\u001b[0m \u001b[0mself\u001b[0m\u001b[0;34m.\u001b[0m\u001b[0m_plot_args\u001b[0m\u001b[0;34m(\u001b[0m\u001b[0mthis\u001b[0m\u001b[0;34m,\u001b[0m \u001b[0mkwargs\u001b[0m\u001b[0;34m)\u001b[0m\u001b[0;34m\u001b[0m\u001b[0;34m\u001b[0m\u001b[0m\n\u001b[0m\u001b[1;32m    217\u001b[0m \u001b[0;34m\u001b[0m\u001b[0m\n\u001b[1;32m    218\u001b[0m     \u001b[0;32mdef\u001b[0m \u001b[0mget_next_color\u001b[0m\u001b[0;34m(\u001b[0m\u001b[0mself\u001b[0m\u001b[0;34m)\u001b[0m\u001b[0;34m:\u001b[0m\u001b[0;34m\u001b[0m\u001b[0;34m\u001b[0m\u001b[0m\n",
            "\u001b[0;32m/usr/local/lib/python3.7/dist-packages/matplotlib/axes/_base.py\u001b[0m in \u001b[0;36m_plot_args\u001b[0;34m(self, tup, kwargs)\u001b[0m\n\u001b[1;32m    343\u001b[0m                              f\"have shapes {x.shape} and {y.shape}\")\n\u001b[1;32m    344\u001b[0m         \u001b[0;32mif\u001b[0m \u001b[0mx\u001b[0m\u001b[0;34m.\u001b[0m\u001b[0mndim\u001b[0m \u001b[0;34m>\u001b[0m \u001b[0;36m2\u001b[0m \u001b[0;32mor\u001b[0m \u001b[0my\u001b[0m\u001b[0;34m.\u001b[0m\u001b[0mndim\u001b[0m \u001b[0;34m>\u001b[0m \u001b[0;36m2\u001b[0m\u001b[0;34m:\u001b[0m\u001b[0;34m\u001b[0m\u001b[0;34m\u001b[0m\u001b[0m\n\u001b[0;32m--> 345\u001b[0;31m             raise ValueError(f\"x and y can be no greater than 2-D, but have \"\n\u001b[0m\u001b[1;32m    346\u001b[0m                              f\"shapes {x.shape} and {y.shape}\")\n\u001b[1;32m    347\u001b[0m         \u001b[0;32mif\u001b[0m \u001b[0mx\u001b[0m\u001b[0;34m.\u001b[0m\u001b[0mndim\u001b[0m \u001b[0;34m==\u001b[0m \u001b[0;36m1\u001b[0m\u001b[0;34m:\u001b[0m\u001b[0;34m\u001b[0m\u001b[0;34m\u001b[0m\u001b[0m\n",
            "\u001b[0;31mValueError\u001b[0m: x and y can be no greater than 2-D, but have shapes (1570,) and (1570, 1, 1)"
          ]
        },
        {
          "output_type": "display_data",
          "data": {
            "text/plain": [
              "<Figure size 432x288 with 1 Axes>"
            ],
            "image/png": "[encoded data removed]"
          },
          "metadata": {
            "needs_background": "light"
          }
        }
      ]
    }
  ]
}