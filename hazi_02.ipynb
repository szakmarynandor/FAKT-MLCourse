{
  "nbformat": 4,
  "nbformat_minor": 0,
  "metadata": {
    "colab": {
      "name": "hazi_02.ipynb",
      "provenance": [],
      "collapsed_sections": [],
      "authorship_tag": "ABX9TyM3x+pYlmb+a0B6WyG8XmHO",
      "include_colab_link": true
    },
    "kernelspec": {
      "name": "python3",
      "display_name": "Python 3"
    },
    "language_info": {
      "name": "python"
    }
  },
  "cells": [
    {
      "cell_type": "markdown",
      "metadata": {
        "id": "view-in-github",
        "colab_type": "text"
      },
      "source": [
        "<a href=\"https://colab.research.google.com/github/szakmarynandor/FAKT-MLCourse/blob/main/hazi_02.ipynb\" target=\"_parent\"><img src=\"https://colab.research.google.com/assets/colab-badge.svg\" alt=\"Open In Colab\"/></a>"
      ]
    },
    {
      "cell_type": "markdown",
      "source": [
        "#2. házi feladat"
      ],
      "metadata": {
        "id": "mjNv_0N-0f88"
      }
    },
    {
      "cell_type": "code",
      "source": [
        "import pandas as pd\n",
        "import numpy as np\n",
        "import matplotlib.pyplot as plt\n",
        "from sklearn.preprocessing import LabelEncoder, StandardScaler\n",
        "from sklearn.model_selection import train_test_split"
      ],
      "metadata": {
        "id": "D39TCJn00b6w"
      },
      "execution_count": 2,
      "outputs": []
    },
    {
      "cell_type": "markdown",
      "source": [
        "##Aktivációs függvények implementálása\n",
        "\n",
        "###Sigmoid"
      ],
      "metadata": {
        "id": "NVXG9Ya00dPB"
      }
    },
    {
      "cell_type": "code",
      "source": [
        "def sig(x):\n",
        " return 1/(1 + np.exp(-x))"
      ],
      "metadata": {
        "id": "YIUBKVDz3nDI"
      },
      "execution_count": 58,
      "outputs": []
    },
    {
      "cell_type": "code",
      "source": [
        "x = np.linspace(-10, 10, 50)   \n",
        "p = sig(x)\n",
        "plt.xlabel(\"x\") \n",
        "plt.ylabel(\"Sigmoid(x)\")  \n",
        "plt.plot(x, p)\n",
        "plt.grid()\n",
        "plt.axvline(x = 0, linestyle = ':', color = 'k', lw=1.2)\n",
        "plt.show()"
      ],
      "metadata": {
        "colab": {
          "base_uri": "https://localhost:8080/",
          "height": 279
        },
        "id": "lCTCNBH414kB",
        "outputId": "a021656c-714c-44ee-bc15-4f831008ea2a"
      },
      "execution_count": 84,
      "outputs": [
        {
          "output_type": "display_data",
          "data": {
            "image/png": "[encoded data removed]",
            "text/plain": [
              "<Figure size 432x288 with 1 Axes>"
            ]
          },
          "metadata": {
            "needs_background": "light"
          }
        }
      ]
    },
    {
      "cell_type": "markdown",
      "source": [
        "##Hyperbolic Tangent"
      ],
      "metadata": {
        "id": "l4LI4_is4eJf"
      }
    },
    {
      "cell_type": "code",
      "source": [
        "def htan(x):\n",
        "  return (np.exp(x) - np.exp(-x))/(np.exp(x) + np.exp(-x))\n",
        "\n",
        "x_data = np.linspace(-6,6,100)\n",
        "y_data = htan(x_data)\n",
        "\n",
        "# Ábrázolás\n",
        "plt.grid()\n",
        "plt.xlabel(\"x\") \n",
        "plt.ylabel(\"Tanh(x)\")  \n",
        "plt.axvline(x = 0, linestyle = '-', color = 'k', lw=1.2)\n",
        "plt.axhline(y = 0, linestyle = '-', color = 'k', lw=1.2)\n",
        "plt.plot(x_data, y_data)\n",
        "plt.show()"
      ],
      "metadata": {
        "colab": {
          "base_uri": "https://localhost:8080/",
          "height": 279
        },
        "id": "n2VNCm919kUG",
        "outputId": "b0916b4c-5894-4d69-b0e5-2dcfb6025f96"
      },
      "execution_count": 86,
      "outputs": [
        {
          "output_type": "display_data",
          "data": {
            "image/png": "[encoded data removed]",
            "text/plain": [
              "<Figure size 432x288 with 1 Axes>"
            ]
          },
          "metadata": {
            "needs_background": "light"
          }
        }
      ]
    },
    {
      "cell_type": "markdown",
      "source": [
        "##DNN alkalmazása regressziós problémára\n"
      ],
      "metadata": {
        "id": "Jn2hqr9J-uok"
      }
    },
    {
      "cell_type": "markdown",
      "source": [
        "###Adatbázis importálása"
      ],
      "metadata": {
        "id": "SqICX9nyYZ4c"
      }
    },
    {
      "cell_type": "code",
      "source": [
        "from google.colab import drive\n",
        "drive.mount(\"/content/drive\")"
      ],
      "metadata": {
        "colab": {
          "base_uri": "https://localhost:8080/"
        },
        "id": "qBKK0V2R_Hyh",
        "outputId": "994e31d2-8345-4431-f271-5f38f8c0edec"
      },
      "execution_count": 7,
      "outputs": [
        {
          "output_type": "stream",
          "name": "stdout",
          "text": [
            "Mounted at /content/drive\n"
          ]
        }
      ]
    },
    {
      "cell_type": "code",
      "source": [
        "df = pd.read_excel('/content/drive/My Drive/FAKT_ML/Cars.xlsx')"
      ],
      "metadata": {
        "id": "WwDWAPytXPpt"
      },
      "execution_count": 8,
      "outputs": []
    },
    {
      "cell_type": "code",
      "source": [
        "df.shape"
      ],
      "metadata": {
        "colab": {
          "base_uri": "https://localhost:8080/"
        },
        "id": "qS2nZLRjYZIw",
        "outputId": "d94e7304-3fda-48d3-9013-99575a1095ea"
      },
      "execution_count": 13,
      "outputs": [
        {
          "output_type": "execute_result",
          "data": {
            "text/plain": [
              "(317, 7)"
            ]
          },
          "metadata": {},
          "execution_count": 13
        }
      ]
    },
    {
      "cell_type": "code",
      "source": [
        "df.head()"
      ],
      "metadata": {
        "colab": {
          "base_uri": "https://localhost:8080/",
          "height": 206
        },
        "id": "bmv1_shLYy0_",
        "outputId": "bfcee6ec-a7c2-41fe-a2bd-e9e5d6b5c721"
      },
      "execution_count": 14,
      "outputs": [
        {
          "output_type": "execute_result",
          "data": {
            "text/html": [
              "\n",
              "  <div id=\"df-86caf0ba-8aa2-4e9f-96cc-8c341c6e1308\">\n",
              "    <div class=\"colab-df-container\">\n",
              "      <div>\n",
              "<style scoped>\n",
              "    .dataframe tbody tr th:only-of-type {\n",
              "        vertical-align: middle;\n",
              "    }\n",
              "\n",
              "    .dataframe tbody tr th {\n",
              "        vertical-align: top;\n",
              "    }\n",
              "\n",
              "    .dataframe thead th {\n",
              "        text-align: right;\n",
              "    }\n",
              "</style>\n",
              "<table border=\"1\" class=\"dataframe\">\n",
              "  <thead>\n",
              "    <tr style=\"text-align: right;\">\n",
              "      <th></th>\n",
              "      <th>Brand</th>\n",
              "      <th>Fuel</th>\n",
              "      <th>Mileage</th>\n",
              "      <th>Consumption</th>\n",
              "      <th>Age</th>\n",
              "      <th>Power</th>\n",
              "      <th>Price</th>\n",
              "    </tr>\n",
              "  </thead>\n",
              "  <tbody>\n",
              "    <tr>\n",
              "      <th>0</th>\n",
              "      <td>Opel</td>\n",
              "      <td>0</td>\n",
              "      <td>557</td>\n",
              "      <td>10.27</td>\n",
              "      <td>24</td>\n",
              "      <td>53</td>\n",
              "      <td>350</td>\n",
              "    </tr>\n",
              "    <tr>\n",
              "      <th>1</th>\n",
              "      <td>Volkswagen</td>\n",
              "      <td>1</td>\n",
              "      <td>575</td>\n",
              "      <td>12.15</td>\n",
              "      <td>24</td>\n",
              "      <td>46</td>\n",
              "      <td>380</td>\n",
              "    </tr>\n",
              "    <tr>\n",
              "      <th>2</th>\n",
              "      <td>Opel</td>\n",
              "      <td>0</td>\n",
              "      <td>538</td>\n",
              "      <td>11.02</td>\n",
              "      <td>20</td>\n",
              "      <td>48</td>\n",
              "      <td>400</td>\n",
              "    </tr>\n",
              "    <tr>\n",
              "      <th>3</th>\n",
              "      <td>Opel</td>\n",
              "      <td>1</td>\n",
              "      <td>532</td>\n",
              "      <td>13.09</td>\n",
              "      <td>21</td>\n",
              "      <td>50</td>\n",
              "      <td>430</td>\n",
              "    </tr>\n",
              "    <tr>\n",
              "      <th>4</th>\n",
              "      <td>Volkswagen</td>\n",
              "      <td>0</td>\n",
              "      <td>527</td>\n",
              "      <td>10.47</td>\n",
              "      <td>23</td>\n",
              "      <td>57</td>\n",
              "      <td>450</td>\n",
              "    </tr>\n",
              "  </tbody>\n",
              "</table>\n",
              "</div>\n",
              "      <button class=\"colab-df-convert\" onclick=\"convertToInteractive('df-86caf0ba-8aa2-4e9f-96cc-8c341c6e1308')\"\n",
              "              title=\"Convert this dataframe to an interactive table.\"\n",
              "              style=\"display:none;\">\n",
              "        \n",
              "  <svg xmlns=\"http://www.w3.org/2000/svg\" height=\"24px\"viewBox=\"0 0 24 24\"\n",
              "       width=\"24px\">\n",
              "    <path d=\"M0 0h24v24H0V0z\" fill=\"none\"/>\n",
              "    <path d=\"M18.56 5.44l.94 2.06.94-2.06 2.06-.94-2.06-.94-.94-2.06-.94 2.06-2.06.94zm-11 1L8.5 8.5l.94-2.06 2.06-.94-2.06-.94L8.5 2.5l-.94 2.06-2.06.94zm10 10l.94 2.06.94-2.06 2.06-.94-2.06-.94-.94-2.06-.94 2.06-2.06.94z\"/><path d=\"M17.41 7.96l-1.37-1.37c-.4-.4-.92-.59-1.43-.59-.52 0-1.04.2-1.43.59L10.3 9.45l-7.72 7.72c-.78.78-.78 2.05 0 2.83L4 21.41c.39.39.9.59 1.41.59.51 0 1.02-.2 1.41-.59l7.78-7.78 2.81-2.81c.8-.78.8-2.07 0-2.86zM5.41 20L4 18.59l7.72-7.72 1.47 1.35L5.41 20z\"/>\n",
              "  </svg>\n",
              "      </button>\n",
              "      \n",
              "  <style>\n",
              "    .colab-df-container {\n",
              "      display:flex;\n",
              "      flex-wrap:wrap;\n",
              "      gap: 12px;\n",
              "    }\n",
              "\n",
              "    .colab-df-convert {\n",
              "      background-color: #E8F0FE;\n",
              "      border: none;\n",
              "      border-radius: 50%;\n",
              "      cursor: pointer;\n",
              "      display: none;\n",
              "      fill: #1967D2;\n",
              "      height: 32px;\n",
              "      padding: 0 0 0 0;\n",
              "      width: 32px;\n",
              "    }\n",
              "\n",
              "    .colab-df-convert:hover {\n",
              "      background-color: #E2EBFA;\n",
              "      box-shadow: 0px 1px 2px rgba(60, 64, 67, 0.3), 0px 1px 3px 1px rgba(60, 64, 67, 0.15);\n",
              "      fill: #174EA6;\n",
              "    }\n",
              "\n",
              "    [theme=dark] .colab-df-convert {\n",
              "      background-color: #3B4455;\n",
              "      fill: #D2E3FC;\n",
              "    }\n",
              "\n",
              "    [theme=dark] .colab-df-convert:hover {\n",
              "      background-color: #434B5C;\n",
              "      box-shadow: 0px 1px 3px 1px rgba(0, 0, 0, 0.15);\n",
              "      filter: drop-shadow(0px 1px 2px rgba(0, 0, 0, 0.3));\n",
              "      fill: #FFFFFF;\n",
              "    }\n",
              "  </style>\n",
              "\n",
              "      <script>\n",
              "        const buttonEl =\n",
              "          document.querySelector('#df-86caf0ba-8aa2-4e9f-96cc-8c341c6e1308 button.colab-df-convert');\n",
              "        buttonEl.style.display =\n",
              "          google.colab.kernel.accessAllowed ? 'block' : 'none';\n",
              "\n",
              "        async function convertToInteractive(key) {\n",
              "          const element = document.querySelector('#df-86caf0ba-8aa2-4e9f-96cc-8c341c6e1308');\n",
              "          const dataTable =\n",
              "            await google.colab.kernel.invokeFunction('convertToInteractive',\n",
              "                                                     [key], {});\n",
              "          if (!dataTable) return;\n",
              "\n",
              "          const docLinkHtml = 'Like what you see? Visit the ' +\n",
              "            '<a target=\"_blank\" href=https://colab.research.google.com/notebooks/data_table.ipynb>data table notebook</a>'\n",
              "            + ' to learn more about interactive tables.';\n",
              "          element.innerHTML = '';\n",
              "          dataTable['output_type'] = 'display_data';\n",
              "          await google.colab.output.renderOutput(dataTable, element);\n",
              "          const docLink = document.createElement('div');\n",
              "          docLink.innerHTML = docLinkHtml;\n",
              "          element.appendChild(docLink);\n",
              "        }\n",
              "      </script>\n",
              "    </div>\n",
              "  </div>\n",
              "  "
            ],
            "text/plain": [
              "        Brand  Fuel  Mileage  Consumption  Age  Power  Price\n",
              "0        Opel     0      557        10.27   24     53    350\n",
              "1  Volkswagen     1      575        12.15   24     46    380\n",
              "2        Opel     0      538        11.02   20     48    400\n",
              "3        Opel     1      532        13.09   21     50    430\n",
              "4  Volkswagen     0      527        10.47   23     57    450"
            ]
          },
          "metadata": {},
          "execution_count": 14
        }
      ]
    },
    {
      "cell_type": "markdown",
      "source": [
        "###Hiányzó értékek vizsgálata"
      ],
      "metadata": {
        "id": "Qq0FYj1KY6c8"
      }
    },
    {
      "cell_type": "code",
      "source": [
        "df.isna().sum()"
      ],
      "metadata": {
        "colab": {
          "base_uri": "https://localhost:8080/"
        },
        "id": "uoaZD1ucY5yn",
        "outputId": "9a311fcd-c673-4a7c-cdaf-fcfc908eab1a"
      },
      "execution_count": 15,
      "outputs": [
        {
          "output_type": "execute_result",
          "data": {
            "text/plain": [
              "Brand          0\n",
              "Fuel           0\n",
              "Mileage        0\n",
              "Consumption    0\n",
              "Age            0\n",
              "Power          0\n",
              "Price          0\n",
              "dtype: int64"
            ]
          },
          "metadata": {},
          "execution_count": 15
        }
      ]
    },
    {
      "cell_type": "markdown",
      "source": [
        "###Szöveges kategorikus változó átalakítása"
      ],
      "metadata": {
        "id": "qamYlgW1ZEdO"
      }
    },
    {
      "cell_type": "code",
      "source": [
        "labeler = LabelEncoder()\n",
        "labeler.fit(df.Brand)"
      ],
      "metadata": {
        "colab": {
          "base_uri": "https://localhost:8080/"
        },
        "id": "GIF-GfEdc0ZL",
        "outputId": "08044486-72c4-4d9e-a814-7ee37d6f1b72"
      },
      "execution_count": 17,
      "outputs": [
        {
          "output_type": "execute_result",
          "data": {
            "text/plain": [
              "LabelEncoder()"
            ]
          },
          "metadata": {},
          "execution_count": 17
        }
      ]
    },
    {
      "cell_type": "code",
      "source": [
        "df.Brand = labeler.transform(df.Brand)"
      ],
      "metadata": {
        "id": "5sO9zHr0cnQH"
      },
      "execution_count": 18,
      "outputs": []
    },
    {
      "cell_type": "code",
      "source": [
        "df.head()"
      ],
      "metadata": {
        "colab": {
          "base_uri": "https://localhost:8080/",
          "height": 206
        },
        "id": "19EcKN84c9eP",
        "outputId": "08ceca68-e73b-41a9-83a3-dc87606ac91d"
      },
      "execution_count": 19,
      "outputs": [
        {
          "output_type": "execute_result",
          "data": {
            "text/html": [
              "\n",
              "  <div id=\"df-a6017e18-a773-4152-88b9-8bf7d0751284\">\n",
              "    <div class=\"colab-df-container\">\n",
              "      <div>\n",
              "<style scoped>\n",
              "    .dataframe tbody tr th:only-of-type {\n",
              "        vertical-align: middle;\n",
              "    }\n",
              "\n",
              "    .dataframe tbody tr th {\n",
              "        vertical-align: top;\n",
              "    }\n",
              "\n",
              "    .dataframe thead th {\n",
              "        text-align: right;\n",
              "    }\n",
              "</style>\n",
              "<table border=\"1\" class=\"dataframe\">\n",
              "  <thead>\n",
              "    <tr style=\"text-align: right;\">\n",
              "      <th></th>\n",
              "      <th>Brand</th>\n",
              "      <th>Fuel</th>\n",
              "      <th>Mileage</th>\n",
              "      <th>Consumption</th>\n",
              "      <th>Age</th>\n",
              "      <th>Power</th>\n",
              "      <th>Price</th>\n",
              "    </tr>\n",
              "  </thead>\n",
              "  <tbody>\n",
              "    <tr>\n",
              "      <th>0</th>\n",
              "      <td>3</td>\n",
              "      <td>0</td>\n",
              "      <td>557</td>\n",
              "      <td>10.27</td>\n",
              "      <td>24</td>\n",
              "      <td>53</td>\n",
              "      <td>350</td>\n",
              "    </tr>\n",
              "    <tr>\n",
              "      <th>1</th>\n",
              "      <td>4</td>\n",
              "      <td>1</td>\n",
              "      <td>575</td>\n",
              "      <td>12.15</td>\n",
              "      <td>24</td>\n",
              "      <td>46</td>\n",
              "      <td>380</td>\n",
              "    </tr>\n",
              "    <tr>\n",
              "      <th>2</th>\n",
              "      <td>3</td>\n",
              "      <td>0</td>\n",
              "      <td>538</td>\n",
              "      <td>11.02</td>\n",
              "      <td>20</td>\n",
              "      <td>48</td>\n",
              "      <td>400</td>\n",
              "    </tr>\n",
              "    <tr>\n",
              "      <th>3</th>\n",
              "      <td>3</td>\n",
              "      <td>1</td>\n",
              "      <td>532</td>\n",
              "      <td>13.09</td>\n",
              "      <td>21</td>\n",
              "      <td>50</td>\n",
              "      <td>430</td>\n",
              "    </tr>\n",
              "    <tr>\n",
              "      <th>4</th>\n",
              "      <td>4</td>\n",
              "      <td>0</td>\n",
              "      <td>527</td>\n",
              "      <td>10.47</td>\n",
              "      <td>23</td>\n",
              "      <td>57</td>\n",
              "      <td>450</td>\n",
              "    </tr>\n",
              "  </tbody>\n",
              "</table>\n",
              "</div>\n",
              "      <button class=\"colab-df-convert\" onclick=\"convertToInteractive('df-a6017e18-a773-4152-88b9-8bf7d0751284')\"\n",
              "              title=\"Convert this dataframe to an interactive table.\"\n",
              "              style=\"display:none;\">\n",
              "        \n",
              "  <svg xmlns=\"http://www.w3.org/2000/svg\" height=\"24px\"viewBox=\"0 0 24 24\"\n",
              "       width=\"24px\">\n",
              "    <path d=\"M0 0h24v24H0V0z\" fill=\"none\"/>\n",
              "    <path d=\"M18.56 5.44l.94 2.06.94-2.06 2.06-.94-2.06-.94-.94-2.06-.94 2.06-2.06.94zm-11 1L8.5 8.5l.94-2.06 2.06-.94-2.06-.94L8.5 2.5l-.94 2.06-2.06.94zm10 10l.94 2.06.94-2.06 2.06-.94-2.06-.94-.94-2.06-.94 2.06-2.06.94z\"/><path d=\"M17.41 7.96l-1.37-1.37c-.4-.4-.92-.59-1.43-.59-.52 0-1.04.2-1.43.59L10.3 9.45l-7.72 7.72c-.78.78-.78 2.05 0 2.83L4 21.41c.39.39.9.59 1.41.59.51 0 1.02-.2 1.41-.59l7.78-7.78 2.81-2.81c.8-.78.8-2.07 0-2.86zM5.41 20L4 18.59l7.72-7.72 1.47 1.35L5.41 20z\"/>\n",
              "  </svg>\n",
              "      </button>\n",
              "      \n",
              "  <style>\n",
              "    .colab-df-container {\n",
              "      display:flex;\n",
              "      flex-wrap:wrap;\n",
              "      gap: 12px;\n",
              "    }\n",
              "\n",
              "    .colab-df-convert {\n",
              "      background-color: #E8F0FE;\n",
              "      border: none;\n",
              "      border-radius: 50%;\n",
              "      cursor: pointer;\n",
              "      display: none;\n",
              "      fill: #1967D2;\n",
              "      height: 32px;\n",
              "      padding: 0 0 0 0;\n",
              "      width: 32px;\n",
              "    }\n",
              "\n",
              "    .colab-df-convert:hover {\n",
              "      background-color: #E2EBFA;\n",
              "      box-shadow: 0px 1px 2px rgba(60, 64, 67, 0.3), 0px 1px 3px 1px rgba(60, 64, 67, 0.15);\n",
              "      fill: #174EA6;\n",
              "    }\n",
              "\n",
              "    [theme=dark] .colab-df-convert {\n",
              "      background-color: #3B4455;\n",
              "      fill: #D2E3FC;\n",
              "    }\n",
              "\n",
              "    [theme=dark] .colab-df-convert:hover {\n",
              "      background-color: #434B5C;\n",
              "      box-shadow: 0px 1px 3px 1px rgba(0, 0, 0, 0.15);\n",
              "      filter: drop-shadow(0px 1px 2px rgba(0, 0, 0, 0.3));\n",
              "      fill: #FFFFFF;\n",
              "    }\n",
              "  </style>\n",
              "\n",
              "      <script>\n",
              "        const buttonEl =\n",
              "          document.querySelector('#df-a6017e18-a773-4152-88b9-8bf7d0751284 button.colab-df-convert');\n",
              "        buttonEl.style.display =\n",
              "          google.colab.kernel.accessAllowed ? 'block' : 'none';\n",
              "\n",
              "        async function convertToInteractive(key) {\n",
              "          const element = document.querySelector('#df-a6017e18-a773-4152-88b9-8bf7d0751284');\n",
              "          const dataTable =\n",
              "            await google.colab.kernel.invokeFunction('convertToInteractive',\n",
              "                                                     [key], {});\n",
              "          if (!dataTable) return;\n",
              "\n",
              "          const docLinkHtml = 'Like what you see? Visit the ' +\n",
              "            '<a target=\"_blank\" href=https://colab.research.google.com/notebooks/data_table.ipynb>data table notebook</a>'\n",
              "            + ' to learn more about interactive tables.';\n",
              "          element.innerHTML = '';\n",
              "          dataTable['output_type'] = 'display_data';\n",
              "          await google.colab.output.renderOutput(dataTable, element);\n",
              "          const docLink = document.createElement('div');\n",
              "          docLink.innerHTML = docLinkHtml;\n",
              "          element.appendChild(docLink);\n",
              "        }\n",
              "      </script>\n",
              "    </div>\n",
              "  </div>\n",
              "  "
            ],
            "text/plain": [
              "   Brand  Fuel  Mileage  Consumption  Age  Power  Price\n",
              "0      3     0      557        10.27   24     53    350\n",
              "1      4     1      575        12.15   24     46    380\n",
              "2      3     0      538        11.02   20     48    400\n",
              "3      3     1      532        13.09   21     50    430\n",
              "4      4     0      527        10.47   23     57    450"
            ]
          },
          "metadata": {},
          "execution_count": 19
        }
      ]
    },
    {
      "cell_type": "code",
      "source": [
        "y_df=df.Price\n",
        "x_df = df.copy().drop('Price', axis=1)"
      ],
      "metadata": {
        "id": "TU0jL20MdJOp"
      },
      "execution_count": 21,
      "outputs": []
    },
    {
      "cell_type": "code",
      "source": [
        "y_df.head()"
      ],
      "metadata": {
        "colab": {
          "base_uri": "https://localhost:8080/"
        },
        "id": "8PLvG62pduOM",
        "outputId": "a195ad4f-b4f7-41ef-ed02-6743395513b4"
      },
      "execution_count": 23,
      "outputs": [
        {
          "output_type": "execute_result",
          "data": {
            "text/plain": [
              "0    350\n",
              "1    380\n",
              "2    400\n",
              "3    430\n",
              "4    450\n",
              "Name: Price, dtype: int64"
            ]
          },
          "metadata": {},
          "execution_count": 23
        }
      ]
    },
    {
      "cell_type": "code",
      "source": [
        "x_df.head()"
      ],
      "metadata": {
        "colab": {
          "base_uri": "https://localhost:8080/",
          "height": 206
        },
        "id": "zDa5P0eld1h7",
        "outputId": "423d71c5-168a-4ce7-a289-f2106887e0a8"
      },
      "execution_count": 24,
      "outputs": [
        {
          "output_type": "execute_result",
          "data": {
            "text/html": [
              "\n",
              "  <div id=\"df-71b1bd77-4b82-4e34-9c37-60a784b014b9\">\n",
              "    <div class=\"colab-df-container\">\n",
              "      <div>\n",
              "<style scoped>\n",
              "    .dataframe tbody tr th:only-of-type {\n",
              "        vertical-align: middle;\n",
              "    }\n",
              "\n",
              "    .dataframe tbody tr th {\n",
              "        vertical-align: top;\n",
              "    }\n",
              "\n",
              "    .dataframe thead th {\n",
              "        text-align: right;\n",
              "    }\n",
              "</style>\n",
              "<table border=\"1\" class=\"dataframe\">\n",
              "  <thead>\n",
              "    <tr style=\"text-align: right;\">\n",
              "      <th></th>\n",
              "      <th>Brand</th>\n",
              "      <th>Fuel</th>\n",
              "      <th>Mileage</th>\n",
              "      <th>Consumption</th>\n",
              "      <th>Age</th>\n",
              "      <th>Power</th>\n",
              "    </tr>\n",
              "  </thead>\n",
              "  <tbody>\n",
              "    <tr>\n",
              "      <th>0</th>\n",
              "      <td>3</td>\n",
              "      <td>0</td>\n",
              "      <td>557</td>\n",
              "      <td>10.27</td>\n",
              "      <td>24</td>\n",
              "      <td>53</td>\n",
              "    </tr>\n",
              "    <tr>\n",
              "      <th>1</th>\n",
              "      <td>4</td>\n",
              "      <td>1</td>\n",
              "      <td>575</td>\n",
              "      <td>12.15</td>\n",
              "      <td>24</td>\n",
              "      <td>46</td>\n",
              "    </tr>\n",
              "    <tr>\n",
              "      <th>2</th>\n",
              "      <td>3</td>\n",
              "      <td>0</td>\n",
              "      <td>538</td>\n",
              "      <td>11.02</td>\n",
              "      <td>20</td>\n",
              "      <td>48</td>\n",
              "    </tr>\n",
              "    <tr>\n",
              "      <th>3</th>\n",
              "      <td>3</td>\n",
              "      <td>1</td>\n",
              "      <td>532</td>\n",
              "      <td>13.09</td>\n",
              "      <td>21</td>\n",
              "      <td>50</td>\n",
              "    </tr>\n",
              "    <tr>\n",
              "      <th>4</th>\n",
              "      <td>4</td>\n",
              "      <td>0</td>\n",
              "      <td>527</td>\n",
              "      <td>10.47</td>\n",
              "      <td>23</td>\n",
              "      <td>57</td>\n",
              "    </tr>\n",
              "  </tbody>\n",
              "</table>\n",
              "</div>\n",
              "      <button class=\"colab-df-convert\" onclick=\"convertToInteractive('df-71b1bd77-4b82-4e34-9c37-60a784b014b9')\"\n",
              "              title=\"Convert this dataframe to an interactive table.\"\n",
              "              style=\"display:none;\">\n",
              "        \n",
              "  <svg xmlns=\"http://www.w3.org/2000/svg\" height=\"24px\"viewBox=\"0 0 24 24\"\n",
              "       width=\"24px\">\n",
              "    <path d=\"M0 0h24v24H0V0z\" fill=\"none\"/>\n",
              "    <path d=\"M18.56 5.44l.94 2.06.94-2.06 2.06-.94-2.06-.94-.94-2.06-.94 2.06-2.06.94zm-11 1L8.5 8.5l.94-2.06 2.06-.94-2.06-.94L8.5 2.5l-.94 2.06-2.06.94zm10 10l.94 2.06.94-2.06 2.06-.94-2.06-.94-.94-2.06-.94 2.06-2.06.94z\"/><path d=\"M17.41 7.96l-1.37-1.37c-.4-.4-.92-.59-1.43-.59-.52 0-1.04.2-1.43.59L10.3 9.45l-7.72 7.72c-.78.78-.78 2.05 0 2.83L4 21.41c.39.39.9.59 1.41.59.51 0 1.02-.2 1.41-.59l7.78-7.78 2.81-2.81c.8-.78.8-2.07 0-2.86zM5.41 20L4 18.59l7.72-7.72 1.47 1.35L5.41 20z\"/>\n",
              "  </svg>\n",
              "      </button>\n",
              "      \n",
              "  <style>\n",
              "    .colab-df-container {\n",
              "      display:flex;\n",
              "      flex-wrap:wrap;\n",
              "      gap: 12px;\n",
              "    }\n",
              "\n",
              "    .colab-df-convert {\n",
              "      background-color: #E8F0FE;\n",
              "      border: none;\n",
              "      border-radius: 50%;\n",
              "      cursor: pointer;\n",
              "      display: none;\n",
              "      fill: #1967D2;\n",
              "      height: 32px;\n",
              "      padding: 0 0 0 0;\n",
              "      width: 32px;\n",
              "    }\n",
              "\n",
              "    .colab-df-convert:hover {\n",
              "      background-color: #E2EBFA;\n",
              "      box-shadow: 0px 1px 2px rgba(60, 64, 67, 0.3), 0px 1px 3px 1px rgba(60, 64, 67, 0.15);\n",
              "      fill: #174EA6;\n",
              "    }\n",
              "\n",
              "    [theme=dark] .colab-df-convert {\n",
              "      background-color: #3B4455;\n",
              "      fill: #D2E3FC;\n",
              "    }\n",
              "\n",
              "    [theme=dark] .colab-df-convert:hover {\n",
              "      background-color: #434B5C;\n",
              "      box-shadow: 0px 1px 3px 1px rgba(0, 0, 0, 0.15);\n",
              "      filter: drop-shadow(0px 1px 2px rgba(0, 0, 0, 0.3));\n",
              "      fill: #FFFFFF;\n",
              "    }\n",
              "  </style>\n",
              "\n",
              "      <script>\n",
              "        const buttonEl =\n",
              "          document.querySelector('#df-71b1bd77-4b82-4e34-9c37-60a784b014b9 button.colab-df-convert');\n",
              "        buttonEl.style.display =\n",
              "          google.colab.kernel.accessAllowed ? 'block' : 'none';\n",
              "\n",
              "        async function convertToInteractive(key) {\n",
              "          const element = document.querySelector('#df-71b1bd77-4b82-4e34-9c37-60a784b014b9');\n",
              "          const dataTable =\n",
              "            await google.colab.kernel.invokeFunction('convertToInteractive',\n",
              "                                                     [key], {});\n",
              "          if (!dataTable) return;\n",
              "\n",
              "          const docLinkHtml = 'Like what you see? Visit the ' +\n",
              "            '<a target=\"_blank\" href=https://colab.research.google.com/notebooks/data_table.ipynb>data table notebook</a>'\n",
              "            + ' to learn more about interactive tables.';\n",
              "          element.innerHTML = '';\n",
              "          dataTable['output_type'] = 'display_data';\n",
              "          await google.colab.output.renderOutput(dataTable, element);\n",
              "          const docLink = document.createElement('div');\n",
              "          docLink.innerHTML = docLinkHtml;\n",
              "          element.appendChild(docLink);\n",
              "        }\n",
              "      </script>\n",
              "    </div>\n",
              "  </div>\n",
              "  "
            ],
            "text/plain": [
              "   Brand  Fuel  Mileage  Consumption  Age  Power\n",
              "0      3     0      557        10.27   24     53\n",
              "1      4     1      575        12.15   24     46\n",
              "2      3     0      538        11.02   20     48\n",
              "3      3     1      532        13.09   21     50\n",
              "4      4     0      527        10.47   23     57"
            ]
          },
          "metadata": {},
          "execution_count": 24
        }
      ]
    },
    {
      "cell_type": "code",
      "source": [
        "x_train, x_test, y_train, y_test = train_test_split(x_df, y_df, test_size=0.1, shuffle=True)"
      ],
      "metadata": {
        "id": "pylHrBumd4Rv"
      },
      "execution_count": 25,
      "outputs": []
    },
    {
      "cell_type": "code",
      "source": [
        "x_test.shape[0] == y_test.shape[0]"
      ],
      "metadata": {
        "colab": {
          "base_uri": "https://localhost:8080/"
        },
        "id": "7rhkbgOYeBPl",
        "outputId": "f772dce4-ba31-4466-c94f-442114080368"
      },
      "execution_count": 26,
      "outputs": [
        {
          "output_type": "execute_result",
          "data": {
            "text/plain": [
              "True"
            ]
          },
          "metadata": {},
          "execution_count": 26
        }
      ]
    },
    {
      "cell_type": "markdown",
      "source": [
        "###Normalizálás"
      ],
      "metadata": {
        "id": "4BjEkV2WiJUg"
      }
    },
    {
      "cell_type": "code",
      "source": [
        "normalizer = StandardScaler()"
      ],
      "metadata": {
        "id": "MQRuIDILqvlH"
      },
      "execution_count": 27,
      "outputs": []
    },
    {
      "cell_type": "code",
      "source": [
        "normalizer.fit(x_train)"
      ],
      "metadata": {
        "colab": {
          "base_uri": "https://localhost:8080/"
        },
        "id": "ZdMJle8_rVYq",
        "outputId": "62f02ccb-1cf0-4b11-af1f-e1996b9d6d6f"
      },
      "execution_count": 28,
      "outputs": [
        {
          "output_type": "execute_result",
          "data": {
            "text/plain": [
              "StandardScaler()"
            ]
          },
          "metadata": {},
          "execution_count": 28
        }
      ]
    },
    {
      "cell_type": "code",
      "source": [
        "x_train = normalizer.transform(x_train) #alkalmazzuk a normalizálót"
      ],
      "metadata": {
        "id": "TM8fv7QvrvmB"
      },
      "execution_count": 29,
      "outputs": []
    },
    {
      "cell_type": "code",
      "source": [
        "pd.DataFrame(x_train)"
      ],
      "metadata": {
        "colab": {
          "base_uri": "https://localhost:8080/",
          "height": 423
        },
        "id": "t_AbIMcUsAXm",
        "outputId": "fd1d427a-7adb-4dde-85cc-c2c94649c8c2"
      },
      "execution_count": 30,
      "outputs": [
        {
          "output_type": "execute_result",
          "data": {
            "text/html": [
              "\n",
              "  <div id=\"df-2ad05440-a5d8-43ec-a845-b640d6559886\">\n",
              "    <div class=\"colab-df-container\">\n",
              "      <div>\n",
              "<style scoped>\n",
              "    .dataframe tbody tr th:only-of-type {\n",
              "        vertical-align: middle;\n",
              "    }\n",
              "\n",
              "    .dataframe tbody tr th {\n",
              "        vertical-align: top;\n",
              "    }\n",
              "\n",
              "    .dataframe thead th {\n",
              "        text-align: right;\n",
              "    }\n",
              "</style>\n",
              "<table border=\"1\" class=\"dataframe\">\n",
              "  <thead>\n",
              "    <tr style=\"text-align: right;\">\n",
              "      <th></th>\n",
              "      <th>0</th>\n",
              "      <th>1</th>\n",
              "      <th>2</th>\n",
              "      <th>3</th>\n",
              "      <th>4</th>\n",
              "      <th>5</th>\n",
              "    </tr>\n",
              "  </thead>\n",
              "  <tbody>\n",
              "    <tr>\n",
              "      <th>0</th>\n",
              "      <td>1.346564</td>\n",
              "      <td>-1.123345</td>\n",
              "      <td>-0.477403</td>\n",
              "      <td>-1.369969</td>\n",
              "      <td>-0.814972</td>\n",
              "      <td>0.040839</td>\n",
              "    </tr>\n",
              "    <tr>\n",
              "      <th>1</th>\n",
              "      <td>-1.517396</td>\n",
              "      <td>0.890198</td>\n",
              "      <td>-0.714410</td>\n",
              "      <td>-1.639993</td>\n",
              "      <td>-0.100744</td>\n",
              "      <td>0.313756</td>\n",
              "    </tr>\n",
              "    <tr>\n",
              "      <th>2</th>\n",
              "      <td>-1.517396</td>\n",
              "      <td>0.890198</td>\n",
              "      <td>-0.355861</td>\n",
              "      <td>-1.378542</td>\n",
              "      <td>0.327793</td>\n",
              "      <td>0.024785</td>\n",
              "    </tr>\n",
              "    <tr>\n",
              "      <th>3</th>\n",
              "      <td>-0.085416</td>\n",
              "      <td>0.890198</td>\n",
              "      <td>-1.218808</td>\n",
              "      <td>-0.761345</td>\n",
              "      <td>-0.814972</td>\n",
              "      <td>1.405425</td>\n",
              "    </tr>\n",
              "    <tr>\n",
              "      <th>4</th>\n",
              "      <td>1.346564</td>\n",
              "      <td>-1.123345</td>\n",
              "      <td>0.288310</td>\n",
              "      <td>-0.928502</td>\n",
              "      <td>-0.672126</td>\n",
              "      <td>-0.633427</td>\n",
              "    </tr>\n",
              "    <tr>\n",
              "      <th>...</th>\n",
              "      <td>...</td>\n",
              "      <td>...</td>\n",
              "      <td>...</td>\n",
              "      <td>...</td>\n",
              "      <td>...</td>\n",
              "      <td>...</td>\n",
              "    </tr>\n",
              "    <tr>\n",
              "      <th>280</th>\n",
              "      <td>-0.085416</td>\n",
              "      <td>-1.123345</td>\n",
              "      <td>-0.805566</td>\n",
              "      <td>0.241600</td>\n",
              "      <td>-0.814972</td>\n",
              "      <td>0.650889</td>\n",
              "    </tr>\n",
              "    <tr>\n",
              "      <th>281</th>\n",
              "      <td>1.346564</td>\n",
              "      <td>-1.123345</td>\n",
              "      <td>1.594884</td>\n",
              "      <td>0.751645</td>\n",
              "      <td>1.756250</td>\n",
              "      <td>-1.692988</td>\n",
              "    </tr>\n",
              "    <tr>\n",
              "      <th>282</th>\n",
              "      <td>-0.085416</td>\n",
              "      <td>-1.123345</td>\n",
              "      <td>-1.000033</td>\n",
              "      <td>0.164450</td>\n",
              "      <td>-1.529201</td>\n",
              "      <td>1.437533</td>\n",
              "    </tr>\n",
              "    <tr>\n",
              "      <th>283</th>\n",
              "      <td>0.630574</td>\n",
              "      <td>0.890198</td>\n",
              "      <td>0.549625</td>\n",
              "      <td>-1.014224</td>\n",
              "      <td>-0.814972</td>\n",
              "      <td>-1.468233</td>\n",
              "    </tr>\n",
              "    <tr>\n",
              "      <th>284</th>\n",
              "      <td>0.630574</td>\n",
              "      <td>0.890198</td>\n",
              "      <td>1.625269</td>\n",
              "      <td>1.874600</td>\n",
              "      <td>1.470559</td>\n",
              "      <td>-1.805366</td>\n",
              "    </tr>\n",
              "  </tbody>\n",
              "</table>\n",
              "<p>285 rows × 6 columns</p>\n",
              "</div>\n",
              "      <button class=\"colab-df-convert\" onclick=\"convertToInteractive('df-2ad05440-a5d8-43ec-a845-b640d6559886')\"\n",
              "              title=\"Convert this dataframe to an interactive table.\"\n",
              "              style=\"display:none;\">\n",
              "        \n",
              "  <svg xmlns=\"http://www.w3.org/2000/svg\" height=\"24px\"viewBox=\"0 0 24 24\"\n",
              "       width=\"24px\">\n",
              "    <path d=\"M0 0h24v24H0V0z\" fill=\"none\"/>\n",
              "    <path d=\"M18.56 5.44l.94 2.06.94-2.06 2.06-.94-2.06-.94-.94-2.06-.94 2.06-2.06.94zm-11 1L8.5 8.5l.94-2.06 2.06-.94-2.06-.94L8.5 2.5l-.94 2.06-2.06.94zm10 10l.94 2.06.94-2.06 2.06-.94-2.06-.94-.94-2.06-.94 2.06-2.06.94z\"/><path d=\"M17.41 7.96l-1.37-1.37c-.4-.4-.92-.59-1.43-.59-.52 0-1.04.2-1.43.59L10.3 9.45l-7.72 7.72c-.78.78-.78 2.05 0 2.83L4 21.41c.39.39.9.59 1.41.59.51 0 1.02-.2 1.41-.59l7.78-7.78 2.81-2.81c.8-.78.8-2.07 0-2.86zM5.41 20L4 18.59l7.72-7.72 1.47 1.35L5.41 20z\"/>\n",
              "  </svg>\n",
              "      </button>\n",
              "      \n",
              "  <style>\n",
              "    .colab-df-container {\n",
              "      display:flex;\n",
              "      flex-wrap:wrap;\n",
              "      gap: 12px;\n",
              "    }\n",
              "\n",
              "    .colab-df-convert {\n",
              "      background-color: #E8F0FE;\n",
              "      border: none;\n",
              "      border-radius: 50%;\n",
              "      cursor: pointer;\n",
              "      display: none;\n",
              "      fill: #1967D2;\n",
              "      height: 32px;\n",
              "      padding: 0 0 0 0;\n",
              "      width: 32px;\n",
              "    }\n",
              "\n",
              "    .colab-df-convert:hover {\n",
              "      background-color: #E2EBFA;\n",
              "      box-shadow: 0px 1px 2px rgba(60, 64, 67, 0.3), 0px 1px 3px 1px rgba(60, 64, 67, 0.15);\n",
              "      fill: #174EA6;\n",
              "    }\n",
              "\n",
              "    [theme=dark] .colab-df-convert {\n",
              "      background-color: #3B4455;\n",
              "      fill: #D2E3FC;\n",
              "    }\n",
              "\n",
              "    [theme=dark] .colab-df-convert:hover {\n",
              "      background-color: #434B5C;\n",
              "      box-shadow: 0px 1px 3px 1px rgba(0, 0, 0, 0.15);\n",
              "      filter: drop-shadow(0px 1px 2px rgba(0, 0, 0, 0.3));\n",
              "      fill: #FFFFFF;\n",
              "    }\n",
              "  </style>\n",
              "\n",
              "      <script>\n",
              "        const buttonEl =\n",
              "          document.querySelector('#df-2ad05440-a5d8-43ec-a845-b640d6559886 button.colab-df-convert');\n",
              "        buttonEl.style.display =\n",
              "          google.colab.kernel.accessAllowed ? 'block' : 'none';\n",
              "\n",
              "        async function convertToInteractive(key) {\n",
              "          const element = document.querySelector('#df-2ad05440-a5d8-43ec-a845-b640d6559886');\n",
              "          const dataTable =\n",
              "            await google.colab.kernel.invokeFunction('convertToInteractive',\n",
              "                                                     [key], {});\n",
              "          if (!dataTable) return;\n",
              "\n",
              "          const docLinkHtml = 'Like what you see? Visit the ' +\n",
              "            '<a target=\"_blank\" href=https://colab.research.google.com/notebooks/data_table.ipynb>data table notebook</a>'\n",
              "            + ' to learn more about interactive tables.';\n",
              "          element.innerHTML = '';\n",
              "          dataTable['output_type'] = 'display_data';\n",
              "          await google.colab.output.renderOutput(dataTable, element);\n",
              "          const docLink = document.createElement('div');\n",
              "          docLink.innerHTML = docLinkHtml;\n",
              "          element.appendChild(docLink);\n",
              "        }\n",
              "      </script>\n",
              "    </div>\n",
              "  </div>\n",
              "  "
            ],
            "text/plain": [
              "            0         1         2         3         4         5\n",
              "0    1.346564 -1.123345 -0.477403 -1.369969 -0.814972  0.040839\n",
              "1   -1.517396  0.890198 -0.714410 -1.639993 -0.100744  0.313756\n",
              "2   -1.517396  0.890198 -0.355861 -1.378542  0.327793  0.024785\n",
              "3   -0.085416  0.890198 -1.218808 -0.761345 -0.814972  1.405425\n",
              "4    1.346564 -1.123345  0.288310 -0.928502 -0.672126 -0.633427\n",
              "..        ...       ...       ...       ...       ...       ...\n",
              "280 -0.085416 -1.123345 -0.805566  0.241600 -0.814972  0.650889\n",
              "281  1.346564 -1.123345  1.594884  0.751645  1.756250 -1.692988\n",
              "282 -0.085416 -1.123345 -1.000033  0.164450 -1.529201  1.437533\n",
              "283  0.630574  0.890198  0.549625 -1.014224 -0.814972 -1.468233\n",
              "284  0.630574  0.890198  1.625269  1.874600  1.470559 -1.805366\n",
              "\n",
              "[285 rows x 6 columns]"
            ]
          },
          "metadata": {},
          "execution_count": 30
        }
      ]
    },
    {
      "cell_type": "code",
      "source": [
        "x_test = normalizer.transform(x_test)"
      ],
      "metadata": {
        "id": "2ar3dpWzshuP"
      },
      "execution_count": 31,
      "outputs": []
    },
    {
      "cell_type": "markdown",
      "source": [
        "##Architektúra"
      ],
      "metadata": {
        "id": "s16mh4VTjCvv"
      }
    },
    {
      "cell_type": "code",
      "source": [
        "from tensorflow.keras.layers import Input, Dense\n",
        "import keras\n",
        "from tensorflow.keras.utils import plot_model\n",
        "from tensorflow.keras.metrics import BinaryAccuracy"
      ],
      "metadata": {
        "id": "aLtMFPZMjFyP"
      },
      "execution_count": 32,
      "outputs": []
    },
    {
      "cell_type": "code",
      "source": [
        "input = Input(shape=(x_train.shape[1]))\n",
        "x = Dense(8, activation='relu')(input)\n",
        "x = Dense(16, activation='relu')(x)\n",
        "x = Dense(16, activation='relu')(x)\n",
        "output = Dense(1, activation='linear')(x)"
      ],
      "metadata": {
        "id": "3T8I6vZ_jOiN"
      },
      "execution_count": 33,
      "outputs": []
    },
    {
      "cell_type": "code",
      "source": [
        "model = keras.Model(input, output)\n",
        "plot_model(model, show_shapes=True)"
      ],
      "metadata": {
        "colab": {
          "base_uri": "https://localhost:8080/",
          "height": 533
        },
        "id": "5cuyhpk7juyp",
        "outputId": "710efa61-1447-4da6-b28f-5ac091eaa91f"
      },
      "execution_count": 36,
      "outputs": [
        {
          "output_type": "execute_result",
          "data": {
            "image/png": "[encoded data removed]",
            "text/plain": [
              "<IPython.core.display.Image object>"
            ]
          },
          "metadata": {},
          "execution_count": 36
        }
      ]
    },
    {
      "cell_type": "code",
      "source": [
        "model.compile(loss = 'MSE', metrics = ['MeanSquaredError'])"
      ],
      "metadata": {
        "id": "DKOpTLK0j3ta"
      },
      "execution_count": 37,
      "outputs": []
    },
    {
      "cell_type": "code",
      "source": [
        "model.fit(x=x_train, y=y_train, epochs=20)"
      ],
      "metadata": {
        "colab": {
          "base_uri": "https://localhost:8080/"
        },
        "id": "XgxkIUDNkWJe",
        "outputId": "e437ffff-e59d-4abf-ee46-8ee4524cb0a5"
      },
      "execution_count": 38,
      "outputs": [
        {
          "output_type": "stream",
          "name": "stdout",
          "text": [
            "Epoch 1/20\n",
            "9/9 [==============================] - 1s 3ms/step - loss: 9692263.0000 - mean_squared_error: 9692264.0000\n",
            "Epoch 2/20\n",
            "9/9 [==============================] - 0s 3ms/step - loss: 9691066.0000 - mean_squared_error: 9691066.0000\n",
            "Epoch 3/20\n",
            "9/9 [==============================] - 0s 3ms/step - loss: 9689932.0000 - mean_squared_error: 9689932.0000\n",
            "Epoch 4/20\n",
            "9/9 [==============================] - 0s 4ms/step - loss: 9688714.0000 - mean_squared_error: 9688714.0000\n",
            "Epoch 5/20\n",
            "9/9 [==============================] - 0s 3ms/step - loss: 9687359.0000 - mean_squared_error: 9687359.0000\n",
            "Epoch 6/20\n",
            "9/9 [==============================] - 0s 3ms/step - loss: 9685784.0000 - mean_squared_error: 9685784.0000\n",
            "Epoch 7/20\n",
            "9/9 [==============================] - 0s 3ms/step - loss: 9683979.0000 - mean_squared_error: 9683979.0000\n",
            "Epoch 8/20\n",
            "9/9 [==============================] - 0s 3ms/step - loss: 9681854.0000 - mean_squared_error: 9681854.0000\n",
            "Epoch 9/20\n",
            "9/9 [==============================] - 0s 4ms/step - loss: 9679275.0000 - mean_squared_error: 9679275.0000\n",
            "Epoch 10/20\n",
            "9/9 [==============================] - 0s 3ms/step - loss: 9676301.0000 - mean_squared_error: 9676301.0000\n",
            "Epoch 11/20\n",
            "9/9 [==============================] - 0s 3ms/step - loss: 9672858.0000 - mean_squared_error: 9672858.0000\n",
            "Epoch 12/20\n",
            "9/9 [==============================] - 0s 3ms/step - loss: 9668904.0000 - mean_squared_error: 9668904.0000\n",
            "Epoch 13/20\n",
            "9/9 [==============================] - 0s 3ms/step - loss: 9664384.0000 - mean_squared_error: 9664384.0000\n",
            "Epoch 14/20\n",
            "9/9 [==============================] - 0s 3ms/step - loss: 9659186.0000 - mean_squared_error: 9659186.0000\n",
            "Epoch 15/20\n",
            "9/9 [==============================] - 0s 3ms/step - loss: 9653264.0000 - mean_squared_error: 9653264.0000\n",
            "Epoch 16/20\n",
            "9/9 [==============================] - 0s 4ms/step - loss: 9646517.0000 - mean_squared_error: 9646517.0000\n",
            "Epoch 17/20\n",
            "9/9 [==============================] - 0s 4ms/step - loss: 9639002.0000 - mean_squared_error: 9639002.0000\n",
            "Epoch 18/20\n",
            "9/9 [==============================] - 0s 3ms/step - loss: 9630483.0000 - mean_squared_error: 9630483.0000\n",
            "Epoch 19/20\n",
            "9/9 [==============================] - 0s 3ms/step - loss: 9621157.0000 - mean_squared_error: 9621157.0000\n",
            "Epoch 20/20\n",
            "9/9 [==============================] - 0s 2ms/step - loss: 9610749.0000 - mean_squared_error: 9610749.0000\n"
          ]
        },
        {
          "output_type": "execute_result",
          "data": {
            "text/plain": [
              "<keras.callbacks.History at 0x7fd0a34ff150>"
            ]
          },
          "metadata": {},
          "execution_count": 38
        }
      ]
    },
    {
      "cell_type": "code",
      "source": [
        "model.predict(x_test)"
      ],
      "metadata": {
        "colab": {
          "base_uri": "https://localhost:8080/"
        },
        "id": "SKzfKDeskZai",
        "outputId": "f29e5c0a-d34e-474d-fa5d-ecd4e9c5969e"
      },
      "execution_count": 39,
      "outputs": [
        {
          "output_type": "execute_result",
          "data": {
            "text/plain": [
              "array([[13.044724 ],\n",
              "       [10.863022 ],\n",
              "       [13.079163 ],\n",
              "       [12.709276 ],\n",
              "       [19.491545 ],\n",
              "       [14.102538 ],\n",
              "       [10.317851 ],\n",
              "       [14.478822 ],\n",
              "       [13.834979 ],\n",
              "       [17.116163 ],\n",
              "       [ 9.33492  ],\n",
              "       [22.53388  ],\n",
              "       [18.018795 ],\n",
              "       [14.174873 ],\n",
              "       [12.577195 ],\n",
              "       [13.696195 ],\n",
              "       [10.065673 ],\n",
              "       [22.312428 ],\n",
              "       [ 7.9337826],\n",
              "       [ 9.869885 ],\n",
              "       [10.647239 ],\n",
              "       [16.143276 ],\n",
              "       [21.229925 ],\n",
              "       [13.716181 ],\n",
              "       [10.374157 ],\n",
              "       [14.325738 ],\n",
              "       [14.010422 ],\n",
              "       [14.462724 ],\n",
              "       [11.095773 ],\n",
              "       [ 9.574521 ],\n",
              "       [13.698624 ],\n",
              "       [22.53388  ]], dtype=float32)"
            ]
          },
          "metadata": {},
          "execution_count": 39
        }
      ]
    },
    {
      "cell_type": "code",
      "source": [
        "model.evaluate(x=x_test, y=y_test)"
      ],
      "metadata": {
        "colab": {
          "base_uri": "https://localhost:8080/"
        },
        "id": "OwhCZXRKkhMw",
        "outputId": "05a35e9b-6b90-49dc-e563-2c8e83b1c690"
      },
      "execution_count": 40,
      "outputs": [
        {
          "output_type": "stream",
          "name": "stdout",
          "text": [
            "1/1 [==============================] - 0s 185ms/step - loss: 10261207.0000 - mean_squared_error: 10261207.0000\n"
          ]
        },
        {
          "output_type": "execute_result",
          "data": {
            "text/plain": [
              "[10261207.0, 10261207.0]"
            ]
          },
          "metadata": {},
          "execution_count": 40
        }
      ]
    }
  ]
}