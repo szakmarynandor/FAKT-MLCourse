{
  "nbformat": 4,
  "nbformat_minor": 0,
  "metadata": {
    "colab": {
      "name": "ML_hazi07.ipynb",
      "provenance": [],
      "authorship_tag": "ABX9TyNrQQJkHij9yMYMR+i+yLFX",
      "include_colab_link": true
    },
    "kernelspec": {
      "name": "python3",
      "display_name": "Python 3"
    },
    "language_info": {
      "name": "python"
    },
    "accelerator": "GPU"
  },
  "cells": [
    {
      "cell_type": "markdown",
      "metadata": {
        "id": "view-in-github",
        "colab_type": "text"
      },
      "source": [
        "<a href=\"https://colab.research.google.com/github/szakmarynandor/FAKT-MLCourse/blob/main/ML_hazi07.ipynb\" target=\"_parent\"><img src=\"https://colab.research.google.com/assets/colab-badge.svg\" alt=\"Open In Colab\"/></a>"
      ]
    },
    {
      "cell_type": "markdown",
      "source": [
        "# 7. házi feladat"
      ],
      "metadata": {
        "id": "WXvAqK_rg0SF"
      }
    },
    {
      "cell_type": "code",
      "execution_count": 2,
      "metadata": {
        "id": "0L55xnodgqBV"
      },
      "outputs": [],
      "source": [
        "import numpy as np\n",
        "import matplotlib.pyplot as plt\n",
        "import tensorflow as tf\n",
        "from tensorflow.keras import layers\n",
        "from tensorflow.keras.datasets import mnist\n",
        "from tensorflow.keras.models import Model"
      ]
    },
    {
      "cell_type": "markdown",
      "source": [
        "###Adatbázis betöltése"
      ],
      "metadata": {
        "id": "AdV56BGOj0KN"
      }
    },
    {
      "cell_type": "code",
      "source": [
        "(train_data, _), (test_data, _) = mnist.load_data()"
      ],
      "metadata": {
        "colab": {
          "base_uri": "https://localhost:8080/"
        },
        "id": "FVHzXl9yjBOa",
        "outputId": "efa0d54d-1ebb-44e3-ccb2-4ca903ed47b4"
      },
      "execution_count": 3,
      "outputs": [
        {
          "output_type": "stream",
          "name": "stdout",
          "text": [
            "Downloading data from https://storage.googleapis.com/tensorflow/tf-keras-datasets/mnist.npz\n",
            "11493376/11490434 [==============================] - 0s 0us/step\n",
            "11501568/11490434 [==============================] - 0s 0us/step\n"
          ]
        }
      ]
    },
    {
      "cell_type": "code",
      "source": [
        "train_data.shape"
      ],
      "metadata": {
        "colab": {
          "base_uri": "https://localhost:8080/"
        },
        "id": "DmdNOKQSj3LT",
        "outputId": "ba85c654-7528-477a-9e3d-cc9716744a12"
      },
      "execution_count": 4,
      "outputs": [
        {
          "output_type": "execute_result",
          "data": {
            "text/plain": [
              "(60000, 28, 28)"
            ]
          },
          "metadata": {},
          "execution_count": 4
        }
      ]
    },
    {
      "cell_type": "code",
      "source": [
        "test_data.shape"
      ],
      "metadata": {
        "colab": {
          "base_uri": "https://localhost:8080/"
        },
        "id": "1YNCKKgXj79z",
        "outputId": "d41ba3b3-3c80-4538-a4e7-64eea4905420"
      },
      "execution_count": 5,
      "outputs": [
        {
          "output_type": "execute_result",
          "data": {
            "text/plain": [
              "(10000, 28, 28)"
            ]
          },
          "metadata": {},
          "execution_count": 5
        }
      ]
    },
    {
      "cell_type": "code",
      "source": [
        "train_data = train_data.astype(\"float32\") / 255\n",
        "train_data = np.reshape(train_data, (len(train_data), 28, 28, 1))\n",
        "test_data = test_data.astype(\"float32\") / 255\n",
        "test_data = np.reshape(test_data, (len(test_data), 28, 28, 1))"
      ],
      "metadata": {
        "id": "cZwuO48NkGNU"
      },
      "execution_count": 6,
      "outputs": []
    },
    {
      "cell_type": "markdown",
      "source": [
        "###Zaj generálása"
      ],
      "metadata": {
        "id": "IOJ4a0xAkse8"
      }
    },
    {
      "cell_type": "code",
      "source": [
        "def noise(array):\n",
        "    \"\"\"\n",
        "    Random zaj a kepekhez\n",
        "    \"\"\"\n",
        "    noise_factor = 0.4\n",
        "    noisy_array = array + noise_factor * np.random.normal(loc=0.0, scale=1.0, size=array.shape)\n",
        "\n",
        "    return np.clip(noisy_array, 0.0, 1.0)"
      ],
      "metadata": {
        "id": "CGCvUrirkY9R"
      },
      "execution_count": 7,
      "outputs": []
    },
    {
      "cell_type": "code",
      "source": [
        "noisy_train = noise(train_data)\n",
        "noisy_test = noise(test_data)"
      ],
      "metadata": {
        "id": "q0EHCGlJk8JO"
      },
      "execution_count": 8,
      "outputs": []
    },
    {
      "cell_type": "code",
      "source": [
        "noisy_test.shape"
      ],
      "metadata": {
        "colab": {
          "base_uri": "https://localhost:8080/"
        },
        "id": "1nDrAZLDlDvU",
        "outputId": "5794f2a1-959c-4734-fcf5-b134cd6d8ff4"
      },
      "execution_count": 9,
      "outputs": [
        {
          "output_type": "execute_result",
          "data": {
            "text/plain": [
              "(10000, 28, 28, 1)"
            ]
          },
          "metadata": {},
          "execution_count": 9
        }
      ]
    },
    {
      "cell_type": "code",
      "source": [
        "def display(array1, array2):\n",
        "    \"\"\"\n",
        "    10 random kep megjelenitese\n",
        "    \"\"\"\n",
        "\n",
        "    n = 10\n",
        "\n",
        "    indices = np.random.randint(len(array1), size=n)\n",
        "    images1 = array1[indices, :]\n",
        "    images2 = array2[indices, :]\n",
        "\n",
        "    plt.figure(figsize=(20, 4))\n",
        "    for i, (image1, image2) in enumerate(zip(images1, images2)):\n",
        "        ax = plt.subplot(2, n, i + 1)\n",
        "        plt.imshow(image1.reshape(28, 28))\n",
        "        plt.gray()\n",
        "        ax.get_xaxis().set_visible(False)\n",
        "        ax.get_yaxis().set_visible(False)\n",
        "\n",
        "        ax = plt.subplot(2, n, i + 1 + n)\n",
        "        plt.imshow(image2.reshape(28, 28))\n",
        "        plt.gray()\n",
        "        ax.get_xaxis().set_visible(False)\n",
        "        ax.get_yaxis().set_visible(False)\n",
        "\n",
        "    plt.show()"
      ],
      "metadata": {
        "id": "2JVF6ioVlJJl"
      },
      "execution_count": 10,
      "outputs": []
    },
    {
      "cell_type": "code",
      "source": [
        "display(train_data, noisy_train)"
      ],
      "metadata": {
        "colab": {
          "base_uri": "https://localhost:8080/",
          "height": 229
        },
        "id": "rN7Za-_ulaCO",
        "outputId": "07a8653e-17dc-4ce6-e385-6256bd2cbcbf"
      },
      "execution_count": 11,
      "outputs": [
        {
          "output_type": "display_data",
          "data": {
            "text/plain": [
              "<Figure size 1440x288 with 20 Axes>"
            ],
            "image/png": "[encoded data removed]"
          },
          "metadata": {
            "needs_background": "light"
          }
        }
      ]
    },
    {
      "cell_type": "code",
      "source": [
        "input = layers.Input(shape=(28, 28, 1))\n",
        "\n",
        "# Encoder\n",
        "x = layers.Conv2D(32, (3, 3), activation=\"relu\", padding=\"same\")(input)\n",
        "x = layers.MaxPooling2D((2, 2), padding=\"same\")(x)\n",
        "x = layers.Conv2D(32, (3, 3), activation=\"relu\", padding=\"same\")(x)\n",
        "x = layers.MaxPooling2D((2, 2), padding=\"same\")(x)\n",
        "\n",
        "# Decoder\n",
        "x = layers.Conv2DTranspose(32, (3, 3), strides=2, activation=\"relu\", padding=\"same\")(x)\n",
        "x = layers.Conv2DTranspose(32, (3, 3), strides=2, activation=\"relu\", padding=\"same\")(x)\n",
        "x = layers.Conv2D(1, (3, 3), activation=\"sigmoid\", padding=\"same\")(x)\n",
        "\n",
        "# Autoencoder\n",
        "autoencoder = Model(input, x)\n",
        "autoencoder.compile(optimizer=\"adam\", loss=\"binary_crossentropy\")\n",
        "autoencoder.summary()"
      ],
      "metadata": {
        "colab": {
          "base_uri": "https://localhost:8080/"
        },
        "id": "MJ1y93oqlfbc",
        "outputId": "af1d427d-43d5-4678-aa96-aa827ecc8b8c"
      },
      "execution_count": 12,
      "outputs": [
        {
          "output_type": "stream",
          "name": "stdout",
          "text": [
            "Model: \"model\"\n",
            "_________________________________________________________________\n",
            " Layer (type)                Output Shape              Param #   \n",
            "=================================================================\n",
            " input_1 (InputLayer)        [(None, 28, 28, 1)]       0         \n",
            "                                                                 \n",
            " conv2d (Conv2D)             (None, 28, 28, 32)        320       \n",
            "                                                                 \n",
            " max_pooling2d (MaxPooling2D  (None, 14, 14, 32)       0         \n",
            " )                                                               \n",
            "                                                                 \n",
            " conv2d_1 (Conv2D)           (None, 14, 14, 32)        9248      \n",
            "                                                                 \n",
            " max_pooling2d_1 (MaxPooling  (None, 7, 7, 32)         0         \n",
            " 2D)                                                             \n",
            "                                                                 \n",
            " conv2d_transpose (Conv2DTra  (None, 14, 14, 32)       9248      \n",
            " nspose)                                                         \n",
            "                                                                 \n",
            " conv2d_transpose_1 (Conv2DT  (None, 28, 28, 32)       9248      \n",
            " ranspose)                                                       \n",
            "                                                                 \n",
            " conv2d_2 (Conv2D)           (None, 28, 28, 1)         289       \n",
            "                                                                 \n",
            "=================================================================\n",
            "Total params: 28,353\n",
            "Trainable params: 28,353\n",
            "Non-trainable params: 0\n",
            "_________________________________________________________________\n"
          ]
        }
      ]
    },
    {
      "cell_type": "code",
      "source": [
        "autoencoder.fit(\n",
        "    x=train_data,\n",
        "    y=train_data,\n",
        "    epochs=50,\n",
        "    batch_size=128,\n",
        "    shuffle=True,\n",
        "    validation_data=(test_data, test_data)\n",
        ")"
      ],
      "metadata": {
        "colab": {
          "base_uri": "https://localhost:8080/"
        },
        "id": "jWGVNNSgnVv0",
        "outputId": "7aeb6bfc-9577-4da0-b283-ec1e906eb8c5"
      },
      "execution_count": 17,
      "outputs": [
        {
          "output_type": "stream",
          "name": "stdout",
          "text": [
            "Epoch 1/50\n",
            "469/469 [==============================] - 8s 16ms/step - loss: 0.0619 - val_loss: 0.0616\n",
            "Epoch 2/50\n",
            "469/469 [==============================] - 8s 16ms/step - loss: 0.0619 - val_loss: 0.0618\n",
            "Epoch 3/50\n",
            "469/469 [==============================] - 8s 16ms/step - loss: 0.0619 - val_loss: 0.0616\n",
            "Epoch 4/50\n",
            "469/469 [==============================] - 7s 16ms/step - loss: 0.0619 - val_loss: 0.0616\n",
            "Epoch 5/50\n",
            "469/469 [==============================] - 7s 16ms/step - loss: 0.0619 - val_loss: 0.0616\n",
            "Epoch 6/50\n",
            "469/469 [==============================] - 8s 16ms/step - loss: 0.0619 - val_loss: 0.0616\n",
            "Epoch 7/50\n",
            "469/469 [==============================] - 8s 16ms/step - loss: 0.0619 - val_loss: 0.0615\n",
            "Epoch 8/50\n",
            "469/469 [==============================] - 8s 16ms/step - loss: 0.0619 - val_loss: 0.0616\n",
            "Epoch 9/50\n",
            "469/469 [==============================] - 7s 16ms/step - loss: 0.0618 - val_loss: 0.0615\n",
            "Epoch 10/50\n",
            "469/469 [==============================] - 7s 16ms/step - loss: 0.0618 - val_loss: 0.0615\n",
            "Epoch 11/50\n",
            "469/469 [==============================] - 8s 16ms/step - loss: 0.0618 - val_loss: 0.0615\n",
            "Epoch 12/50\n",
            "469/469 [==============================] - 8s 16ms/step - loss: 0.0618 - val_loss: 0.0615\n",
            "Epoch 13/50\n",
            "469/469 [==============================] - 7s 16ms/step - loss: 0.0618 - val_loss: 0.0615\n",
            "Epoch 14/50\n",
            "469/469 [==============================] - 8s 16ms/step - loss: 0.0618 - val_loss: 0.0615\n",
            "Epoch 15/50\n",
            "469/469 [==============================] - 7s 16ms/step - loss: 0.0618 - val_loss: 0.0615\n",
            "Epoch 16/50\n",
            "469/469 [==============================] - 7s 16ms/step - loss: 0.0618 - val_loss: 0.0615\n",
            "Epoch 17/50\n",
            "469/469 [==============================] - 8s 16ms/step - loss: 0.0618 - val_loss: 0.0615\n",
            "Epoch 18/50\n",
            "469/469 [==============================] - 7s 16ms/step - loss: 0.0618 - val_loss: 0.0615\n",
            "Epoch 19/50\n",
            "469/469 [==============================] - 8s 16ms/step - loss: 0.0618 - val_loss: 0.0614\n",
            "Epoch 20/50\n",
            "469/469 [==============================] - 8s 16ms/step - loss: 0.0617 - val_loss: 0.0614\n",
            "Epoch 21/50\n",
            "469/469 [==============================] - 8s 16ms/step - loss: 0.0617 - val_loss: 0.0615\n",
            "Epoch 22/50\n",
            "469/469 [==============================] - 7s 16ms/step - loss: 0.0617 - val_loss: 0.0614\n",
            "Epoch 23/50\n",
            "469/469 [==============================] - 7s 16ms/step - loss: 0.0617 - val_loss: 0.0615\n",
            "Epoch 24/50\n",
            "469/469 [==============================] - 8s 16ms/step - loss: 0.0617 - val_loss: 0.0614\n",
            "Epoch 25/50\n",
            "469/469 [==============================] - 7s 16ms/step - loss: 0.0617 - val_loss: 0.0614\n",
            "Epoch 26/50\n",
            "469/469 [==============================] - 7s 16ms/step - loss: 0.0617 - val_loss: 0.0614\n",
            "Epoch 27/50\n",
            "469/469 [==============================] - 7s 16ms/step - loss: 0.0617 - val_loss: 0.0614\n",
            "Epoch 28/50\n",
            "469/469 [==============================] - 7s 16ms/step - loss: 0.0617 - val_loss: 0.0614\n",
            "Epoch 29/50\n",
            "469/469 [==============================] - 8s 16ms/step - loss: 0.0617 - val_loss: 0.0614\n",
            "Epoch 30/50\n",
            "469/469 [==============================] - 7s 16ms/step - loss: 0.0617 - val_loss: 0.0613\n",
            "Epoch 31/50\n",
            "469/469 [==============================] - 7s 16ms/step - loss: 0.0617 - val_loss: 0.0613\n",
            "Epoch 32/50\n",
            "469/469 [==============================] - 7s 16ms/step - loss: 0.0616 - val_loss: 0.0613\n",
            "Epoch 33/50\n",
            "469/469 [==============================] - 7s 16ms/step - loss: 0.0616 - val_loss: 0.0614\n",
            "Epoch 34/50\n",
            "469/469 [==============================] - 7s 16ms/step - loss: 0.0616 - val_loss: 0.0613\n",
            "Epoch 35/50\n",
            "469/469 [==============================] - 7s 16ms/step - loss: 0.0616 - val_loss: 0.0614\n",
            "Epoch 36/50\n",
            "469/469 [==============================] - 7s 16ms/step - loss: 0.0616 - val_loss: 0.0613\n",
            "Epoch 37/50\n",
            "469/469 [==============================] - 8s 16ms/step - loss: 0.0616 - val_loss: 0.0613\n",
            "Epoch 38/50\n",
            "469/469 [==============================] - 8s 16ms/step - loss: 0.0616 - val_loss: 0.0613\n",
            "Epoch 39/50\n",
            "469/469 [==============================] - 7s 16ms/step - loss: 0.0616 - val_loss: 0.0613\n",
            "Epoch 40/50\n",
            "469/469 [==============================] - 8s 16ms/step - loss: 0.0616 - val_loss: 0.0613\n",
            "Epoch 41/50\n",
            "469/469 [==============================] - 8s 16ms/step - loss: 0.0616 - val_loss: 0.0613\n",
            "Epoch 42/50\n",
            "469/469 [==============================] - 8s 16ms/step - loss: 0.0616 - val_loss: 0.0613\n",
            "Epoch 43/50\n",
            "469/469 [==============================] - 7s 16ms/step - loss: 0.0616 - val_loss: 0.0613\n",
            "Epoch 44/50\n",
            "469/469 [==============================] - 7s 16ms/step - loss: 0.0616 - val_loss: 0.0614\n",
            "Epoch 45/50\n",
            "469/469 [==============================] - 8s 16ms/step - loss: 0.0616 - val_loss: 0.0612\n",
            "Epoch 46/50\n",
            "469/469 [==============================] - 8s 16ms/step - loss: 0.0616 - val_loss: 0.0613\n",
            "Epoch 47/50\n",
            "469/469 [==============================] - 8s 16ms/step - loss: 0.0616 - val_loss: 0.0613\n",
            "Epoch 48/50\n",
            "469/469 [==============================] - 8s 16ms/step - loss: 0.0616 - val_loss: 0.0613\n",
            "Epoch 49/50\n",
            "469/469 [==============================] - 8s 16ms/step - loss: 0.0615 - val_loss: 0.0612\n",
            "Epoch 50/50\n",
            "469/469 [==============================] - 7s 16ms/step - loss: 0.0616 - val_loss: 0.0612\n"
          ]
        },
        {
          "output_type": "execute_result",
          "data": {
            "text/plain": [
              "<keras.callbacks.History at 0x7f306b8d6310>"
            ]
          },
          "metadata": {},
          "execution_count": 17
        }
      ]
    },
    {
      "cell_type": "code",
      "source": [
        "predictions = autoencoder.predict(test_data)\n",
        "display(test_data, predictions)"
      ],
      "metadata": {
        "colab": {
          "base_uri": "https://localhost:8080/",
          "height": 229
        },
        "id": "CFRAXBHFoXGx",
        "outputId": "b442b072-007d-45ae-fb25-1ee3aa3f573b"
      },
      "execution_count": 18,
      "outputs": [
        {
          "output_type": "display_data",
          "data": {
            "text/plain": [
              "<Figure size 1440x288 with 20 Axes>"
            ],
            "image/png": "[encoded data removed]"
          },
          "metadata": {
            "needs_background": "light"
          }
        }
      ]
    },
    {
      "cell_type": "code",
      "source": [
        "from tensorflow.keras.callbacks import EarlyStopping\n",
        "early_stopping_callback = EarlyStopping(patience=10, restore_best_weights=True)"
      ],
      "metadata": {
        "id": "DWpoZR2sqBku"
      },
      "execution_count": 20,
      "outputs": []
    },
    {
      "cell_type": "code",
      "source": [
        "autoencoder.fit(\n",
        "    x=noisy_train,\n",
        "    y=train_data, epochs=50,\n",
        "    batch_size=128,\n",
        "    shuffle=True,\n",
        "    validation_data=(noisy_test, test_data),\n",
        "    callbacks = [early_stopping_callback]\n",
        "    )"
      ],
      "metadata": {
        "colab": {
          "base_uri": "https://localhost:8080/"
        },
        "id": "3TO_Zpjcr5Yq",
        "outputId": "02d01f77-8a4f-4f04-f18f-c4969a1893b7"
      },
      "execution_count": 22,
      "outputs": [
        {
          "output_type": "stream",
          "name": "stdout",
          "text": [
            "Epoch 1/50\n",
            "469/469 [==============================] - 8s 17ms/step - loss: 0.1016 - val_loss: 0.0944\n",
            "Epoch 2/50\n",
            "469/469 [==============================] - 8s 16ms/step - loss: 0.0937 - val_loss: 0.0921\n",
            "Epoch 3/50\n",
            "469/469 [==============================] - 8s 16ms/step - loss: 0.0921 - val_loss: 0.0909\n",
            "Epoch 4/50\n",
            "469/469 [==============================] - 7s 16ms/step - loss: 0.0911 - val_loss: 0.0901\n",
            "Epoch 5/50\n",
            "469/469 [==============================] - 7s 16ms/step - loss: 0.0903 - val_loss: 0.0894\n",
            "Epoch 6/50\n",
            "469/469 [==============================] - 7s 16ms/step - loss: 0.0897 - val_loss: 0.0888\n",
            "Epoch 7/50\n",
            "469/469 [==============================] - 8s 16ms/step - loss: 0.0893 - val_loss: 0.0885\n",
            "Epoch 8/50\n",
            "469/469 [==============================] - 8s 16ms/step - loss: 0.0888 - val_loss: 0.0881\n",
            "Epoch 9/50\n",
            "469/469 [==============================] - 7s 16ms/step - loss: 0.0885 - val_loss: 0.0878\n",
            "Epoch 10/50\n",
            "469/469 [==============================] - 8s 17ms/step - loss: 0.0882 - val_loss: 0.0875\n",
            "Epoch 11/50\n",
            "469/469 [==============================] - 7s 16ms/step - loss: 0.0879 - val_loss: 0.0871\n",
            "Epoch 12/50\n",
            "469/469 [==============================] - 8s 16ms/step - loss: 0.0876 - val_loss: 0.0870\n",
            "Epoch 13/50\n",
            "469/469 [==============================] - 7s 16ms/step - loss: 0.0874 - val_loss: 0.0867\n",
            "Epoch 14/50\n",
            "469/469 [==============================] - 7s 16ms/step - loss: 0.0872 - val_loss: 0.0867\n",
            "Epoch 15/50\n",
            "469/469 [==============================] - 7s 16ms/step - loss: 0.0871 - val_loss: 0.0864\n",
            "Epoch 16/50\n",
            "469/469 [==============================] - 7s 16ms/step - loss: 0.0869 - val_loss: 0.0863\n",
            "Epoch 17/50\n",
            "469/469 [==============================] - 8s 16ms/step - loss: 0.0867 - val_loss: 0.0862\n",
            "Epoch 18/50\n",
            "469/469 [==============================] - 8s 16ms/step - loss: 0.0866 - val_loss: 0.0861\n",
            "Epoch 19/50\n",
            "469/469 [==============================] - 8s 16ms/step - loss: 0.0865 - val_loss: 0.0869\n",
            "Epoch 20/50\n",
            "469/469 [==============================] - 7s 16ms/step - loss: 0.0864 - val_loss: 0.0859\n",
            "Epoch 21/50\n",
            "469/469 [==============================] - 7s 16ms/step - loss: 0.0863 - val_loss: 0.0859\n",
            "Epoch 22/50\n",
            "469/469 [==============================] - 7s 16ms/step - loss: 0.0862 - val_loss: 0.0857\n",
            "Epoch 23/50\n",
            "469/469 [==============================] - 7s 16ms/step - loss: 0.0861 - val_loss: 0.0856\n",
            "Epoch 24/50\n",
            "469/469 [==============================] - 7s 16ms/step - loss: 0.0860 - val_loss: 0.0856\n",
            "Epoch 25/50\n",
            "469/469 [==============================] - 7s 16ms/step - loss: 0.0859 - val_loss: 0.0856\n",
            "Epoch 26/50\n",
            "469/469 [==============================] - 7s 16ms/step - loss: 0.0858 - val_loss: 0.0854\n",
            "Epoch 27/50\n",
            "469/469 [==============================] - 8s 16ms/step - loss: 0.0858 - val_loss: 0.0853\n",
            "Epoch 28/50\n",
            "469/469 [==============================] - 8s 16ms/step - loss: 0.0857 - val_loss: 0.0853\n",
            "Epoch 29/50\n",
            "469/469 [==============================] - 7s 16ms/step - loss: 0.0856 - val_loss: 0.0853\n",
            "Epoch 30/50\n",
            "469/469 [==============================] - 8s 16ms/step - loss: 0.0856 - val_loss: 0.0852\n",
            "Epoch 31/50\n",
            "469/469 [==============================] - 7s 16ms/step - loss: 0.0855 - val_loss: 0.0852\n",
            "Epoch 32/50\n",
            "469/469 [==============================] - 7s 16ms/step - loss: 0.0855 - val_loss: 0.0851\n",
            "Epoch 33/50\n",
            "469/469 [==============================] - 8s 16ms/step - loss: 0.0854 - val_loss: 0.0850\n",
            "Epoch 34/50\n",
            "469/469 [==============================] - 7s 16ms/step - loss: 0.0854 - val_loss: 0.0850\n",
            "Epoch 35/50\n",
            "469/469 [==============================] - 7s 16ms/step - loss: 0.0853 - val_loss: 0.0850\n",
            "Epoch 36/50\n",
            "469/469 [==============================] - 8s 17ms/step - loss: 0.0853 - val_loss: 0.0850\n",
            "Epoch 37/50\n",
            "469/469 [==============================] - 8s 16ms/step - loss: 0.0853 - val_loss: 0.0849\n",
            "Epoch 38/50\n",
            "469/469 [==============================] - 8s 16ms/step - loss: 0.0852 - val_loss: 0.0848\n",
            "Epoch 39/50\n",
            "469/469 [==============================] - 8s 16ms/step - loss: 0.0852 - val_loss: 0.0850\n",
            "Epoch 40/50\n",
            "469/469 [==============================] - 7s 16ms/step - loss: 0.0852 - val_loss: 0.0848\n",
            "Epoch 41/50\n",
            "469/469 [==============================] - 7s 16ms/step - loss: 0.0851 - val_loss: 0.0851\n",
            "Epoch 42/50\n",
            "469/469 [==============================] - 8s 16ms/step - loss: 0.0851 - val_loss: 0.0850\n",
            "Epoch 43/50\n",
            "469/469 [==============================] - 8s 16ms/step - loss: 0.0851 - val_loss: 0.0853\n",
            "Epoch 44/50\n",
            "469/469 [==============================] - 8s 16ms/step - loss: 0.0850 - val_loss: 0.0848\n",
            "Epoch 45/50\n",
            "469/469 [==============================] - 8s 16ms/step - loss: 0.0850 - val_loss: 0.0847\n",
            "Epoch 46/50\n",
            "469/469 [==============================] - 8s 16ms/step - loss: 0.0850 - val_loss: 0.0846\n",
            "Epoch 47/50\n",
            "469/469 [==============================] - 8s 16ms/step - loss: 0.0850 - val_loss: 0.0846\n",
            "Epoch 48/50\n",
            "469/469 [==============================] - 8s 16ms/step - loss: 0.0849 - val_loss: 0.0846\n",
            "Epoch 49/50\n",
            "469/469 [==============================] - 7s 16ms/step - loss: 0.0849 - val_loss: 0.0846\n",
            "Epoch 50/50\n",
            "469/469 [==============================] - 8s 16ms/step - loss: 0.0849 - val_loss: 0.0845\n"
          ]
        },
        {
          "output_type": "execute_result",
          "data": {
            "text/plain": [
              "<keras.callbacks.History at 0x7f306b897e50>"
            ]
          },
          "metadata": {},
          "execution_count": 22
        }
      ]
    },
    {
      "cell_type": "code",
      "source": [
        "predictions = autoencoder.predict(noisy_test)\n",
        "display(noisy_test, predictions)"
      ],
      "metadata": {
        "colab": {
          "base_uri": "https://localhost:8080/",
          "height": 229
        },
        "id": "U5WPxPnDtIFu",
        "outputId": "99469f01-886a-41ec-d18b-077fd0ee86e6"
      },
      "execution_count": 23,
      "outputs": [
        {
          "output_type": "display_data",
          "data": {
            "text/plain": [
              "<Figure size 1440x288 with 20 Axes>"
            ],
            "image/png": "[encoded data removed]"
          },
          "metadata": {
            "needs_background": "light"
          }
        }
      ]
    }
  ]
}