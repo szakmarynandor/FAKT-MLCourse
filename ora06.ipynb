{
  "nbformat": 4,
  "nbformat_minor": 0,
  "metadata": {
    "colab": {
      "name": "ora06.ipynb",
      "provenance": [],
      "collapsed_sections": [],
      "authorship_tag": "ABX9TyOzVluOix9OXYwFOIUjlP48",
      "include_colab_link": true
    },
    "kernelspec": {
      "name": "python3",
      "display_name": "Python 3"
    },
    "language_info": {
      "name": "python"
    },
    "accelerator": "GPU"
  },
  "cells": [
    {
      "cell_type": "markdown",
      "metadata": {
        "id": "view-in-github",
        "colab_type": "text"
      },
      "source": [
        "<a href=\"https://colab.research.google.com/github/szakmarynandor/FAKT-MLCourse/blob/main/ora06.ipynb\" target=\"_parent\"><img src=\"https://colab.research.google.com/assets/colab-badge.svg\" alt=\"Open In Colab\"/></a>"
      ]
    },
    {
      "cell_type": "markdown",
      "source": [
        "# Szöveg generálás (6. óra)"
      ],
      "metadata": {
        "id": "a_Rxw3a-2nHp"
      }
    },
    {
      "cell_type": "markdown",
      "source": [
        "## Szövegformázás"
      ],
      "metadata": {
        "id": "p5q1KMDh2zsS"
      }
    },
    {
      "cell_type": "code",
      "execution_count": 2,
      "metadata": {
        "id": "m7Gd0tiAyE1P",
        "colab": {
          "base_uri": "https://localhost:8080/"
        },
        "outputId": "659d0bb8-8033-486a-bee9-feb90d225a66"
      },
      "outputs": [
        {
          "output_type": "stream",
          "name": "stdout",
          "text": [
            "Mounted at /content/drive\n"
          ]
        }
      ],
      "source": [
        "from google.colab import drive\n",
        "drive.mount('/content/drive')"
      ]
    },
    {
      "cell_type": "code",
      "source": [
        "raw_text = open('/content/drive/My Drive/FAKT_ML/kisherceg.txt', 'r').read()"
      ],
      "metadata": {
        "id": "I2STmw-22-R8"
      },
      "execution_count": 3,
      "outputs": []
    },
    {
      "cell_type": "code",
      "source": [
        "#Kisbetűvé változtatás\n",
        "raw_text = raw_text.lower()"
      ],
      "metadata": {
        "id": "wpn-uFjj3XTa"
      },
      "execution_count": 4,
      "outputs": []
    },
    {
      "cell_type": "code",
      "source": [
        "raw_text"
      ],
      "metadata": {
        "colab": {
          "base_uri": "https://localhost:8080/",
          "height": 156
        },
        "id": "qVYVSea03fX2",
        "outputId": "e2d98452-a648-4006-eba1-1177d7455873"
      },
      "execution_count": 5,
      "outputs": [
        {
          "output_type": "execute_result",
          "data": {
            "text/plain": [
              "'\\ufeff\\nantoine de saint-exupéry\\na kis herceg\\n\\nfordította: rónay györgy\\n\\n\\n\\nléon werth-nek\\nkérem a gyerekeket, ne haragudjanak, amiért ezt a könyvet egy fölnőttnek ajánlom. komoly mentségem van rá: ez a fölnőtt széles e világon a legjobb barátom. de van egy másik mentsé\\xadgem is: ez a fölnőtt mindent meg tud érteni, még a gyerekeknek szóló könyveket is. harmadik mentségem pedig a következő: ez a fölnőtt franciaországban él, s ott éhezik és fázik. nagy szüksége van vigasztalásra. ha pedig ez a sok mentség nem elegendő, akkor annak a gyerek\\xadnek ajánlom könyvemet, aki valaha ez a fölnőtt volt. mert előbb minden fölnőtt gyerek volt. (de csak kevesen emlékeznek rá.) ajánlásomat tehát kijavítom, ilyesformán:\\nléon werth-nek,\\namikor még kisfiú volt.\\n\\n1.\\nhatéves koromban egy könyvben, mely az őserdőről szólt, és igaz történetek volt a címe, láttam egy nagyszerű képet. óriáskígyót ábrázolt, amint egy vadállatot nyel el. tessék, itt a rajz másolata.\\n\\na könyvben ez állt: “az óriáskígyó egészben, rágás nélkül nyeli le zsákmányát. utána moccan\\xadni sem bír, és az emésztés hat hónapját végigalussza.”\\nakkoriban sokat tűnődtem a dzsungelek kalandjain, és egy színes ceruzával nekem is sikerült megrajzolnom első rajzomat. az 1. számút. ilyesformán:\\n\\nremekművemet megmutattam a fölnőtteknek, és megkérdeztem őket, nem félnek-e tőle.\\n- miért kellene félni egy kalaptól? - válaszolták.\\naz én rajzom azonban nem kalapot ábrázolt. óriáskígyót ábrázolt, amint épp egy elefántot emészt. erre lerajzoltam az óriáskígyót belülről is, hogy a fölnőttek megérthessék, miről van szó. mert nekik mindig mindent meg kell magyarázni. ez a 2. számú rajz ilyesforma volt:\\n\\nmost aztán a fölnőttek azt ajánlották, ne rajzoljak többé óriáskígyót se nyitva, se csukva, hanem inkább foglalkozzam földrajzzal, történelemmel, számtannal és nyelvtannal. így mond\\xadtam le hatéves koromban nagyszerű festői pályafutásomról. kedvemet szegte 1. és 2. számú rajzom kudarca. a nagyok semmit sem értenek meg maguktól, a gyerekek pedig belefáradnak, hogy örökös-örökké magyarázgassanak nekik.\\nmás mesterséget kellett választanom tehát: megtanultam repülőgépet vezetni.\\nnagyjából az egész világot berepültem. és való igaz, hogy közben nagy hasznát vettem a földrajznak. első pillantásra meg tudtam különböztetni kínát arizonától. ez pedig fölöttébb hasznos dolog, ha éjszaka eltéved az ember.\\nígy aztán életem folyamán nagyon sokszor kerültem kapcsolatba komoly emberekkel. jócskán akadt dolgom a fölnőttekkel. közvetlen közelből láthattam őket. és nem mondhatnám, hogy ettől jobb lett róluk a véleményem.\\nha olyannal találkoztam, aki kicsit értelmesebbnek látszott, kipróbáltam rajta 1. számú rajzo\\xadmat, mert azt mindig magamnál tartottam. meg akartam tudni, valóban megérti-e a dolgokat. de a válasz mindig így hangzott: “ez egy kalap.”\\nerre aztán nem beszéltem neki se óriáskígyókról, se őserdőkről, se csillagokról. alkalmaz\\xadkodtam hozzá. bridzsről beszéltem neki, meg golfról meg politikáról és nyakkendőkről. az illető fölnőtt pedig nagyon örült neki, hogy ilyen okos emberrel került ismeretségbe.\\n2.\\nígy éltem magányosan, anélkül, hogy igazában bárkivel is szót érthettem volna, míg egyszer, hat esztendővel ezelőtt, kényszerleszállást nem kellett végeznem a szaharában. valami eltö\\xadrött a motoromban. és mivel se gépészem nem volt, se utasom, magamnak kellett nekilátnom, hogy zöld ágra vergődjem valahogyan, és kijavítsam a súlyos hibát. élet és halál kérdése volt ez számomra. alig egy hétre való ivóvizem volt.\\nott dőltem álomra az első este a homokon, ezermérföldnyire minden lakott helytől. elhagya\\xadtottabb voltam, mint tutaján a hajótörött az óceán közepén. elképzelhető hát, mennyire meg\\xadlepődtem, amikor hajnalban egy fura kis hang ébresztett föl. azt mondta:\\n- légy szíves, rajzolj nekem egy bárányt!\\n- micsoda?\\n- rajzolj nekem egy bárányt...\\nfölugrottam, mintha villám csapott volna le mellettem. megdörgöltem a szememet, aztán jól kimeresztettem. és egy apró emberkét láttam, egy teljességgel rendkívüli kis emberkét, amint komoly figyelemmel szemlél. itt a legjobb kép, amit később csinálnom sikerült róla.\\n\\ncsakhogy az én rajzom kétségkívül sokkal kevésbé elragadó, mint amilyen a mintája volt. igaz, nem az én hibámból. mert ami festői pályafutásomat illeti, attól már hatesztendős korom\\xadban elvették a kedvemet a fölnőttek, így aztán nem is tanultam meg rajzolni, kivéve a csukott meg a nyitott óriáskígyókat.\\námulattól kerek szemmel néztem hát a különös tüneményt. ne feledjük el: ezer mérföldre voltam minden lakott vidéktől. emberkémen pedig semmi jele nem volt annak, mintha elté\\xadvedt volna, vagy halálosan fáradt, halálosan éhes, halálosan szomjas lenne, esetleg halálosan félne. egyáltalán nem úgy festett, mint egy szerencsétlen gyerek, aki eltévedt a sivatagban, ezermérföldnyire minden lakott helytől. mikor végre szavamra leltem, azt kérdeztem tőle:\\n- de hát... hogy kerülsz te ide?\\nerre szelíden, és mintha valami nagyon komoly dolgot kérne, megismételte:\\n- légy szíves, rajzolj nekem egy bárányt...\\nha valami nagyon lenyűgözően rejtélyes, az ember nem meri megtenni, hogy ne engedel\\xadmeskedjék. akármilyen képtelenségnek találtam, hogy ezer mérföldre minden lakott helytől és rá\\xadadásul halálos veszedelemben: elővettem a zsebemből egy darab papirost meg a töltőtolla\\xadmat. hanem akkor eszembe jutott, hogy én főként földrajzot, történelmet, számtant és nyelv\\xadtant tanultam, és egy kicsit kedvetlenül közöltem az emberkémmel, hogy nem tudok rajzolni.\\n- annyi baj legyen - felelte. - rajzolj nekem egy bárányt.\\nminthogy bárányt soha életemben nem rajzoltam, papírra vetettem neki a két rajz közül, amire egyáltalán képes voltam, az egyiket: a csukott óriáskígyót. de hogy elképedtem, mikor az emberke azt mondta rá:\\n- nem! nem! nem elefántot akarok óriáskígyóban! az óriáskígyó nagyon veszedelmes, az elefánt meg olyan behemót nagy. nálam odahaza minden apró. nekem bárányka kell. rajzolj nekem egy bárányt.\\nhát erre rajzoltam egyet.\\n\\nfigyelmesen szemügyre vette, aztán:\\n- nem! - mondta. - ez már nagyon beteg. csinálj egy másikat nekem.\\nrajzoltam egy másikat.\\n\\nkis barátom kedvesen, de elnézően mosolygott.\\n- jó, jó... csakhogy ez nem bárány, hanem kos. ennek szarva van.\\nmegint újat rajzoltam.\\n\\nez se volt jó neki, akárcsak az előzők.\\n- nagyon öreg. nekem olyan bárány kell, amelyik sokáig él.\\nerre már kifogytam a türelemből. mielőbb neki akartam kezdeni a motorom szétszerelésének; ráfirkáltam hát a papírra a mellékelt rajzot.\\n\\n- tessék - mondtam. - ez itt a ládája. benne van a bárány, amit akarsz.\\nnagy meglepetésemre egyszeriben fölragyogott az arca.\\n- ez az! éppen így akartam! mit gondolsz, sok fű kell ennek a báránynak?\\n- miért?\\n- hát mert nálam odahaza minden olyan kicsi...\\n- biztosan elég lesz neki. egészen kicsi bárány.\\na rajz fölé hajolt.\\n- nem is olyan kicsi... nézd csak! elaludt...\\nígy ismerkedtem meg a kis herceggel.\\n3.\\nhosszú időbe tellett, míg megértettem, honnét jött. a kis herceg ugyanis engem elhalmozott kérdésekkel, az enyéimet azonban mintha meg se hallotta volna. lassanként, véletlenül elejtett szavakból tudtam meg, amit megtudtam. így mikor először látta meg a repülőmet (nem rajzo\\xadlom le: repülőgépet rajzolni az én számomra túl fogas föladat volna), azt kérdezte:\\n- hát ez meg mi a szösz?\\n- ez nem szösz. ez repül. repülőgép. az én repülőgépem.\\nszinte hetvenkedtem neki azzal, hogy repülök.\\n- hogyan?! - kiáltott föl. - az égből pottyanttál le?\\n- igen - feleltem szerényen.\\n- hát ez furcsa...\\nés fölkacagott, gyöngyöző kacagással; ez határozottan bosszantott. megkívánom, hogy komo\\xadlyan vegyék a szerencsétlenségeimet.\\n- szóval te is az égből jöttél? - tette hozzá. - melyik bolygóról való vagy?\\nmintha hirtelen fény világította volna meg rejtélyes jelenlétét.\\n- eszerint egy másik bolygóról való vagy? - szegeztem neki a kérdést.\\nnem felelt. csak a fejét csóválta lassan, és a repülőmet nézte.\\n- igaz, ezen nem jöhetsz valami messziről...\\nés hosszas töprengésbe merült. aztán elővette zsebéből a bárányomat, és kincse szemlélésébe mélyedt.\\nképzelhetni, hogy izgatott ez az elharapott vallomás a “másik bolygóról”. próbáltam hát többet is megtudni.\\n- honnét jöttél, emberkém? hol van az az “odahaza”? hová akarod magaddal vinni a bárá\\xadnyo\\xadmat?\\ntűnődve hallgatott, aztán azt mondta:\\n- az a jó ebben a ládában, amit adtál, hogy éjszakára háznak is megfelel neki.\\n- persze, persze. ha jó leszel, kötelet is adok, amivel megkötheted. meg egy karót.\\najánlatom szemlátomást meghökkentette a kis herceget.\\n- megkötni? milyen ostoba ötlet!\\n- de ha nem kötöd meg, elkószál, elvész...\\nkis barátom erre megint fölkacagott.\\n- elkószál? hová?\\n- mit tudom én. az orra után...\\na kis herceg elkomolyodott.\\n- annyi baj legyen. hiszen nálam odahaza olyan kicsi minden... - és mintha egy kis szomo\\xadrú\\xadság bujkált volna a hangjában, ahogy hozzátette: - nem valami sokáig mehet az orra után az ember...\\n4.\\nígy tudtam meg egy másik fontos dolgot: hogy a bolygó, ahonnét jött, alig nagyobb egy háznál.\\nezen nem is kellett különösebben csodálkoznom. hiszen tudtam, hogy a nagy bolygókon kívül, amilyen a föld, a jupiter, a mars, a vénusz, s aminek mind megvan a maga neve, van még száz és száz más bolygó is, és köztük egyik-másik olyan parányi, hogy távcsövön is csak alig-alig lehet kivenni. ha egy csillagász fölfedezi valamelyiket, név helyett egyszerűen számot ad neki. például elkereszteli “a 3251. kisbolygó”-nak.\\nminden okom megvan rá, hogy azt higgyem: a bolygó, ahonnét a kis herceg jött, a b-612-es kisbolygó. távcsövön ezt a csillagocskát csak egyetlenegyszer észlelték: 1909-ben egy török csillagász.\\nfölfedezéséről akkor nagy előadást tartott a nemzetközi csillagászati kongresszuson. öltözé\\xadke miatt azonban nem hitt neki senki. mert ilyenek a fölnőttek.\\na b-612-es kisbolygó hírnevének nagy szerencséjére azonban egy török diktátor utóbb halál\\xadbüntetés terhe mellett megparancsolta népének, hogy öltözködjék európai módra. a csillagász 1920-ban megismételte előadását, ezúttal fölöttébb elegáns öltönyben. és ezúttal egyet is értett vele mindenki.\\ncsak a fölnőttek miatt mesélem el ezeket a részleteket a b-612-es kisbolygóról, és a számát is csak miattuk árultam el; a fölnőttek ugyanis szeretik a számokat. ha egy új barátunkról be\\xadszélünk nekik, sosem a lényeges dolgok felől kérdezősködnek. sosem azt kérdezik: “milyen a hangja?” “mik a kedves játékai?” “szokott-e lepkét gyűjteni?” ehelyett azt tudakolják: “hány éves?” “hány testvére van?” “hány kiló?” “mennyi jövedelme van a papájának?” és csak ezek után vélik úgy, hogy ismerik. ha azt mondjuk a fölnőtteknek: “láttam egy szép házat, rózsaszínű téglából épült, ablakában muskátli, tetején galambok...” - sehogy sem fogják tudni elképzelni ezt a házat. azt kell mondani nekik: “láttam egy százezer frankot érő házat.” erre aztán fölkiáltanak: “ó, milyen szép!”\\nugyanígy, ha azt mondanánk nekik: “íme a bizonyság arról, hogy a kis herceg létezett: elraga\\xaddó teremtés volt, és nevetett, és egy bárányt akart; s ha valaki bárányt akar, akkor ez nyilván\\xadvaló bizonyság rá, hogy létezik” - ha ezt mondanánk nekik, vállat vonnának, és gyereknek tartanák az embert. ha ellenben azt mondjuk nekik: “a bolygó, ahonnét jött, a b-612-es kisbolygó” - ez meggyőzi őket, és békén hagynak a kérdéseikkel. egyszerűen ilyenek; még csak haragudni sem kell rájuk miatta. a gyerekeknek nagyon elnézőknek kell lenniük a fölnőttek iránt.\\nde mi, akik megértjük az életet, mi bizony fütyülünk a számokra! ezt a történetet is a leg\\xadszívesebben úgy kezdtem volna, mint egy tündérmesét. ilyesformán:\\n“hol volt, hol nem volt, volt egyszer egy kis herceg. ez a kis herceg egy parányi bolygócskán lakott, olyan parányin, hogy a bolygója alig volt nagyobb nála; ezen a bolygón élt, és nagyon szerette volna, ha van egy jó barátja...” azoknak, akik értik az életet, ez így sokkal igazabbul hangzott volna.\\nmert semmiképp sem szeretném, ha félvállról vennék a könyvemet. hiszen úgy elfog a bánat, mikor ezeket az emlékeimet elmesélem. hat esztendeje már, hogy a barátom búcsút vett tőlem a bárányával. azért próbálom meg leírni itt, nehogy elfelejtsem. szomorú dolog elfelejteni a barátunkat. nem mindenkinek van barátja. s ki tudja, még utóbb belőlem is lehet olyan fölnőttforma ember, akit nem érdekelnek, csak a számok. többek között ezért vásároltam egy doboz festéket meg egy doboz színes ceruzát. persze nem könnyű dolog ilyen vén fejjel újra nekifogni a rajzolásnak, mikor egyebet sem próbáltam soha, mint hatesztendős koromban egy nyitott meg egy csukott óriáskígyót! de igyekezni fogok, hogy a képeim hasonlítsanak, amennyire csak lehet. hogy sikerül-e, abban már egyáltalán nem vagyok biztos. az egyik rajz megjárja, a másik egyáltalán nem. elvétem olykor egy kicsit a termet arányait is. emitt a kis herceg túl nagy. amott túl kicsi. a ruhája színét sem tudom egészen biztosan. így aztán csak tapogatódzom, hol így, hol úgy; lesz, ahogyan lesz. végül bizonyos fontosabb részleteket illető\\xadleg is tévedni fogok. ezt azonban meg kell bocsátanotok nekem. barátom sosem magya\\xadrázkodott; talán azt hitte, én is olyan vagyok, amilyen ő. nekem azonban, sajnos, nem volt semmiféle tehetségem hozzá, hogy meglássam ládájuk fáján keresztül a bárányokat. ki tudja, nem vagyok-e egy kicsit magam is olyan, mint a fölnőttek? alighanem megöregedtem.\\n5.\\nnaponta megtudtam valamit a bolygójáról, az útrakeléséről, az utazásáról. szép lassacskán, egy-egy elejtett megjegyzés jóvoltából. így szereztem tudomást harmadnap a majomkenyérfák drámájáról.\\nezt is a báránynak köszönhettem, mert a kis herceg, mintha valami súlyos kétsége támadt volna, hirtelen azt kérdezte tőlem:\\n- igaz, hogy a bárányok cserjéket esznek?\\n- igaz.\\n- ó, akkor jól van.\\nsehogyan sem értettem, miért olyan fontos, hogy a bárányok cserjéket egyenek. a kis herceg azonban hozzátette:\\n- szóval a majomkenyérfákat is megeszik?\\nerre megjegyeztem neki, hogy a majomkenyérfák nem cserjék, hanem hatalmas, templom\\xadtorony nagyságú fák, és magával vihetne akár egy csordára való elefántot is: egyetlenegy majomkenyérfával sem bírnának el.\\naz elefántcsorda ötlete megnevettette a kis herceget.\\n- egymás tetejébe kellene rakni őket...\\nhanem aztán komolyan azt mondta:\\n- mielőtt megnőnek, a majomkenyérfák is úgy kezdik, hogy kicsinyek.\\n- pontosan így van! de miért akarod, hogy a bárányok megegyék a majomkenyérfákat?\\nazt felelte: “miért ne?” - mintha valami nyilvánvaló dologról volna szó. alaposan össze kellett szednem az eszemet, hogy magamtól jussak a probléma nyitjára.\\nnos, mint minden bolygón, a kis hercegén is voltak jó növények meg rossz növények; tehát voltak jó növényektől származó jó magvak meg rossz növényektől származó rossz magvak is. a magvak azonban láthatatlanok. a föld titkos mélyén alusznak, míg csak az egyiknek eszébe nem jut, hogy fölébredjen... akkor nyújtózik egyet, és először csak egy elbűvölő, ártatlan kis hajtással kezd félénken a nap felé kapaszkodni. ha rózsa vagy retek hajtása, hagyhatjuk, hadd nőjön kedvére. de ha rossz növényről van szó, mihelyt fölismertük, azonnal ki kell tépni. a kis herceg bolygóján pedig félelmetes magvak voltak: majomkenyérfa-magvak. a bolygó egész földjét megfertőzték. a majomkenyérfával meg úgy van, hogy ha az ember későn kap észbe, soha többé nem bír megszabadulni tőle. egyszerűen elborítja a bolygót. átlyuggatja a gyökereivel. ha aztán a bolygó túl kicsi, a majomkenyérfák meg túl sokan vannak, előbb-utóbb szétrobbantják.\\n- fegyelem kérdése - mondta egyszer később a kis herceg. - miután reggel gondosan rendbe szedte magát az ember, gondosan rendbe kell szednie a bolygóját is. neki kell látnia, s annak rendje és módja szerint ki kell gyomlálnia a majomkenyérfákat, mihelyt meg tudja különböz\\xadtetni őket a rózsáktól; mert amíg egészen zsengék, nagyon hasonlítanak egymáshoz. igen unal\\xadmas munka, de igen könnyű.\\nés egy szép napon azt ajánlotta, próbáljam mindezt lerajzolni, hogy a hazámbeli gyerekek jól megértsék a dolgot.\\n- hasznukra lehet - mondta -, ha egyszer utazni fognak. néha semmi baj sem származik belőle, ha valamilyen munkát későbbre halasztunk. de mindig végzetes következményekkel jár, ha a majomkenyérfákról van szó. tudok egy bolygót: lusta gazdája volt, figyelmen kívül hagyott három cserjét...\\n\\nitt van, ezt a bolygót rajzoltam a kis herceg útmutatásai szerint. sosem szerettem az erkölcsi intelmek modorában írni; a majomkenyérfák veszedelmét azonban olyan kevéssé ismerik, és azt, aki netán egy kisbolygóra tévedne, akkora kockázat fenyegeti, hogy ezúttal kivételesen legyőzöm a viszolygásomat, és azt mondom: “gyerekek! ügyeljetek a majomkenyérfákra!” azért dolgoztam annyit ezen a rajzon, hogy figyelmeztessem barátaimat egy veszélyre, melyet nem ismernek, noha régtől fogva ott leselkedik a sarkukban, akárcsak az enyémben. a tanulság, melyet nyújtok, megérte a fáradságot. lehet, hogy fölteszitek majd a kérdést: “miért nincs több ilyen nagyszabású rajz a könyvben, amilyen a majomkenyérfáké?” erre egyszerű a válasz: “próbálni próbáltam, de nem sikerült. amikor a majomkenyérfákat rajzoltam, lelkesí\\xadtett az az érzés, hogy sürgősen kell cselekednem .”\\n6.\\nígy aztán, hercegecském, apránként megértettem szomorú kis életedet. sokáig nem volt egyéb szórakozásod, mint a naplementék szelíd szépsége. ezt az újabb részletet negyednap reggel tudtam meg, amikor azt mondtad:\\n- nagyon szeretem a naplementéket. gyerünk, nézzünk meg egy naplementét...\\n- de ahhoz várni kell...\\n- várni? mit?\\n- hát hogy lemenjen a nap.\\nelőször meglepetés látszott az arcodon, aztán nevettél egyet magadon.\\n- folyton azt hiszem, hogy otthon vagyok! - mondtad.\\nnos: mikor az egyesült államokban dél van, franciaországban köztudomásúlag éppen le\\xadmegy a nap. az embernek elég lenne egyetlen szempillantás alatt franciaországban teremnie, hogy napnyugtát lásson. ehhez azonban franciaország, sajnos, túlságosan messze van. neked viszont, a parányi bolygódon, egyéb sem kellett, mint pár lépéssel odébb húznod a székedet. s annyiszor láttad a naplementét, ahányszor csak akartad...\\n- volt egy nap, amikor negyvenháromszor láttam lemenni a napot!\\nkisvártatva hozzátetted:\\n- tudod, az ember, ha olyan nagyon-nagyon szomorú, szereti a naplementéket...\\n- hát annyira szomorú voltál azon a negyvenháromszoros napon?\\nerre azonban a kis herceg nem felelt.\\n7.\\naz ötödik napon, változatlanul a bárány jóvoltából, föltárult előttem a kis herceg életének ez a titka is. hirtelen, minden bevezetés nélkül, mintha előzőleg sokáig töprengett volna a dolgon, halkan azt kérdezte tőlem:\\n- ha a bárány cserjéket eszik, megeszi a virágokat is?\\n- a bárány mindent megeszik, ami az útjába akad.\\n- az olyan virágot is, amelyiknek tüskéje van?\\n- igen. az olyan virágot is, amelyiknek tüskéje van.\\n- hát akkor mire valók a tüskék?\\nmit tudtam én! minden figyelmemmel azon igyekeztem, hogy a motorom egyik beszorult csavarját kilazítsam. tele voltam aggodalommal: gépem hibája egyre súlyosabbnak látszott, ivóvizem meg folyton fogyott, úgyhogy a legrosszabbtól kellett tartanom.\\n- mire valók a tüskék?\\nha egyszer egy kérdést föltett, a kis herceg soha nem tágított tőle többé.\\nén meg, mert nagyon bosszantott az a csavar, csak úgy vaktában válaszoltam:\\n- a tövisek nem valók semmire. a tövis puszta gonoszság a virág részéről.\\n- ó! - de némi hallgatás után, már-már ingerülten vetette oda: - nem hiszem! a virágok gyöngék. gyanútlanok. úgy védekeznek ahogy tudnak. félelmetesnek képzelik magukat a tüskéikkel.\\nnem feleltem. éppen azt gondoltam magamban: “ha ez a csavar semmiképp sem mozdul, ráverek a kalapáccsal, úgy ugratom ki a helyéből.” de a kis herceg újra megzavarta töpren\\xadgésemet.\\n- és te, mondd, te is azt hiszed...\\n- nem! nem! nem hiszek semmit. csak úgy mondtam. én komoly dolgokkal foglalkozom.\\nelképedve nézett rám.\\n- komoly dolgokkal?\\nlátta, ahogy kezemben a kalapáccsal, olajtól fekete ujjakkal görnyedek valami fölé, amit szerfölött rondának talált.\\n- úgy beszélsz, mint a fölnőttek.\\nerre elszégyelltem magam. ő azonban könyörtelenül hozzátette:\\n- mindent összezavarsz... mindent összekeversz...\\nszemlátomást nagyon haragudott. megrázta aranyhaját a szélben.\\n- tudok egy bolygót, egy vörös képű uraság lakik rajta. az soha egyetlen virágot meg nem szagolt életében. soha egyetlen csillagot meg nem nézett. soha senkit nem szeretett. soha nem csinált egyebet, mint folyton csak számolt. és egész álló nap azt hajtogatta, amit te mondtál az imént: “én komoly ember vagyok! én komoly ember vagyok!”, és csak úgy dagadt a kevélységtől. hát ember ez? dehogy ember! gomba!\\n- micsoda!\\n- gomba!\\na kis herceg most egészen sápadt volt az indulattól.\\n- millió és millió éve, hogy a virágok tüskéket gyártanak. millió és millió éve, hogy a bárá\\xadnyok mégis megeszik a virágokat. hát akkor miért ne volna komoly dolog, ha meg akarjuk érteni, mi végre a sok fáradozás, amivel olyan tüskéket csinálnak maguknak, amelyek soha semmire sem jók? a bárányok és a virágok háborúja talán nem fontos? nem komolyabb és nem fontosabb, mint annak a kövér, vörös úrnak a számadásai? és ha én tudok egy virágot, egy egyetlen virágot az egész világon, olyat, amilyen sehol másutt nem létezik, egyedül csak az én bolygómon, aztán egy bárányka egy csapásra megsemmisítheti, csak úgy, anélkül, hogy akár csak sejtené is, hogy mit művel: ez talán nem fontos?\\nelpirult, folytatta:\\n- ha valaki szeret egy virágot, amely csak egyetlen példányban létezik a csillagmilliókon: ez épp elég neki, hogy boldog legyen, ha a csillagokra pillant. “ott van valahol az én virágom” - gondolja magában. de ha a bárány megeszi a virágot: ez az ő számára olyan, mintha hirtelen valamennyi csillag kialudnék. és ez talán nem fontos?\\ntöbbet nem bírt mondani. váratlanul kitört belőle a zokogás.\\nközben már leszállt az éjszaka. letettem a szerszámaimat.\\nbántam is én a kalapácsomat, a csavart, a szomjúságot és a halált! egy csillagon, egy bolygón, az enyémen, a földön volt egy kis herceg, akit meg kellett vigasztalni! a karomba vettem, ringatni kezdtem.\\n- ne félj - mondtam neki -, semmi veszedelem nem fenyegeti a virágot, amit szeretsz... száj\\xadkosarat rajzolok a bárányodnak... a virágodnak meg rajzolok majd vértet... és... - már nem is tudtam, mint mondjak neki. nagyon ügyetlennek éreztem magam. nem tudtam, hogyan férkőzzem hozzá, hogyan találjak közösséget vele... olyan titokzatos világ a könnyek országa.\\n8.\\nrövidesen jobban is megismerhettem ezt a virágot. a kis herceg bolygóján mindig voltak virágok, nagyon egyszerű virágok, egy sor szirommal, helyet is alig foglaltak, és nem zavartak senkit. reggel megjelentek a fűben, estére elhervadtak. de ez egy szép napon egyszerre csak kicsírázott, magva a jó ég tudja, honnét került oda, és a kis herceg aprólékos gonddal figyelte a zsenge hajtást, amelyik semmilyen más hajtáshoz sem hasonlított. ki tudja, nem holmi majom\\xadkenyérfa-féleség-e? a vesszőcske növekedése azonban abbamaradt, és a kis növény hozzákezdett a virágkészítéshez. a kis herceg szemmel kísérte, hogyan jelenik meg rajta egy óriási bimbó, és sejtette, hogy csodálatos tünemény fog kibontakozni belőle; a virág azonban végevárhatatlanul, egyre csak szépítgette magát odabent a zöld szobájában. nagy gonddal válogatta meg a színeit. lassan öltözködött, egyenként igazította magára a szirmait. nyilván nem akart olyan gyűrötten napvilágra lépni, mint a pipacsok. nem akart megmutatkozni, csak szépsége teljes sugárzásában. úgy bizony! nagyon kacér virág volt! így aztán hosszú napokon át tartott a titokzatos öltözködése. aztán egy hajnalban, éppen napkeltekor, végre megjelent.\\násított egyet, és azt mondta, ő, aki olyan aggályos pontossággal dolgozott:\\n- ó, még szinte föl sem ébredtem... elnézést kérek... még meg se fésülködtem...\\na kis herceg nem bírta magába fojtani a csodálkozását:\\n- milyen szép vagy!\\n- ugye? - felelte kedvesen a virág. - és épp egyszerre születtem a nappal...\\na kis herceg ebből könnyen kitalálta, hogy a virág nem valami szerény; viszont olyan meg\\xadható volt!\\n- azt hiszem, épp most van a reggeli ideje - tette hozzá a virág kisvártatva. - volnál szíves gondoskodni rólam?\\na kis herceg pedig, mélységes zavarban, sietve kerített egy öntözőkannát, és kiszolgálta a virágot.\\naz meg már mindjárt az elején zaklatni kezdte az ijedős hiúságával. egy napon például, mikor a négy töviséről beszélt, azt mondta a kis hercegnek:\\n- most aztán jöhetnek a tigrisek a karmaikkal!\\n- az én bolygómon nincsenek tigrisek - jegyezte meg erre a kis herceg. - a tigrisek különben sem esznek füvet.\\n- én nem vagyok fű - felelte szelíden a virág.\\n- bocsáss meg...\\n- különben sem félek a tigrisektől. a huzattól viszont irtózom. nincs véletlenül valamilyen szélfogód?\\n“irtózni a huzattól - gondolta a kis herceg - elég kockázatos kilátás egy növénynek. - furcsa egy virág ez...”\\n- esténként tégy majd bura alá. nagyon hideg van itt nálad. rosszul vagy berendezkedve. ahonnét én jöttem...\\nde nem folytatta. hiszen mag formájában jött: más világokról nem tudhatott semmit. szégyenében, hogy ilyen együgyű füllentésen kapatta rajta magát, kettőt-hármat köhintett, így akart fölébe kerekedni a kis hercegnek.\\n- a szélfogó?\\n- épp azért indultam, de elkezdtél beszélni hozzám...\\nerre a virág még jobban köhécselt, hadd furdalja csak a lelkiismeret a kis herceget.\\nannak pedig, hiába volt tele jóakaró szeretettel, előbb-utóbb mégiscsak megrendült a bizalma a virágban. minden lényegtelen megjegyzést a szívére vett, és kezdte nagyon-nagyon boldogtalannak érezni magát.\\n- nem lett volna szabad meghallgatnom - vallotta meg egy napon. - a virágok szavát sosem szabad meghallgatni. nézni kell őket, beszívni az illatukat. az enyém egész bolygómat elárasztotta az illatával, mégse tudtam örülni neki. annyira bosszantott az a tigriskarom-história, holott inkább meg kellett volna hatódnom rajta...\\naztán:\\n- bizony, nagyon értelmetlen voltam én akkor! a tetteiből kellett volna megítélnem, nem a szavaiból. beburkolt az illatával, elborított a ragyogásával. sosem lett volna szabad meg\\xadszöknöm! szegényes kis csalafintaságai mögött meg kellett volna éreznem gyöngéd szeretetét. minden virág csupa ellentmondás. de én még sokkal fiatalabb voltam, semhogy szeretni tudtam volna!\\n9.\\nszökéséhez, azt hiszem, a vadmadarak húzását használta föl. indulása reggelén szépen rendbe tette a bolygóját. gondosan kipucolta a működő vulkánjait. két ilyen működő vulkánja volt szerencsére: kényelmesen megfőzhette rajtuk a reggelijét. volt egy kialudt vulkánja is. de mert úgy gondolta: “sosem lehet tudni!”, kipucolta ezt a kialudt vulkánt is. a vulkánok, ha jól kipucolják őket, szabályosan, enyhe lánggal égnek, kitörések nélkül. a vulkánkitörések olyanok, mint a mi kéménytüzeink. mi itt a földön nyilván túl kicsinyek vagyunk hozzá, hogy rendesen kipucoljuk a vulkánjainkat. ezért okoznak annyi bajt.\\na kis herceg némi kis szomorúsággal kigyomlálta az utolsó majomkenyérfa-hajtásokat is. szentül hitte, hogy soha nem fog visszatérni többé. de aznap reggel nagyon-nagyon jólestek neki ezek a megszokott munkák. s amikor utoljára öntözte meg a virágot, és be akarta borítani a burájával, egyszeriben sírhatnékja támadt.\\n- isten veled - mondta a virágnak.\\na virág azonban nem felelt.\\n- isten veled - ismételte.\\na virág köhintett. ezúttal azonban nem azért, mintha megfázott volna.\\n- ostoba voltam - mondta végül a kis hercegnek. - kérlek, ne haragudjál rám. próbálj meg boldog lenni.\\na kis herceget meglepte, hogy nem kap semmiféle szemrehányást.\\ntanácstalanul állt, kezében a burával. sehogy sem értette a virágnak ezt a kedves szelídségét.\\n- hát igen, szeretlek - mondta a virág. - te persze még csak nem is sejtetted, de ebben én vagyok a hibás. különben nem is fontos. te azonban éppen olyan ostoba voltál, mint én. próbálj meg boldog lenni... hagyd békén azt a burát. nem kell.\\n- de a szél...\\n- egyáltalán nem vagyok olyan náthás... virág vagyok: jót fog tenni az éjszaka hűs levegője.\\n- de az állatok...\\n- két-három hernyót el kell tűrnöm, ha meg akarom ismerni a pillangókat. állítólag olyan szépek. meg aztán ki más látogatna meg? mert ami téged illet, te messze leszel. a vad\\xadállatoktól pedig egy csöppet sem félek. nekem is vannak karmaim.\\nés ártatlanul megmutatta a négy tövisét.\\n- ne ácsorogj itt ilyen ügyefogyottan - tette hozzá. - idegesítő... elhatároztad, hogy elmégy. hát menj.\\nnem akarta, hogy a kis herceg sírni lássa. kevély virág volt.\\n10.\\nez a 325-ös, 326-os, 327-es, 328-as, 329-es és 330-as kisbolygók vidéke volt; a kis herceg tehát azzal kezdte, hogy sorra látogatta őket, foglalkozást keresni meg művelődni is.\\naz elsőn egy király lakott. a király, bíborban és hermelinben, egy nagyon egyszerű, de méltó\\xadságteljes trónuson ült.\\n- hohó! itt egy alattvaló! - kiáltott föl, amikor megpillantotta a kis herceget.\\n“hogyan ismerhet meg - gondolta magában a kis herceg -, ha még soha életében nem látott?”\\nnem tudta, hogy a királyok szemében a világ fölöttébb egyszerű: minden ember alattvaló.\\n- gyere közelebb, hogy jobban szemügyre vehesselek - mondta a király, és nagyon büszke volt rá, hogy végre valaki fölött királykodhatik.\\na kis herceg körülnézett, hová ülhetne le, de a bolygót mindenestül beborította a pompás hermelin palást. állva maradt hát, és mert fáradt volt, ásított egyet.\\n- az etikett megtiltja, hogy a király jelenlétében ásítsanak - mondta az uralkodó. - megtiltom.\\n- nem bírom megállni ásítás nélkül - felelte a kis herceg zavartan. - nagy utat tettem meg, és nem aludtam...\\n- akkor megparancsolom, hogy ásíts - mondta a király. - hosszú esztendők óta senkit sem láttam ásítani. az ilyesmi ritka szórakozás nekem. tessék, ásíts még egyet! parancsolom.\\n- csakhogy ettől lámpalázas lettem. nem megy... - felelte a kis herceg, és elpirult.\\n- hm... hm... - tűnődött a király. - hát akkor... megparancsolom, hogy hol ásíts, hol meg...\\ndünnyögött valamit, szemlátomást feszengve.\\nmert a király föltétlenül ragaszkodott hozzá, hogy tiszteljék a királyi tekintélyét. semmiféle engedetlenséget nem tűrt: abszolút uralkodó volt. de mivel ugyanakkor jóságos is volt, értelmes parancsokat osztogatott.\\n“ha egy generálisnak megparancsolnám - mondogatta -, hogy változzék tengeri madárrá, és a generális nem engedelmeskednék: ebben nem ő lenne a hibás. én lennék a hibás miatta.”\\n- leülhetek? - kérdezte a kis herceg félénken.\\n- parancsolom, hogy ülj le - felelte a király, és méltóságteljesen odébb húzta egy kicsit a hermelin palástja szegélyét.\\na kis herceg elcsodálkozott: a bolygó egészen parányi volt. vajon min uralkodik akkor a király?\\n- fölség - mondta -, engedelmet kérek, de kérdeznék fölségedtől valamit...\\n- parancsolom, hogy kérdezz tőlem valamit - mondta sietve a király.\\n- fölséged... min uralkodik?\\n- mindenen - válaszolta mérhetetlen egyszerűséggel a király.\\n- mindenen?\\na király futó kis mozdulattal végigmutatott a bolygóján meg a többi bolygón meg a csillagokon.\\n- ezen mind? - kérdezte a kis herceg.\\n- ezen mind - felelte a király.\\nmert nemcsak abszolút uralkodó volt, hanem egyetemes is.\\n- és a csillagok engedelmeskednek fölségednek?\\n- természetesen - mondta a király. - azon nyomban. semmi fegyelmezetlenséget nem tűrök.\\na kis herceg elámult ekkora nagy hatalmon. ha neki ilyen hatalma lenne, napjában nem negy\\xadvennégy naplementét láthatna, hanem hetvenkettőt, sőt százat vagy akár kétszázat is, és még csak odébb se kellene húznia a székét! s mivel egy kicsit szomorú volt, mert eszébe jutott az elhagyott bolygócskája, olyannyira nekibátorodott, hogy egy kegyet merészelt kérni a királytól:\\n- úgy szeretnék naplementét látni... örvendeztessen meg fölséged. parancsolja meg a napnak, hogy nyugodjék le...\\n- ha egy generálisnak azt parancsolnám, szálljon virágról virágra, mint egy lepke, vagy írjon egy tragédiát, vagy változzék tengeri madárrá, és a generális nem hajtaná végre a parancsot, ki lenne a hibás emiatt: ő vagy én?\\n- fölséged! - jelentette ki a kis herceg nagy határozottsággal.\\n- látod. mindenkitől azt kell követelni, amit az illető megtehet. a tekintély legelső alapja az értelem - mondta a király. - ha népednek azt parancsolod, vesse magát a tengerbe: föllázad, forradalmat csinál. azért van jogom engedelmességet követelni, mert ésszerűek a parancsaim.\\n- akkor mi lesz a naplementémmel? - firtatta a kis herceg, mert ha már föltett egy kérdést, többé nem tágított tőle.\\n- meg fogod kapni a naplementédet. követelem. de kormányzói bölcsességemben megvárom, hogy kedvezőek legyenek hozzá a körülmények.\\n- és az mikor lesz? - tudakolta a kis herceg.\\n- hm... hm... - felelte a király, és böngészni kezdett egy testes naptárban. - hm... hm... mikor lesz... mikor lesz... ma este, hét óra negyven perc körül. és majd meglátod, milyen híven engedelmeskednek nekem.\\na kis herceg ásított. sajnálta, hogy oda a napnyugtája. ráadásul egy kicsit unatkozott is már.\\n- nincs itt semmi dolgom többet - mondta a királynak. - megyek tovább.\\n- ne menj! - mondta a király, hiszen olyan büszke volt rá, hogy végre akadt egy alattvalója. - ne menj el, megteszlek miniszternek.\\n- milyen miniszternek?\\n- hát... igazságügyinek!\\n- de ha nincs, akinek igazságot szolgáltassak!\\n- sosem lehet tudni - felelte a király. - még nem jártam be a királyságomat. öreg vagyok, hintóra nincs helyem, a gyaloglás meg fáraszt.\\n- ó, hiszen már láttam! - mondta a kis herceg, és előrehajolt, hogy egy pillantást vessen a bolygó túlsó felére. - ott sincs senki.\\n- hát akkor ítélkezzél saját magadon - mondta a király. - ez a legnehezebb. magunkon ítél\\xadkezni sokkal nehezebb, mint máson. ha sikerül helyesen ítélkezned saját magad fölött, az annak a jele, hogy valódi bölcs vagy.\\n- de ítélkezni mindenütt ítélkezhetem magam fölött - jegyezte meg a kis herceg. - ahhoz nem kell itt laknom.\\n- hm... hm... - mondta a király. - azt hiszem, van itt valahol a bolygómon egy vén patkány. éjszaka hallom a motozását. hát ítélkezzél e fölött a vén patkány fölött. időről időre halálra ítéled; élete így a te igazságszolgáltatásodtól függ majd. aztán minden egyes alkalommal meg\\xadkegyelmezel neki, takarékosságból, mivel csak egy van belőle.\\n- nem szeretem a halálos ítéleteket - mondta a kis herceg -, és minden bizonnyal elmegyek.\\n- ne! - mondta a király.\\na kis herceg azonban nekifogott az előkészületeknek, majd, mivel nem akart fájdalmat okozni az öreg uralkodónak, így szólt:\\n- ha fölségednek az a kívánsága, hogy pontosan engedelmeskedjenek a parancsainak, nekem is adhatna egy ésszerű parancsot. megparancsolhatná például, hogy egy percen belül keljek útra. a körülmények, úgy látom, kedvezőek...\\na király nem felelt. a kis herceg először tétovázott, aztán egy sóhajtással mégis útra kelt.\\n- kinevezlek nagykövetemnek! - kiáltott utána sietve a király.\\narcáról csak úgy sugárzott a tekintély.\\n“hát bizony furcsák a fölnőttek” - gondolta útközben a kis herceg.\\n11.\\na második bolygón lakott a hiú.\\n- lám, lám! - kiáltotta már messziről, amikor megpillantotta a kis herceget. - meglátogat egy csodálóm!\\nmert aki hiú, annak az összes többi ember olybá tűnik, mint a csodálója.\\n- jó napot! - mondta a kis herceg. - fura kalapja van uraságodnak.\\n- arra való, hogy megemeljem - felelte a hiú. - hogy viszonozzam vele az ünneplést. de sajnos, soha nem jár erre senki.\\n- úgy? - kérdezte a kis herceg, és egy szót sem értett az egészből.\\n- csapd össze a tenyeredet - javasolta neki a hiú.\\na kis herceg összeütötte a két tenyerét. a hiú szerényen megemelte a kalapját.\\n“itt már mulatságosabb, mint az imént a királynál volt” - gondolta a kis herceg, és újra össze\\xadverte a tenyerét. a hiú meg újra megemelte a kalapját.\\nígy ment ez öt percig; akkor a kis herceg elunta az egyhangú játékot.\\n- hát ahhoz mit kell csinálni, hogy a kalap leessék? - kérdezte.\\na hiú ezt egyszerűen elengedte a füle mellett. aki hiú, az csak a dicséretet hallja meg, soha mást.\\n- valóban nagyon csodálsz engem? - kérdezte a kis hercegtől.\\n- mit jelent az, hogy csodálni?\\n- csodálni annyit jelent, mint elismerni az illetőről, hogy széles e bolygón ő a legszebb, a legjobban öltözött, a leggazdagabb és a legokosabb.\\n- de hiszen te egyedül vagy a bolygódon!\\n- azért mégiscsak tedd meg! azért mégiscsak csodálj!\\n- csodállak - mondta a kis herceg, és egy parányit megvonta a vállát. - csak azt nem értem, mire jó az neked!\\nés sietve odébbállt.\\n“szó, ami szó - gondolta útközben -, a fölnőttek nagyon-nagyon furcsák.”\\n12.\\na következő bolygón egy iszákos lakott. ez a látogatás nagyon rövid ideig tartott, de nagyon elszomorította a kis herceget.\\nott találta az iszákost egy sor üres meg egy sor teli palack előtt.\\n- hát te mit csinálsz itt? - kérdezte tőle.\\n- iszom - felelte gyászos képpel az iszákos.\\n- miért iszol? - kérdezte a kis herceg.\\n- hogy felejtsek - felelte az iszákos.\\n- mit? - tudakolta a kis herceg, mert máris megsajnálta.\\n- azt, hogy szégyellem magam - felelte az iszákos és lehajtotta a fejét.\\na kis herceg szeretett volna segíteni rajta.\\n- miért szégyelled magad? - kérdezte.\\n- mert iszom - vágta el a további beszélgetést az iszákos, és mélységes hallgatásba süllyedt.\\na kis herceg meghökkenve szedelőzködött.\\n“bizony, bizony - gondolta út közben -, a fölnőttek rettentően furcsák.”\\n13.\\na negyedik bolygó az üzletemberé volt. ennek annyi dolga volt, hogy még csak föl se nézett, amikor a kis herceg megérkezett.\\n- jó napot! - mondta a kis herceg. - uraságodnak kialudt a cigarettája.\\n- három meg kettő, az öt. öt meg hét, az tizenkettő. tizenkettő meg három, az tizenöt. jó napot! tizenöt meg hét, az huszonkettő. huszonkettő meg hat, az huszonnyolc. nem érek rá újra rágyújtani. huszonhat meg öt, az harmincegy. hopp! tehát összesen ötszázegymillió-hatszázhuszonkétezer-hétszázharmincegy.\\n- ötszázmillió micsoda?\\n- mi az? még mindig itt vagy? ötszázmillió izé... már nem is tudom... annyi dolgom van! én komoly ember vagyok, én nem fecsérlem léhaságokra az időmet! kettő meg öt, az hét...\\n- ötszázmillió micsoda? - ismételte a kis herceg, mert ha egyszer egy kérdést föltett, nem tágított tőle többé.\\naz üzletember fölkapta a fejét.\\n- ötvennégy éve lakom ezen a bolygón, de eddig még csak háromszor zavartak. először hu\\xadszonkét éve egy cserebogár; isten tudja, honnét pottyant ide. iszonyatos zajt csapott, úgyhogy négy hibát is ejtettem a számadásomban. másodszor tizenegy esztendeje köszvényrohamot kaptam. keveset mozgok, nincs időm lófrálni; én komoly ember vagyok. harmadszor pedig: most! szóval azt mondtam, hogy ötszázegymillió...\\n- micsoda?\\naz üzletember látta: semmi reménye rá, hogy békén hagyják.\\n- olyan kis apróság, amit az égen látni olykor.\\n- légy?\\n- dehogy! olyan kis csillogó.\\n- méhek?\\n- dehogy! azok az aranyos kis izék, amin a semmittevők ábrándozni szoktak. én azonban komoly ember vagyok! nekem nincs időm semmiféle ábrándozásra.\\n- ahá! csillagok.\\n- az, az. csillagok.\\n- és mit csinálsz azzal az ötszázmillió csillaggal?\\n- ötszázegymillió-hatszázhuszonkétezer-hétszázharmincegy. komoly ember vagyok, szeretem a pontosságot.\\n- mit csinálsz ezekkel a csillagokkal?\\n- hogy mit csinálok velük?\\n- igen.\\n- semmit. birtoklom őket.\\n- birtoklod a csillagokat?\\n- igen.\\n- találkoztam egy királlyal, aki...\\n- a királyok nem birtokolnak. a királyok “uralkodnak” valamin. ez más.\\n- és mire jó neked, hogy birtoklod a csillagokat?\\n- arra, hogy gazdag legyek.\\n- és mire jó a gazdagságod?\\n- más csillagokat is megvenni, ha történetesen talál valaki.\\n“ez körülbelül olyasformán okoskodik, mint a részegesem” - gondolta a kis herceg; de azért tovább faggatta:\\n- hogyan lehet birtokolni a csillagokat?\\n- kinek a tulajdona? - vágott vissza zsémbesen az üzletember.\\n- nem tudom. senkinek.\\n- akkor az enyéim, mert nekem jutott eszembe először a birtoklásuk.\\n- és ennyi elég is?\\n- természetesen. ha gyémántot lelsz, amelyik senkié: akkor a tiéd. ha szigetre bukkansz, amelyik senkié: akkor a tiéd. ha kitalálsz valamit, ami még senki másnak nem jutott az eszébe: szabadalmaztatod, és a tiéd. én pedig a csillagokat birtoklom, mert előttem soha senki nem gondolt rá, hogy birtokolja őket.\\n- hát ez igaz - mondta a kis herceg. - és mit csinálsz velük?\\n- kezelem őket. megszámolom, aztán újraszámolom - felelte az üzletember. - nehéz dolog. de én komoly ember vagyok.\\na kis herceg azonban még ezzel sem érte be.\\n- nekem, ha van egy selyemsálam, a nyakam köré tekerhetem, és magammal vihetem. vagy ha van egy virágom, leszedhetem, és szintén magammal vihetem. de te nem szedheted le a csillagaidat!\\n- azt nem. de bankba tehetem őket.\\n- az meg mit jelent?\\n- azt jelenti, hogy fölírom egy darabka papirosra a csillagaim számát; aztán ezt a papír\\xaddarab\\xadkát bezárom egy fiókba.\\n- ennyi az egész?\\n- mi kell több?\\n“érdekes - gondolta a kis herceg. - sőt költői. csak éppen komolynak nem valami komoly.”\\na kis hercegnek ugyanis egészen más fogalmai voltak a komoly dolgokról, mint a fölnőttek\\xadnek.\\n- nekem - mondta - van egy virágom, azt naponta megöntözöm. van három vulkánom, azokat hetente kipucolom; mert azt is kipucolom, amelyik kialudt. sosem lehet tudni. a vulkán\\xadjaimnak is meg a virágomnak is hasznukra válik, hogy birtoklom őket. te azonban nem vagy hasznukra a csillagoknak.\\naz üzletember eltátotta a száját, de felelni egy mukkot sem tudott, a kis herceg pedig szedte a sátorfáját, és ment tovább.\\n“szó, ami szó: ezek a fölnőttek fölöttébb furcsák” - gondolta útközben.\\n14.\\naz ötödik bolygó nagyon érdekes bolygó volt. ez volt valamennyi közt a legkisebb. éppen csak akkorka, hogy egy lámpa meg egy lámpagyújtogató elfért rajta. a kis herceg el sem tudta képzelni, mi értelme lehet valahol az égbolton egy bolygón - amelyiken se ház nincs, se embe\\xadrek nem laknak - egy lámpának meg egy lámpagyújtogatónak. mégis azt gondolta magában:\\n“lehet, hogy ez az ember itt: merő képtelenség. mégis kevésbé képtelen, mint a király, a hiú, az üzletember meg az iszákos. az ő munkájának legalább van valami értelme. ha meggyújtja a lámpáját, mintha egy csillagot segítene világra vagy egy virágot. ha eloltja a lámpáját: elaltatja vele a virágot vagy a csillagot. szép foglalkozás. és mert szép, valóban hasznos is.”\\namikor a bolygó közelébe ért, tisztelettel köszöntötte a lámpagyújtogatót:\\n- jó napot kívánok! miért oltottad el a lámpádat?\\n- mert ez a parancs - felelte a lámpagyújtogató. - jó napot!\\n- mi a parancs?\\n- hogy oltsam el a lámpámat. jó estét!\\nazzal meggyújtotta a lámpát.\\n- de hát akkor miért gyújtottad meg újra?\\n- mert ez a parancs - felelte a lámpagyújtogató.\\n- nem értem - jegyezte meg a kis herceg.\\n- nincs is mit érteni rajta - mondta a lámpagyújtogató. - a parancs: parancs. jó napot!\\nés eloltotta a lámpát.\\naztán egy piros kockás zsebkendővel törölgetni kezdte a homlokát.\\n- szörnyű mesterség ez! valaha régen nagyon értelmes volt. este meggyújtottam, reggel eloltottam a lámpát. aztán reggeltől estig pihenhettem, és estétől reggelig alhattam.\\n- azóta megváltozott a parancs?\\n- a parancs nem változott - mondta a lámpagyújtogató. - éppen ez a baj! a bolygó évről évre gyorsabban forgott, a parancs viszont maradt a régi.\\n- és? - kérdezte a kis herceg.\\n- és most, hogy percenként fordul egyet a tengelye körül, nincs egy másodpercnyi nyugal\\xadmam! percenként oltok meg gyújtok.\\n- mulatságos! - mondta a kis herceg. - egy nap egy percig tart nálad.\\n- egyáltalán nem mulatságos - mondta a lámpagyújtogató. - tudod, mióta beszélgetünk itt egymással? egy hónapja!\\n- egy hónapja?\\n- úgy bizony. harminc perce. az harminc nap! jó estét!\\nés meggyújtotta megint a lámpáját.\\na kis herceg meg csak nézte, és megszerette ezt a lámpagyújtogatót, aki olyan híven ragasz\\xadkodik a parancshoz. eszébe jutott, hogyan kereste annak idején a napnyugtákat, hogyan húzta odébb a székét. szeretett volna segíteni a barátján.\\n- figyelj csak ide... tudok egy módot rá, hogy pihenhess, amikor csak akarsz.\\n- vagyis mindig - jegyezte meg a lámpagyújtogató.\\nmert lehet valaki egyszerre hűséges is meg lusta is.\\n- a te bolygód - folytatta a kis herceg - olyan kicsi, hogy három lépéssel körüljárhatod. ahhoz, hogy állandóan a napvilágon maradj, egyebet sem kell tenned, mint elég lassan járnod. így aztán, ha pihenni akarsz, elkezdesz járni... és a nappal addig fog tartani, ameddig kívánod.\\n- ezzel nem sokra megyek - felelte a lámpagyújtogató. - világéletemben egyet szerettem: aludni.\\n- öreg hiba - mondta a kis herceg.\\n- öreg hiba - mondta a lámpagyújtogató. - jó napot!\\nés eloltotta a lámpáját.\\n“ezt - gondolta a kis herceg, ahogy továbbment -, ezt a többiek mind megvetnék: a király is, a hiú is, az iszákos is, az üzletember is. pedig szerintem ő az egyetlen, aki nem nevetséges. talán mert mással törődik, nem saját magával.”\\nés sajnálkozva sóhajtott egyet.\\n“ő az egyetlen - folytatta gondolatait -, akivel meg tudnék barátkozni. csakhogy igazán túl kicsi a bolygója. nem férnek el rajta ketten...”\\nmagának sem merte bevallani, hogy legkivált a napi ezernégyszáznegyven napnyugtájáért sajnálja ezt az áldott bolygót.\\n15.\\na hatodik bolygó tízszerte nagyobb volt. egy öregúr lakott rajta, és óriási könyveket írt.\\n- hohó! itt egy kutató! - kiáltott föl, amikor megpillantotta a kis herceget.\\na kis herceg leült az íróasztal szélére. egy kicsit lihegett. annyit utazott már!\\n- honnét jössz? - kérdezte tőle az öregúr.\\n- mi ez a nagy könyv? - kérdezte a kis herceg. - mit csinál itt uraságod?\\n- geográfus vagyok - felelte az öregúr.\\n- mi az, hogy geográfus?\\n- tudós, aki tudja, hol vannak a tengerek, folyamok, városok, hegyek és sivatagok.\\n- ó, ez nagyon érdekes - mondta a kis herceg. - végre egy igazi mesterség!\\nkörülpillantott a geográfus bolygóján. ilyen fölséges bolygót még sosem látott.\\n- hát ez nagyon szép - mondta. - óceánok is vannak rajta?\\n- azt én nem tudhatom - felelte a geográfus.\\n- ó! - mondta a kis herceg csalódottan. - és hegységek?\\n- azt én nem tudhatom - ismételte a geográfus.\\n- és városok és folyamok és sivatagok?\\n- azt szintén nem tudhatom - felelte a geográfus.\\n- de ha egyszer geográfus!\\n- az igaz - felelte a földrajztudós -, viszont nem vagyok kutató. kutatóim, sajnos, egyáltalán nincsenek. hogy jönne egy földrajztudós ahhoz, hogy elinduljon, és számba vegye a városokat és folyamokat, hegységeket és tengereket, óceánokat és sivatagokat? a geográfus sokkal fontosabb ember annál, semhogy ide-oda kószáljon a világban. ül a dolgozószobájában, és fogadja a kutatókat. kikérdezi őket, és lejegyzi emlékeiket. aztán ha valamelyiknek az emlé\\xadkeit érdekesnek találja, vizsgálatot indíttat az illető kutató erkölcsi megbízhatóságát illetőleg.\\n- hát azt meg miért?\\n- azért, mert ha egy kutató hazudnék, annak végzetes következményei lennének a földrajz\\xadkönyvekben. valamint annak is, ha egy kutató többet innék a kelleténél.\\n- miért? - érdeklődött tovább a kis herceg.\\n- mert aki részeg, az duplán lát. így a földrajztudós két hegyet tüntetne föl ott, ahol a való\\xadságban csak egy van.\\n- ismerek valakit - mondta a kis herceg -, akiből nagyon rossz kutató lenne.\\n- lehet. nos, ha a kutató erkölcsisége kifogástalannak bizonyul, következik fölfedezésének a megvizsgálása.\\n- elmennek megnézni?\\n- nem, nem. az túl bonyodalmas lenne. hanem fölszólítják a kutatót, hogy szolgáltasson bizonyítékokat. ha például egy nagy hegy fölfedezéséről van szó, megkívánják tőle, hogy mutatóba szép, nagy köveket hozzon belőle.\\nhirtelen izgalom vett erőt a geográfuson.\\n- de te, te nagyon messziről jöttél! te kutató vagy! írd le nekem a bolygódat!\\nazzal fölütötte lajstromkönyvét, és hegyezni kezdte a ceruzáját.\\na kutatók elbeszéléseit ugyanis először ceruzával jegyzik le. megvárják, míg bizonyítékokat szolgáltat, és csak akkor következik a tintával való lejegyzés.\\n- nos? - kérdezte a tudós.\\n- ó! - mondta a kis herceg. - az én bolygóm egészen apró, nincs rajta semmi különös. van három vulkánom; kettő működik, egy kialudt. bár sosem lehet tudni.\\n- sosem lehet tudni - mondta a geográfus.\\n- egy virágom is van.\\n- a virágokat nem jegyezzük föl - mondta a geográfus.\\n- miért nem? hiszen az a legszebb rajta!\\n- mert a virágok múlékonyak.\\n- mit jelent az, hogy “múlékony”?\\n- a földrajzkönyvek - mondta a földrajztudós - a világ legértékesebb könyvei. nem avulnak el soha. fölöttébb ritkán fordul elő, hogy egy hegy megváltoztassa a helyét. fölöttébb ritka dolog az is, hogy egy óceánnak kiapadjon a vize. mi csak örök dolgokat írunk le.\\n- de a kialudt vulkán egyszer csak működni kezdhet - szólt közbe a kis herceg. - mit jelent az, hogy “múlékony”?\\n- számunkra teljességgel mindegy, hogy egy vulkán kialudt-e, vagy működik - felelte a geográfus. - nekünk csak a hegy számít. az pedig nem változik.\\n- de mit jelent az, hogy “múlékony”? - makacskodott a kis herceg, mert ha egyszer föltett egy kérdést, nem tágított tőle soha többet.\\n- azt jelenti, hogy előbb-utóbb megsemmisül.\\n- az én virágom előbb-utóbb megsemmisül?\\n- úgy bizony.\\n“múlékony a virágom - gondolta a kis herceg -, s mindössze négy tüskéje van, hogy a világtól védekezzék! és én magára hagytam otthon!”\\nmost érzett először valami lelkifurdalás-félét. de nyomban összeszedte magát.\\n- mit tanácsol uraságod? - kérdezte. - milyen bolygót látogassak meg!\\n- a földet - felelte a földrajztudós. - jó híre van...\\na kis herceg útra kelt, de közben egyre a virágjára gondolt.\\n16.\\na hetedik bolygó tehát a föld volt.\\nez a föld nem akármilyen bolygó ám! van rajta száztizenegy király (beleszámítva természe\\xadtesen a néger királyokat is), hétezer geográfus, kilencszázezer üzletember, hét és fél millió részeges, háromszáztizenegymillió hiú, vagyis körülbelül kétmilliárd fölnőtt.\\nhogy valami fogalmunk legyen a föld nagyságáról, gondoljuk meg, hogy az elektromosság fölfedezése előtt a hat kontinensen egész hadseregnyi lámpagyújtogatót kellett alkalmazni, szám szerint négyszázhetvenkétezer-ötszáztizenegyet.\\nkissé távolabbról nézve mindez pompás látványt nyújtott. a hadmozdulatok éppolyan szabá\\xadlyozottan folytak, mint egy balett mozgása egy opera színpadán. kezdték az új-zélandi és az ausztráliai lámpagyújtogatók. meggyújtották a lampionjaikat, aztán aludni mentek. utána beléptek a táncba a kínai meg a szibériai lámpagyújtogatók; majd ők is eltűntek a kulisszák mögött. most került sor az oroszországi és indiai lámpagyújtogatókra. utánuk az európaiakra és az afrikaiakra. aztán a dél-amerikaiakra. aztán az észak-amerikaiakra. és sosem vétették el színre lépésük rendjét. nagyszerű volt!\\nmindössze két lámpagyújtogató élt henyén és nemtörődöm módra: az északi-sark egyetlen lámpájának gyújtogatója, valamint kartársa, a déli-sark egyetlen lámpájáé. ők évente csupán kétszer dolgoztak.\\n17.\\nha az ember mindenáron szellemes akar lenni, megesik, hogy egy kicsit elveti a sulykot. én sem voltam egészen szavahihető, amikor a lámpagyújtogatókról beszéltem. így aztán félő, hogy hamis fogalmat adok bolygónkról azoknak, akik nem ismerik. az emberek ugyanis igen-igen kevéske helyet foglalnak el a földön. ha a föld kétmilliárd lakosa kissé szorosabban egymás mellé állna, olyasformán, mint például egy futballmeccsen, könnyen elférne egy húsz\\xadezer négyzetméternyi téren. az egész emberiséget össze lehetne zsúfolni a csendes-óceán legparányibb kis szigetére.\\na fölnőttek ezt persze nem hinnék el. ők igen nagy helyet tulajdonítanak maguknak. azt kép\\xadzelik magukról, hogy tekintélyesek, akár a majomkenyérfák. föl lehet szólítani őket: tessék, szá\\xadmoljanak. ez tetszeni fog nekik, mert imádják a számokat. de ne vesztegessétek az időtö\\xadket ilyen föladatra. fölösleges. inkább higgyetek nekem.\\na kis herceg tehát, amint földet ért, alaposan meglepődött, hogy egy teremtett lelket sem lát. már-már attól félt, elvétette a bolygót, amikor a homokban megmozdult előtte egy holdszínű gyűrű.\\n- jó éjszakát! - mondta a kis herceg, csak úgy találomra.\\n- jó éjszakát! - felelte a kígyó.\\n- melyik bolygóra estem? - kérdezte a kis herceg.\\n- a földre, afrikában - felelte a kígyó.\\n- ó... hát senki sincs a földön?\\n- ez itt a sivatag. a sivatagban nincs senki. de a föld nagy - mondta a kígyó.\\na kis herceg leült egy kőre, és szemét az égre emelte.\\n- nem tudom - mondta -, nem azért vannak-e kivilágítva a csillagok, hogy egy napon minden\\xadki megtalálhassa a magáét. nézd csak, az ott az én bolygóm. éppen fölöttünk... de milyen messze van!\\n- szép csillag - mondta a kígyó. - mit keresel itt?\\n- nézeteltérésem támadt egy virággal - mondta a kis herceg.\\n- hajaj! - mondta a kígyó.\\nés sokáig hallgattak.\\n- hol vannak az emberek? - kérdezte később a kis herceg. - itt a sivatagban olyan egyedül van az ember.\\n- nincs kevésbé egyedül az emberek közt sem - mondta a kígyó.\\na kis herceg hosszasan szemügyre vette.\\n- furcsa jószág vagy, vékony, mint az ujjam...\\n- de bármilyen király ujjánál hatalmasabb - mondta a kígyó.\\na kis herceg elmosolyodott.\\n- nem mondhatnám, hogy nagyon hatalmas vagy, hiszen még lábad sincs... utazni se tudsz.\\n- de nincs az a hajó, amelyik messzebbre bírna vinni, mint én - mondta a kígyó.\\nazzal, mint egy aranypánt, a kis herceg bokájára tekeredett.\\n- akit én megérintek, azt visszaadom a földnek, ahonnét származik - mondta. - te azonban tiszta vagy, és egy csillagról jöttél.\\na kis herceg nem felelt.\\n- olyan gyönge vagy ezen a gránit földön, hogy megesik rajtad a szívem. ha egy szép napon majd nagyon visszavágyol a bolygódra, segíthetek rajtad. mert én...\\n- ó! - mondta a kis herceg. - értem, nagyon is értem. de miért beszélsz mindig rejtélyekben?\\n- valamennyit megfejtem - mondta a kígyó.\\nés hallgattak utána tovább.\\n18.\\na kis herceg nekivágott a sivatagnak, de nem találkozott, csak egy virággal. egy három\\xadszirmú, semmi kis virággal.\\n- jó napot! - mondta a kis herceg.\\n- jó napot! - mondta a virág.\\n- hol vannak az emberek? - kérdezte udvariasan a kis herceg.\\na virág látott egyszer egy bandukoló karavánt.\\n- az emberek? van belőlük, azt hiszem, hat vagy hét. évekkel ezelőtt láttam őket. de sosem lehet tudni, hol-merre vannak. viszi, sodorja őket a szél. nagy baj nekik, hogy nincs gyökerük.\\n- viszontlátásra - mondta a kis herceg.\\n- viszontlátásra - mondta a virág.\\n19.\\na kis herceg fölkapaszkodott egy hegyre. életében nem látott még más hegyet, mint a három vulkánját, de azok éppen csak a térdéig értek. a kialudt vulkánját zsámolynak használta. “egy ekkora hegyről - gondolta - egyetlen szempillantással látni fogom az egész bolygót meg az összes embert.” de nem látott egyebet, mint tűhegyes sziklacsúcsokat.\\n- jó napot! - mondta találomra.\\n- jó napot!... jó napot!... jó napot!... - válaszolta a visszhang.\\n- ki vagy? - kérdezte a kis herceg.\\n- ki vagy... ki vagy... ki vagy... - felelte a visszhang.\\n- légy a barátom, olyan egyedül vagyok - mondta.\\n- egyedül vagyok... egyedül vagyok... egyedül vagyok - felelte a visszhang.\\n“milyen furcsa bolygó! - gondolta a kis herceg. - milyen száraz, milyen hegyes, milyen sós. és az embereknek nincs semmi képzelőtehetségük. folyton csak azt szajkózzák, amit mon\\xaddanak nekik... nekem otthon volt egy virágom: mindig ő kezdte a beszélgetést...”\\n20.\\negy szép napon aztán, miután sokáig vándorolt homokon, sziklákon, havon keresztül, a kis herceg végre rábukkant egy útra.\\nés az utak mind az emberekhez vezetnek.\\n- jó napot! - mondta.\\nvirágzó rózsakert előtt állt.\\n- jó napot! - mondták a rózsák.\\na kis herceg csak nézte őket. mind olyanok voltak, mint a virágja.\\n- kik vagytok? - kérdezte meghökkenten.\\n- rózsák vagyunk - felelték a rózsák.\\n- ó! - mondta a kis herceg.\\nés nagyon boldogtalannak érezte magát. neki a virágja azt mesélte, hogy sehol a világon nincsen párja; és most ott volt előtte ötezer, szakasztott ugyanolyan, egyetlen kertben!\\n“hogy bosszankodnék, ha látná! - gondolta. - iszonyatosan köhécselne, és úgy tenne, mint aki a halálán van, csak hogy nevetségessé ne váljék. nekem pedig úgy kellene tennem, mintha ápolnám; különben még valóban meghalna, csak hogy megszégyenítsen...”\\nés utána még ezt gondolta: “azt hittem, gazdag vagyok, van egy párjanincs virágom; és lám, nincs, csak egy közönséges rózsám. ezzel meg a három térdig érő vulkánommal, melyek közül az egyik talán egyszer s mindenkorra kialudt, igazán nem vagyok valami híres nagy herceg...”\\nlefeküdt a fűbe, és sírni kezdett.\\n21.\\nakkor jelent meg a róka.\\n- jó napot! - mondta a róka.\\n- jó napot! - felelte udvariasan a kis herceg. megfordult, de nem látott senkit.\\n- itt vagyok az almafa alatt - mondta a hang.\\n- ki vagy? - kérdezte a kis herceg. - csinosnak csinos vagy...\\n- én vagyok a róka - mondta a róka.\\n- gyere, játsszál velem - javasolta a kis herceg. - olyan szomorú vagyok...\\n- nem játszhatom veled - mondta a róka. - nem vagyok megszelídítve.\\n- ó, bocsánat! - mondta a kis herceg. némi tűnődés után azonban hozzátette: - mit jelent az, hogy “megszelídíteni”?\\n- te nem vagy idevalósi - mondta a róka. - mit keresel?\\n- az embereket keresem - mondta a kis herceg. - mit jelent az, hogy “megszelídíteni”?\\n- az embereknek - mondta a róka - puskájuk van, és vadásznak. mondhatom, nagyon kelle\\xadmetlen! azonfölül tyúkot is tenyésztenek. ez minden érdekességük. tyúkokat keresel?\\n- nem - mondta a kis herceg. - barátokat keresek. mit jelent az, hogy “megszelídíteni”?\\n- olyasmi, amit nagyon is elfelejtettek - mondta a róka. - azt jelenti: kapcsolatokat teremteni.\\n- kapcsolatokat teremteni?\\n- úgy bizony - mondta a róka. - te pillanatnyilag nem vagy számomra más, mint egy ugyan\\xadolyan kisfiú, mint a többi száz- meg százezer. és szükségem sincs rád. ahogyan neked sincs énrám. számodra én is csak ugyanolyan róka vagyok, mint a többi száz- meg százezer. de ha megszelídítesz, szükségünk lesz egymásra. egyetlen leszel számomra a világon. és én is egyetlen leszek a te számodra...\\n- kezdem érteni - mondta a kis herceg. - van egy virág... az, azt hiszem, megszelídített engem...\\n- lehet - mondta a róka. - annyi minden megesik a földön...\\n- ó, ez nem a földön volt - mondta a kis herceg.\\na róka egyszeriben csupa kíváncsiság lett.\\n- egy másik bolygón?\\n- igen.\\n- vannak azon a bolygón vadászok?\\n- nincsenek.\\n- lám, ez érdekes. hát tyúkok?\\n- nincsenek.\\n- semmi sem tökéletes - sóhajtott a róka. de aztán visszatért a gondolatára: - nekem bizony egyhangú az életem. én tyúkokra vadászom, az emberek meg énrám vadásznak. egyik tyúk olyan, mint a másik; és egyik ember is olyan, mint a másik. így aztán meglehetősen unat\\xadko\\xadzom. de ha megszelídítesz, megfényesednék tőle az életem. lépések neszét hallanám, amely az összes többi lépés neszétől különböznék. a többi lépés arra késztet, hogy a föld alá bújjak. a tiéd, mint valami muzsika, előcsalna a lyukamból. aztán nézd csak! látod ott azt a búza\\xadtáblát? én nem eszem kenyeret. nincs a búzára semmi szükségem. nekem egy búzatábláról nem jut eszembe semmi. tudod, milyen szomorú ez? de neked olyan szép aranyhajad van. ha megszelídítesz, milyen nagyszerű lenne! akkor az aranyos búzáról rád gondolhatnék. és hogy szeretném a búzában a szél susogását...\\na róka elhallgatott, és sokáig nézte a kis herceget.\\n- légy szíves, szelídíts meg! - mondta.\\n- kész örömest - mondta a kis herceg -, de nem nagyon érek rá. barátokat kell találnom, és annyi mindent meg kell ismernem!\\n- az ember csak azt ismeri meg igazán, amit megszelídít - mondta a róka. - az emberek nem érnek rá, hogy bármit is megismerjenek. csupa kész holmit vásárolnak a kereskedőknél. de mivel barátkereskedők nem léteznek, az embereknek nincsenek is barátaik. ha azt akarod, hogy barátod legyen, szelídíts meg engem.\\n- jó, jó, de hogyan? - kérdezte a kis herceg.\\n- sok-sok türelem kell hozzá - felelte a róka. - először leülsz szép, tisztes távolba tőlem, úgy, ott a fűben. én majd a szemem sarkából nézlek, te pedig nem szólsz semmit. a beszéd csak félreértések forrása. de minden áldott nap egy kicsit közelebb ülhetsz...\\nmásnap visszajött a kis herceg.\\n- jobb lett volna, ha ugyanabban az időben jössz - mondta a róka. - ha például délután négy\\xadkor érkezel majd, én már háromkor elkezdek örülni. minél előrébb halad az idő, annál boldo\\xadgabb leszek. négykor már tele leszek izgalommal és aggodalommal; fölfedezem, milyen drága kincs a boldogság. de ha csak úgy, akármikor jössz, sosem fogom tudni, hány órára öltöztessem díszbe a szívemet... szükség van bizonyos szertartásokra is.\\n- mi az, hogy szertartás? - kérdezte a kis herceg.\\n- az is olyasvalami, amit alaposan elfelejtettek - mondta a róka. - attól lesz az egyik nap más, mint a másik, az egyik óra különböző a másiktól. az én vadászaimnak is megvan például a maguk szertartása. eszerint minden csütörtökön elmennek táncolni a falubeli lányokkal. ezért aztán a csütörtök csodálatos nap! olyankor egészen a szőlőig elsétálok. ha a vadászok csak úgy akármikor táncolnának, minden nap egyforma lenne, és nekem egyáltalán nem lenne vakációm.\\nígy aztán a kis herceg megszelídítette a rókát. s amikor közeledett a búcsú órája:\\n- ó! - mondta a róka. - sírnom kell majd.\\n- te vagy a hibás - mondta a kis herceg. - én igazán nem akartam neked semmi rosszat. te erősködtél, hogy szelídítselek meg.\\n- igaz, igaz - mondta a róka.\\n- mégis sírni fogsz! - mondta a kis herceg.\\n- igaz, igaz - mondta a róka.\\n- akkor semmit sem nyertél az egésszel.\\n- de nyertem - mondta a róka. - a búza színe miatt. - majd hozzáfűzte: - nézd meg újra a rózsákat. meg fogod érteni, hogy a tiéd az egyetlen a világon. aztán gyere vissza elbúcsúzni, s akkor majd ajándékul elárulok neked egy titkot.\\na kis herceg elment, hogy újra megnézze a rózsákat.\\n- egyáltalán nem vagytok hasonlók a rózsámhoz - mondta nekik. - ti még nem vagytok semmi. nem szelídített meg benneteket senki, és ti sem szelídítettetek meg senkit. olyanok vagytok, mint a rókám volt. ugyanolyan közönséges róka volt, mint a többi száz- meg százezer. de én a barátommá tettem, és most már egyetlen az egész világon.\\na rózsák csak feszengtek, ő pedig folytatta:\\n- szépek vagytok, de üresek. nem lehet meghalni értetek. persze egy akármilyen járókelő az én rózsámra is azt mondhatná, hogy ugyanolyan, mint ti. holott az az igazság, hogy ő egymaga többet ér, mint ti valamennyien, mert ő az, akit öntözgettem. mert ő az, akire burát tettem. mert ő az, akit szélfogó mögött óvtam. mert róla öldöstem le a hernyókat (kivéve azt a kettőt-hármat, a lepkék miatt). mert őt hallottam panaszkodni meg dicsekedni, sőt néha hall\\xadgat\\xadni is. mert ő az én rózsám.\\nazzal visszament a rókához.\\n- isten veled - mondta.\\n- isten veled - mondta a róka. - tessék, itt a titkom. nagyon egyszerű: jól csak a szívével lát az ember. ami igazán lényeges, az a szemnek láthatatlan.\\n- ami igazán lényeges, az a szemnek láthatatlan - ismételte a kis herceg, hogy jól az emlé\\xadke\\xadzetébe vésse.\\n- az idő, amit a rózsádra vesztegettél: az teszi olyan fontossá a rózsádat.\\n- az idő, amit a rózsámra vesztegettem... - ismételte a kis herceg, hogy jól az emlékezetébe vésse.\\n- az emberek elfelejtették ezt az igazságot - mondta a róka. - neked azonban nem szabad elfelejtened. te egyszer s mindenkorra felelős lettél azért, amit megszelídítettél. felelős vagy a rózsádért...\\n- felelős vagyok a rózsámért - ismételte a kis herceg, hogy jól az emlékezetébe vésse.\\n22.\\n- jó napot! - mondta a kis herceg.\\n- jó napot! - mondta a váltóőr.\\n- mit csinálsz te itt? - kérdezte a kis herceg.\\n- rostálom az utasokat, ezresével - mondta a váltóőr. - hol jobbra küldöm a vonatokat, amik viszik őket, hol meg balra.\\nés egy kivilágított gyorsvonat rázkódtatta meg mennydörgő robajjal a váltóházat.\\n- de sürgős nekik - mondta a kis herceg. - mit keresnek?\\n- azt maga a mozdonyvezető se tudja - mondta a váltóőr.\\nellenkező irányból eldübörgött egy másik kivilágított gyorsvonat.\\n- máris visszajöttek? - kérdezte a kis herceg.\\n- ezek nem ugyanazok - mondta a váltóőr. - ez egy ellenvonat.\\n- nem érezték jól magukat ott, ahol voltak?\\n- az ember sosem érzi jól magát ott, ahol éppen van - mondta a váltóőr.\\nföldübörgött egy harmadik kivilágított gyorsvonat.\\n- ezek az első vonatnak az utasait üldözik? - kérdezte a kis herceg.\\n- egyáltalán nem üldöznek semmit - mondta a váltóőr. - alusznak odabent vagy ásítoznak. csak a gyerekek nyomják az orrukat az ablaküveghez.\\n- mert csak a gyerekek tudják, hogy mit keresnek - mondta a kis herceg. - időt vesztegetnek egy rongybabára, amitől egyszerre nagyon fontos lesz az a rongybaba, és ha elveszik tőlük, sírnak...\\n- könnyű nekik - mondta a váltóőr.\\n23.\\n- jó napot! - mondta a kis herceg.\\n- jó napot! - mondta a kereskedő.\\nez a kereskedő szomjúságoltó labdacsokat árult. aki hetente egyet bevesz, az többé nem is kíván inni.\\n- hát ezt meg minek árulod? - kérdezte a kis herceg.\\n- rengeteg időt lehet megtakarítani vele - felelte a kereskedő. - a tudósok kiszámították: heti ötvenhárom percet!\\n- és mit csinál az ember azzal az ötvenhárom perccel?\\n- amit akar...\\n“én - gondolta a kis herceg -, ha nekem ötvenhárom fölösleges percem volna, szépen elindul\\xadnék egy forrás felé...”\\n24.\\na defektemet követő nyolcadik napon voltunk, és úgy hallgattam a kereskedő históriáját, hogy közben vízkészletem utolsó csöppjeit kortyoltam.\\n- kétségkívül szépek az emlékeid - mondtam a kis hercegnek -, én azonban még mindig nem javítottam meg a gépemet, viszont innivalóm sincs több, úgyhogy magam is nagyon örülnék neki, ha szépen elindulhatnék egy forrás felé!\\n- barátom, a róka azt mondta...\\n- édes kis öregem, hagyd már azt a rókát!\\n- miért?\\n- mert rövidesen szomjan halunk...\\nnem értette az okoskodásomat, azt mondta:\\n- jó az embernek, ha volt egy barátja, még ha rövidesen meg is kell halnia. én a magam részéről nagyon örülök neki, hogy volt egy róka barátom...\\n“képtelen fölfogni a veszélyt - gondoltam. - nem volt soha se éhes, se szomjas. beéri egy kis napfénnyel...”\\nő azonban rám nézett, úgy felelt a gondolatomra:\\n- én is szomjas vagyok... keressünk egy kutat...\\ncsüggedten legyintettem: képtelen vállalkozás vaktában kutat keresni a határtalan sivatagban. de azért mégis elindultunk.\\nnémán vándoroltunk órákon át, aztán leszállt az éjszaka, és sorra fölragyogtak a csillagok. mintha álomban láttam volna őket: egy kicsit lázas voltam a szomjúságtól. emlékezetemben ott táncoltak a kis herceg szavai.\\n- azt mondtad, te is szomjas vagy? - kérdeztem.\\nde ő nem felelt a kérdésemre. egyszerűen csak ennyit mondott:\\n- néha a szívnek is jó a víz...\\nnem értettem a válaszát, de nem szóltam többet. tudtam, hogy őt sosem szabad faggatni.\\nelfáradt. leült. én melléje ültem. akkor némi csönd után azt mondta:\\n- a csillagok szépek. attól, hogy van rajtuk egy láthatatlan virág...\\nolyasmit feleltem, hogy “persze, persze”, aztán szótlanul bámultam a holdfényben a homok redőit.\\n- a sivatag is szép - tette hozzá.\\nigaza volt. mindig szerettem a sivatagot. az ember leül egy homokdombra. nem lát semmit. nem hall semmit. valami mégis csöndesen sugárzik...\\n- az teszi széppé a sivatagot - mondta a kis herceg -, hogy valahol egy kutat rejt...\\nmeglepődtem, mert egyszerre megértettem a homoknak ezt a titokzatos sugárzását. gyerek\\xadkoromban egy régi házban laktam; a legenda szerint valahol kincs volt elásva benne. igaz, soha senki nem jött a nyomára; meglehet, nem is kereste soha senki. mégis elvarázsolta az egész házat. titkot rejtett valahol a szíve mélyén...\\n- igen - mondtam a kis hercegnek -, akár egy házról van szó, akár a csillagokról, akár a sivatagról: ami széppé teszi őket, az láthatatlan.\\n- örülök neki, hogy egy véleményen vagy a rókámmal - mondta a kis herceg.\\nés mert elaludt, a karomba vettem, és úgy folytattam utamat. meghatottságot éreztem: mintha törékeny kincset vittem volna. sőt, mintha törékenyebb dolog egyáltalán nem is lett volna a földön. néztem a holdvilágban ezt a sápadt homlokot, ezt a csukott szempárt, ezeket a szélben meg-megrezdülő aranyfürtöket, és azt gondoltam magamban: “amit látok, az csak a kéreg. ami a legfontosabb, az láthatatlan...”\\ns mivel nyitott ajkai körül valami mosolyféle derengett, még ezt is gondoltam: “ebben az alvó kis hercegben a legjobban a virágjához való hűsége hat meg: egy rózsa képe, mely akkor is úgy ragyog benne, mint egy lámpa lángja, amikor alszik...” és ettől még törékenyebbnek tűnt a szememben. a lámpákra nagyon kell vigyázni: elég egy hirtelen kis szél, hogy kioltsa őket...\\nmentem, mentem, és hajnalban rábukkantam a kútra.\\n25.\\n- az emberek - mondta a kis herceg - gyorsvonatokon zötykölődnek, de már nem tudják, mit keresnek. erre elkezdenek ágálni, és csak forognak körbe-körbe...\\naztán még hozzátette:\\n- nem éri meg...\\na kút, amit találtunk, nem hasonlított a szaharai kutakhoz. a szaharai kutak egyszerűen ho\\xadmok\\xadba ásott lyukak. ez meg olyan volt, mint egy falusi kút.\\nholott falunak nyoma sem volt, úgyhogy azt hittem, káprázik a szemem.\\n- nem furcsa? - mondta a kis herceg. - minden készen van: csiga, vödör, kötél...\\nnevetett, megfogta a kötelet, megmozgatta a csigát. a csiga nyikorgott, mint egy öreg szélkakas, ha hosszú szünet után fölébred a szél.\\n- hallod? - mondta a kis herceg. - fölébresztjük a kutat, ő meg énekel...\\nnem akartam, hogy megerőltesse magát.\\n- hagyd, majd én - mondtam. - neked ez túl nehéz.\\nlassan fölvontam a vödröt a káváig. ráállítottam a kávára, jó szilárdan. fülemben még tartott a csiga éneke; a vödörben még remegett a víz, és benne, láttam, ott remegett a nap.\\n- éppen erre a vízre szomjazom - mondta a kis herceg. - adj innom...\\negyszerre megértettem, hogy mit keresett!\\najkához emelte a vödröt. hunyt szemmel ivott. olyan volt ez, mint egy ünnep. ez a víz más volt, több volt puszta italnál. a csillagok alatti vándorlásból született, a csiga énekéből, a karom megfeszített erejéből. olyan jólesett a szívnek, mint egy ajándék. mikor gyerek voltam, így aranyozta be a karácsonyi ajándékot a karácsonyfa fénye, az éjféli mise zenéje meg a mosolyok varázsa.\\n- nálatok - mondta a kis herceg - az emberek egyetlen kertben ötezer rózsát nevelnek. mégse találják meg, amit keresnek.\\n- nem találják meg - mondtam.\\n- pedig egyetlen rózsában vagy egy korty vízben megtalálhatnák...\\n- minden bizonnyal - feleltem.\\n- csakhogy a szem vak - tette hozzá a kis herceg. - a szívünkkel kell keresni.\\nén is ittam. megkönnyebbültem tőle. mikor a nap fölkel, mézszíne van a homoknak. most ennek a mézszínnek is örültem. miért is ért utol aztán a szenvedés...\\n- meg kell tartanod, amit ígértél - mondta szelíden a kis herceg, és már újra ott ült mellettem.\\n- mit ígértem?\\n- tudod... szájkosarat a bárányomnak... hiszen felelős vagyok a virágomért!\\nelőszedtem a zsebemből a rajzaimat. a kis herceg rájuk pillantott, és elnevette magát.\\n- ó, a majomkenyérfáid! - mondta. - mint a káposztafejek...\\n- ugyan!\\npedig olyan büszke voltam a majomkenyérfáimra!\\n- a rókád meg... a fülei... inkább mintha szarvak volnának... meg aztán túl nagyok is!\\nés megint nevetett.\\n- igazságtalan vagy, barátocskám; megmondtam, hogy nem tudok egyebet rajzolni, mint nyitott meg csukott óriáskígyót.\\n- semmi hiba - mondta. - a gyerekek megértik.\\nrajzoltam hát egy szájkosarat. és elszorult a szívem, ahogy átnyújtottam neki.\\n- neked valami titkos terved van...\\nnem felelt. azt mondta:\\n- tudod... holnap lesz egy éve, hogy a földre estem...\\nmajd némi szünet után:\\n- egészen közel ide...\\nelpirult.\\ns engem, magam sem tudom, miért, elfogott valami sötét szomorúság. egyszerre fölötlött bennem egy kérdés:\\n- akkor hát egy hete reggel, amikor megismertelek, nem csak úgy véletlenül kószáltál itt, egyszál-egyedül, ezer mérföldnyire minden lakott helytől? oda akartál visszamenni, ahová leestél?\\na kis herceg újra elpirult.\\nén pedig habozva hozzátettem:\\n- csak nem az évforduló miatt?\\na kis herceg még jobban elpirult. felelni nem felelt a kérdéseimre; de ha valaki elpirul, az ugye azt jelenti, hogy “igen”.\\n- ó - mondtam neki -, attól félek...\\nazt felelte:\\n- neked most dolgoznod kell. vissza kell menned a gépedhez. itt várlak majd, gyere vissza holnap este...\\nén azonban nyugtalan maradtam. eszembe jutott a róka. aki hagyja, hogy megszelídítsék, az a sírás kockázatát is vállalja vele...\\n26.\\na kút mellett romladozó kőfal húzódott. mikor másnap este, munkám után visszajöttem, már messziről észrevettem a kis herceget: lábát lógatva fönt ült a fal tetején. és hallottam, hogy beszél valakivel.\\n- hát nem emlékszel rá? - mondta. - nem egészen itt volt!\\nerre egy másik hang felelhetett neki valamit, mert ő megint erősködni kezdett:\\n- igen, igen! a napja ma van, de a helye nem egészen ez...\\nmentem tovább a fal felé. kívüle még mindig nem láttam, nem hallottam senkit. ő azonban tovább vitatkozott:\\n- ...úgy bizony. nézd csak meg, hol kezdődik a nyomom a homokban. és csak várj rám. ma éjszaka ott leszek.\\nmár csak húszméternyire voltam a faltól, de még most sem láttam semmit.\\na kis herceg egy darabig hallgatott, aztán azt kérdezte:\\n- jó mérged van? biztos vagy benne, hogy nem fogok sokáig szenvedni?\\nmegtorpantam, elszorult a szívem, de még mindig nem értettem a dolgot.\\n- most pedig menj el - mondta a kis herceg. - le akarok jönni innét!\\nerre magam is a fal tövébe néztem, hirtelen hőköléssel. mert egy kígyó ágaskodott ott a kis herceg felé, egyike azoknak a sárga kígyóknak, amelyek harminc másodperc alatt végeznek az emberrel. kezemet a zsebembe mélyesztettem, hogy előrántsam a revolveremet, és futni kezdtem feléjük; lépteim zajára azonban a kígyó puhán visszaernyedt a homokba, olyas\\xadformán, mint egy szökőkút elhaló sugara, és sietség nélkül, fémes kis nesszel eltűnt a kövek közt.\\népp jókor értem a falhoz, hogy a butácska hercegecskét fölfogjam a karomban. sápadt volt, mint a hó.\\n- hát ez meg mi volt? most már kígyókkal társalkodol?\\nkibontottam aranyszínű sálját, amit örökké a nyaka köré tekerve hordott. megnedvesítettem a halántékát, és itattam vele pár kortyot.\\nde kérdezni már nem mertem tőle semmit. komolyan nézett rám, karját a nyakamba fonta. éreztem a szívét: úgy vert, mint egy meglőtt madáré.\\n- örülök neki, hogy sikerült megjavítanod a gépedet. most aztán hazatérhetsz...\\n- honnan tudod?\\néppen azt akartam elújságolni neki, hogy minden várakozás ellenére mégiscsak zöld ágra vergődtem a munkámmal.\\nnem felelt a kérdésemre. aztán azt mondta:\\n- én is hazamegyek ma... - és szomorkásan hozzátette: - de az sokkal messzebb van... és sokkal nehezebb...\\néreztem, hogy valami rendkívüli dolog történik. úgy szorítottam a karomba, mint egy gyereket; közben mégis olyan volt, mintha függőlegesen elfolynék valami szakadékba, és én mit sem tehetek, hogy visszatartsam...\\ntekintete komoly volt, és valahol a messzeségben járt.\\n- mim van? a bárányod. meg a bárány ládája. meg a szájkosár...\\nszomorúan elmosolyodott.\\nvártam, hosszan, sokáig. éreztem, hogy lassacskán átmelegszik.\\n- kedves kis barátom, te féltél...\\nigen, félt, de még mennyire félt! hanem azért szelíden fölnevetett.\\n- este sokkal jobban fogok félni...\\nmegint belém hasított a jóvátehetetlenség fagyasztó érzése. és tűrhetetlennek éreztem már a puszta gondolatát is, hogy nem hallom többet a nevetését. hiszen olyan volt számomra, mint forrás a sivatagban.\\n- kis barátom, hallani akarom még a nevetésedet...\\nde ő azt mondta:\\n- ma éjszaka éppen egy éve. ma éjjel a csillagom pontosan a fölött a hely fölött lesz, ahol egy esztendeje földre hullottam...\\n- kedves kis barátom, ugye, ez az egész csak rossz álom, ez a kígyóhistória, ez a találkozó, ez a csillagmese...\\nerre a kérdésre azonban nem válaszolt. azt mondta:\\n- ami fontos, azt nem lehet látni...\\n- persze...\\n- a virágokkal is így van. ha szeretsz egy virágot, valahol egy csillagon, jólesik éjszaka fölnézned az égre. minden csillagon van egy virág.\\n- persze...\\n- és a vízzel is így van. amit innom adtál, olyan volt, mint a muzsika, a csiga meg a kötél miatt... emlékszel?... nagyon jó volt.\\n- persze...\\n- éjszaka majd fölnézel a csillagokra. az enyém sokkal kisebb, semhogy megmutathatnám, hol van. de jobb is így. számodra az én csillagom egy lesz valamerre a többi csillag közt. így aztán minden csillagot szívesen nézel majd... mind a barátod lesz. azonfölül egy ajándékot is adok neked.\\nmegint nevetett.\\n- ó, kedves kis barátom, hogy szeretem hallani a nevetésedet!\\n- éppen ez lesz az ajándékom... olyasforma, mint a víz...\\n- mit akarsz ezzel mondani?\\n- az embereknek nem ugyanazt jelentik a csillagaik. akik úton járnak, azoknak vezetőül szolgálnak a csillagok. másoknak nem egyebek csöppnyi kis fényeknél. ismét mások, a tudó\\xadsok számára problémák. az üzletemberem szemében aranyból voltak. a csillagok viszont mind-mind hallgatnak. de neked olyan csillagaid lesznek, amilyenek senki másnak...\\n- hogyhogy?\\n- mert én ott lakom majd valamelyiken, és ott nevetek majd valamelyiken: ha éjszakánként fölnézel az égre, olyan lesz számodra, mintha minden csillag nevetne. neked, egyedül neked, olyan csillagaid lesznek, amik nevetni tudnak!\\nés megint nevetett.\\n- s ha majd megvigasztalódtál (mert végül is mindig megvigasztalódik az ember), örülni fogsz neki, hogy megismerkedtél velem. mindig is a barátom leszel. és szívesen fogsz együtt nevetni velem. és néha kinyitod majd az ablakodat, csak úgy, kedvtelésből... és a barátaid nagyot néznek majd, ha látják, hogy nevetsz, amikor fölnézel az égre. te meg majd azt mondod nekik: “igen, engem a csillagok mindig megnevettetnek!” erre azt hiszik majd, hogy meghibbantál. szép kis tréfa lesz...\\nés nevetett újra.\\n- mintha a csillagok helyett egy csomó kacagni tudó csengettyűt kaptál volna tőlem...\\nés újból nevetett. de aztán elkomolyodott.\\n- ma éjszaka... tudod... ne gyere el.\\n- nem hagylak magadra.\\n- olyan leszek majd, mintha valami bajom volna... egy kicsit olyan, mintha meghalnék. úgy bizony. ne gyere el, semmi szükség rá, hogy végignézd... nem éri meg...\\n- nem hagylak magadra.\\nő szemlátomást gondterhelt volt.\\n- azért mondom... a kígyó miatt. nehogy esetleg téged is megmarjon... a kígyók komiszak. puszta kedvtelésből is marnak...\\n- nem hagylak magadra.\\nde valami megnyugtatta.\\n- igaz, második marásra már nem marad mérgük...\\nazon az éjszakán észre sem vettem, mikor kelt útra. nesztelenül megszökött. mikor végre utolértem, elszántan, gyors léptekkel menetelt. csak ennyit mondott:\\n- ó, hát itt vagy...\\nés kézen fogott. de még mindig bántotta valami.\\n- nem jól tetted. fájni fog neked. olyan lesz, mintha meghaltam volna, pedig nem is igaz...\\nén csak hallgattam.\\n- ugye, érted? nagyon messze van. nem vihetem magammal ezt a testet. túl nehéz.\\nhallgattam.\\n- olyan lesz, mint egy levetett, régi kéreg. mért volna szomorú egy levetett kéreg?...\\nhallgattam.\\negy kicsit elbátortalanodott. de aztán újra összeszedte magát.\\n- tudod, milyen jó lesz? én is nézem majd a csillagokat. minden egyes csillag kút lesz, rozsdás csigával. és mind innom ad majd.\\nhallgattam.\\n- olyan mulatságos lesz! neked ötszázmillió csengettyűd lesz, nekem ötszázmillió forrásom...\\nés most már ő is elhallgatott, mert sírt...\\n- helyben vagyunk. most hadd menjek pár lépést egyedül.\\nde leült, mert fél.\\naztán azt mondta:\\n- tudod... a virágom... felelős vagyok érte. hiszen olyan gyönge! és olyan gyanútlan. egyebe sincs, mint négy semmi kis tövise, hogy a világtól védekezzék...\\nleültem én is, mert nem bírtam tovább állva maradni.\\n- hát igen - mondta. - ennyi az egész.\\negy kicsit még tétovázott, aztán fölállt. lépett egyet. én moccanni se bírtam.\\ncsak ennyi volt: egy sárga villanás a bokájánál. egy pillanatig mozdulatlanul állt. nem kiáltott. szelíden dőlt el, ahogyan a fák. még csak zajt sem keltett, a homok miatt.\\n27.\\nés ennek bizony immár hat éve. s én még soha senkinek sem meséltem el ezt a történetet. bajtársaim, mikor viszontláttak, örültek, hogy élve látnak. én szomorú voltam, de azt mond\\xadtam: “azért, mert nagyon fáradt vagyok...”\\nmost már egy kicsit megvigasztalódtam. azaz... mégsem egészen. de tudom, hogy visszatért a bolygójára, mert mikor fölkelt a nap, nem találtam ott a testét. annyira mégsem volt nehéz... és szeretem a csillagokat hallgatni éjszakánként. mintha ötszázmillió csengettyű volna...\\nde lám csak, van itt egy rendkívüli kérdés! a szájkosárról, amit a kis hercegnek rajzoltam, lefelejtettem a bőrszíjat! sose tudhatja fölcsatolni a bárányára. s én azt kérdezem magamban: “mi történt a bolygón? lehet, hogy a bárány megette a virágot...”\\negyszer azt gondolom: “nem, semmiképpen sem! a kis herceg mindig üvegbura alá teszi éjszakára a virágját, és éberen vigyáz a bárányára...” ilyenkor boldog vagyok, és a csillagok mind kedvesen nevetnek.\\nmásszor meg ezt gondolom: “az ember olykor-olykor figyelmetlen, és máris kész a baj! egy este elfelejti föltenni az üvegburát, vagy éjszaka nesztelenül kiszökik a bárány...” és ilyenkor a csengettyűk mind csupa könnyé változnak.\\nnagy rejtelem ez. mert ti szeretitek a kis herceget, nektek se mindegy, mint ahogy nem mind\\xadegy nekem sem, hogy valahol a mindenségben, ki tudja, hol, ki tudja, merre, egy bárány, akit nem is ismerünk, lelegelt-e egy rózsát, vagy sem...\\nnézzetek föl az égre. és tegyétek föl a kérdést: megette vagy nem ette meg a virágot a bárány? s aszerint, igen vagy nem, meglátjátok, egyszerre megváltozik minden...\\nés soha, egyetlen fölnőtt sem fogja megérteni, hogy ez milyen rettentően fontos!\\n\\nszámomra ez itt a világ legszebb és legszomorúbb tája. ugyanaz a táj, mint az előző lapon, de még egyszer lerajzoltam, hogy jól lássátok. itt jelent meg a földön, s aztán itt tűnt el róla a kis herceg. tanulmányozzátok figyelmesen, hogy biztosan ráismerjetek, ha egyszer afrikában utaztok, a sivatagban. s ha netalán arra visz az utatok, kérve kérlek, ne siessetek, időzzetek el egy kicsit ott, pontosan a csillag alatt. ha akkor egy gyerek lép hozzátok, és nevet, és aranyhaja van, és nem felel, ha kérdezik: nyilván kitaláljátok, ki az. s akkor aztán legyetek kedvesek, és ne hagyjátok, hogy tovább szomorkodjam: írjátok meg nekem, hogy visszajött...\\n'"
            ],
            "application/vnd.google.colaboratory.intrinsic+json": {
              "type": "string"
            }
          },
          "metadata": {},
          "execution_count": 5
        }
      ]
    },
    {
      "cell_type": "code",
      "source": [
        "# Ronda karakterek törlése\n",
        "raw_text = raw_text.replace('\\n', ' ')\n",
        "raw_text = raw_text.replace('\\t', ' ')"
      ],
      "metadata": {
        "id": "3a_YEswD38Jl"
      },
      "execution_count": 6,
      "outputs": []
    },
    {
      "cell_type": "code",
      "source": [
        ""
      ],
      "metadata": {
        "id": "g3tn30Zh4Kt_"
      },
      "execution_count": 6,
      "outputs": []
    },
    {
      "cell_type": "code",
      "source": [
        "import re"
      ],
      "metadata": {
        "id": "HHUeOMY931E4"
      },
      "execution_count": 7,
      "outputs": []
    },
    {
      "cell_type": "code",
      "source": [
        "raw_text = re.sub(r'[_\"\\-;%()|,+&/=*%:#@\\[\\]]', ' ', raw_text)"
      ],
      "metadata": {
        "id": "aPVrF6Dv3-ES"
      },
      "execution_count": 8,
      "outputs": []
    },
    {
      "cell_type": "code",
      "source": [
        "raw_text"
      ],
      "metadata": {
        "id": "nRIL9Wl24Ejp",
        "outputId": "51dbb949-aa7d-42c7-8108-6ebdc5c2d897",
        "colab": {
          "base_uri": "https://localhost:8080/",
          "height": 156
        }
      },
      "execution_count": 9,
      "outputs": [
        {
          "output_type": "execute_result",
          "data": {
            "text/plain": [
              "'\\ufeff antoine de saint exupéry a kis herceg  fordította  rónay györgy    léon werth nek kérem a gyerekeket  ne haragudjanak  amiért ezt a könyvet egy fölnőttnek ajánlom. komoly mentségem van rá  ez a fölnőtt széles e világon a legjobb barátom. de van egy másik mentsé\\xadgem is  ez a fölnőtt mindent meg tud érteni  még a gyerekeknek szóló könyveket is. harmadik mentségem pedig a következő  ez a fölnőtt franciaországban él  s ott éhezik és fázik. nagy szüksége van vigasztalásra. ha pedig ez a sok mentség nem elegendő  akkor annak a gyerek\\xadnek ajánlom könyvemet  aki valaha ez a fölnőtt volt. mert előbb minden fölnőtt gyerek volt.  de csak kevesen emlékeznek rá.  ajánlásomat tehát kijavítom  ilyesformán  léon werth nek  amikor még kisfiú volt.  1. hatéves koromban egy könyvben  mely az őserdőről szólt  és igaz történetek volt a címe  láttam egy nagyszerű képet. óriáskígyót ábrázolt  amint egy vadállatot nyel el. tessék  itt a rajz másolata.  a könyvben ez állt  “az óriáskígyó egészben  rágás nélkül nyeli le zsákmányát. utána moccan\\xadni sem bír  és az emésztés hat hónapját végigalussza.” akkoriban sokat tűnődtem a dzsungelek kalandjain  és egy színes ceruzával nekem is sikerült megrajzolnom első rajzomat. az 1. számút. ilyesformán   remekművemet megmutattam a fölnőtteknek  és megkérdeztem őket  nem félnek e tőle.   miért kellene félni egy kalaptól?   válaszolták. az én rajzom azonban nem kalapot ábrázolt. óriáskígyót ábrázolt  amint épp egy elefántot emészt. erre lerajzoltam az óriáskígyót belülről is  hogy a fölnőttek megérthessék  miről van szó. mert nekik mindig mindent meg kell magyarázni. ez a 2. számú rajz ilyesforma volt   most aztán a fölnőttek azt ajánlották  ne rajzoljak többé óriáskígyót se nyitva  se csukva  hanem inkább foglalkozzam földrajzzal  történelemmel  számtannal és nyelvtannal. így mond\\xadtam le hatéves koromban nagyszerű festői pályafutásomról. kedvemet szegte 1. és 2. számú rajzom kudarca. a nagyok semmit sem értenek meg maguktól  a gyerekek pedig belefáradnak  hogy örökös örökké magyarázgassanak nekik. más mesterséget kellett választanom tehát  megtanultam repülőgépet vezetni. nagyjából az egész világot berepültem. és való igaz  hogy közben nagy hasznát vettem a földrajznak. első pillantásra meg tudtam különböztetni kínát arizonától. ez pedig fölöttébb hasznos dolog  ha éjszaka eltéved az ember. így aztán életem folyamán nagyon sokszor kerültem kapcsolatba komoly emberekkel. jócskán akadt dolgom a fölnőttekkel. közvetlen közelből láthattam őket. és nem mondhatnám  hogy ettől jobb lett róluk a véleményem. ha olyannal találkoztam  aki kicsit értelmesebbnek látszott  kipróbáltam rajta 1. számú rajzo\\xadmat  mert azt mindig magamnál tartottam. meg akartam tudni  valóban megérti e a dolgokat. de a válasz mindig így hangzott  “ez egy kalap.” erre aztán nem beszéltem neki se óriáskígyókról  se őserdőkről  se csillagokról. alkalmaz\\xadkodtam hozzá. bridzsről beszéltem neki  meg golfról meg politikáról és nyakkendőkről. az illető fölnőtt pedig nagyon örült neki  hogy ilyen okos emberrel került ismeretségbe. 2. így éltem magányosan  anélkül  hogy igazában bárkivel is szót érthettem volna  míg egyszer  hat esztendővel ezelőtt  kényszerleszállást nem kellett végeznem a szaharában. valami eltö\\xadrött a motoromban. és mivel se gépészem nem volt  se utasom  magamnak kellett nekilátnom  hogy zöld ágra vergődjem valahogyan  és kijavítsam a súlyos hibát. élet és halál kérdése volt ez számomra. alig egy hétre való ivóvizem volt. ott dőltem álomra az első este a homokon  ezermérföldnyire minden lakott helytől. elhagya\\xadtottabb voltam  mint tutaján a hajótörött az óceán közepén. elképzelhető hát  mennyire meg\\xadlepődtem  amikor hajnalban egy fura kis hang ébresztett föl. azt mondta    légy szíves  rajzolj nekem egy bárányt!   micsoda?   rajzolj nekem egy bárányt... fölugrottam  mintha villám csapott volna le mellettem. megdörgöltem a szememet  aztán jól kimeresztettem. és egy apró emberkét láttam  egy teljességgel rendkívüli kis emberkét  amint komoly figyelemmel szemlél. itt a legjobb kép  amit később csinálnom sikerült róla.  csakhogy az én rajzom kétségkívül sokkal kevésbé elragadó  mint amilyen a mintája volt. igaz  nem az én hibámból. mert ami festői pályafutásomat illeti  attól már hatesztendős korom\\xadban elvették a kedvemet a fölnőttek  így aztán nem is tanultam meg rajzolni  kivéve a csukott meg a nyitott óriáskígyókat. ámulattól kerek szemmel néztem hát a különös tüneményt. ne feledjük el  ezer mérföldre voltam minden lakott vidéktől. emberkémen pedig semmi jele nem volt annak  mintha elté\\xadvedt volna  vagy halálosan fáradt  halálosan éhes  halálosan szomjas lenne  esetleg halálosan félne. egyáltalán nem úgy festett  mint egy szerencsétlen gyerek  aki eltévedt a sivatagban  ezermérföldnyire minden lakott helytől. mikor végre szavamra leltem  azt kérdeztem tőle    de hát... hogy kerülsz te ide? erre szelíden  és mintha valami nagyon komoly dolgot kérne  megismételte    légy szíves  rajzolj nekem egy bárányt... ha valami nagyon lenyűgözően rejtélyes  az ember nem meri megtenni  hogy ne engedel\\xadmeskedjék. akármilyen képtelenségnek találtam  hogy ezer mérföldre minden lakott helytől és rá\\xadadásul halálos veszedelemben  elővettem a zsebemből egy darab papirost meg a töltőtolla\\xadmat. hanem akkor eszembe jutott  hogy én főként földrajzot  történelmet  számtant és nyelv\\xadtant tanultam  és egy kicsit kedvetlenül közöltem az emberkémmel  hogy nem tudok rajzolni.   annyi baj legyen   felelte.   rajzolj nekem egy bárányt. minthogy bárányt soha életemben nem rajzoltam  papírra vetettem neki a két rajz közül  amire egyáltalán képes voltam  az egyiket  a csukott óriáskígyót. de hogy elképedtem  mikor az emberke azt mondta rá    nem! nem! nem elefántot akarok óriáskígyóban! az óriáskígyó nagyon veszedelmes  az elefánt meg olyan behemót nagy. nálam odahaza minden apró. nekem bárányka kell. rajzolj nekem egy bárányt. hát erre rajzoltam egyet.  figyelmesen szemügyre vette  aztán    nem!   mondta.   ez már nagyon beteg. csinálj egy másikat nekem. rajzoltam egy másikat.  kis barátom kedvesen  de elnézően mosolygott.   jó  jó... csakhogy ez nem bárány  hanem kos. ennek szarva van. megint újat rajzoltam.  ez se volt jó neki  akárcsak az előzők.   nagyon öreg. nekem olyan bárány kell  amelyik sokáig él. erre már kifogytam a türelemből. mielőbb neki akartam kezdeni a motorom szétszerelésének  ráfirkáltam hát a papírra a mellékelt rajzot.    tessék   mondtam.   ez itt a ládája. benne van a bárány  amit akarsz. nagy meglepetésemre egyszeriben fölragyogott az arca.   ez az! éppen így akartam! mit gondolsz  sok fű kell ennek a báránynak?   miért?   hát mert nálam odahaza minden olyan kicsi...   biztosan elég lesz neki. egészen kicsi bárány. a rajz fölé hajolt.   nem is olyan kicsi... nézd csak! elaludt... így ismerkedtem meg a kis herceggel. 3. hosszú időbe tellett  míg megértettem  honnét jött. a kis herceg ugyanis engem elhalmozott kérdésekkel  az enyéimet azonban mintha meg se hallotta volna. lassanként  véletlenül elejtett szavakból tudtam meg  amit megtudtam. így mikor először látta meg a repülőmet  nem rajzo\\xadlom le  repülőgépet rajzolni az én számomra túl fogas föladat volna   azt kérdezte    hát ez meg mi a szösz?   ez nem szösz. ez repül. repülőgép. az én repülőgépem. szinte hetvenkedtem neki azzal  hogy repülök.   hogyan?!   kiáltott föl.   az égből pottyanttál le?   igen   feleltem szerényen.   hát ez furcsa... és fölkacagott  gyöngyöző kacagással  ez határozottan bosszantott. megkívánom  hogy komo\\xadlyan vegyék a szerencsétlenségeimet.   szóval te is az égből jöttél?   tette hozzá.   melyik bolygóról való vagy? mintha hirtelen fény világította volna meg rejtélyes jelenlétét.   eszerint egy másik bolygóról való vagy?   szegeztem neki a kérdést. nem felelt. csak a fejét csóválta lassan  és a repülőmet nézte.   igaz  ezen nem jöhetsz valami messziről... és hosszas töprengésbe merült. aztán elővette zsebéből a bárányomat  és kincse szemlélésébe mélyedt. képzelhetni  hogy izgatott ez az elharapott vallomás a “másik bolygóról”. próbáltam hát többet is megtudni.   honnét jöttél  emberkém? hol van az az “odahaza”? hová akarod magaddal vinni a bárá\\xadnyo\\xadmat? tűnődve hallgatott  aztán azt mondta    az a jó ebben a ládában  amit adtál  hogy éjszakára háznak is megfelel neki.   persze  persze. ha jó leszel  kötelet is adok  amivel megkötheted. meg egy karót. ajánlatom szemlátomást meghökkentette a kis herceget.   megkötni? milyen ostoba ötlet!   de ha nem kötöd meg  elkószál  elvész... kis barátom erre megint fölkacagott.   elkószál? hová?   mit tudom én. az orra után... a kis herceg elkomolyodott.   annyi baj legyen. hiszen nálam odahaza olyan kicsi minden...   és mintha egy kis szomo\\xadrú\\xadság bujkált volna a hangjában  ahogy hozzátette    nem valami sokáig mehet az orra után az ember... 4. így tudtam meg egy másik fontos dolgot  hogy a bolygó  ahonnét jött  alig nagyobb egy háznál. ezen nem is kellett különösebben csodálkoznom. hiszen tudtam  hogy a nagy bolygókon kívül  amilyen a föld  a jupiter  a mars  a vénusz  s aminek mind megvan a maga neve  van még száz és száz más bolygó is  és köztük egyik másik olyan parányi  hogy távcsövön is csak alig alig lehet kivenni. ha egy csillagász fölfedezi valamelyiket  név helyett egyszerűen számot ad neki. például elkereszteli “a 3251. kisbolygó” nak. minden okom megvan rá  hogy azt higgyem  a bolygó  ahonnét a kis herceg jött  a b 612 es kisbolygó. távcsövön ezt a csillagocskát csak egyetlenegyszer észlelték  1909 ben egy török csillagász. fölfedezéséről akkor nagy előadást tartott a nemzetközi csillagászati kongresszuson. öltözé\\xadke miatt azonban nem hitt neki senki. mert ilyenek a fölnőttek. a b 612 es kisbolygó hírnevének nagy szerencséjére azonban egy török diktátor utóbb halál\\xadbüntetés terhe mellett megparancsolta népének  hogy öltözködjék európai módra. a csillagász 1920 ban megismételte előadását  ezúttal fölöttébb elegáns öltönyben. és ezúttal egyet is értett vele mindenki. csak a fölnőttek miatt mesélem el ezeket a részleteket a b 612 es kisbolygóról  és a számát is csak miattuk árultam el  a fölnőttek ugyanis szeretik a számokat. ha egy új barátunkról be\\xadszélünk nekik  sosem a lényeges dolgok felől kérdezősködnek. sosem azt kérdezik  “milyen a hangja?” “mik a kedves játékai?” “szokott e lepkét gyűjteni?” ehelyett azt tudakolják  “hány éves?” “hány testvére van?” “hány kiló?” “mennyi jövedelme van a papájának?” és csak ezek után vélik úgy  hogy ismerik. ha azt mondjuk a fölnőtteknek  “láttam egy szép házat  rózsaszínű téglából épült  ablakában muskátli  tetején galambok...”   sehogy sem fogják tudni elképzelni ezt a házat. azt kell mondani nekik  “láttam egy százezer frankot érő házat.” erre aztán fölkiáltanak  “ó  milyen szép!” ugyanígy  ha azt mondanánk nekik  “íme a bizonyság arról  hogy a kis herceg létezett  elraga\\xaddó teremtés volt  és nevetett  és egy bárányt akart  s ha valaki bárányt akar  akkor ez nyilván\\xadvaló bizonyság rá  hogy létezik”   ha ezt mondanánk nekik  vállat vonnának  és gyereknek tartanák az embert. ha ellenben azt mondjuk nekik  “a bolygó  ahonnét jött  a b 612 es kisbolygó”   ez meggyőzi őket  és békén hagynak a kérdéseikkel. egyszerűen ilyenek  még csak haragudni sem kell rájuk miatta. a gyerekeknek nagyon elnézőknek kell lenniük a fölnőttek iránt. de mi  akik megértjük az életet  mi bizony fütyülünk a számokra! ezt a történetet is a leg\\xadszívesebben úgy kezdtem volna  mint egy tündérmesét. ilyesformán  “hol volt  hol nem volt  volt egyszer egy kis herceg. ez a kis herceg egy parányi bolygócskán lakott  olyan parányin  hogy a bolygója alig volt nagyobb nála  ezen a bolygón élt  és nagyon szerette volna  ha van egy jó barátja...” azoknak  akik értik az életet  ez így sokkal igazabbul hangzott volna. mert semmiképp sem szeretném  ha félvállról vennék a könyvemet. hiszen úgy elfog a bánat  mikor ezeket az emlékeimet elmesélem. hat esztendeje már  hogy a barátom búcsút vett tőlem a bárányával. azért próbálom meg leírni itt  nehogy elfelejtsem. szomorú dolog elfelejteni a barátunkat. nem mindenkinek van barátja. s ki tudja  még utóbb belőlem is lehet olyan fölnőttforma ember  akit nem érdekelnek  csak a számok. többek között ezért vásároltam egy doboz festéket meg egy doboz színes ceruzát. persze nem könnyű dolog ilyen vén fejjel újra nekifogni a rajzolásnak  mikor egyebet sem próbáltam soha  mint hatesztendős koromban egy nyitott meg egy csukott óriáskígyót! de igyekezni fogok  hogy a képeim hasonlítsanak  amennyire csak lehet. hogy sikerül e  abban már egyáltalán nem vagyok biztos. az egyik rajz megjárja  a másik egyáltalán nem. elvétem olykor egy kicsit a termet arányait is. emitt a kis herceg túl nagy. amott túl kicsi. a ruhája színét sem tudom egészen biztosan. így aztán csak tapogatódzom  hol így  hol úgy  lesz  ahogyan lesz. végül bizonyos fontosabb részleteket illető\\xadleg is tévedni fogok. ezt azonban meg kell bocsátanotok nekem. barátom sosem magya\\xadrázkodott  talán azt hitte  én is olyan vagyok  amilyen ő. nekem azonban  sajnos  nem volt semmiféle tehetségem hozzá  hogy meglássam ládájuk fáján keresztül a bárányokat. ki tudja  nem vagyok e egy kicsit magam is olyan  mint a fölnőttek? alighanem megöregedtem. 5. naponta megtudtam valamit a bolygójáról  az útrakeléséről  az utazásáról. szép lassacskán  egy egy elejtett megjegyzés jóvoltából. így szereztem tudomást harmadnap a majomkenyérfák drámájáról. ezt is a báránynak köszönhettem  mert a kis herceg  mintha valami súlyos kétsége támadt volna  hirtelen azt kérdezte tőlem    igaz  hogy a bárányok cserjéket esznek?   igaz.   ó  akkor jól van. sehogyan sem értettem  miért olyan fontos  hogy a bárányok cserjéket egyenek. a kis herceg azonban hozzátette    szóval a majomkenyérfákat is megeszik? erre megjegyeztem neki  hogy a majomkenyérfák nem cserjék  hanem hatalmas  templom\\xadtorony nagyságú fák  és magával vihetne akár egy csordára való elefántot is  egyetlenegy majomkenyérfával sem bírnának el. az elefántcsorda ötlete megnevettette a kis herceget.   egymás tetejébe kellene rakni őket... hanem aztán komolyan azt mondta    mielőtt megnőnek  a majomkenyérfák is úgy kezdik  hogy kicsinyek.   pontosan így van! de miért akarod  hogy a bárányok megegyék a majomkenyérfákat? azt felelte  “miért ne?”   mintha valami nyilvánvaló dologról volna szó. alaposan össze kellett szednem az eszemet  hogy magamtól jussak a probléma nyitjára. nos  mint minden bolygón  a kis hercegén is voltak jó növények meg rossz növények  tehát voltak jó növényektől származó jó magvak meg rossz növényektől származó rossz magvak is. a magvak azonban láthatatlanok. a föld titkos mélyén alusznak  míg csak az egyiknek eszébe nem jut  hogy fölébredjen... akkor nyújtózik egyet  és először csak egy elbűvölő  ártatlan kis hajtással kezd félénken a nap felé kapaszkodni. ha rózsa vagy retek hajtása  hagyhatjuk  hadd nőjön kedvére. de ha rossz növényről van szó  mihelyt fölismertük  azonnal ki kell tépni. a kis herceg bolygóján pedig félelmetes magvak voltak  majomkenyérfa magvak. a bolygó egész földjét megfertőzték. a majomkenyérfával meg úgy van  hogy ha az ember későn kap észbe  soha többé nem bír megszabadulni tőle. egyszerűen elborítja a bolygót. átlyuggatja a gyökereivel. ha aztán a bolygó túl kicsi  a majomkenyérfák meg túl sokan vannak  előbb utóbb szétrobbantják.   fegyelem kérdése   mondta egyszer később a kis herceg.   miután reggel gondosan rendbe szedte magát az ember  gondosan rendbe kell szednie a bolygóját is. neki kell látnia  s annak rendje és módja szerint ki kell gyomlálnia a majomkenyérfákat  mihelyt meg tudja különböz\\xadtetni őket a rózsáktól  mert amíg egészen zsengék  nagyon hasonlítanak egymáshoz. igen unal\\xadmas munka  de igen könnyű. és egy szép napon azt ajánlotta  próbáljam mindezt lerajzolni  hogy a hazámbeli gyerekek jól megértsék a dolgot.   hasznukra lehet   mondta    ha egyszer utazni fognak. néha semmi baj sem származik belőle  ha valamilyen munkát későbbre halasztunk. de mindig végzetes következményekkel jár  ha a majomkenyérfákról van szó. tudok egy bolygót  lusta gazdája volt  figyelmen kívül hagyott három cserjét...  itt van  ezt a bolygót rajzoltam a kis herceg útmutatásai szerint. sosem szerettem az erkölcsi intelmek modorában írni  a majomkenyérfák veszedelmét azonban olyan kevéssé ismerik  és azt  aki netán egy kisbolygóra tévedne  akkora kockázat fenyegeti  hogy ezúttal kivételesen legyőzöm a viszolygásomat  és azt mondom  “gyerekek! ügyeljetek a majomkenyérfákra!” azért dolgoztam annyit ezen a rajzon  hogy figyelmeztessem barátaimat egy veszélyre  melyet nem ismernek  noha régtől fogva ott leselkedik a sarkukban  akárcsak az enyémben. a tanulság  melyet nyújtok  megérte a fáradságot. lehet  hogy fölteszitek majd a kérdést  “miért nincs több ilyen nagyszabású rajz a könyvben  amilyen a majomkenyérfáké?” erre egyszerű a válasz  “próbálni próbáltam  de nem sikerült. amikor a majomkenyérfákat rajzoltam  lelkesí\\xadtett az az érzés  hogy sürgősen kell cselekednem .” 6. így aztán  hercegecském  apránként megértettem szomorú kis életedet. sokáig nem volt egyéb szórakozásod  mint a naplementék szelíd szépsége. ezt az újabb részletet negyednap reggel tudtam meg  amikor azt mondtad    nagyon szeretem a naplementéket. gyerünk  nézzünk meg egy naplementét...   de ahhoz várni kell...   várni? mit?   hát hogy lemenjen a nap. először meglepetés látszott az arcodon  aztán nevettél egyet magadon.   folyton azt hiszem  hogy otthon vagyok!   mondtad. nos  mikor az egyesült államokban dél van  franciaországban köztudomásúlag éppen le\\xadmegy a nap. az embernek elég lenne egyetlen szempillantás alatt franciaországban teremnie  hogy napnyugtát lásson. ehhez azonban franciaország  sajnos  túlságosan messze van. neked viszont  a parányi bolygódon  egyéb sem kellett  mint pár lépéssel odébb húznod a székedet. s annyiszor láttad a naplementét  ahányszor csak akartad...   volt egy nap  amikor negyvenháromszor láttam lemenni a napot! kisvártatva hozzátetted    tudod  az ember  ha olyan nagyon nagyon szomorú  szereti a naplementéket...   hát annyira szomorú voltál azon a negyvenháromszoros napon? erre azonban a kis herceg nem felelt. 7. az ötödik napon  változatlanul a bárány jóvoltából  föltárult előttem a kis herceg életének ez a titka is. hirtelen  minden bevezetés nélkül  mintha előzőleg sokáig töprengett volna a dolgon  halkan azt kérdezte tőlem    ha a bárány cserjéket eszik  megeszi a virágokat is?   a bárány mindent megeszik  ami az útjába akad.   az olyan virágot is  amelyiknek tüskéje van?   igen. az olyan virágot is  amelyiknek tüskéje van.   hát akkor mire valók a tüskék? mit tudtam én! minden figyelmemmel azon igyekeztem  hogy a motorom egyik beszorult csavarját kilazítsam. tele voltam aggodalommal  gépem hibája egyre súlyosabbnak látszott  ivóvizem meg folyton fogyott  úgyhogy a legrosszabbtól kellett tartanom.   mire valók a tüskék? ha egyszer egy kérdést föltett  a kis herceg soha nem tágított tőle többé. én meg  mert nagyon bosszantott az a csavar  csak úgy vaktában válaszoltam    a tövisek nem valók semmire. a tövis puszta gonoszság a virág részéről.   ó!   de némi hallgatás után  már már ingerülten vetette oda    nem hiszem! a virágok gyöngék. gyanútlanok. úgy védekeznek ahogy tudnak. félelmetesnek képzelik magukat a tüskéikkel. nem feleltem. éppen azt gondoltam magamban  “ha ez a csavar semmiképp sem mozdul  ráverek a kalapáccsal  úgy ugratom ki a helyéből.” de a kis herceg újra megzavarta töpren\\xadgésemet.   és te  mondd  te is azt hiszed...   nem! nem! nem hiszek semmit. csak úgy mondtam. én komoly dolgokkal foglalkozom. elképedve nézett rám.   komoly dolgokkal? látta  ahogy kezemben a kalapáccsal  olajtól fekete ujjakkal görnyedek valami fölé  amit szerfölött rondának talált.   úgy beszélsz  mint a fölnőttek. erre elszégyelltem magam. ő azonban könyörtelenül hozzátette    mindent összezavarsz... mindent összekeversz... szemlátomást nagyon haragudott. megrázta aranyhaját a szélben.   tudok egy bolygót  egy vörös képű uraság lakik rajta. az soha egyetlen virágot meg nem szagolt életében. soha egyetlen csillagot meg nem nézett. soha senkit nem szeretett. soha nem csinált egyebet  mint folyton csak számolt. és egész álló nap azt hajtogatta  amit te mondtál az imént  “én komoly ember vagyok! én komoly ember vagyok!”  és csak úgy dagadt a kevélységtől. hát ember ez? dehogy ember! gomba!   micsoda!   gomba! a kis herceg most egészen sápadt volt az indulattól.   millió és millió éve  hogy a virágok tüskéket gyártanak. millió és millió éve  hogy a bárá\\xadnyok mégis megeszik a virágokat. hát akkor miért ne volna komoly dolog  ha meg akarjuk érteni  mi végre a sok fáradozás  amivel olyan tüskéket csinálnak maguknak  amelyek soha semmire sem jók? a bárányok és a virágok háborúja talán nem fontos? nem komolyabb és nem fontosabb  mint annak a kövér  vörös úrnak a számadásai? és ha én tudok egy virágot  egy egyetlen virágot az egész világon  olyat  amilyen sehol másutt nem létezik  egyedül csak az én bolygómon  aztán egy bárányka egy csapásra megsemmisítheti  csak úgy  anélkül  hogy akár csak sejtené is  hogy mit művel  ez talán nem fontos? elpirult  folytatta    ha valaki szeret egy virágot  amely csak egyetlen példányban létezik a csillagmilliókon  ez épp elég neki  hogy boldog legyen  ha a csillagokra pillant. “ott van valahol az én virágom”   gondolja magában. de ha a bárány megeszi a virágot  ez az ő számára olyan  mintha hirtelen valamennyi csillag kialudnék. és ez talán nem fontos? többet nem bírt mondani. váratlanul kitört belőle a zokogás. közben már leszállt az éjszaka. letettem a szerszámaimat. bántam is én a kalapácsomat  a csavart  a szomjúságot és a halált! egy csillagon  egy bolygón  az enyémen  a földön volt egy kis herceg  akit meg kellett vigasztalni! a karomba vettem  ringatni kezdtem.   ne félj   mondtam neki    semmi veszedelem nem fenyegeti a virágot  amit szeretsz... száj\\xadkosarat rajzolok a bárányodnak... a virágodnak meg rajzolok majd vértet... és...   már nem is tudtam  mint mondjak neki. nagyon ügyetlennek éreztem magam. nem tudtam  hogyan férkőzzem hozzá  hogyan találjak közösséget vele... olyan titokzatos világ a könnyek országa. 8. rövidesen jobban is megismerhettem ezt a virágot. a kis herceg bolygóján mindig voltak virágok  nagyon egyszerű virágok  egy sor szirommal  helyet is alig foglaltak  és nem zavartak senkit. reggel megjelentek a fűben  estére elhervadtak. de ez egy szép napon egyszerre csak kicsírázott  magva a jó ég tudja  honnét került oda  és a kis herceg aprólékos gonddal figyelte a zsenge hajtást  amelyik semmilyen más hajtáshoz sem hasonlított. ki tudja  nem holmi majom\\xadkenyérfa féleség e? a vesszőcske növekedése azonban abbamaradt  és a kis növény hozzákezdett a virágkészítéshez. a kis herceg szemmel kísérte  hogyan jelenik meg rajta egy óriási bimbó  és sejtette  hogy csodálatos tünemény fog kibontakozni belőle  a virág azonban végevárhatatlanul  egyre csak szépítgette magát odabent a zöld szobájában. nagy gonddal válogatta meg a színeit. lassan öltözködött  egyenként igazította magára a szirmait. nyilván nem akart olyan gyűrötten napvilágra lépni  mint a pipacsok. nem akart megmutatkozni  csak szépsége teljes sugárzásában. úgy bizony! nagyon kacér virág volt! így aztán hosszú napokon át tartott a titokzatos öltözködése. aztán egy hajnalban  éppen napkeltekor  végre megjelent. ásított egyet  és azt mondta  ő  aki olyan aggályos pontossággal dolgozott    ó  még szinte föl sem ébredtem... elnézést kérek... még meg se fésülködtem... a kis herceg nem bírta magába fojtani a csodálkozását    milyen szép vagy!   ugye?   felelte kedvesen a virág.   és épp egyszerre születtem a nappal... a kis herceg ebből könnyen kitalálta  hogy a virág nem valami szerény  viszont olyan meg\\xadható volt!   azt hiszem  épp most van a reggeli ideje   tette hozzá a virág kisvártatva.   volnál szíves gondoskodni rólam? a kis herceg pedig  mélységes zavarban  sietve kerített egy öntözőkannát  és kiszolgálta a virágot. az meg már mindjárt az elején zaklatni kezdte az ijedős hiúságával. egy napon például  mikor a négy töviséről beszélt  azt mondta a kis hercegnek    most aztán jöhetnek a tigrisek a karmaikkal!   az én bolygómon nincsenek tigrisek   jegyezte meg erre a kis herceg.   a tigrisek különben sem esznek füvet.   én nem vagyok fű   felelte szelíden a virág.   bocsáss meg...   különben sem félek a tigrisektől. a huzattól viszont irtózom. nincs véletlenül valamilyen szélfogód? “irtózni a huzattól   gondolta a kis herceg   elég kockázatos kilátás egy növénynek.   furcsa egy virág ez...”   esténként tégy majd bura alá. nagyon hideg van itt nálad. rosszul vagy berendezkedve. ahonnét én jöttem... de nem folytatta. hiszen mag formájában jött  más világokról nem tudhatott semmit. szégyenében  hogy ilyen együgyű füllentésen kapatta rajta magát  kettőt hármat köhintett  így akart fölébe kerekedni a kis hercegnek.   a szélfogó?   épp azért indultam  de elkezdtél beszélni hozzám... erre a virág még jobban köhécselt  hadd furdalja csak a lelkiismeret a kis herceget. annak pedig  hiába volt tele jóakaró szeretettel  előbb utóbb mégiscsak megrendült a bizalma a virágban. minden lényegtelen megjegyzést a szívére vett  és kezdte nagyon nagyon boldogtalannak érezni magát.   nem lett volna szabad meghallgatnom   vallotta meg egy napon.   a virágok szavát sosem szabad meghallgatni. nézni kell őket  beszívni az illatukat. az enyém egész bolygómat elárasztotta az illatával  mégse tudtam örülni neki. annyira bosszantott az a tigriskarom história  holott inkább meg kellett volna hatódnom rajta... aztán    bizony  nagyon értelmetlen voltam én akkor! a tetteiből kellett volna megítélnem  nem a szavaiból. beburkolt az illatával  elborított a ragyogásával. sosem lett volna szabad meg\\xadszöknöm! szegényes kis csalafintaságai mögött meg kellett volna éreznem gyöngéd szeretetét. minden virág csupa ellentmondás. de én még sokkal fiatalabb voltam  semhogy szeretni tudtam volna! 9. szökéséhez  azt hiszem  a vadmadarak húzását használta föl. indulása reggelén szépen rendbe tette a bolygóját. gondosan kipucolta a működő vulkánjait. két ilyen működő vulkánja volt szerencsére  kényelmesen megfőzhette rajtuk a reggelijét. volt egy kialudt vulkánja is. de mert úgy gondolta  “sosem lehet tudni!”  kipucolta ezt a kialudt vulkánt is. a vulkánok  ha jól kipucolják őket  szabályosan  enyhe lánggal égnek  kitörések nélkül. a vulkánkitörések olyanok  mint a mi kéménytüzeink. mi itt a földön nyilván túl kicsinyek vagyunk hozzá  hogy rendesen kipucoljuk a vulkánjainkat. ezért okoznak annyi bajt. a kis herceg némi kis szomorúsággal kigyomlálta az utolsó majomkenyérfa hajtásokat is. szentül hitte  hogy soha nem fog visszatérni többé. de aznap reggel nagyon nagyon jólestek neki ezek a megszokott munkák. s amikor utoljára öntözte meg a virágot  és be akarta borítani a burájával  egyszeriben sírhatnékja támadt.   isten veled   mondta a virágnak. a virág azonban nem felelt.   isten veled   ismételte. a virág köhintett. ezúttal azonban nem azért  mintha megfázott volna.   ostoba voltam   mondta végül a kis hercegnek.   kérlek  ne haragudjál rám. próbálj meg boldog lenni. a kis herceget meglepte  hogy nem kap semmiféle szemrehányást. tanácstalanul állt  kezében a burával. sehogy sem értette a virágnak ezt a kedves szelídségét.   hát igen  szeretlek   mondta a virág.   te persze még csak nem is sejtetted  de ebben én vagyok a hibás. különben nem is fontos. te azonban éppen olyan ostoba voltál  mint én. próbálj meg boldog lenni... hagyd békén azt a burát. nem kell.   de a szél...   egyáltalán nem vagyok olyan náthás... virág vagyok  jót fog tenni az éjszaka hűs levegője.   de az állatok...   két három hernyót el kell tűrnöm  ha meg akarom ismerni a pillangókat. állítólag olyan szépek. meg aztán ki más látogatna meg? mert ami téged illet  te messze leszel. a vad\\xadállatoktól pedig egy csöppet sem félek. nekem is vannak karmaim. és ártatlanul megmutatta a négy tövisét.   ne ácsorogj itt ilyen ügyefogyottan   tette hozzá.   idegesítő... elhatároztad  hogy elmégy. hát menj. nem akarta  hogy a kis herceg sírni lássa. kevély virág volt. 10. ez a 325 ös  326 os  327 es  328 as  329 es és 330 as kisbolygók vidéke volt  a kis herceg tehát azzal kezdte  hogy sorra látogatta őket  foglalkozást keresni meg művelődni is. az elsőn egy király lakott. a király  bíborban és hermelinben  egy nagyon egyszerű  de méltó\\xadságteljes trónuson ült.   hohó! itt egy alattvaló!   kiáltott föl  amikor megpillantotta a kis herceget. “hogyan ismerhet meg   gondolta magában a kis herceg    ha még soha életében nem látott?” nem tudta  hogy a királyok szemében a világ fölöttébb egyszerű  minden ember alattvaló.   gyere közelebb  hogy jobban szemügyre vehesselek   mondta a király  és nagyon büszke volt rá  hogy végre valaki fölött királykodhatik. a kis herceg körülnézett  hová ülhetne le  de a bolygót mindenestül beborította a pompás hermelin palást. állva maradt hát  és mert fáradt volt  ásított egyet.   az etikett megtiltja  hogy a király jelenlétében ásítsanak   mondta az uralkodó.   megtiltom.   nem bírom megállni ásítás nélkül   felelte a kis herceg zavartan.   nagy utat tettem meg  és nem aludtam...   akkor megparancsolom  hogy ásíts   mondta a király.   hosszú esztendők óta senkit sem láttam ásítani. az ilyesmi ritka szórakozás nekem. tessék  ásíts még egyet! parancsolom.   csakhogy ettől lámpalázas lettem. nem megy...   felelte a kis herceg  és elpirult.   hm... hm...   tűnődött a király.   hát akkor... megparancsolom  hogy hol ásíts  hol meg... dünnyögött valamit  szemlátomást feszengve. mert a király föltétlenül ragaszkodott hozzá  hogy tiszteljék a királyi tekintélyét. semmiféle engedetlenséget nem tűrt  abszolút uralkodó volt. de mivel ugyanakkor jóságos is volt  értelmes parancsokat osztogatott. “ha egy generálisnak megparancsolnám   mondogatta    hogy változzék tengeri madárrá  és a generális nem engedelmeskednék  ebben nem ő lenne a hibás. én lennék a hibás miatta.”   leülhetek?   kérdezte a kis herceg félénken.   parancsolom  hogy ülj le   felelte a király  és méltóságteljesen odébb húzta egy kicsit a hermelin palástja szegélyét. a kis herceg elcsodálkozott  a bolygó egészen parányi volt. vajon min uralkodik akkor a király?   fölség   mondta    engedelmet kérek  de kérdeznék fölségedtől valamit...   parancsolom  hogy kérdezz tőlem valamit   mondta sietve a király.   fölséged... min uralkodik?   mindenen   válaszolta mérhetetlen egyszerűséggel a király.   mindenen? a király futó kis mozdulattal végigmutatott a bolygóján meg a többi bolygón meg a csillagokon.   ezen mind?   kérdezte a kis herceg.   ezen mind   felelte a király. mert nemcsak abszolút uralkodó volt  hanem egyetemes is.   és a csillagok engedelmeskednek fölségednek?   természetesen   mondta a király.   azon nyomban. semmi fegyelmezetlenséget nem tűrök. a kis herceg elámult ekkora nagy hatalmon. ha neki ilyen hatalma lenne  napjában nem negy\\xadvennégy naplementét láthatna  hanem hetvenkettőt  sőt százat vagy akár kétszázat is  és még csak odébb se kellene húznia a székét! s mivel egy kicsit szomorú volt  mert eszébe jutott az elhagyott bolygócskája  olyannyira nekibátorodott  hogy egy kegyet merészelt kérni a királytól    úgy szeretnék naplementét látni... örvendeztessen meg fölséged. parancsolja meg a napnak  hogy nyugodjék le...   ha egy generálisnak azt parancsolnám  szálljon virágról virágra  mint egy lepke  vagy írjon egy tragédiát  vagy változzék tengeri madárrá  és a generális nem hajtaná végre a parancsot  ki lenne a hibás emiatt  ő vagy én?   fölséged!   jelentette ki a kis herceg nagy határozottsággal.   látod. mindenkitől azt kell követelni  amit az illető megtehet. a tekintély legelső alapja az értelem   mondta a király.   ha népednek azt parancsolod  vesse magát a tengerbe  föllázad  forradalmat csinál. azért van jogom engedelmességet követelni  mert ésszerűek a parancsaim.   akkor mi lesz a naplementémmel?   firtatta a kis herceg  mert ha már föltett egy kérdést  többé nem tágított tőle.   meg fogod kapni a naplementédet. követelem. de kormányzói bölcsességemben megvárom  hogy kedvezőek legyenek hozzá a körülmények.   és az mikor lesz?   tudakolta a kis herceg.   hm... hm...   felelte a király  és böngészni kezdett egy testes naptárban.   hm... hm... mikor lesz... mikor lesz... ma este  hét óra negyven perc körül. és majd meglátod  milyen híven engedelmeskednek nekem. a kis herceg ásított. sajnálta  hogy oda a napnyugtája. ráadásul egy kicsit unatkozott is már.   nincs itt semmi dolgom többet   mondta a királynak.   megyek tovább.   ne menj!   mondta a király  hiszen olyan büszke volt rá  hogy végre akadt egy alattvalója.   ne menj el  megteszlek miniszternek.   milyen miniszternek?   hát... igazságügyinek!   de ha nincs  akinek igazságot szolgáltassak!   sosem lehet tudni   felelte a király.   még nem jártam be a királyságomat. öreg vagyok  hintóra nincs helyem  a gyaloglás meg fáraszt.   ó  hiszen már láttam!   mondta a kis herceg  és előrehajolt  hogy egy pillantást vessen a bolygó túlsó felére.   ott sincs senki.   hát akkor ítélkezzél saját magadon   mondta a király.   ez a legnehezebb. magunkon ítél\\xadkezni sokkal nehezebb  mint máson. ha sikerül helyesen ítélkezned saját magad fölött  az annak a jele  hogy valódi bölcs vagy.   de ítélkezni mindenütt ítélkezhetem magam fölött   jegyezte meg a kis herceg.   ahhoz nem kell itt laknom.   hm... hm...   mondta a király.   azt hiszem  van itt valahol a bolygómon egy vén patkány. éjszaka hallom a motozását. hát ítélkezzél e fölött a vén patkány fölött. időről időre halálra ítéled  élete így a te igazságszolgáltatásodtól függ majd. aztán minden egyes alkalommal meg\\xadkegyelmezel neki  takarékosságból  mivel csak egy van belőle.   nem szeretem a halálos ítéleteket   mondta a kis herceg    és minden bizonnyal elmegyek.   ne!   mondta a király. a kis herceg azonban nekifogott az előkészületeknek  majd  mivel nem akart fájdalmat okozni az öreg uralkodónak  így szólt    ha fölségednek az a kívánsága  hogy pontosan engedelmeskedjenek a parancsainak  nekem is adhatna egy ésszerű parancsot. megparancsolhatná például  hogy egy percen belül keljek útra. a körülmények  úgy látom  kedvezőek... a király nem felelt. a kis herceg először tétovázott  aztán egy sóhajtással mégis útra kelt.   kinevezlek nagykövetemnek!   kiáltott utána sietve a király. arcáról csak úgy sugárzott a tekintély. “hát bizony furcsák a fölnőttek”   gondolta útközben a kis herceg. 11. a második bolygón lakott a hiú.   lám  lám!   kiáltotta már messziről  amikor megpillantotta a kis herceget.   meglátogat egy csodálóm! mert aki hiú  annak az összes többi ember olybá tűnik  mint a csodálója.   jó napot!   mondta a kis herceg.   fura kalapja van uraságodnak.   arra való  hogy megemeljem   felelte a hiú.   hogy viszonozzam vele az ünneplést. de sajnos  soha nem jár erre senki.   úgy?   kérdezte a kis herceg  és egy szót sem értett az egészből.   csapd össze a tenyeredet   javasolta neki a hiú. a kis herceg összeütötte a két tenyerét. a hiú szerényen megemelte a kalapját. “itt már mulatságosabb  mint az imént a királynál volt”   gondolta a kis herceg  és újra össze\\xadverte a tenyerét. a hiú meg újra megemelte a kalapját. így ment ez öt percig  akkor a kis herceg elunta az egyhangú játékot.   hát ahhoz mit kell csinálni  hogy a kalap leessék?   kérdezte. a hiú ezt egyszerűen elengedte a füle mellett. aki hiú  az csak a dicséretet hallja meg  soha mást.   valóban nagyon csodálsz engem?   kérdezte a kis hercegtől.   mit jelent az  hogy csodálni?   csodálni annyit jelent  mint elismerni az illetőről  hogy széles e bolygón ő a legszebb  a legjobban öltözött  a leggazdagabb és a legokosabb.   de hiszen te egyedül vagy a bolygódon!   azért mégiscsak tedd meg! azért mégiscsak csodálj!   csodállak   mondta a kis herceg  és egy parányit megvonta a vállát.   csak azt nem értem  mire jó az neked! és sietve odébbállt. “szó  ami szó   gondolta útközben    a fölnőttek nagyon nagyon furcsák.” 12. a következő bolygón egy iszákos lakott. ez a látogatás nagyon rövid ideig tartott  de nagyon elszomorította a kis herceget. ott találta az iszákost egy sor üres meg egy sor teli palack előtt.   hát te mit csinálsz itt?   kérdezte tőle.   iszom   felelte gyászos képpel az iszákos.   miért iszol?   kérdezte a kis herceg.   hogy felejtsek   felelte az iszákos.   mit?   tudakolta a kis herceg  mert máris megsajnálta.   azt  hogy szégyellem magam   felelte az iszákos és lehajtotta a fejét. a kis herceg szeretett volna segíteni rajta.   miért szégyelled magad?   kérdezte.   mert iszom   vágta el a további beszélgetést az iszákos  és mélységes hallgatásba süllyedt. a kis herceg meghökkenve szedelőzködött. “bizony  bizony   gondolta út közben    a fölnőttek rettentően furcsák.” 13. a negyedik bolygó az üzletemberé volt. ennek annyi dolga volt  hogy még csak föl se nézett  amikor a kis herceg megérkezett.   jó napot!   mondta a kis herceg.   uraságodnak kialudt a cigarettája.   három meg kettő  az öt. öt meg hét  az tizenkettő. tizenkettő meg három  az tizenöt. jó napot! tizenöt meg hét  az huszonkettő. huszonkettő meg hat  az huszonnyolc. nem érek rá újra rágyújtani. huszonhat meg öt  az harmincegy. hopp! tehát összesen ötszázegymillió hatszázhuszonkétezer hétszázharmincegy.   ötszázmillió micsoda?   mi az? még mindig itt vagy? ötszázmillió izé... már nem is tudom... annyi dolgom van! én komoly ember vagyok  én nem fecsérlem léhaságokra az időmet! kettő meg öt  az hét...   ötszázmillió micsoda?   ismételte a kis herceg  mert ha egyszer egy kérdést föltett  nem tágított tőle többé. az üzletember fölkapta a fejét.   ötvennégy éve lakom ezen a bolygón  de eddig még csak háromszor zavartak. először hu\\xadszonkét éve egy cserebogár  isten tudja  honnét pottyant ide. iszonyatos zajt csapott  úgyhogy négy hibát is ejtettem a számadásomban. másodszor tizenegy esztendeje köszvényrohamot kaptam. keveset mozgok  nincs időm lófrálni  én komoly ember vagyok. harmadszor pedig  most! szóval azt mondtam  hogy ötszázegymillió...   micsoda? az üzletember látta  semmi reménye rá  hogy békén hagyják.   olyan kis apróság  amit az égen látni olykor.   légy?   dehogy! olyan kis csillogó.   méhek?   dehogy! azok az aranyos kis izék  amin a semmittevők ábrándozni szoktak. én azonban komoly ember vagyok! nekem nincs időm semmiféle ábrándozásra.   ahá! csillagok.   az  az. csillagok.   és mit csinálsz azzal az ötszázmillió csillaggal?   ötszázegymillió hatszázhuszonkétezer hétszázharmincegy. komoly ember vagyok  szeretem a pontosságot.   mit csinálsz ezekkel a csillagokkal?   hogy mit csinálok velük?   igen.   semmit. birtoklom őket.   birtoklod a csillagokat?   igen.   találkoztam egy királlyal  aki...   a királyok nem birtokolnak. a királyok “uralkodnak” valamin. ez más.   és mire jó neked  hogy birtoklod a csillagokat?   arra  hogy gazdag legyek.   és mire jó a gazdagságod?   más csillagokat is megvenni  ha történetesen talál valaki. “ez körülbelül olyasformán okoskodik  mint a részegesem”   gondolta a kis herceg  de azért tovább faggatta    hogyan lehet birtokolni a csillagokat?   kinek a tulajdona?   vágott vissza zsémbesen az üzletember.   nem tudom. senkinek.   akkor az enyéim  mert nekem jutott eszembe először a birtoklásuk.   és ennyi elég is?   természetesen. ha gyémántot lelsz  amelyik senkié  akkor a tiéd. ha szigetre bukkansz  amelyik senkié  akkor a tiéd. ha kitalálsz valamit  ami még senki másnak nem jutott az eszébe  szabadalmaztatod  és a tiéd. én pedig a csillagokat birtoklom  mert előttem soha senki nem gondolt rá  hogy birtokolja őket.   hát ez igaz   mondta a kis herceg.   és mit csinálsz velük?   kezelem őket. megszámolom  aztán újraszámolom   felelte az üzletember.   nehéz dolog. de én komoly ember vagyok. a kis herceg azonban még ezzel sem érte be.   nekem  ha van egy selyemsálam  a nyakam köré tekerhetem  és magammal vihetem. vagy ha van egy virágom  leszedhetem  és szintén magammal vihetem. de te nem szedheted le a csillagaidat!   azt nem. de bankba tehetem őket.   az meg mit jelent?   azt jelenti  hogy fölírom egy darabka papirosra a csillagaim számát  aztán ezt a papír\\xaddarab\\xadkát bezárom egy fiókba.   ennyi az egész?   mi kell több? “érdekes   gondolta a kis herceg.   sőt költői. csak éppen komolynak nem valami komoly.” a kis hercegnek ugyanis egészen más fogalmai voltak a komoly dolgokról  mint a fölnőttek\\xadnek.   nekem   mondta   van egy virágom  azt naponta megöntözöm. van három vulkánom  azokat hetente kipucolom  mert azt is kipucolom  amelyik kialudt. sosem lehet tudni. a vulkán\\xadjaimnak is meg a virágomnak is hasznukra válik  hogy birtoklom őket. te azonban nem vagy hasznukra a csillagoknak. az üzletember eltátotta a száját  de felelni egy mukkot sem tudott  a kis herceg pedig szedte a sátorfáját  és ment tovább. “szó  ami szó  ezek a fölnőttek fölöttébb furcsák”   gondolta útközben. 14. az ötödik bolygó nagyon érdekes bolygó volt. ez volt valamennyi közt a legkisebb. éppen csak akkorka  hogy egy lámpa meg egy lámpagyújtogató elfért rajta. a kis herceg el sem tudta képzelni  mi értelme lehet valahol az égbolton egy bolygón   amelyiken se ház nincs  se embe\\xadrek nem laknak   egy lámpának meg egy lámpagyújtogatónak. mégis azt gondolta magában  “lehet  hogy ez az ember itt  merő képtelenség. mégis kevésbé képtelen  mint a király  a hiú  az üzletember meg az iszákos. az ő munkájának legalább van valami értelme. ha meggyújtja a lámpáját  mintha egy csillagot segítene világra vagy egy virágot. ha eloltja a lámpáját  elaltatja vele a virágot vagy a csillagot. szép foglalkozás. és mert szép  valóban hasznos is.” amikor a bolygó közelébe ért  tisztelettel köszöntötte a lámpagyújtogatót    jó napot kívánok! miért oltottad el a lámpádat?   mert ez a parancs   felelte a lámpagyújtogató.   jó napot!   mi a parancs?   hogy oltsam el a lámpámat. jó estét! azzal meggyújtotta a lámpát.   de hát akkor miért gyújtottad meg újra?   mert ez a parancs   felelte a lámpagyújtogató.   nem értem   jegyezte meg a kis herceg.   nincs is mit érteni rajta   mondta a lámpagyújtogató.   a parancs  parancs. jó napot! és eloltotta a lámpát. aztán egy piros kockás zsebkendővel törölgetni kezdte a homlokát.   szörnyű mesterség ez! valaha régen nagyon értelmes volt. este meggyújtottam  reggel eloltottam a lámpát. aztán reggeltől estig pihenhettem  és estétől reggelig alhattam.   azóta megváltozott a parancs?   a parancs nem változott   mondta a lámpagyújtogató.   éppen ez a baj! a bolygó évről évre gyorsabban forgott  a parancs viszont maradt a régi.   és?   kérdezte a kis herceg.   és most  hogy percenként fordul egyet a tengelye körül  nincs egy másodpercnyi nyugal\\xadmam! percenként oltok meg gyújtok.   mulatságos!   mondta a kis herceg.   egy nap egy percig tart nálad.   egyáltalán nem mulatságos   mondta a lámpagyújtogató.   tudod  mióta beszélgetünk itt egymással? egy hónapja!   egy hónapja?   úgy bizony. harminc perce. az harminc nap! jó estét! és meggyújtotta megint a lámpáját. a kis herceg meg csak nézte  és megszerette ezt a lámpagyújtogatót  aki olyan híven ragasz\\xadkodik a parancshoz. eszébe jutott  hogyan kereste annak idején a napnyugtákat  hogyan húzta odébb a székét. szeretett volna segíteni a barátján.   figyelj csak ide... tudok egy módot rá  hogy pihenhess  amikor csak akarsz.   vagyis mindig   jegyezte meg a lámpagyújtogató. mert lehet valaki egyszerre hűséges is meg lusta is.   a te bolygód   folytatta a kis herceg   olyan kicsi  hogy három lépéssel körüljárhatod. ahhoz  hogy állandóan a napvilágon maradj  egyebet sem kell tenned  mint elég lassan járnod. így aztán  ha pihenni akarsz  elkezdesz járni... és a nappal addig fog tartani  ameddig kívánod.   ezzel nem sokra megyek   felelte a lámpagyújtogató.   világéletemben egyet szerettem  aludni.   öreg hiba   mondta a kis herceg.   öreg hiba   mondta a lámpagyújtogató.   jó napot! és eloltotta a lámpáját. “ezt   gondolta a kis herceg  ahogy továbbment    ezt a többiek mind megvetnék  a király is  a hiú is  az iszákos is  az üzletember is. pedig szerintem ő az egyetlen  aki nem nevetséges. talán mert mással törődik  nem saját magával.” és sajnálkozva sóhajtott egyet. “ő az egyetlen   folytatta gondolatait    akivel meg tudnék barátkozni. csakhogy igazán túl kicsi a bolygója. nem férnek el rajta ketten...” magának sem merte bevallani  hogy legkivált a napi ezernégyszáznegyven napnyugtájáért sajnálja ezt az áldott bolygót. 15. a hatodik bolygó tízszerte nagyobb volt. egy öregúr lakott rajta  és óriási könyveket írt.   hohó! itt egy kutató!   kiáltott föl  amikor megpillantotta a kis herceget. a kis herceg leült az íróasztal szélére. egy kicsit lihegett. annyit utazott már!   honnét jössz?   kérdezte tőle az öregúr.   mi ez a nagy könyv?   kérdezte a kis herceg.   mit csinál itt uraságod?   geográfus vagyok   felelte az öregúr.   mi az  hogy geográfus?   tudós  aki tudja  hol vannak a tengerek  folyamok  városok  hegyek és sivatagok.   ó  ez nagyon érdekes   mondta a kis herceg.   végre egy igazi mesterség! körülpillantott a geográfus bolygóján. ilyen fölséges bolygót még sosem látott.   hát ez nagyon szép   mondta.   óceánok is vannak rajta?   azt én nem tudhatom   felelte a geográfus.   ó!   mondta a kis herceg csalódottan.   és hegységek?   azt én nem tudhatom   ismételte a geográfus.   és városok és folyamok és sivatagok?   azt szintén nem tudhatom   felelte a geográfus.   de ha egyszer geográfus!   az igaz   felelte a földrajztudós    viszont nem vagyok kutató. kutatóim  sajnos  egyáltalán nincsenek. hogy jönne egy földrajztudós ahhoz  hogy elinduljon  és számba vegye a városokat és folyamokat  hegységeket és tengereket  óceánokat és sivatagokat? a geográfus sokkal fontosabb ember annál  semhogy ide oda kószáljon a világban. ül a dolgozószobájában  és fogadja a kutatókat. kikérdezi őket  és lejegyzi emlékeiket. aztán ha valamelyiknek az emlé\\xadkeit érdekesnek találja  vizsgálatot indíttat az illető kutató erkölcsi megbízhatóságát illetőleg.   hát azt meg miért?   azért  mert ha egy kutató hazudnék  annak végzetes következményei lennének a földrajz\\xadkönyvekben. valamint annak is  ha egy kutató többet innék a kelleténél.   miért?   érdeklődött tovább a kis herceg.   mert aki részeg  az duplán lát. így a földrajztudós két hegyet tüntetne föl ott  ahol a való\\xadságban csak egy van.   ismerek valakit   mondta a kis herceg    akiből nagyon rossz kutató lenne.   lehet. nos  ha a kutató erkölcsisége kifogástalannak bizonyul  következik fölfedezésének a megvizsgálása.   elmennek megnézni?   nem  nem. az túl bonyodalmas lenne. hanem fölszólítják a kutatót  hogy szolgáltasson bizonyítékokat. ha például egy nagy hegy fölfedezéséről van szó  megkívánják tőle  hogy mutatóba szép  nagy köveket hozzon belőle. hirtelen izgalom vett erőt a geográfuson.   de te  te nagyon messziről jöttél! te kutató vagy! írd le nekem a bolygódat! azzal fölütötte lajstromkönyvét  és hegyezni kezdte a ceruzáját. a kutatók elbeszéléseit ugyanis először ceruzával jegyzik le. megvárják  míg bizonyítékokat szolgáltat  és csak akkor következik a tintával való lejegyzés.   nos?   kérdezte a tudós.   ó!   mondta a kis herceg.   az én bolygóm egészen apró  nincs rajta semmi különös. van három vulkánom  kettő működik  egy kialudt. bár sosem lehet tudni.   sosem lehet tudni   mondta a geográfus.   egy virágom is van.   a virágokat nem jegyezzük föl   mondta a geográfus.   miért nem? hiszen az a legszebb rajta!   mert a virágok múlékonyak.   mit jelent az  hogy “múlékony”?   a földrajzkönyvek   mondta a földrajztudós   a világ legértékesebb könyvei. nem avulnak el soha. fölöttébb ritkán fordul elő  hogy egy hegy megváltoztassa a helyét. fölöttébb ritka dolog az is  hogy egy óceánnak kiapadjon a vize. mi csak örök dolgokat írunk le.   de a kialudt vulkán egyszer csak működni kezdhet   szólt közbe a kis herceg.   mit jelent az  hogy “múlékony”?   számunkra teljességgel mindegy  hogy egy vulkán kialudt e  vagy működik   felelte a geográfus.   nekünk csak a hegy számít. az pedig nem változik.   de mit jelent az  hogy “múlékony”?   makacskodott a kis herceg  mert ha egyszer föltett egy kérdést  nem tágított tőle soha többet.   azt jelenti  hogy előbb utóbb megsemmisül.   az én virágom előbb utóbb megsemmisül?   úgy bizony. “múlékony a virágom   gondolta a kis herceg    s mindössze négy tüskéje van  hogy a világtól védekezzék! és én magára hagytam otthon!” most érzett először valami lelkifurdalás félét. de nyomban összeszedte magát.   mit tanácsol uraságod?   kérdezte.   milyen bolygót látogassak meg!   a földet   felelte a földrajztudós.   jó híre van... a kis herceg útra kelt  de közben egyre a virágjára gondolt. 16. a hetedik bolygó tehát a föld volt. ez a föld nem akármilyen bolygó ám! van rajta száztizenegy király  beleszámítva természe\\xadtesen a néger királyokat is   hétezer geográfus  kilencszázezer üzletember  hét és fél millió részeges  háromszáztizenegymillió hiú  vagyis körülbelül kétmilliárd fölnőtt. hogy valami fogalmunk legyen a föld nagyságáról  gondoljuk meg  hogy az elektromosság fölfedezése előtt a hat kontinensen egész hadseregnyi lámpagyújtogatót kellett alkalmazni  szám szerint négyszázhetvenkétezer ötszáztizenegyet. kissé távolabbról nézve mindez pompás látványt nyújtott. a hadmozdulatok éppolyan szabá\\xadlyozottan folytak  mint egy balett mozgása egy opera színpadán. kezdték az új zélandi és az ausztráliai lámpagyújtogatók. meggyújtották a lampionjaikat  aztán aludni mentek. utána beléptek a táncba a kínai meg a szibériai lámpagyújtogatók  majd ők is eltűntek a kulisszák mögött. most került sor az oroszországi és indiai lámpagyújtogatókra. utánuk az európaiakra és az afrikaiakra. aztán a dél amerikaiakra. aztán az észak amerikaiakra. és sosem vétették el színre lépésük rendjét. nagyszerű volt! mindössze két lámpagyújtogató élt henyén és nemtörődöm módra  az északi sark egyetlen lámpájának gyújtogatója  valamint kartársa  a déli sark egyetlen lámpájáé. ők évente csupán kétszer dolgoztak. 17. ha az ember mindenáron szellemes akar lenni  megesik  hogy egy kicsit elveti a sulykot. én sem voltam egészen szavahihető  amikor a lámpagyújtogatókról beszéltem. így aztán félő  hogy hamis fogalmat adok bolygónkról azoknak  akik nem ismerik. az emberek ugyanis igen igen kevéske helyet foglalnak el a földön. ha a föld kétmilliárd lakosa kissé szorosabban egymás mellé állna  olyasformán  mint például egy futballmeccsen  könnyen elférne egy húsz\\xadezer négyzetméternyi téren. az egész emberiséget össze lehetne zsúfolni a csendes óceán legparányibb kis szigetére. a fölnőttek ezt persze nem hinnék el. ők igen nagy helyet tulajdonítanak maguknak. azt kép\\xadzelik magukról  hogy tekintélyesek  akár a majomkenyérfák. föl lehet szólítani őket  tessék  szá\\xadmoljanak. ez tetszeni fog nekik  mert imádják a számokat. de ne vesztegessétek az időtö\\xadket ilyen föladatra. fölösleges. inkább higgyetek nekem. a kis herceg tehát  amint földet ért  alaposan meglepődött  hogy egy teremtett lelket sem lát. már már attól félt  elvétette a bolygót  amikor a homokban megmozdult előtte egy holdszínű gyűrű.   jó éjszakát!   mondta a kis herceg  csak úgy találomra.   jó éjszakát!   felelte a kígyó.   melyik bolygóra estem?   kérdezte a kis herceg.   a földre  afrikában   felelte a kígyó.   ó... hát senki sincs a földön?   ez itt a sivatag. a sivatagban nincs senki. de a föld nagy   mondta a kígyó. a kis herceg leült egy kőre  és szemét az égre emelte.   nem tudom   mondta    nem azért vannak e kivilágítva a csillagok  hogy egy napon minden\\xadki megtalálhassa a magáét. nézd csak  az ott az én bolygóm. éppen fölöttünk... de milyen messze van!   szép csillag   mondta a kígyó.   mit keresel itt?   nézeteltérésem támadt egy virággal   mondta a kis herceg.   hajaj!   mondta a kígyó. és sokáig hallgattak.   hol vannak az emberek?   kérdezte később a kis herceg.   itt a sivatagban olyan egyedül van az ember.   nincs kevésbé egyedül az emberek közt sem   mondta a kígyó. a kis herceg hosszasan szemügyre vette.   furcsa jószág vagy  vékony  mint az ujjam...   de bármilyen király ujjánál hatalmasabb   mondta a kígyó. a kis herceg elmosolyodott.   nem mondhatnám  hogy nagyon hatalmas vagy  hiszen még lábad sincs... utazni se tudsz.   de nincs az a hajó  amelyik messzebbre bírna vinni  mint én   mondta a kígyó. azzal  mint egy aranypánt  a kis herceg bokájára tekeredett.   akit én megérintek  azt visszaadom a földnek  ahonnét származik   mondta.   te azonban tiszta vagy  és egy csillagról jöttél. a kis herceg nem felelt.   olyan gyönge vagy ezen a gránit földön  hogy megesik rajtad a szívem. ha egy szép napon majd nagyon visszavágyol a bolygódra  segíthetek rajtad. mert én...   ó!   mondta a kis herceg.   értem  nagyon is értem. de miért beszélsz mindig rejtélyekben?   valamennyit megfejtem   mondta a kígyó. és hallgattak utána tovább. 18. a kis herceg nekivágott a sivatagnak  de nem találkozott  csak egy virággal. egy három\\xadszirmú  semmi kis virággal.   jó napot!   mondta a kis herceg.   jó napot!   mondta a virág.   hol vannak az emberek?   kérdezte udvariasan a kis herceg. a virág látott egyszer egy bandukoló karavánt.   az emberek? van belőlük  azt hiszem  hat vagy hét. évekkel ezelőtt láttam őket. de sosem lehet tudni  hol merre vannak. viszi  sodorja őket a szél. nagy baj nekik  hogy nincs gyökerük.   viszontlátásra   mondta a kis herceg.   viszontlátásra   mondta a virág. 19. a kis herceg fölkapaszkodott egy hegyre. életében nem látott még más hegyet  mint a három vulkánját  de azok éppen csak a térdéig értek. a kialudt vulkánját zsámolynak használta. “egy ekkora hegyről   gondolta   egyetlen szempillantással látni fogom az egész bolygót meg az összes embert.” de nem látott egyebet  mint tűhegyes sziklacsúcsokat.   jó napot!   mondta találomra.   jó napot!... jó napot!... jó napot!...   válaszolta a visszhang.   ki vagy?   kérdezte a kis herceg.   ki vagy... ki vagy... ki vagy...   felelte a visszhang.   légy a barátom  olyan egyedül vagyok   mondta.   egyedül vagyok... egyedül vagyok... egyedül vagyok   felelte a visszhang. “milyen furcsa bolygó!   gondolta a kis herceg.   milyen száraz  milyen hegyes  milyen sós. és az embereknek nincs semmi képzelőtehetségük. folyton csak azt szajkózzák  amit mon\\xaddanak nekik... nekem otthon volt egy virágom  mindig ő kezdte a beszélgetést...” 20. egy szép napon aztán  miután sokáig vándorolt homokon  sziklákon  havon keresztül  a kis herceg végre rábukkant egy útra. és az utak mind az emberekhez vezetnek.   jó napot!   mondta. virágzó rózsakert előtt állt.   jó napot!   mondták a rózsák. a kis herceg csak nézte őket. mind olyanok voltak  mint a virágja.   kik vagytok?   kérdezte meghökkenten.   rózsák vagyunk   felelték a rózsák.   ó!   mondta a kis herceg. és nagyon boldogtalannak érezte magát. neki a virágja azt mesélte  hogy sehol a világon nincsen párja  és most ott volt előtte ötezer  szakasztott ugyanolyan  egyetlen kertben! “hogy bosszankodnék  ha látná!   gondolta.   iszonyatosan köhécselne  és úgy tenne  mint aki a halálán van  csak hogy nevetségessé ne váljék. nekem pedig úgy kellene tennem  mintha ápolnám  különben még valóban meghalna  csak hogy megszégyenítsen...” és utána még ezt gondolta  “azt hittem  gazdag vagyok  van egy párjanincs virágom  és lám  nincs  csak egy közönséges rózsám. ezzel meg a három térdig érő vulkánommal  melyek közül az egyik talán egyszer s mindenkorra kialudt  igazán nem vagyok valami híres nagy herceg...” lefeküdt a fűbe  és sírni kezdett. 21. akkor jelent meg a róka.   jó napot!   mondta a róka.   jó napot!   felelte udvariasan a kis herceg. megfordult  de nem látott senkit.   itt vagyok az almafa alatt   mondta a hang.   ki vagy?   kérdezte a kis herceg.   csinosnak csinos vagy...   én vagyok a róka   mondta a róka.   gyere  játsszál velem   javasolta a kis herceg.   olyan szomorú vagyok...   nem játszhatom veled   mondta a róka.   nem vagyok megszelídítve.   ó  bocsánat!   mondta a kis herceg. némi tűnődés után azonban hozzátette    mit jelent az  hogy “megszelídíteni”?   te nem vagy idevalósi   mondta a róka.   mit keresel?   az embereket keresem   mondta a kis herceg.   mit jelent az  hogy “megszelídíteni”?   az embereknek   mondta a róka   puskájuk van  és vadásznak. mondhatom  nagyon kelle\\xadmetlen! azonfölül tyúkot is tenyésztenek. ez minden érdekességük. tyúkokat keresel?   nem   mondta a kis herceg.   barátokat keresek. mit jelent az  hogy “megszelídíteni”?   olyasmi  amit nagyon is elfelejtettek   mondta a róka.   azt jelenti  kapcsolatokat teremteni.   kapcsolatokat teremteni?   úgy bizony   mondta a róka.   te pillanatnyilag nem vagy számomra más  mint egy ugyan\\xadolyan kisfiú  mint a többi száz  meg százezer. és szükségem sincs rád. ahogyan neked sincs énrám. számodra én is csak ugyanolyan róka vagyok  mint a többi száz  meg százezer. de ha megszelídítesz  szükségünk lesz egymásra. egyetlen leszel számomra a világon. és én is egyetlen leszek a te számodra...   kezdem érteni   mondta a kis herceg.   van egy virág... az  azt hiszem  megszelídített engem...   lehet   mondta a róka.   annyi minden megesik a földön...   ó  ez nem a földön volt   mondta a kis herceg. a róka egyszeriben csupa kíváncsiság lett.   egy másik bolygón?   igen.   vannak azon a bolygón vadászok?   nincsenek.   lám  ez érdekes. hát tyúkok?   nincsenek.   semmi sem tökéletes   sóhajtott a róka. de aztán visszatért a gondolatára    nekem bizony egyhangú az életem. én tyúkokra vadászom  az emberek meg énrám vadásznak. egyik tyúk olyan  mint a másik  és egyik ember is olyan  mint a másik. így aztán meglehetősen unat\\xadko\\xadzom. de ha megszelídítesz  megfényesednék tőle az életem. lépések neszét hallanám  amely az összes többi lépés neszétől különböznék. a többi lépés arra késztet  hogy a föld alá bújjak. a tiéd  mint valami muzsika  előcsalna a lyukamból. aztán nézd csak! látod ott azt a búza\\xadtáblát? én nem eszem kenyeret. nincs a búzára semmi szükségem. nekem egy búzatábláról nem jut eszembe semmi. tudod  milyen szomorú ez? de neked olyan szép aranyhajad van. ha megszelídítesz  milyen nagyszerű lenne! akkor az aranyos búzáról rád gondolhatnék. és hogy szeretném a búzában a szél susogását... a róka elhallgatott  és sokáig nézte a kis herceget.   légy szíves  szelídíts meg!   mondta.   kész örömest   mondta a kis herceg    de nem nagyon érek rá. barátokat kell találnom  és annyi mindent meg kell ismernem!   az ember csak azt ismeri meg igazán  amit megszelídít   mondta a róka.   az emberek nem érnek rá  hogy bármit is megismerjenek. csupa kész holmit vásárolnak a kereskedőknél. de mivel barátkereskedők nem léteznek  az embereknek nincsenek is barátaik. ha azt akarod  hogy barátod legyen  szelídíts meg engem.   jó  jó  de hogyan?   kérdezte a kis herceg.   sok sok türelem kell hozzá   felelte a róka.   először leülsz szép  tisztes távolba tőlem  úgy  ott a fűben. én majd a szemem sarkából nézlek  te pedig nem szólsz semmit. a beszéd csak félreértések forrása. de minden áldott nap egy kicsit közelebb ülhetsz... másnap visszajött a kis herceg.   jobb lett volna  ha ugyanabban az időben jössz   mondta a róka.   ha például délután négy\\xadkor érkezel majd  én már háromkor elkezdek örülni. minél előrébb halad az idő  annál boldo\\xadgabb leszek. négykor már tele leszek izgalommal és aggodalommal  fölfedezem  milyen drága kincs a boldogság. de ha csak úgy  akármikor jössz  sosem fogom tudni  hány órára öltöztessem díszbe a szívemet... szükség van bizonyos szertartásokra is.   mi az  hogy szertartás?   kérdezte a kis herceg.   az is olyasvalami  amit alaposan elfelejtettek   mondta a róka.   attól lesz az egyik nap más  mint a másik  az egyik óra különböző a másiktól. az én vadászaimnak is megvan például a maguk szertartása. eszerint minden csütörtökön elmennek táncolni a falubeli lányokkal. ezért aztán a csütörtök csodálatos nap! olyankor egészen a szőlőig elsétálok. ha a vadászok csak úgy akármikor táncolnának  minden nap egyforma lenne  és nekem egyáltalán nem lenne vakációm. így aztán a kis herceg megszelídítette a rókát. s amikor közeledett a búcsú órája    ó!   mondta a róka.   sírnom kell majd.   te vagy a hibás   mondta a kis herceg.   én igazán nem akartam neked semmi rosszat. te erősködtél  hogy szelídítselek meg.   igaz  igaz   mondta a róka.   mégis sírni fogsz!   mondta a kis herceg.   igaz  igaz   mondta a róka.   akkor semmit sem nyertél az egésszel.   de nyertem   mondta a róka.   a búza színe miatt.   majd hozzáfűzte    nézd meg újra a rózsákat. meg fogod érteni  hogy a tiéd az egyetlen a világon. aztán gyere vissza elbúcsúzni  s akkor majd ajándékul elárulok neked egy titkot. a kis herceg elment  hogy újra megnézze a rózsákat.   egyáltalán nem vagytok hasonlók a rózsámhoz   mondta nekik.   ti még nem vagytok semmi. nem szelídített meg benneteket senki  és ti sem szelídítettetek meg senkit. olyanok vagytok  mint a rókám volt. ugyanolyan közönséges róka volt  mint a többi száz  meg százezer. de én a barátommá tettem  és most már egyetlen az egész világon. a rózsák csak feszengtek  ő pedig folytatta    szépek vagytok  de üresek. nem lehet meghalni értetek. persze egy akármilyen járókelő az én rózsámra is azt mondhatná  hogy ugyanolyan  mint ti. holott az az igazság  hogy ő egymaga többet ér  mint ti valamennyien  mert ő az  akit öntözgettem. mert ő az  akire burát tettem. mert ő az  akit szélfogó mögött óvtam. mert róla öldöstem le a hernyókat  kivéve azt a kettőt hármat  a lepkék miatt . mert őt hallottam panaszkodni meg dicsekedni  sőt néha hall\\xadgat\\xadni is. mert ő az én rózsám. azzal visszament a rókához.   isten veled   mondta.   isten veled   mondta a róka.   tessék  itt a titkom. nagyon egyszerű  jól csak a szívével lát az ember. ami igazán lényeges  az a szemnek láthatatlan.   ami igazán lényeges  az a szemnek láthatatlan   ismételte a kis herceg  hogy jól az emlé\\xadke\\xadzetébe vésse.   az idő  amit a rózsádra vesztegettél  az teszi olyan fontossá a rózsádat.   az idő  amit a rózsámra vesztegettem...   ismételte a kis herceg  hogy jól az emlékezetébe vésse.   az emberek elfelejtették ezt az igazságot   mondta a róka.   neked azonban nem szabad elfelejtened. te egyszer s mindenkorra felelős lettél azért  amit megszelídítettél. felelős vagy a rózsádért...   felelős vagyok a rózsámért   ismételte a kis herceg  hogy jól az emlékezetébe vésse. 22.   jó napot!   mondta a kis herceg.   jó napot!   mondta a váltóőr.   mit csinálsz te itt?   kérdezte a kis herceg.   rostálom az utasokat  ezresével   mondta a váltóőr.   hol jobbra küldöm a vonatokat  amik viszik őket  hol meg balra. és egy kivilágított gyorsvonat rázkódtatta meg mennydörgő robajjal a váltóházat.   de sürgős nekik   mondta a kis herceg.   mit keresnek?   azt maga a mozdonyvezető se tudja   mondta a váltóőr. ellenkező irányból eldübörgött egy másik kivilágított gyorsvonat.   máris visszajöttek?   kérdezte a kis herceg.   ezek nem ugyanazok   mondta a váltóőr.   ez egy ellenvonat.   nem érezték jól magukat ott  ahol voltak?   az ember sosem érzi jól magát ott  ahol éppen van   mondta a váltóőr. földübörgött egy harmadik kivilágított gyorsvonat.   ezek az első vonatnak az utasait üldözik?   kérdezte a kis herceg.   egyáltalán nem üldöznek semmit   mondta a váltóőr.   alusznak odabent vagy ásítoznak. csak a gyerekek nyomják az orrukat az ablaküveghez.   mert csak a gyerekek tudják  hogy mit keresnek   mondta a kis herceg.   időt vesztegetnek egy rongybabára  amitől egyszerre nagyon fontos lesz az a rongybaba  és ha elveszik tőlük  sírnak...   könnyű nekik   mondta a váltóőr. 23.   jó napot!   mondta a kis herceg.   jó napot!   mondta a kereskedő. ez a kereskedő szomjúságoltó labdacsokat árult. aki hetente egyet bevesz  az többé nem is kíván inni.   hát ezt meg minek árulod?   kérdezte a kis herceg.   rengeteg időt lehet megtakarítani vele   felelte a kereskedő.   a tudósok kiszámították  heti ötvenhárom percet!   és mit csinál az ember azzal az ötvenhárom perccel?   amit akar... “én   gondolta a kis herceg    ha nekem ötvenhárom fölösleges percem volna  szépen elindul\\xadnék egy forrás felé...” 24. a defektemet követő nyolcadik napon voltunk  és úgy hallgattam a kereskedő históriáját  hogy közben vízkészletem utolsó csöppjeit kortyoltam.   kétségkívül szépek az emlékeid   mondtam a kis hercegnek    én azonban még mindig nem javítottam meg a gépemet  viszont innivalóm sincs több  úgyhogy magam is nagyon örülnék neki  ha szépen elindulhatnék egy forrás felé!   barátom  a róka azt mondta...   édes kis öregem  hagyd már azt a rókát!   miért?   mert rövidesen szomjan halunk... nem értette az okoskodásomat  azt mondta    jó az embernek  ha volt egy barátja  még ha rövidesen meg is kell halnia. én a magam részéről nagyon örülök neki  hogy volt egy róka barátom... “képtelen fölfogni a veszélyt   gondoltam.   nem volt soha se éhes  se szomjas. beéri egy kis napfénnyel...” ő azonban rám nézett  úgy felelt a gondolatomra    én is szomjas vagyok... keressünk egy kutat... csüggedten legyintettem  képtelen vállalkozás vaktában kutat keresni a határtalan sivatagban. de azért mégis elindultunk. némán vándoroltunk órákon át  aztán leszállt az éjszaka  és sorra fölragyogtak a csillagok. mintha álomban láttam volna őket  egy kicsit lázas voltam a szomjúságtól. emlékezetemben ott táncoltak a kis herceg szavai.   azt mondtad  te is szomjas vagy?   kérdeztem. de ő nem felelt a kérdésemre. egyszerűen csak ennyit mondott    néha a szívnek is jó a víz... nem értettem a válaszát  de nem szóltam többet. tudtam  hogy őt sosem szabad faggatni. elfáradt. leült. én melléje ültem. akkor némi csönd után azt mondta    a csillagok szépek. attól  hogy van rajtuk egy láthatatlan virág... olyasmit feleltem  hogy “persze  persze”  aztán szótlanul bámultam a holdfényben a homok redőit.   a sivatag is szép   tette hozzá. igaza volt. mindig szerettem a sivatagot. az ember leül egy homokdombra. nem lát semmit. nem hall semmit. valami mégis csöndesen sugárzik...   az teszi széppé a sivatagot   mondta a kis herceg    hogy valahol egy kutat rejt... meglepődtem  mert egyszerre megértettem a homoknak ezt a titokzatos sugárzását. gyerek\\xadkoromban egy régi házban laktam  a legenda szerint valahol kincs volt elásva benne. igaz  soha senki nem jött a nyomára  meglehet  nem is kereste soha senki. mégis elvarázsolta az egész házat. titkot rejtett valahol a szíve mélyén...   igen   mondtam a kis hercegnek    akár egy házról van szó  akár a csillagokról  akár a sivatagról  ami széppé teszi őket  az láthatatlan.   örülök neki  hogy egy véleményen vagy a rókámmal   mondta a kis herceg. és mert elaludt  a karomba vettem  és úgy folytattam utamat. meghatottságot éreztem  mintha törékeny kincset vittem volna. sőt  mintha törékenyebb dolog egyáltalán nem is lett volna a földön. néztem a holdvilágban ezt a sápadt homlokot  ezt a csukott szempárt  ezeket a szélben meg megrezdülő aranyfürtöket  és azt gondoltam magamban  “amit látok  az csak a kéreg. ami a legfontosabb  az láthatatlan...” s mivel nyitott ajkai körül valami mosolyféle derengett  még ezt is gondoltam  “ebben az alvó kis hercegben a legjobban a virágjához való hűsége hat meg  egy rózsa képe  mely akkor is úgy ragyog benne  mint egy lámpa lángja  amikor alszik...” és ettől még törékenyebbnek tűnt a szememben. a lámpákra nagyon kell vigyázni  elég egy hirtelen kis szél  hogy kioltsa őket... mentem  mentem  és hajnalban rábukkantam a kútra. 25.   az emberek   mondta a kis herceg   gyorsvonatokon zötykölődnek  de már nem tudják  mit keresnek. erre elkezdenek ágálni  és csak forognak körbe körbe... aztán még hozzátette    nem éri meg... a kút  amit találtunk  nem hasonlított a szaharai kutakhoz. a szaharai kutak egyszerűen ho\\xadmok\\xadba ásott lyukak. ez meg olyan volt  mint egy falusi kút. holott falunak nyoma sem volt  úgyhogy azt hittem  káprázik a szemem.   nem furcsa?   mondta a kis herceg.   minden készen van  csiga  vödör  kötél... nevetett  megfogta a kötelet  megmozgatta a csigát. a csiga nyikorgott  mint egy öreg szélkakas  ha hosszú szünet után fölébred a szél.   hallod?   mondta a kis herceg.   fölébresztjük a kutat  ő meg énekel... nem akartam  hogy megerőltesse magát.   hagyd  majd én   mondtam.   neked ez túl nehéz. lassan fölvontam a vödröt a káváig. ráállítottam a kávára  jó szilárdan. fülemben még tartott a csiga éneke  a vödörben még remegett a víz  és benne  láttam  ott remegett a nap.   éppen erre a vízre szomjazom   mondta a kis herceg.   adj innom... egyszerre megértettem  hogy mit keresett! ajkához emelte a vödröt. hunyt szemmel ivott. olyan volt ez  mint egy ünnep. ez a víz más volt  több volt puszta italnál. a csillagok alatti vándorlásból született  a csiga énekéből  a karom megfeszített erejéből. olyan jólesett a szívnek  mint egy ajándék. mikor gyerek voltam  így aranyozta be a karácsonyi ajándékot a karácsonyfa fénye  az éjféli mise zenéje meg a mosolyok varázsa.   nálatok   mondta a kis herceg   az emberek egyetlen kertben ötezer rózsát nevelnek. mégse találják meg  amit keresnek.   nem találják meg   mondtam.   pedig egyetlen rózsában vagy egy korty vízben megtalálhatnák...   minden bizonnyal   feleltem.   csakhogy a szem vak   tette hozzá a kis herceg.   a szívünkkel kell keresni. én is ittam. megkönnyebbültem tőle. mikor a nap fölkel  mézszíne van a homoknak. most ennek a mézszínnek is örültem. miért is ért utol aztán a szenvedés...   meg kell tartanod  amit ígértél   mondta szelíden a kis herceg  és már újra ott ült mellettem.   mit ígértem?   tudod... szájkosarat a bárányomnak... hiszen felelős vagyok a virágomért! előszedtem a zsebemből a rajzaimat. a kis herceg rájuk pillantott  és elnevette magát.   ó  a majomkenyérfáid!   mondta.   mint a káposztafejek...   ugyan! pedig olyan büszke voltam a majomkenyérfáimra!   a rókád meg... a fülei... inkább mintha szarvak volnának... meg aztán túl nagyok is! és megint nevetett.   igazságtalan vagy  barátocskám  megmondtam  hogy nem tudok egyebet rajzolni  mint nyitott meg csukott óriáskígyót.   semmi hiba   mondta.   a gyerekek megértik. rajzoltam hát egy szájkosarat. és elszorult a szívem  ahogy átnyújtottam neki.   neked valami titkos terved van... nem felelt. azt mondta    tudod... holnap lesz egy éve  hogy a földre estem... majd némi szünet után    egészen közel ide... elpirult. s engem  magam sem tudom  miért  elfogott valami sötét szomorúság. egyszerre fölötlött bennem egy kérdés    akkor hát egy hete reggel  amikor megismertelek  nem csak úgy véletlenül kószáltál itt  egyszál egyedül  ezer mérföldnyire minden lakott helytől? oda akartál visszamenni  ahová leestél? a kis herceg újra elpirult. én pedig habozva hozzátettem    csak nem az évforduló miatt? a kis herceg még jobban elpirult. felelni nem felelt a kérdéseimre  de ha valaki elpirul  az ugye azt jelenti  hogy “igen”.   ó   mondtam neki    attól félek... azt felelte    neked most dolgoznod kell. vissza kell menned a gépedhez. itt várlak majd  gyere vissza holnap este... én azonban nyugtalan maradtam. eszembe jutott a róka. aki hagyja  hogy megszelídítsék  az a sírás kockázatát is vállalja vele... 26. a kút mellett romladozó kőfal húzódott. mikor másnap este  munkám után visszajöttem  már messziről észrevettem a kis herceget  lábát lógatva fönt ült a fal tetején. és hallottam  hogy beszél valakivel.   hát nem emlékszel rá?   mondta.   nem egészen itt volt! erre egy másik hang felelhetett neki valamit  mert ő megint erősködni kezdett    igen  igen! a napja ma van  de a helye nem egészen ez... mentem tovább a fal felé. kívüle még mindig nem láttam  nem hallottam senkit. ő azonban tovább vitatkozott    ...úgy bizony. nézd csak meg  hol kezdődik a nyomom a homokban. és csak várj rám. ma éjszaka ott leszek. már csak húszméternyire voltam a faltól  de még most sem láttam semmit. a kis herceg egy darabig hallgatott  aztán azt kérdezte    jó mérged van? biztos vagy benne  hogy nem fogok sokáig szenvedni? megtorpantam  elszorult a szívem  de még mindig nem értettem a dolgot.   most pedig menj el   mondta a kis herceg.   le akarok jönni innét! erre magam is a fal tövébe néztem  hirtelen hőköléssel. mert egy kígyó ágaskodott ott a kis herceg felé  egyike azoknak a sárga kígyóknak  amelyek harminc másodperc alatt végeznek az emberrel. kezemet a zsebembe mélyesztettem  hogy előrántsam a revolveremet  és futni kezdtem feléjük  lépteim zajára azonban a kígyó puhán visszaernyedt a homokba  olyas\\xadformán  mint egy szökőkút elhaló sugara  és sietség nélkül  fémes kis nesszel eltűnt a kövek közt. épp jókor értem a falhoz  hogy a butácska hercegecskét fölfogjam a karomban. sápadt volt  mint a hó.   hát ez meg mi volt? most már kígyókkal társalkodol? kibontottam aranyszínű sálját  amit örökké a nyaka köré tekerve hordott. megnedvesítettem a halántékát  és itattam vele pár kortyot. de kérdezni már nem mertem tőle semmit. komolyan nézett rám  karját a nyakamba fonta. éreztem a szívét  úgy vert  mint egy meglőtt madáré.   örülök neki  hogy sikerült megjavítanod a gépedet. most aztán hazatérhetsz...   honnan tudod? éppen azt akartam elújságolni neki  hogy minden várakozás ellenére mégiscsak zöld ágra vergődtem a munkámmal. nem felelt a kérdésemre. aztán azt mondta    én is hazamegyek ma...   és szomorkásan hozzátette    de az sokkal messzebb van... és sokkal nehezebb... éreztem  hogy valami rendkívüli dolog történik. úgy szorítottam a karomba  mint egy gyereket  közben mégis olyan volt  mintha függőlegesen elfolynék valami szakadékba  és én mit sem tehetek  hogy visszatartsam... tekintete komoly volt  és valahol a messzeségben járt.   mim van? a bárányod. meg a bárány ládája. meg a szájkosár... szomorúan elmosolyodott. vártam  hosszan  sokáig. éreztem  hogy lassacskán átmelegszik.   kedves kis barátom  te féltél... igen  félt  de még mennyire félt! hanem azért szelíden fölnevetett.   este sokkal jobban fogok félni... megint belém hasított a jóvátehetetlenség fagyasztó érzése. és tűrhetetlennek éreztem már a puszta gondolatát is  hogy nem hallom többet a nevetését. hiszen olyan volt számomra  mint forrás a sivatagban.   kis barátom  hallani akarom még a nevetésedet... de ő azt mondta    ma éjszaka éppen egy éve. ma éjjel a csillagom pontosan a fölött a hely fölött lesz  ahol egy esztendeje földre hullottam...   kedves kis barátom  ugye  ez az egész csak rossz álom  ez a kígyóhistória  ez a találkozó  ez a csillagmese... erre a kérdésre azonban nem válaszolt. azt mondta    ami fontos  azt nem lehet látni...   persze...   a virágokkal is így van. ha szeretsz egy virágot  valahol egy csillagon  jólesik éjszaka fölnézned az égre. minden csillagon van egy virág.   persze...   és a vízzel is így van. amit innom adtál  olyan volt  mint a muzsika  a csiga meg a kötél miatt... emlékszel?... nagyon jó volt.   persze...   éjszaka majd fölnézel a csillagokra. az enyém sokkal kisebb  semhogy megmutathatnám  hol van. de jobb is így. számodra az én csillagom egy lesz valamerre a többi csillag közt. így aztán minden csillagot szívesen nézel majd... mind a barátod lesz. azonfölül egy ajándékot is adok neked. megint nevetett.   ó  kedves kis barátom  hogy szeretem hallani a nevetésedet!   éppen ez lesz az ajándékom... olyasforma  mint a víz...   mit akarsz ezzel mondani?   az embereknek nem ugyanazt jelentik a csillagaik. akik úton járnak  azoknak vezetőül szolgálnak a csillagok. másoknak nem egyebek csöppnyi kis fényeknél. ismét mások  a tudó\\xadsok számára problémák. az üzletemberem szemében aranyból voltak. a csillagok viszont mind mind hallgatnak. de neked olyan csillagaid lesznek  amilyenek senki másnak...   hogyhogy?   mert én ott lakom majd valamelyiken  és ott nevetek majd valamelyiken  ha éjszakánként fölnézel az égre  olyan lesz számodra  mintha minden csillag nevetne. neked  egyedül neked  olyan csillagaid lesznek  amik nevetni tudnak! és megint nevetett.   s ha majd megvigasztalódtál  mert végül is mindig megvigasztalódik az ember   örülni fogsz neki  hogy megismerkedtél velem. mindig is a barátom leszel. és szívesen fogsz együtt nevetni velem. és néha kinyitod majd az ablakodat  csak úgy  kedvtelésből... és a barátaid nagyot néznek majd  ha látják  hogy nevetsz  amikor fölnézel az égre. te meg majd azt mondod nekik  “igen  engem a csillagok mindig megnevettetnek!” erre azt hiszik majd  hogy meghibbantál. szép kis tréfa lesz... és nevetett újra.   mintha a csillagok helyett egy csomó kacagni tudó csengettyűt kaptál volna tőlem... és újból nevetett. de aztán elkomolyodott.   ma éjszaka... tudod... ne gyere el.   nem hagylak magadra.   olyan leszek majd  mintha valami bajom volna... egy kicsit olyan  mintha meghalnék. úgy bizony. ne gyere el  semmi szükség rá  hogy végignézd... nem éri meg...   nem hagylak magadra. ő szemlátomást gondterhelt volt.   azért mondom... a kígyó miatt. nehogy esetleg téged is megmarjon... a kígyók komiszak. puszta kedvtelésből is marnak...   nem hagylak magadra. de valami megnyugtatta.   igaz  második marásra már nem marad mérgük... azon az éjszakán észre sem vettem  mikor kelt útra. nesztelenül megszökött. mikor végre utolértem  elszántan  gyors léptekkel menetelt. csak ennyit mondott    ó  hát itt vagy... és kézen fogott. de még mindig bántotta valami.   nem jól tetted. fájni fog neked. olyan lesz  mintha meghaltam volna  pedig nem is igaz... én csak hallgattam.   ugye  érted? nagyon messze van. nem vihetem magammal ezt a testet. túl nehéz. hallgattam.   olyan lesz  mint egy levetett  régi kéreg. mért volna szomorú egy levetett kéreg?... hallgattam. egy kicsit elbátortalanodott. de aztán újra összeszedte magát.   tudod  milyen jó lesz? én is nézem majd a csillagokat. minden egyes csillag kút lesz  rozsdás csigával. és mind innom ad majd. hallgattam.   olyan mulatságos lesz! neked ötszázmillió csengettyűd lesz  nekem ötszázmillió forrásom... és most már ő is elhallgatott  mert sírt...   helyben vagyunk. most hadd menjek pár lépést egyedül. de leült  mert fél. aztán azt mondta    tudod... a virágom... felelős vagyok érte. hiszen olyan gyönge! és olyan gyanútlan. egyebe sincs  mint négy semmi kis tövise  hogy a világtól védekezzék... leültem én is  mert nem bírtam tovább állva maradni.   hát igen   mondta.   ennyi az egész. egy kicsit még tétovázott  aztán fölállt. lépett egyet. én moccanni se bírtam. csak ennyi volt  egy sárga villanás a bokájánál. egy pillanatig mozdulatlanul állt. nem kiáltott. szelíden dőlt el  ahogyan a fák. még csak zajt sem keltett  a homok miatt. 27. és ennek bizony immár hat éve. s én még soha senkinek sem meséltem el ezt a történetet. bajtársaim  mikor viszontláttak  örültek  hogy élve látnak. én szomorú voltam  de azt mond\\xadtam  “azért  mert nagyon fáradt vagyok...” most már egy kicsit megvigasztalódtam. azaz... mégsem egészen. de tudom  hogy visszatért a bolygójára  mert mikor fölkelt a nap  nem találtam ott a testét. annyira mégsem volt nehéz... és szeretem a csillagokat hallgatni éjszakánként. mintha ötszázmillió csengettyű volna... de lám csak  van itt egy rendkívüli kérdés! a szájkosárról  amit a kis hercegnek rajzoltam  lefelejtettem a bőrszíjat! sose tudhatja fölcsatolni a bárányára. s én azt kérdezem magamban  “mi történt a bolygón? lehet  hogy a bárány megette a virágot...” egyszer azt gondolom  “nem  semmiképpen sem! a kis herceg mindig üvegbura alá teszi éjszakára a virágját  és éberen vigyáz a bárányára...” ilyenkor boldog vagyok  és a csillagok mind kedvesen nevetnek. másszor meg ezt gondolom  “az ember olykor olykor figyelmetlen  és máris kész a baj! egy este elfelejti föltenni az üvegburát  vagy éjszaka nesztelenül kiszökik a bárány...” és ilyenkor a csengettyűk mind csupa könnyé változnak. nagy rejtelem ez. mert ti szeretitek a kis herceget  nektek se mindegy  mint ahogy nem mind\\xadegy nekem sem  hogy valahol a mindenségben  ki tudja  hol  ki tudja  merre  egy bárány  akit nem is ismerünk  lelegelt e egy rózsát  vagy sem... nézzetek föl az égre. és tegyétek föl a kérdést  megette vagy nem ette meg a virágot a bárány? s aszerint  igen vagy nem  meglátjátok  egyszerre megváltozik minden... és soha  egyetlen fölnőtt sem fogja megérteni  hogy ez milyen rettentően fontos!  számomra ez itt a világ legszebb és legszomorúbb tája. ugyanaz a táj  mint az előző lapon  de még egyszer lerajzoltam  hogy jól lássátok. itt jelent meg a földön  s aztán itt tűnt el róla a kis herceg. tanulmányozzátok figyelmesen  hogy biztosan ráismerjetek  ha egyszer afrikában utaztok  a sivatagban. s ha netalán arra visz az utatok  kérve kérlek  ne siessetek  időzzetek el egy kicsit ott  pontosan a csillag alatt. ha akkor egy gyerek lép hozzátok  és nevet  és aranyhaja van  és nem felel  ha kérdezik  nyilván kitaláljátok  ki az. s akkor aztán legyetek kedvesek  és ne hagyjátok  hogy tovább szomorkodjam  írjátok meg nekem  hogy visszajött... '"
            ],
            "application/vnd.google.colaboratory.intrinsic+json": {
              "type": "string"
            }
          },
          "metadata": {},
          "execution_count": 9
        }
      ]
    },
    {
      "cell_type": "code",
      "source": [
        "# Betűket számmá alakítjuk"
      ],
      "metadata": {
        "id": "8Nwv8Iyf4Tga"
      },
      "execution_count": 10,
      "outputs": []
    },
    {
      "cell_type": "code",
      "source": [
        "random_v=[1,2,33,3,3,3,33,4,5,5,5,5,64,6]"
      ],
      "metadata": {
        "id": "Ob-LmDwc4cKw"
      },
      "execution_count": 11,
      "outputs": []
    },
    {
      "cell_type": "code",
      "source": [
        "set(random_v)"
      ],
      "metadata": {
        "colab": {
          "base_uri": "https://localhost:8080/"
        },
        "id": "Gc4CL_A44waY",
        "outputId": "9ccc1975-d8fa-4564-924a-b48790df23f7"
      },
      "execution_count": 12,
      "outputs": [
        {
          "output_type": "execute_result",
          "data": {
            "text/plain": [
              "{1, 2, 3, 4, 5, 6, 33, 64}"
            ]
          },
          "metadata": {},
          "execution_count": 12
        }
      ]
    },
    {
      "cell_type": "code",
      "source": [
        "chars = sorted(list(set(raw_text)))"
      ],
      "metadata": {
        "id": "dgy_ZjzE4yWr"
      },
      "execution_count": 13,
      "outputs": []
    },
    {
      "cell_type": "code",
      "source": [
        "chars[:10]"
      ],
      "metadata": {
        "colab": {
          "base_uri": "https://localhost:8080/"
        },
        "id": "JTGV6lYU42nH",
        "outputId": "2c474d1f-6590-4ae4-f297-ae95ec302d5f"
      },
      "execution_count": 14,
      "outputs": [
        {
          "output_type": "execute_result",
          "data": {
            "text/plain": [
              "[' ', '!', '.', '0', '1', '2', '3', '4', '5', '6']"
            ]
          },
          "metadata": {},
          "execution_count": 14
        }
      ]
    },
    {
      "cell_type": "code",
      "source": [
        "char_to_int={}\n",
        "int_to_char={}\n",
        "for i, char in enumerate(chars):\n",
        "  char_to_int[char]=i\n",
        "  int_to_char[i]=char"
      ],
      "metadata": {
        "id": "aYoIEkep5FSp"
      },
      "execution_count": 15,
      "outputs": []
    },
    {
      "cell_type": "code",
      "source": [
        "char_to_int"
      ],
      "metadata": {
        "colab": {
          "base_uri": "https://localhost:8080/"
        },
        "id": "A36rSrDD50-4",
        "outputId": "645abbcb-d5a6-4c72-f6cc-926a2a1de64d"
      },
      "execution_count": 16,
      "outputs": [
        {
          "output_type": "execute_result",
          "data": {
            "text/plain": [
              "{' ': 0,\n",
              " '!': 1,\n",
              " '.': 2,\n",
              " '0': 3,\n",
              " '1': 4,\n",
              " '2': 5,\n",
              " '3': 6,\n",
              " '4': 7,\n",
              " '5': 8,\n",
              " '6': 9,\n",
              " '7': 10,\n",
              " '8': 11,\n",
              " '9': 12,\n",
              " '?': 13,\n",
              " 'a': 14,\n",
              " 'b': 15,\n",
              " 'c': 16,\n",
              " 'd': 17,\n",
              " 'e': 18,\n",
              " 'f': 19,\n",
              " 'g': 20,\n",
              " 'h': 21,\n",
              " 'i': 22,\n",
              " 'j': 23,\n",
              " 'k': 24,\n",
              " 'l': 25,\n",
              " 'm': 26,\n",
              " 'n': 27,\n",
              " 'o': 28,\n",
              " 'p': 29,\n",
              " 'r': 30,\n",
              " 's': 31,\n",
              " 't': 32,\n",
              " 'u': 33,\n",
              " 'v': 34,\n",
              " 'w': 35,\n",
              " 'x': 36,\n",
              " 'y': 37,\n",
              " 'z': 38,\n",
              " '\\xad': 39,\n",
              " 'á': 40,\n",
              " 'é': 41,\n",
              " 'í': 42,\n",
              " 'ó': 43,\n",
              " 'ö': 44,\n",
              " 'ú': 45,\n",
              " 'ü': 46,\n",
              " 'ő': 47,\n",
              " 'ű': 48,\n",
              " '“': 49,\n",
              " '”': 50,\n",
              " '\\ufeff': 51}"
            ]
          },
          "metadata": {},
          "execution_count": 16
        }
      ]
    },
    {
      "cell_type": "code",
      "source": [
        "int_to_char"
      ],
      "metadata": {
        "colab": {
          "base_uri": "https://localhost:8080/"
        },
        "id": "ldcGVj9e52wF",
        "outputId": "b6eb44a5-1635-403f-aebe-4e4aa035c914"
      },
      "execution_count": 17,
      "outputs": [
        {
          "output_type": "execute_result",
          "data": {
            "text/plain": [
              "{0: ' ',\n",
              " 1: '!',\n",
              " 2: '.',\n",
              " 3: '0',\n",
              " 4: '1',\n",
              " 5: '2',\n",
              " 6: '3',\n",
              " 7: '4',\n",
              " 8: '5',\n",
              " 9: '6',\n",
              " 10: '7',\n",
              " 11: '8',\n",
              " 12: '9',\n",
              " 13: '?',\n",
              " 14: 'a',\n",
              " 15: 'b',\n",
              " 16: 'c',\n",
              " 17: 'd',\n",
              " 18: 'e',\n",
              " 19: 'f',\n",
              " 20: 'g',\n",
              " 21: 'h',\n",
              " 22: 'i',\n",
              " 23: 'j',\n",
              " 24: 'k',\n",
              " 25: 'l',\n",
              " 26: 'm',\n",
              " 27: 'n',\n",
              " 28: 'o',\n",
              " 29: 'p',\n",
              " 30: 'r',\n",
              " 31: 's',\n",
              " 32: 't',\n",
              " 33: 'u',\n",
              " 34: 'v',\n",
              " 35: 'w',\n",
              " 36: 'x',\n",
              " 37: 'y',\n",
              " 38: 'z',\n",
              " 39: '\\xad',\n",
              " 40: 'á',\n",
              " 41: 'é',\n",
              " 42: 'í',\n",
              " 43: 'ó',\n",
              " 44: 'ö',\n",
              " 45: 'ú',\n",
              " 46: 'ü',\n",
              " 47: 'ő',\n",
              " 48: 'ű',\n",
              " 49: '“',\n",
              " 50: '”',\n",
              " 51: '\\ufeff'}"
            ]
          },
          "metadata": {},
          "execution_count": 17
        }
      ]
    },
    {
      "cell_type": "code",
      "source": [
        "n_chars=len(raw_text)\n",
        "n_vocab=len(chars)\n",
        "print('A teljes szöveg karakter tartalma: ', n_chars)\n",
        "print('Ennyi egyéni karakter van benne: ', n_vocab)"
      ],
      "metadata": {
        "colab": {
          "base_uri": "https://localhost:8080/"
        },
        "id": "9RGKu3K657y3",
        "outputId": "f202bd4d-97e6-4016-e372-bffea67bd56d"
      },
      "execution_count": 18,
      "outputs": [
        {
          "output_type": "stream",
          "name": "stdout",
          "text": [
            "A teljes szöveg karakter tartalma:  80475\n",
            "Ennyi egyéni karakter van benne:  52\n"
          ]
        }
      ]
    },
    {
      "cell_type": "code",
      "source": [
        "# Feldaraboljuk a szöveget szekvenciákra\n",
        "\n",
        "maxlen=60\n",
        "step=3\n",
        "sentences=[]\n",
        "next_chars=[]\n",
        "\n",
        "for i in range(0, len(raw_text)-maxlen, step):\n",
        "  sentences.append(raw_text[i:i+maxlen])\n",
        "  next_chars.append(raw_text[i+maxlen])"
      ],
      "metadata": {
        "id": "FIE8DL3I6sd7"
      },
      "execution_count": 19,
      "outputs": []
    },
    {
      "cell_type": "code",
      "source": [
        "sentences[0]"
      ],
      "metadata": {
        "colab": {
          "base_uri": "https://localhost:8080/",
          "height": 35
        },
        "id": "CxAtfdNV7v0a",
        "outputId": "cf3c6ccc-26a9-4302-dfc0-2d63486aba88"
      },
      "execution_count": 20,
      "outputs": [
        {
          "output_type": "execute_result",
          "data": {
            "text/plain": [
              "'\\ufeff antoine de saint exupéry a kis herceg  fordította  rónay g'"
            ],
            "application/vnd.google.colaboratory.intrinsic+json": {
              "type": "string"
            }
          },
          "metadata": {},
          "execution_count": 20
        }
      ]
    },
    {
      "cell_type": "code",
      "source": [
        "next_chars[0]"
      ],
      "metadata": {
        "colab": {
          "base_uri": "https://localhost:8080/",
          "height": 35
        },
        "id": "2R_tVXo27xst",
        "outputId": "224dd8ae-00d5-4051-d136-42f91189a869"
      },
      "execution_count": 21,
      "outputs": [
        {
          "output_type": "execute_result",
          "data": {
            "text/plain": [
              "'y'"
            ],
            "application/vnd.google.colaboratory.intrinsic+json": {
              "type": "string"
            }
          },
          "metadata": {},
          "execution_count": 21
        }
      ]
    },
    {
      "cell_type": "code",
      "source": [
        "len(next_chars)"
      ],
      "metadata": {
        "colab": {
          "base_uri": "https://localhost:8080/"
        },
        "id": "D73tw60K71aj",
        "outputId": "af23a4dc-963b-4042-d65e-f27e91d962ac"
      },
      "execution_count": 22,
      "outputs": [
        {
          "output_type": "execute_result",
          "data": {
            "text/plain": [
              "26805"
            ]
          },
          "metadata": {},
          "execution_count": 22
        }
      ]
    },
    {
      "cell_type": "code",
      "source": [
        "# One-hot encoding\n",
        "import numpy as np\n",
        "\n",
        "x_train = np.zeros((len(sentences), maxlen, n_vocab))"
      ],
      "metadata": {
        "id": "5ZL2hwR979ZZ"
      },
      "execution_count": 23,
      "outputs": []
    },
    {
      "cell_type": "code",
      "source": [
        "x_train.shape"
      ],
      "metadata": {
        "colab": {
          "base_uri": "https://localhost:8080/"
        },
        "id": "G446rKmb8ndh",
        "outputId": "b959f1c5-1ebe-4a53-eabf-9d2315482e15"
      },
      "execution_count": 24,
      "outputs": [
        {
          "output_type": "execute_result",
          "data": {
            "text/plain": [
              "(26805, 60, 52)"
            ]
          },
          "metadata": {},
          "execution_count": 24
        }
      ]
    },
    {
      "cell_type": "code",
      "source": [
        "y_train =np.zeros((len(sentences), n_vocab))"
      ],
      "metadata": {
        "id": "y7kp5aIv8yYM"
      },
      "execution_count": 25,
      "outputs": []
    },
    {
      "cell_type": "code",
      "source": [
        "for i, sentence in enumerate(sentences):\n",
        "  for t, char in enumerate(sentence):\n",
        "    x_train[i,t,char_to_int[char]]=1\n",
        "    y_train[i, char_to_int[next_chars[i]]]=1"
      ],
      "metadata": {
        "id": "d4l7d8HC9HAB"
      },
      "execution_count": 26,
      "outputs": []
    },
    {
      "cell_type": "code",
      "source": [
        "x_train.shape"
      ],
      "metadata": {
        "colab": {
          "base_uri": "https://localhost:8080/"
        },
        "id": "uolMvSVf9gm7",
        "outputId": "e54aad06-1e9a-4f8b-9137-3d5fb9cbf1d4"
      },
      "execution_count": 27,
      "outputs": [
        {
          "output_type": "execute_result",
          "data": {
            "text/plain": [
              "(26805, 60, 52)"
            ]
          },
          "metadata": {},
          "execution_count": 27
        }
      ]
    },
    {
      "cell_type": "code",
      "source": [
        "from tensorflow.keras import layers\n",
        "from tensorflow import keras"
      ],
      "metadata": {
        "id": "sdjnW20o-FSe"
      },
      "execution_count": 28,
      "outputs": []
    },
    {
      "cell_type": "code",
      "source": [
        ""
      ],
      "metadata": {
        "id": "xsFxGKxt-3Yc"
      },
      "execution_count": 28,
      "outputs": []
    },
    {
      "cell_type": "code",
      "source": [
        "input=layers.Input(shape=(maxlen, n_vocab))\n",
        "x = layers.LSTM(256)(input) #kicsi, hogy lefusson hamar --- még egy dence réteg vagy még rejtett rétegek kellhetnek\n",
        "x = layers.Dropout(0.2)(x)\n",
        "output = layers.Dense(n_vocab, activation='softmax')(x) #annyi réteg, ahány egyéni betű van (n_vocab)"
      ],
      "metadata": {
        "id": "SfIcUdGe-_Uu"
      },
      "execution_count": 29,
      "outputs": []
    },
    {
      "cell_type": "code",
      "source": [
        "model=keras.Model(input, output)"
      ],
      "metadata": {
        "id": "OuKZRJZI_j3r"
      },
      "execution_count": 30,
      "outputs": []
    },
    {
      "cell_type": "code",
      "source": [
        "model.compile(loss='categorical_crossentropy', optimizer='adam')"
      ],
      "metadata": {
        "id": "sYBNtGIf_qGm"
      },
      "execution_count": 31,
      "outputs": []
    },
    {
      "cell_type": "code",
      "source": [
        "#model.fit(x_train, y_train, )"
      ],
      "metadata": {
        "id": "Jjfb1pwx_wyb"
      },
      "execution_count": 32,
      "outputs": []
    },
    {
      "cell_type": "markdown",
      "source": [
        "# Tanulás közben hogyan teljesít"
      ],
      "metadata": {
        "id": "-zURjXfo__3m"
      }
    },
    {
      "cell_type": "code",
      "source": [
        "import random"
      ],
      "metadata": {
        "id": "76KD_Tzo_-uJ"
      },
      "execution_count": 33,
      "outputs": []
    },
    {
      "cell_type": "code",
      "source": [
        "starting_point = random.randint(0,len(raw_text)-maxlen-1)\n",
        "sentence=raw_text[starting_point: starting_point+maxlen]"
      ],
      "metadata": {
        "id": "IJalBM3QAWyA"
      },
      "execution_count": 34,
      "outputs": []
    },
    {
      "cell_type": "code",
      "source": [
        "sentence"
      ],
      "metadata": {
        "colab": {
          "base_uri": "https://localhost:8080/",
          "height": 35
        },
        "id": "nXpYhfQQAuHr",
        "outputId": "cc6b1130-1a52-460d-ad46-dbca98d82225"
      },
      "execution_count": 35,
      "outputs": [
        {
          "output_type": "execute_result",
          "data": {
            "text/plain": [
              "'tán szótlanul bámultam a holdfényben a homok redőit.   a siv'"
            ],
            "application/vnd.google.colaboratory.intrinsic+json": {
              "type": "string"
            }
          },
          "metadata": {},
          "execution_count": 35
        }
      ]
    },
    {
      "cell_type": "code",
      "source": [
        "x_pred = np.zeros((1, maxlen, n_vocab))\n",
        "for t, char in enumerate(sentence):\n",
        "    x_pred[0, t, char_to_int[char]] = 1.0"
      ],
      "metadata": {
        "id": "RVLJv-pPAvWx"
      },
      "execution_count": 36,
      "outputs": []
    },
    {
      "cell_type": "code",
      "source": [
        "x_pred.shape"
      ],
      "metadata": {
        "colab": {
          "base_uri": "https://localhost:8080/"
        },
        "id": "U_lgImT_BC7O",
        "outputId": "6d2f67b5-00d9-455a-d4b6-d1face66571e"
      },
      "execution_count": 37,
      "outputs": [
        {
          "output_type": "execute_result",
          "data": {
            "text/plain": [
              "(1, 60, 52)"
            ]
          },
          "metadata": {},
          "execution_count": 37
        }
      ]
    },
    {
      "cell_type": "code",
      "source": [
        "np.argmax(model.predict(x_pred))"
      ],
      "metadata": {
        "colab": {
          "base_uri": "https://localhost:8080/"
        },
        "id": "H7fkatwPBHTU",
        "outputId": "a9508c40-9a23-4344-cc28-3d7cbbfb554b"
      },
      "execution_count": 38,
      "outputs": [
        {
          "output_type": "execute_result",
          "data": {
            "text/plain": [
              "22"
            ]
          },
          "metadata": {},
          "execution_count": 38
        }
      ]
    },
    {
      "cell_type": "code",
      "source": [
        "def sample(preds, temperature=1.0):\n",
        "    # helper function to sample an index from a probability array\n",
        "    preds = np.asarray(preds).astype(\"float64\")\n",
        "    preds = np.log(preds) / temperature\n",
        "    exp_preds = np.exp(preds)\n",
        "    preds = exp_preds / np.sum(exp_preds)\n",
        "    probas = np.random.multinomial(1, preds, 1)\n",
        "    return np.argmax(probas)"
      ],
      "metadata": {
        "id": "pASAKgQgDEd9"
      },
      "execution_count": 39,
      "outputs": []
    },
    {
      "cell_type": "markdown",
      "source": [
        "# Tanítás és kiértékelés"
      ],
      "metadata": {
        "id": "0iLMPDGLBUMR"
      }
    },
    {
      "cell_type": "code",
      "source": [
        "epochs = 10\n",
        "\n",
        "for epoch in range(epochs):\n",
        "    print('------ Epoch ', epoch)\n",
        "    \n",
        "    model.fit(x_train, y_train, epochs=1, batch_size=128)\n",
        "\n",
        "    starting_point = random.randint(0, len(raw_text) - maxlen - 1)\n",
        "    for temp in [0.1, 1.0]:\n",
        "        generated = ''\n",
        "        sentence = raw_text[starting_point : starting_point + maxlen]\n",
        "        print('A kiindulási mondatunk: ', sentence)\n",
        "\n",
        "        for _ in range(200):\n",
        "            # Átformázzuk erre az alakra: [samples, time steps, features]\n",
        "            x_pred = np.zeros((1, maxlen, n_vocab))\n",
        "            for t, char in enumerate(sentence):\n",
        "                x_pred[0, t, char_to_int[char]] = 1.0\n",
        "\n",
        "            preds = model.predict(x_pred)[0]\n",
        "            next_index = sample(preds, temp) # np.argmax()\n",
        "            next_char = int_to_char[next_index]\n",
        "            sentence = sentence[1:] + next_char\n",
        "            generated += next_char\n",
        "        print(f'A generált szöveg {temp} temperature-rel: {generated}')\n",
        "    print()"
      ],
      "metadata": {
        "colab": {
          "base_uri": "https://localhost:8080/"
        },
        "id": "MkLThSEFBH7k",
        "outputId": "4f0f6ee7-fdd9-489f-97da-04597c7bfc28"
      },
      "execution_count": 40,
      "outputs": [
        {
          "output_type": "stream",
          "name": "stdout",
          "text": [
            "------ Epoch  0\n",
            "210/210 [==============================] - 8s 24ms/step - loss: 3.0989\n",
            "A kiindulási mondatunk:  em folyamán nagyon sokszor kerültem kapcsolatba komoly ember\n",
            "A generált szöveg 0.1 temperature-rel:     em     e   a     a   e  el      em     el  a      a   a  a      a    a    a   eg    a     a    a    a    el  a      a       a     a    e   a     a   a   a   a    a   a  e   e     el    a   a   a  \n",
            "A kiindulási mondatunk:  em folyamán nagyon sokszor kerültem kapcsolatba komoly ember\n",
            "A generált szöveg 1.0 temperature-rel: ktgy  inh nyölna ?svvn  zdaomtüto?ett   hég   aez j  vrkknzeoo e zbugástelomtéeiá   ejtg. ynöyí zhthlcej  ven lhzgiáky oetn ayaeéááesfge kgks  os  s ksnntitbiu  égo k sanzes ekn.zejb gt gtdvizftot znd\n",
            "\n",
            "------ Epoch  1\n",
            "210/210 [==============================] - 5s 25ms/step - loss: 2.6907\n",
            "A kiindulási mondatunk:  ly  beleszámítva természe­tesen a néger királyokat is   héte\n",
            "A generált szöveg 0.1 temperature-rel:   egy   szen   szon   agy megy  egy   szer egy   szel   megy   mertet   mis  a megy   mis   szen   min   szeret   mis   szegy   szen   megy   mis  egy   mis  egy   szon   szegy   mis  egy   mis  egy m\n",
            "A kiindulási mondatunk:  ly  beleszámítva természe­tesen a néger királyokat is   héte\n",
            "A generált szöveg 1.0 temperature-rel: k  ldatá  érbeknnk sjvolt vág kilj  ég irrpmé lelelvála yámledeőteő  ismis bemgynek  ent nein eamél  ilótu  oz ajira  rovtit. ilha re   aóvan mer m lyoltia  sonók mig  fiszer .r éldon.  mölneiy kör őo\n",
            "\n",
            "------ Epoch  2\n",
            "210/210 [==============================] - 5s 25ms/step - loss: 2.4547\n",
            "A kiindulási mondatunk:  . hatéves koromban egy könyvben  mely az őserdőről szólt  és\n",
            "A generált szöveg 0.1 temperature-rel:   egy negy a  az az a   az a  az a   szen   az az az a   hegy   hogy a   szen   azta   szeret   az az a   hegyet   az az az a  az az a  szeregy   az az  agy negy   hegy   azta   hegy   az a   hegyen  \n",
            "A kiindulási mondatunk:  . hatéves koromban egy könyvben  mely az őserdőről szólt  és\n",
            "A generált szöveg 1.0 temperature-rel: zedbent tolutetlenktt egs ginák azhareütt hany vónz netet herártó   höldze ne“negyérdel ták. fegy hog ojy ner feszőmenyi!   hinduszáta  a  ili őzágy a  málnaan     miba  alt hegelg a vetva  cszakemces\n",
            "\n",
            "------ Epoch  3\n",
            "210/210 [==============================] - 5s 24ms/step - loss: 2.3361\n",
            "A kiindulási mondatunk:  ogyan találjak közösséget vele... olyan titokzatos világ a k\n",
            "A generált szöveg 0.1 temperature-rel: is hegyet   a kis herceg   a  az a valátta   egy keregyet  a kis herceg   a kort a kis herceg   a kis herceg   a kis herceg   a kis herceget    az a  az a valát a   hogy vagy a kis herceg   a kis herc\n",
            "A kiindulási mondatunk:  ogyan találjak közösséget vele... olyan titokzatos világ a k\n",
            "A generált szöveg 1.0 temperature-rel: árrátta    kár höúve   megdeekfés tehi terőtethennke. ez őn “on a min öz atat vedot kiehegerkes ogytimegril úegtinut­t a t azoúcsan   meg godor!  géd. övarőmantek  inta   éstben bakogcsan hercegyosman\n",
            "\n",
            "------ Epoch  4\n",
            "210/210 [==============================] - 5s 25ms/step - loss: 2.2489\n",
            "A kiindulási mondatunk:  előle. hirtelen izgalom vett erőt a geográfuson.   de te  te\n",
            "A generált szöveg 0.1 temperature-rel: lette   holy a kis herceg   az  hogy a kis herceg   min ha csik a kis herceg   az  hogy  az az az az az az az az az az az az az az az az az az az az a kis herceg   az  hogy a kis herceg   mindet  a ki\n",
            "A kiindulási mondatunk:  előle. hirtelen izgalom vett erőt a geográfuson.   de te  te\n",
            "A generált szöveg 1.0 temperature-rel: lek tehenmi. és nédejáttolattel. méren.. a mil  egy föllion hogy kés emvetetek. a kit velceg  ném várájs7a.   mipföncse vesek  beget. segt egfetezt  nek feregy. ma rom. depinjőgászek  és derfellik. ág\n",
            "\n",
            "------ Epoch  5\n",
            "210/210 [==============================] - 5s 24ms/step - loss: 2.1720\n",
            "A kiindulási mondatunk:  sznos dolog  ha éjszaka eltéved az ember. így aztán életem f\n",
            "A generált szöveg 0.1 temperature-rel: öllette   hogy a kis herceg   mondta a kis herceg   mondta a kis herceg   szomon a földett   hogy a kis herceg   mondta a kis herceg   mondta a kis herceg   mondta a kis herceg   hogy a kis herceg   m\n",
            "A kiindulási mondatunk:  sznos dolog  ha éjszaka eltéved az ember. így aztán életem f\n",
            "A generált szöveg 1.0 temperature-rel: öglénátánkék föreltb a falcsolljan  migohotol mállok  meg bozol csója..” “atád azádajn érta ak a mictola m vágazán a bároloket mögyekjültárán.. malat melukanni  ji donditaludyén köv!ne manris molta ja\n",
            "\n",
            "------ Epoch  6\n",
            "210/210 [==============================] - 5s 25ms/step - loss: 2.1093\n",
            "A kiindulási mondatunk:  !   mondta a kis herceg.   jó napot!   mondta a virág.   hol\n",
            "A generált szöveg 0.1 temperature-rel: y a kis herceg   mint a kis herceg   szem a kis herceg   ment a kis herceg   mondta a kis herceg   mint a kis herceg   mendet   mendet   mendet   hogy a kis herceg   mint a kis herceg   szem a kis her\n",
            "A kiindulási mondatunk:  !   mondta a kis herceg.   jó napot!   mondta a virág.   hol\n",
            "A generált szöveg 1.0 temperature-rel: t ágy tövéjt váltás volt..   am foltmal nem rődcsik..  ögy karakhozás válgyunont  lhott ant ustam la dál valelemt bagkalembn elgett emenett   any bazontaljit a rapaljmiltoskan doda.   és és legta herc\n",
            "\n",
            "------ Epoch  7\n",
            "210/210 [==============================] - 5s 24ms/step - loss: 2.0399\n",
            "A kiindulási mondatunk:  lenlétében ásítsanak   mondta az uralkodó.   megtiltom.   ne\n",
            "A generált szöveg 0.1 temperature-rel: k a kis herceg   mondta a kis herceg   mondta a kis herceg   minden kis herceg   mondta a kis herceg   minden kis herceg   minden kis herceg eltet  az a kis herceg   mondta a kis herceg   minden kis h\n",
            "A kiindulási mondatunk:  lenlétében ásítsanak   mondta az uralkodó.   megtiltom.   ne\n",
            "A generált szöveg 1.0 temperature-rel: k villánjat. nén kirlegtem mért ecskére sújmátosta pegyerlejte begyekka vindén hol  egy déplem szobon  mondag borot jemet vissen vivagönvanáltatolarókérint öhénentam  a tudjon úcragóm ég ak. t ajt  ho\n",
            "\n",
            "------ Epoch  8\n",
            "210/210 [==============================] - 5s 24ms/step - loss: 1.9800\n",
            "A kiindulási mondatunk:   gondolta útközben    a fölnőttek nagyon nagyon furcsák.” 12\n",
            "A generált szöveg 0.1 temperature-rel: .   mint a kis herceg   menden kerelette   hogy szeretet   mendta a kis herceg   az a mis herceg   az  hogy szeretet   mondta a kis herceg   mint a kis herceg   az  hogy szeretet   mondta a kis herceg\n",
            "A kiindulási mondatunk:   gondolta útközben    a fölnőttek nagyon nagyon furcsák.” 12\n",
            "A generált szöveg 1.0 temperature-rel:   monada micsiváltát. nep meg kezen mávolyik tiszinyuki banátja a csial akik ellszonos agombrájom geszedna  aman karály7zin hanak deltha magak dövetes keámett kel9be  mind a kés éree makom nyolykénden\n",
            "\n",
            "------ Epoch  9\n",
            "210/210 [==============================] - 5s 25ms/step - loss: 1.9243\n",
            "A kiindulási mondatunk:  gzetes következményei lennének a földrajz­könyvekben. valami\n",
            "A generált szöveg 0.1 temperature-rel:   hogy a kis herceg   a kis herceg   a földés   mondta a kis herceg   a kis herceg   a kis herceg   a kis herceg   mondta a kis herceg   az  hogy a kis herceg   a kis herceg   a kis herceg   mondta a \n",
            "A kiindulási mondatunk:  gzetes következményei lennének a földrajz­könyvekben. valami\n",
            "A generált szöveg 1.0 temperature-rel: s netyszetötet  atten kat fölnett kelélf aszótólána  azokmadoszni nemett nam neg­tanakett  arám akinyenel képre lemetni   a kiszhemyem  is brújs aztábafben vit azlmivtan haban vagatt hi. eztam óház..é\n",
            "\n"
          ]
        }
      ]
    }
  ]
}